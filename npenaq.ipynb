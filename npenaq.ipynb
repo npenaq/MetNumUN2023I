{
  "nbformat": 4,
  "nbformat_minor": 0,
  "metadata": {
    "colab": {
      "provenance": [],
      "collapsed_sections": [
        "riDmruqaFhXE",
        "BVoKWMUvFwhX",
        "h2rDQQUlXFEX",
        "BTfJTOEd07Dl",
        "yHsRRwaq7DLw",
        "Vym8YSia7TqB",
        "JTp63EEr2RCH",
        "MI3COIVd2zU7",
        "HVj35Thc5Ji6",
        "PEIIuHY957Hm"
      ]
    },
    "kernelspec": {
      "name": "python3",
      "display_name": "Python 3"
    },
    "language_info": {
      "name": "python"
    }
  },
  "cells": [
    {
      "cell_type": "markdown",
      "source": [
        "# Quantopian Lecture 1"
      ],
      "metadata": {
        "id": "riDmruqaFhXE"
      }
    },
    {
      "cell_type": "markdown",
      "source": [
        "**My own example 1**"
      ],
      "metadata": {
        "id": "ZZnOrayHpDGx"
      }
    },
    {
      "cell_type": "code",
      "source": [
        "8+8"
      ],
      "metadata": {
        "colab": {
          "base_uri": "https://localhost:8080/"
        },
        "outputId": "f750c67f-d332-4a12-b9cf-4bd8489d90c6",
        "id": "2Bq4Am57jCtD"
      },
      "execution_count": null,
      "outputs": [
        {
          "output_type": "execute_result",
          "data": {
            "text/plain": [
              "16"
            ]
          },
          "metadata": {},
          "execution_count": 1
        }
      ]
    },
    {
      "cell_type": "markdown",
      "source": [
        "**My own example 2**"
      ],
      "metadata": {
        "id": "8FZWKH-8pM1a"
      }
    },
    {
      "cell_type": "code",
      "execution_count": null,
      "metadata": {
        "colab": {
          "base_uri": "https://localhost:8080/"
        },
        "id": "6rU6FOpGcHfL",
        "outputId": "b48c9ec9-e4ef-432e-e9f9-943deaba1c6d"
      },
      "outputs": [
        {
          "output_type": "execute_result",
          "data": {
            "text/plain": [
              "95"
            ]
          },
          "metadata": {},
          "execution_count": 2
        }
      ],
      "source": [
        "87+8"
      ]
    },
    {
      "cell_type": "markdown",
      "source": [
        "**My own example 3**"
      ],
      "metadata": {
        "id": "6A7jWfqPpP-H"
      }
    },
    {
      "cell_type": "code",
      "source": [
        "n=8 "
      ],
      "metadata": {
        "id": "lW9GMzaEjC44"
      },
      "execution_count": null,
      "outputs": []
    },
    {
      "cell_type": "markdown",
      "source": [
        "**My own example 4**"
      ],
      "metadata": {
        "id": "r1wiFEX5pUaZ"
      }
    },
    {
      "cell_type": "code",
      "source": [
        "N=9"
      ],
      "metadata": {
        "id": "T7KZTV4vcxm3"
      },
      "execution_count": null,
      "outputs": []
    },
    {
      "cell_type": "markdown",
      "source": [
        "**My own example 5**"
      ],
      "metadata": {
        "id": "wdetVvMkpWqy"
      }
    },
    {
      "cell_type": "code",
      "source": [
        "x=\"asd\""
      ],
      "metadata": {
        "id": "FyMo8jFhjuSB"
      },
      "execution_count": null,
      "outputs": []
    },
    {
      "cell_type": "markdown",
      "source": [
        "**My own example 6**"
      ],
      "metadata": {
        "id": "i5U0EpVHpYY_"
      }
    },
    {
      "cell_type": "code",
      "source": [
        "print (89-25)\n",
        "8+9"
      ],
      "metadata": {
        "colab": {
          "base_uri": "https://localhost:8080/"
        },
        "id": "8Zmg6SvDc6x3",
        "outputId": "53af2ecd-5843-4f72-8fae-b8da45e6b965"
      },
      "execution_count": null,
      "outputs": [
        {
          "output_type": "stream",
          "name": "stdout",
          "text": [
            "64\n"
          ]
        },
        {
          "output_type": "execute_result",
          "data": {
            "text/plain": [
              "17"
            ]
          },
          "metadata": {},
          "execution_count": 6
        }
      ]
    },
    {
      "cell_type": "markdown",
      "source": [
        "**My own example 7**"
      ],
      "metadata": {
        "id": "cqBmbN8tpaF-"
      }
    },
    {
      "cell_type": "code",
      "source": [
        "p = 0\n",
        "for e in range(101):\n",
        "    p+= e\n",
        "p"
      ],
      "metadata": {
        "colab": {
          "base_uri": "https://localhost:8080/"
        },
        "outputId": "537febd0-a169-4784-ccb2-f08d245d9669",
        "id": "KTLMIialjv7Z"
      },
      "execution_count": null,
      "outputs": [
        {
          "output_type": "execute_result",
          "data": {
            "text/plain": [
              "5050"
            ]
          },
          "metadata": {},
          "execution_count": 7
        }
      ]
    },
    {
      "cell_type": "markdown",
      "source": [
        "**My own example 8**"
      ],
      "metadata": {
        "id": "A45cTH9Jpbwk"
      }
    },
    {
      "cell_type": "code",
      "source": [
        "import numpy as np\n",
        "import pandas as pd\n",
        "\n",
        "# This is a plotting library for pretty pictures.\n",
        "import matplotlib.pyplot as plt"
      ],
      "metadata": {
        "id": "gUbRRh2qfKot"
      },
      "execution_count": null,
      "outputs": []
    },
    {
      "cell_type": "markdown",
      "source": [
        "**My own example 9**"
      ],
      "metadata": {
        "id": "haYJD0KfpdMI"
      }
    },
    {
      "cell_type": "code",
      "source": [
        "X = np.random.normal(0, 8, 100)\n",
        "plt.plot(X)"
      ],
      "metadata": {
        "colab": {
          "base_uri": "https://localhost:8080/",
          "height": 282
        },
        "outputId": "445947f9-8e67-4307-a232-75441a58249d",
        "id": "lrk-ClXjjwZe"
      },
      "execution_count": null,
      "outputs": [
        {
          "output_type": "execute_result",
          "data": {
            "text/plain": [
              "[<matplotlib.lines.Line2D at 0x7f2b0d98aa90>]"
            ]
          },
          "metadata": {},
          "execution_count": 9
        },
        {
          "output_type": "display_data",
          "data": {
            "text/plain": [
              "<Figure size 432x288 with 1 Axes>"
            ],
            "image/png": "[encoded data removed]"
          },
          "metadata": {
            "needs_background": "light"
          }
        }
      ]
    },
    {
      "cell_type": "markdown",
      "source": [
        "**My own example 10**"
      ],
      "metadata": {
        "id": "4UTUQhB8pezG"
      }
    },
    {
      "cell_type": "code",
      "source": [
        "y = np.random.normal(0.2,9,20)\n",
        "plt.plot(y)"
      ],
      "metadata": {
        "colab": {
          "base_uri": "https://localhost:8080/",
          "height": 282
        },
        "id": "Ye12S4OtfPj_",
        "outputId": "e302af2e-4c9e-469b-8642-a42e15a1cb6c"
      },
      "execution_count": null,
      "outputs": [
        {
          "output_type": "execute_result",
          "data": {
            "text/plain": [
              "[<matplotlib.lines.Line2D at 0x7f2b0d4cfb50>]"
            ]
          },
          "metadata": {},
          "execution_count": 10
        },
        {
          "output_type": "display_data",
          "data": {
            "text/plain": [
              "<Figure size 432x288 with 1 Axes>"
            ],
            "image/png": "[encoded data removed]"
          },
          "metadata": {
            "needs_background": "light"
          }
        }
      ]
    },
    {
      "cell_type": "markdown",
      "source": [
        "**My own example 11**"
      ],
      "metadata": {
        "id": "7qNZOmNupgUK"
      }
    },
    {
      "cell_type": "code",
      "source": [
        "PO = np.random.normal(0, 2, 100)\n",
        "pi = np.random.normal(0, 1, 150)\n",
        "\n",
        "plt.plot(PO);\n",
        "plt.plot(pi);\n",
        "plt.xlabel('tiempo')\n",
        "plt.ylabel('ingreso')\n",
        "plt.legend(['PO', 'pi']);"
      ],
      "metadata": {
        "colab": {
          "base_uri": "https://localhost:8080/",
          "height": 279
        },
        "outputId": "ff70c842-293e-4042-95e8-784e473b02c9",
        "id": "LVYstAGljyew"
      },
      "execution_count": null,
      "outputs": [
        {
          "output_type": "display_data",
          "data": {
            "text/plain": [
              "<Figure size 432x288 with 1 Axes>"
            ],
            "image/png": "[encoded data removed]"
          },
          "metadata": {
            "needs_background": "light"
          }
        }
      ]
    },
    {
      "cell_type": "markdown",
      "source": [
        "**My own example 12**"
      ],
      "metadata": {
        "id": "BtLv8LfupikJ"
      }
    },
    {
      "cell_type": "code",
      "source": [
        "# promedio\n",
        "np.mean(X)"
      ],
      "metadata": {
        "colab": {
          "base_uri": "https://localhost:8080/"
        },
        "id": "jltawR0efTXf",
        "outputId": "742a58d8-8eb7-4d68-8631-731e86a2632f"
      },
      "execution_count": null,
      "outputs": [
        {
          "output_type": "execute_result",
          "data": {
            "text/plain": [
              "-0.021913737473186944"
            ]
          },
          "metadata": {},
          "execution_count": 12
        }
      ]
    },
    {
      "cell_type": "markdown",
      "source": [
        "**My own example 13**"
      ],
      "metadata": {
        "id": "vn9SfS0tpkXy"
      }
    },
    {
      "cell_type": "code",
      "source": [
        "# desviacion estandar\n",
        "np.std(X)"
      ],
      "metadata": {
        "colab": {
          "base_uri": "https://localhost:8080/"
        },
        "outputId": "83ae2874-1f93-4695-9529-3623b718fd5c",
        "id": "_PDDWqbOjy5c"
      },
      "execution_count": null,
      "outputs": [
        {
          "output_type": "execute_result",
          "data": {
            "text/plain": [
              "8.801559153592605"
            ]
          },
          "metadata": {},
          "execution_count": 13
        }
      ]
    },
    {
      "cell_type": "markdown",
      "source": [
        "**My own example 14**"
      ],
      "metadata": {
        "id": "EQW5w3Smpmh8"
      }
    },
    {
      "cell_type": "code",
      "source": [
        "usa = np.random.normal(0,1,100)\n",
        "cop = np.random.normal(0,8, 100)\n",
        "\n",
        "plt.plot(usa);\n",
        "plt.plot(cop);\n",
        "plt.xlabel('tiempo')\n",
        "plt.ylabel('precio')\n",
        "plt.legend(['usa', 'cop']);"
      ],
      "metadata": {
        "colab": {
          "base_uri": "https://localhost:8080/",
          "height": 279
        },
        "outputId": "7fd93a1a-e8a5-4f3f-e253-e6e2b58d5929",
        "id": "sumR-N4QfgFD"
      },
      "execution_count": null,
      "outputs": [
        {
          "output_type": "display_data",
          "data": {
            "text/plain": [
              "<Figure size 432x288 with 1 Axes>"
            ],
            "image/png": "[encoded data removed]"
          },
          "metadata": {
            "needs_background": "light"
          }
        }
      ]
    },
    {
      "cell_type": "markdown",
      "source": [
        "**My own example 15**"
      ],
      "metadata": {
        "id": "ImCfbg8Spn3_"
      }
    },
    {
      "cell_type": "code",
      "source": [
        "p = 150\n",
        "for i in range(8):\n",
        "    p-= i\n",
        "p"
      ],
      "metadata": {
        "colab": {
          "base_uri": "https://localhost:8080/"
        },
        "outputId": "d72fc05f-6067-49d9-8844-e51da1a09b35",
        "id": "knHltbw9j21W"
      },
      "execution_count": null,
      "outputs": [
        {
          "output_type": "execute_result",
          "data": {
            "text/plain": [
              "122"
            ]
          },
          "metadata": {},
          "execution_count": 15
        }
      ]
    },
    {
      "cell_type": "markdown",
      "source": [
        "**My own example 16**"
      ],
      "metadata": {
        "id": "B4bllSMbprFM"
      }
    },
    {
      "cell_type": "code",
      "source": [
        "# promedio\n",
        "np.mean(usa)"
      ],
      "metadata": {
        "colab": {
          "base_uri": "https://localhost:8080/"
        },
        "outputId": "0320998d-5cc5-483d-a225-abf4a9db9aaa",
        "id": "L5MJYpJ8fgJH"
      },
      "execution_count": null,
      "outputs": [
        {
          "output_type": "execute_result",
          "data": {
            "text/plain": [
              "0.07267266071591773"
            ]
          },
          "metadata": {},
          "execution_count": 16
        }
      ]
    },
    {
      "cell_type": "markdown",
      "source": [
        "**My own example 17**"
      ],
      "metadata": {
        "id": "YOjfQil9psyQ"
      }
    },
    {
      "cell_type": "code",
      "source": [
        "# promedio\n",
        "np.mean(cop)"
      ],
      "metadata": {
        "colab": {
          "base_uri": "https://localhost:8080/"
        },
        "outputId": "3761b565-5f80-4189-ffe5-a12e28e4ed63",
        "id": "M7fo9MaAj3Ir"
      },
      "execution_count": null,
      "outputs": [
        {
          "output_type": "execute_result",
          "data": {
            "text/plain": [
              "1.049419299710152"
            ]
          },
          "metadata": {},
          "execution_count": 17
        }
      ]
    },
    {
      "cell_type": "markdown",
      "source": [
        "**My own example 18**"
      ],
      "metadata": {
        "id": "KVL54sS_puGX"
      }
    },
    {
      "cell_type": "code",
      "source": [
        "6598/0.00000005"
      ],
      "metadata": {
        "colab": {
          "base_uri": "https://localhost:8080/"
        },
        "outputId": "6f45a29e-3adb-4093-9ebb-49860de6b100",
        "id": "GoRmcmWhfgMn"
      },
      "execution_count": null,
      "outputs": [
        {
          "output_type": "execute_result",
          "data": {
            "text/plain": [
              "131960000000.0"
            ]
          },
          "metadata": {},
          "execution_count": 18
        }
      ]
    },
    {
      "cell_type": "markdown",
      "source": [
        "**My own example 19**"
      ],
      "metadata": {
        "id": "2jN_DY_DpuBI"
      }
    },
    {
      "cell_type": "code",
      "source": [
        "print (\"Metodos\")\n",
        "8+9 "
      ],
      "metadata": {
        "colab": {
          "base_uri": "https://localhost:8080/"
        },
        "outputId": "76624480-be15-4280-f596-e4f45bf830b0",
        "id": "vTzJH5dvj3rf"
      },
      "execution_count": null,
      "outputs": [
        {
          "output_type": "stream",
          "name": "stdout",
          "text": [
            "Metodos\n"
          ]
        },
        {
          "output_type": "execute_result",
          "data": {
            "text/plain": [
              "17"
            ]
          },
          "metadata": {},
          "execution_count": 19
        }
      ]
    },
    {
      "cell_type": "markdown",
      "source": [
        "**My own example 20**"
      ],
      "metadata": {
        "id": "iBlmWhqZp0RP"
      }
    },
    {
      "cell_type": "code",
      "source": [
        "t = np.random.normal(90, 0.8, 100)\n",
        "plt.plot(t)"
      ],
      "metadata": {
        "colab": {
          "base_uri": "https://localhost:8080/",
          "height": 284
        },
        "outputId": "a3690ac1-1a3b-47f7-c85b-b66fd3c7fb3e",
        "id": "2S887M3hfgPr"
      },
      "execution_count": null,
      "outputs": [
        {
          "output_type": "execute_result",
          "data": {
            "text/plain": [
              "[<matplotlib.lines.Line2D at 0x7f2b0d3928e0>]"
            ]
          },
          "metadata": {},
          "execution_count": 20
        },
        {
          "output_type": "display_data",
          "data": {
            "text/plain": [
              "<Figure size 432x288 with 1 Axes>"
            ],
            "image/png": "[encoded data removed]"
          },
          "metadata": {
            "needs_background": "light"
          }
        }
      ]
    },
    {
      "cell_type": "markdown",
      "source": [
        "# Quantopian Lecture 2"
      ],
      "metadata": {
        "id": "BVoKWMUvFwhX"
      }
    },
    {
      "cell_type": "markdown",
      "source": [
        "**My own example 21**"
      ],
      "metadata": {
        "id": "fMGGwHkdp205"
      }
    },
    {
      "cell_type": "code",
      "source": [
        "i = 5\n",
        "if i % 3 == 0:\n",
        "    if i % 5 == 0:\n",
        "        print ('bizz fuzz')\n",
        "    else:\n",
        "        print ('bizz')\n",
        "elif i % 5 == 0:\n",
        "        print ('fuzz')\n",
        "else:\n",
        "    print( '...')"
      ],
      "metadata": {
        "colab": {
          "base_uri": "https://localhost:8080/"
        },
        "id": "ANeg-ZjbVhIb",
        "outputId": "851500a9-af7e-4f98-f890-0a257b3e0920"
      },
      "execution_count": null,
      "outputs": [
        {
          "output_type": "stream",
          "name": "stdout",
          "text": [
            "fuzz\n"
          ]
        }
      ]
    },
    {
      "cell_type": "markdown",
      "source": [
        "**My own example 22**"
      ],
      "metadata": {
        "id": "XV9QkUtvp4tm"
      }
    },
    {
      "cell_type": "code",
      "source": [
        "\"comentario en codigo\""
      ],
      "metadata": {
        "colab": {
          "base_uri": "https://localhost:8080/"
        },
        "outputId": "9914aed5-7ec7-4a54-d9b7-1ddecd55b7dc",
        "id": "7kSDiNpBfgSM"
      },
      "execution_count": null,
      "outputs": [
        {
          "output_type": "execute_result",
          "data": {
            "text/plain": [
              "'comentario en codigo'"
            ],
            "application/vnd.google.colaboratory.intrinsic+json": {
              "type": "string"
            }
          },
          "metadata": {},
          "execution_count": 22
        }
      ]
    },
    {
      "cell_type": "markdown",
      "source": [
        "**My own example 23**"
      ],
      "metadata": {
        "id": "zHvNfPi0qASb"
      }
    },
    {
      "cell_type": "code",
      "source": [
        "dos = 1\n",
        "print (dos)"
      ],
      "metadata": {
        "colab": {
          "base_uri": "https://localhost:8080/"
        },
        "outputId": "d01bb084-a832-4e45-e606-cd7192b92153",
        "id": "7agWsbjnj4xm"
      },
      "execution_count": null,
      "outputs": [
        {
          "output_type": "stream",
          "name": "stdout",
          "text": [
            "1\n"
          ]
        }
      ]
    },
    {
      "cell_type": "markdown",
      "source": [
        "**My own example 24**"
      ],
      "metadata": {
        "id": "4mGtWh8tqB8p"
      }
    },
    {
      "cell_type": "code",
      "source": [
        "mf = 198\n",
        "print ((mf), type(mf))\n",
        "mf = float(198)\n",
        "print (mf), type(mf)"
      ],
      "metadata": {
        "colab": {
          "base_uri": "https://localhost:8080/"
        },
        "outputId": "e1330179-b352-4180-ebc9-a585ee608baf",
        "id": "BZAbQUlXfgU-"
      },
      "execution_count": null,
      "outputs": [
        {
          "output_type": "stream",
          "name": "stdout",
          "text": [
            "198 <class 'int'>\n",
            "198.0\n"
          ]
        },
        {
          "output_type": "execute_result",
          "data": {
            "text/plain": [
              "(None, float)"
            ]
          },
          "metadata": {},
          "execution_count": 24
        }
      ]
    },
    {
      "cell_type": "markdown",
      "source": [
        "**My own example 25**"
      ],
      "metadata": {
        "id": "Dbjpk9ULqDi0"
      }
    },
    {
      "cell_type": "code",
      "source": [
        "mi = int(3.14159)\n",
        "print (mi), type(mi)"
      ],
      "metadata": {
        "colab": {
          "base_uri": "https://localhost:8080/"
        },
        "outputId": "0792ae56-2775-4a15-e7b4-30cf2b5dc0f0",
        "id": "1GkV3l5Qj5tc"
      },
      "execution_count": null,
      "outputs": [
        {
          "output_type": "stream",
          "name": "stdout",
          "text": [
            "3\n"
          ]
        },
        {
          "output_type": "execute_result",
          "data": {
            "text/plain": [
              "(None, int)"
            ]
          },
          "metadata": {},
          "execution_count": 25
        }
      ]
    },
    {
      "cell_type": "markdown",
      "source": [
        "**My own example 26**"
      ],
      "metadata": {
        "id": "XhmVugP8qFPt"
      }
    },
    {
      "cell_type": "code",
      "source": [
        "i = 3\n",
        "if i == 1:\n",
        "    print ('i es 1')\n",
        "elif i == 2:\n",
        "    print ('i es 2')\n",
        "elif i == 3:\n",
        "    print ('i es 3')\n",
        "else:\n",
        "    print (\"i no esta\")"
      ],
      "metadata": {
        "colab": {
          "base_uri": "https://localhost:8080/"
        },
        "outputId": "2ac66f1f-d975-4c7e-c164-bf6e2d249e53",
        "id": "Nv4AefedfgYJ"
      },
      "execution_count": null,
      "outputs": [
        {
          "output_type": "stream",
          "name": "stdout",
          "text": [
            "i es 3\n"
          ]
        }
      ]
    },
    {
      "cell_type": "markdown",
      "source": [
        "**My own example 27**"
      ],
      "metadata": {
        "id": "LIrdIFsRqIm0"
      }
    },
    {
      "cell_type": "code",
      "source": [
        "tf = True\n",
        "print (tf), type(tf)"
      ],
      "metadata": {
        "colab": {
          "base_uri": "https://localhost:8080/"
        },
        "outputId": "47899fdd-7800-4de7-84c7-78c68625e8be",
        "id": "o1V88H9Cj7HI"
      },
      "execution_count": null,
      "outputs": [
        {
          "output_type": "stream",
          "name": "stdout",
          "text": [
            "True\n"
          ]
        },
        {
          "output_type": "execute_result",
          "data": {
            "text/plain": [
              "(None, bool)"
            ]
          },
          "metadata": {},
          "execution_count": 27
        }
      ]
    },
    {
      "cell_type": "markdown",
      "source": [
        "**My own example 28**"
      ],
      "metadata": {
        "id": "77046xVJqK7G"
      }
    },
    {
      "cell_type": "code",
      "source": [
        "print ('Suma: ', 9+185)\n",
        "print ('Resta: ', 4569-8578)\n",
        "print ('Multiplicacion: ', 9*96)\n",
        "print ('Division: ', 159/753)\n",
        "print ('Exponencial: ', 2**100)"
      ],
      "metadata": {
        "colab": {
          "base_uri": "https://localhost:8080/"
        },
        "outputId": "c05884ea-e18b-46eb-b441-d83f5aa72f0c",
        "id": "02yrmlxCgd5o"
      },
      "execution_count": null,
      "outputs": [
        {
          "output_type": "stream",
          "name": "stdout",
          "text": [
            "Suma:  194\n",
            "Resta:  -4009\n",
            "Multiplicacion:  864\n",
            "Division:  0.21115537848605578\n",
            "Exponencial:  1267650600228229401496703205376\n"
          ]
        }
      ]
    },
    {
      "cell_type": "markdown",
      "source": [
        "**My own example 29**"
      ],
      "metadata": {
        "id": "0K0Jor_tqMsw"
      }
    },
    {
      "cell_type": "code",
      "source": [
        "print ('Modulo: ', 25%4)"
      ],
      "metadata": {
        "colab": {
          "base_uri": "https://localhost:8080/"
        },
        "outputId": "9cba0227-a013-4cfc-a625-26753d107539",
        "id": "OoyoO6GXj8To"
      },
      "execution_count": null,
      "outputs": [
        {
          "output_type": "stream",
          "name": "stdout",
          "text": [
            "Modulo:  1\n"
          ]
        }
      ]
    },
    {
      "cell_type": "markdown",
      "source": [
        "**My own example 30**"
      ],
      "metadata": {
        "id": "adoSjnArqOBr"
      }
    },
    {
      "cell_type": "code",
      "source": [
        "yy= 178\n",
        "Tr = 5\n",
        "print (int(yy / Tr))\n"
      ],
      "metadata": {
        "colab": {
          "base_uri": "https://localhost:8080/"
        },
        "outputId": "9d22d330-a095-4b75-a10a-b4feee4be8c5",
        "id": "v4Xpt7qvfgbA"
      },
      "execution_count": null,
      "outputs": [
        {
          "output_type": "stream",
          "name": "stdout",
          "text": [
            "35\n"
          ]
        }
      ]
    },
    {
      "cell_type": "markdown",
      "source": [
        "**My own example 31**"
      ],
      "metadata": {
        "id": "P9cSxo7HqQVo"
      }
    },
    {
      "cell_type": "code",
      "source": [
        "import math as mt\n",
        "abs(-8)\n"
      ],
      "metadata": {
        "colab": {
          "base_uri": "https://localhost:8080/"
        },
        "id": "rQTwDoqyhIUB",
        "outputId": "2fa59b96-16c6-4db2-cf7e-fe1e3fb4779f"
      },
      "execution_count": null,
      "outputs": [
        {
          "output_type": "execute_result",
          "data": {
            "text/plain": [
              "8"
            ]
          },
          "metadata": {},
          "execution_count": 31
        }
      ]
    },
    {
      "cell_type": "markdown",
      "source": [
        "**My own example 32**"
      ],
      "metadata": {
        "id": "1N-JJ2E1qRpc"
      }
    },
    {
      "cell_type": "code",
      "source": [
        "print (\"pi= \", mt.pi)"
      ],
      "metadata": {
        "colab": {
          "base_uri": "https://localhost:8080/"
        },
        "outputId": "732188fb-515c-47e2-e6ba-609f5f72e31a",
        "id": "T2qK5EPGj-cO"
      },
      "execution_count": null,
      "outputs": [
        {
          "output_type": "stream",
          "name": "stdout",
          "text": [
            "pi=  3.141592653589793\n"
          ]
        }
      ]
    },
    {
      "cell_type": "markdown",
      "source": [
        "**My own example 33**"
      ],
      "metadata": {
        "id": "Z8ESDYk1qTZI"
      }
    },
    {
      "cell_type": "code",
      "source": [
        "k = np.random.normal(0, 2, 100)\n",
        "max(k)"
      ],
      "metadata": {
        "colab": {
          "base_uri": "https://localhost:8080/"
        },
        "outputId": "d8a149ef-3811-4ebc-cf8a-405cba8a3abf",
        "id": "yRmABTwFgeA5"
      },
      "execution_count": null,
      "outputs": [
        {
          "output_type": "execute_result",
          "data": {
            "text/plain": [
              "5.69354281119611"
            ]
          },
          "metadata": {},
          "execution_count": 33
        }
      ]
    },
    {
      "cell_type": "markdown",
      "source": [
        "**My own example 34**"
      ],
      "metadata": {
        "id": "SvAR3BtQqU5K"
      }
    },
    {
      "cell_type": "code",
      "source": [
        "min(k)"
      ],
      "metadata": {
        "colab": {
          "base_uri": "https://localhost:8080/"
        },
        "outputId": "6f46f8c5-a909-47f2-8b0b-fedaab8179d8",
        "id": "HbMUy4CfkAFh"
      },
      "execution_count": null,
      "outputs": [
        {
          "output_type": "execute_result",
          "data": {
            "text/plain": [
              "-5.665503700896725"
            ]
          },
          "metadata": {},
          "execution_count": 34
        }
      ]
    },
    {
      "cell_type": "markdown",
      "source": [
        "**My own example 35**"
      ],
      "metadata": {
        "id": "EvNvky1OqYF-"
      }
    },
    {
      "cell_type": "code",
      "source": [
        "sum(k)"
      ],
      "metadata": {
        "colab": {
          "base_uri": "https://localhost:8080/"
        },
        "outputId": "e79dbacd-2761-4128-e441-e14d787b5c6c",
        "id": "dVUcmVy3ge25"
      },
      "execution_count": null,
      "outputs": [
        {
          "output_type": "execute_result",
          "data": {
            "text/plain": [
              "6.419506077440114"
            ]
          },
          "metadata": {},
          "execution_count": 35
        }
      ]
    },
    {
      "cell_type": "markdown",
      "source": [
        "**My own example 36**"
      ],
      "metadata": {
        "id": "cK31gkjvqcDi"
      }
    },
    {
      "cell_type": "code",
      "source": [
        "lista1=[5,8,9,9,48,85,2,8,75,5,78]\n",
        "lista2=[8,98,9.8,98]\n",
        "lista3=[\"as\",\"oaskd\"]\n",
        "listat=lista1+lista2+lista3\n",
        "print(listat)"
      ],
      "metadata": {
        "colab": {
          "base_uri": "https://localhost:8080/"
        },
        "outputId": "254f8493-ff21-4443-a619-67ba7cc2853c",
        "id": "PyxoC7lGkA4G"
      },
      "execution_count": null,
      "outputs": [
        {
          "output_type": "stream",
          "name": "stdout",
          "text": [
            "[5, 8, 9, 9, 48, 85, 2, 8, 75, 5, 78, 8, 98, 9.8, 98, 'as', 'oaskd']\n"
          ]
        }
      ]
    },
    {
      "cell_type": "markdown",
      "source": [
        "**My own example 37**"
      ],
      "metadata": {
        "id": "smJQz5v9qdPs"
      }
    },
    {
      "cell_type": "code",
      "source": [
        "print(listat[2:8])"
      ],
      "metadata": {
        "colab": {
          "base_uri": "https://localhost:8080/"
        },
        "outputId": "3a9b384f-8f01-4472-a22e-78da7bce7618",
        "id": "0rZKoOwnge9W"
      },
      "execution_count": null,
      "outputs": [
        {
          "output_type": "stream",
          "name": "stdout",
          "text": [
            "[9, 9, 48, 85, 2, 8]\n"
          ]
        }
      ]
    },
    {
      "cell_type": "markdown",
      "source": [
        "**My own example 38**"
      ],
      "metadata": {
        "id": "e42noZBIqfiB"
      }
    },
    {
      "cell_type": "code",
      "source": [
        "b = 10\n",
        "lista1 = range(b)\n",
        "print (lista1)"
      ],
      "metadata": {
        "colab": {
          "base_uri": "https://localhost:8080/"
        },
        "outputId": "2e772460-e92b-444d-ee3a-639fe6ee6ba1",
        "id": "vbBXC2eukCVb"
      },
      "execution_count": null,
      "outputs": [
        {
          "output_type": "stream",
          "name": "stdout",
          "text": [
            "range(0, 10)\n"
          ]
        }
      ]
    },
    {
      "cell_type": "markdown",
      "source": [
        "**My own example 39**"
      ],
      "metadata": {
        "id": "Oycf_fI_qg2I"
      }
    },
    {
      "cell_type": "code",
      "source": [
        "a = 0\n",
        "b = 10\n",
        "lista2 = range(a, b)\n",
        "print (lista2)"
      ],
      "metadata": {
        "colab": {
          "base_uri": "https://localhost:8080/"
        },
        "outputId": "a5a83dd1-5b2e-4cac-8142-e5e04d3b72a7",
        "id": "gyMPvqXngfOQ"
      },
      "execution_count": null,
      "outputs": [
        {
          "output_type": "stream",
          "name": "stdout",
          "text": [
            "range(0, 10)\n"
          ]
        }
      ]
    },
    {
      "cell_type": "markdown",
      "source": [
        "**My own example 40**"
      ],
      "metadata": {
        "id": "SAWLpxsEqiaW"
      }
    },
    {
      "cell_type": "code",
      "source": [
        "m = 2\n",
        "n = 23\n",
        "print (m < n)"
      ],
      "metadata": {
        "colab": {
          "base_uri": "https://localhost:8080/"
        },
        "outputId": "fcb0a964-14c3-4c3e-a81e-7d919077e15a",
        "id": "wqe-0HkdkD41"
      },
      "execution_count": null,
      "outputs": [
        {
          "output_type": "stream",
          "name": "stdout",
          "text": [
            "True\n"
          ]
        }
      ]
    },
    {
      "cell_type": "markdown",
      "source": [
        "#Quanconnect Tutorial 1 Python"
      ],
      "metadata": {
        "id": "h2rDQQUlXFEX"
      }
    },
    {
      "cell_type": "markdown",
      "source": [
        "**My own example 41**"
      ],
      "metadata": {
        "id": "M5x65flhqlb9"
      }
    },
    {
      "cell_type": "code",
      "source": [
        "mt1 = 'vamos a pasar'\n",
        "mt2 = 'metodos numericos'\n",
        "print(mt1 + ' ' + mt2)"
      ],
      "metadata": {
        "id": "2xgtXpFJkFzf",
        "colab": {
          "base_uri": "https://localhost:8080/"
        },
        "outputId": "b5f3be06-8a47-437b-8170-1a59140da816"
      },
      "execution_count": null,
      "outputs": [
        {
          "output_type": "stream",
          "name": "stdout",
          "text": [
            "vamos a pasar metodos numericos\n"
          ]
        }
      ]
    },
    {
      "cell_type": "markdown",
      "source": [
        "**My own example 42**"
      ],
      "metadata": {
        "id": "p4s_VPcVqtBB"
      }
    },
    {
      "cell_type": "code",
      "source": [
        "mt1 = '100'\n",
        "print(type(mt1))\n",
        "mii = int(mt1)\n",
        "print(type(mii))"
      ],
      "metadata": {
        "colab": {
          "base_uri": "https://localhost:8080/"
        },
        "outputId": "0db2bd51-f0b8-4513-ab77-cd83f029c044",
        "id": "5YJxil_ekgZk"
      },
      "execution_count": null,
      "outputs": [
        {
          "output_type": "stream",
          "name": "stdout",
          "text": [
            "<class 'str'>\n",
            "<class 'int'>\n"
          ]
        }
      ]
    },
    {
      "cell_type": "markdown",
      "source": [
        "**My own example 43**"
      ],
      "metadata": {
        "id": "3MZcnvaWquaw"
      }
    },
    {
      "cell_type": "code",
      "source": [
        "mb = True\n",
        "print(mb)\n",
        "print(type(mb))"
      ],
      "metadata": {
        "id": "nljq8idMkggZ",
        "colab": {
          "base_uri": "https://localhost:8080/"
        },
        "outputId": "8c738e5e-a279-4555-cac2-6d2a16c251c9"
      },
      "execution_count": null,
      "outputs": [
        {
          "output_type": "stream",
          "name": "stdout",
          "text": [
            "True\n",
            "<class 'bool'>\n"
          ]
        }
      ]
    },
    {
      "cell_type": "markdown",
      "source": [
        "**My own example 44**"
      ],
      "metadata": {
        "id": "Vgh43F6RqvxD"
      }
    },
    {
      "cell_type": "code",
      "source": [
        "print(\"Suma \", 1234+1)\n",
        "print(\"Resta \", 23-12)\n",
        "print(\"Multiplicación \", 2*3)\n",
        "print(\"División \", 70/7)\n",
        "print('Exponencial', 2**32) "
      ],
      "metadata": {
        "colab": {
          "base_uri": "https://localhost:8080/"
        },
        "outputId": "fa0e48f5-52cb-4d03-a19d-2965c0bd8db8",
        "id": "Smd9umrQkghx"
      },
      "execution_count": null,
      "outputs": [
        {
          "output_type": "stream",
          "name": "stdout",
          "text": [
            "Suma  1235\n",
            "Resta  11\n",
            "Multiplicación  6\n",
            "División  10.0\n",
            "Exponencial 4294967296\n"
          ]
        }
      ]
    },
    {
      "cell_type": "markdown",
      "source": [
        "**My own example 45**"
      ],
      "metadata": {
        "id": "r30HVnwXqxSb"
      }
    },
    {
      "cell_type": "code",
      "source": [
        "ml = ['ji', 'jo', 1,2,3]\n",
        "print(ml)"
      ],
      "metadata": {
        "id": "qHgTGuMNkgja",
        "colab": {
          "base_uri": "https://localhost:8080/"
        },
        "outputId": "513c3be8-fe41-4b19-cf12-35217fd2fd6f"
      },
      "execution_count": null,
      "outputs": [
        {
          "output_type": "stream",
          "name": "stdout",
          "text": [
            "['ji', 'jo', 1, 2, 3]\n"
          ]
        }
      ]
    },
    {
      "cell_type": "markdown",
      "source": [
        "**My own example 46**"
      ],
      "metadata": {
        "id": "AOfVGZHrqzeZ"
      }
    },
    {
      "cell_type": "code",
      "source": [
        "print(len(ml))\n",
        "print(ml[0])\n",
        "print(ml[len(ml) -1])"
      ],
      "metadata": {
        "colab": {
          "base_uri": "https://localhost:8080/"
        },
        "outputId": "d2e748ca-d00d-4415-f57f-05021cae37b8",
        "id": "MT0Yjyuukgky"
      },
      "execution_count": null,
      "outputs": [
        {
          "output_type": "stream",
          "name": "stdout",
          "text": [
            "5\n",
            "ji\n",
            "3\n"
          ]
        }
      ]
    },
    {
      "cell_type": "markdown",
      "source": [
        "**My own example 47**"
      ],
      "metadata": {
        "id": "LWU7px9vq067"
      }
    },
    {
      "cell_type": "code",
      "source": [
        "ml[2] = 'O_o'\n",
        "print(ml)"
      ],
      "metadata": {
        "id": "SxJ-MHdJkgmI",
        "colab": {
          "base_uri": "https://localhost:8080/"
        },
        "outputId": "8b83e951-dd75-43fa-a683-8ce5abd081a2"
      },
      "execution_count": null,
      "outputs": [
        {
          "output_type": "stream",
          "name": "stdout",
          "text": [
            "['ji', 'jo', 'O_o', 2, 3]\n"
          ]
        }
      ]
    },
    {
      "cell_type": "markdown",
      "source": [
        "**My own example 48**"
      ],
      "metadata": {
        "id": "fyELraOhq2j5"
      }
    },
    {
      "cell_type": "code",
      "source": [
        "print(ml[0:3]) "
      ],
      "metadata": {
        "colab": {
          "base_uri": "https://localhost:8080/"
        },
        "outputId": "eb462b27-e2bb-4a25-ded2-d44f9f89c825",
        "id": "H2JWcqpzkgni"
      },
      "execution_count": null,
      "outputs": [
        {
          "output_type": "stream",
          "name": "stdout",
          "text": [
            "['ji', 'jo', 'O_o']\n"
          ]
        }
      ]
    },
    {
      "cell_type": "markdown",
      "source": [
        "**My own example 49**"
      ],
      "metadata": {
        "id": "JSg3DsHFq2qv"
      }
    },
    {
      "cell_type": "code",
      "source": [
        "print(ml[1:])"
      ],
      "metadata": {
        "id": "SuA65nYMkgo_",
        "colab": {
          "base_uri": "https://localhost:8080/"
        },
        "outputId": "d40a790d-e1eb-4be5-995b-9d95114b2349"
      },
      "execution_count": null,
      "outputs": [
        {
          "output_type": "stream",
          "name": "stdout",
          "text": [
            "['jo', 'O_o', 2, 3]\n"
          ]
        }
      ]
    },
    {
      "cell_type": "markdown",
      "source": [
        "**My own example 50**"
      ],
      "metadata": {
        "id": "9qYXk3S2q77H"
      }
    },
    {
      "cell_type": "code",
      "source": [
        "print(ml[:4])"
      ],
      "metadata": {
        "colab": {
          "base_uri": "https://localhost:8080/"
        },
        "outputId": "ae05bbd6-2097-4160-f537-6b25c47e756d",
        "id": "7uYklcC6kgsE"
      },
      "execution_count": null,
      "outputs": [
        {
          "output_type": "stream",
          "name": "stdout",
          "text": [
            "['ji', 'jo', 'O_o', 2]\n"
          ]
        }
      ]
    },
    {
      "cell_type": "markdown",
      "source": [
        "**My own example 51**"
      ],
      "metadata": {
        "id": "Nm5Z4u0lq-0S"
      }
    },
    {
      "cell_type": "code",
      "source": [
        "ml.append('rere')\n",
        "print(ml)"
      ],
      "metadata": {
        "id": "iQL8xgETkguF",
        "colab": {
          "base_uri": "https://localhost:8080/"
        },
        "outputId": "3eaa88ab-3342-49ee-e638-c55f51794e36"
      },
      "execution_count": null,
      "outputs": [
        {
          "output_type": "stream",
          "name": "stdout",
          "text": [
            "['ji', 'jo', 'O_o', 2, 3, 'rere']\n"
          ]
        }
      ]
    },
    {
      "cell_type": "markdown",
      "source": [
        "**My own example 52**"
      ],
      "metadata": {
        "id": "UmZjIZ6CrA3-"
      }
    },
    {
      "cell_type": "code",
      "source": [
        "ml.remove(2)\n",
        "print(ml)\n"
      ],
      "metadata": {
        "colab": {
          "base_uri": "https://localhost:8080/"
        },
        "outputId": "29e8a19c-66c4-4796-f50b-743b81f59735",
        "id": "ZI3Ml7B8kgwR"
      },
      "execution_count": null,
      "outputs": [
        {
          "output_type": "stream",
          "name": "stdout",
          "text": [
            "['ji', 'jo', 'O_o', 3, 'rere']\n"
          ]
        }
      ]
    },
    {
      "cell_type": "markdown",
      "source": [
        "**My own example 53**"
      ],
      "metadata": {
        "id": "kWSaFMYerCcY"
      }
    },
    {
      "cell_type": "code",
      "source": [
        "sl = ['aa','a','aaa','aa','s','sas','saa','sas']\n",
        "sl = set(sl)\n",
        "print(sl)"
      ],
      "metadata": {
        "id": "Vy6jt5E7kgx1",
        "colab": {
          "base_uri": "https://localhost:8080/"
        },
        "outputId": "6a289d73-d169-48c3-dc3b-0d5c9bdcf2f2"
      },
      "execution_count": null,
      "outputs": [
        {
          "output_type": "stream",
          "name": "stdout",
          "text": [
            "{'aa', 'a', 'aaa', 'saa', 'sas', 's'}\n"
          ]
        }
      ]
    },
    {
      "cell_type": "markdown",
      "source": [
        "**My own example 54**"
      ],
      "metadata": {
        "id": "Rq_LMF8orDn1"
      }
    },
    {
      "cell_type": "code",
      "source": [
        "my_dic = {'sl':'stock list', 'FB':'FaceBook', 'GOOG':'Alphabet'}\n",
        "print(my_dic['sl'])"
      ],
      "metadata": {
        "colab": {
          "base_uri": "https://localhost:8080/"
        },
        "outputId": "03daf069-1941-4ad8-cc44-77297540e9d3",
        "id": "DaFsQJeEkgzU"
      },
      "execution_count": null,
      "outputs": [
        {
          "output_type": "stream",
          "name": "stdout",
          "text": [
            "stock list\n"
          ]
        }
      ]
    },
    {
      "cell_type": "markdown",
      "source": [
        "**My own example 55**"
      ],
      "metadata": {
        "id": "a9kY2ThjrE9U"
      }
    },
    {
      "cell_type": "code",
      "source": [
        "print(my_dic.keys())"
      ],
      "metadata": {
        "id": "CJu9FfEBkg01",
        "colab": {
          "base_uri": "https://localhost:8080/"
        },
        "outputId": "548b5823-38cc-4cc9-cb1c-c3079579f6a1"
      },
      "execution_count": null,
      "outputs": [
        {
          "output_type": "stream",
          "name": "stdout",
          "text": [
            "dict_keys(['sl', 'FB', 'GOOG'])\n"
          ]
        }
      ]
    },
    {
      "cell_type": "markdown",
      "source": [
        "**My own example 56**"
      ],
      "metadata": {
        "id": "OuXiQZp7rGJE"
      }
    },
    {
      "cell_type": "code",
      "source": [
        "my_str = 'electroensefalograma'\n",
        "print(my_str[7:]) "
      ],
      "metadata": {
        "colab": {
          "base_uri": "https://localhost:8080/"
        },
        "outputId": "c4ceb70b-1c11-4573-d16a-3b96420bf605",
        "id": "HKQDdBK1kg2U"
      },
      "execution_count": null,
      "outputs": [
        {
          "output_type": "stream",
          "name": "stdout",
          "text": [
            "ensefalograma\n"
          ]
        }
      ]
    },
    {
      "cell_type": "markdown",
      "source": [
        "**My own example 57**"
      ],
      "metadata": {
        "id": "f35UwykurHXA"
      }
    },
    {
      "cell_type": "code",
      "source": [
        "print('electroensefalograma'.count('e'))\n",
        "print('The first time e appears in this sentence'.find('a'))\n",
        "print('posillo'.replace('o','a'))"
      ],
      "metadata": {
        "id": "1zuVGLF5kg32",
        "colab": {
          "base_uri": "https://localhost:8080/"
        },
        "outputId": "e432b3e8-a9f1-4d6c-b176-133f92a3fb68"
      },
      "execution_count": null,
      "outputs": [
        {
          "output_type": "stream",
          "name": "stdout",
          "text": [
            "4\n",
            "17\n",
            "pasilla\n"
          ]
        }
      ]
    },
    {
      "cell_type": "markdown",
      "source": [
        "**My own example 58**"
      ],
      "metadata": {
        "id": "D4lfWxJvrJhk"
      }
    },
    {
      "cell_type": "code",
      "source": [
        "Time = '2023-02-18 09:43:00'\n",
        "splited_list = Time.split(' ')\n",
        "date = splited_list[0]\n",
        "time = splited_list[1]\n",
        "print(date, time)\n",
        "hour = time.split(':')[0]\n",
        "print(hour)"
      ],
      "metadata": {
        "colab": {
          "base_uri": "https://localhost:8080/"
        },
        "outputId": "9851602c-13f9-493c-c8ec-c7723716ee6d",
        "id": "DRQYcgVGkg5h"
      },
      "execution_count": null,
      "outputs": [
        {
          "output_type": "stream",
          "name": "stdout",
          "text": [
            "2023-02-18 09:43:00\n",
            "09\n"
          ]
        }
      ]
    },
    {
      "cell_type": "markdown",
      "source": [
        "**My own example 59**"
      ],
      "metadata": {
        "id": "jP1co116rK4D"
      }
    },
    {
      "cell_type": "code",
      "source": [
        "my_dic['sl'] = 'sal'\n",
        "print(my_dic['sl'])"
      ],
      "metadata": {
        "id": "r_HvJHFBkg7N",
        "colab": {
          "base_uri": "https://localhost:8080/"
        },
        "outputId": "123c03b2-c9f4-410f-b920-3348576201c6"
      },
      "execution_count": null,
      "outputs": [
        {
          "output_type": "stream",
          "name": "stdout",
          "text": [
            "sal\n"
          ]
        }
      ]
    },
    {
      "cell_type": "markdown",
      "source": [
        "**My own example 60**"
      ],
      "metadata": {
        "id": "4cCSYCP2rMnT"
      }
    },
    {
      "cell_type": "code",
      "source": [
        "my_dic['GOOD'] = 'gooooooooooooooooooooooooooooooooooooooooooo'\n",
        "print(my_dic['GOOD'])"
      ],
      "metadata": {
        "colab": {
          "base_uri": "https://localhost:8080/"
        },
        "outputId": "7430d666-1941-487d-fca5-3b902de34d75",
        "id": "0WtMmnHBkg85"
      },
      "execution_count": null,
      "outputs": [
        {
          "output_type": "stream",
          "name": "stdout",
          "text": [
            "gooooooooooooooooooooooooooooooooooooooooooo\n"
          ]
        }
      ]
    },
    {
      "cell_type": "markdown",
      "source": [
        "#Quanconnect Tutorial 2 Python"
      ],
      "metadata": {
        "id": "BTfJTOEd07Dl"
      }
    },
    {
      "cell_type": "markdown",
      "source": [
        "**My own example 61**"
      ],
      "metadata": {
        "id": "HTe-thJBrO9G"
      }
    },
    {
      "cell_type": "code",
      "source": [
        "print(98 == 0)"
      ],
      "metadata": {
        "id": "RExGJWCIkg-r",
        "colab": {
          "base_uri": "https://localhost:8080/"
        },
        "outputId": "1f22c96c-321c-4ef9-e4f3-57e2c631bfac"
      },
      "execution_count": null,
      "outputs": [
        {
          "output_type": "stream",
          "name": "stdout",
          "text": [
            "False\n"
          ]
        }
      ]
    },
    {
      "cell_type": "markdown",
      "source": [
        "**My own example 62**"
      ],
      "metadata": {
        "id": "4C6NOfLqrQZa"
      }
    },
    {
      "cell_type": "code",
      "source": [
        "print(11 == 11)"
      ],
      "metadata": {
        "colab": {
          "base_uri": "https://localhost:8080/"
        },
        "outputId": "7a526ac8-fdc9-4e9b-af84-8a5c561a58de",
        "id": "qI55Qo2nkhAT"
      },
      "execution_count": null,
      "outputs": [
        {
          "output_type": "stream",
          "name": "stdout",
          "text": [
            "True\n"
          ]
        }
      ]
    },
    {
      "cell_type": "markdown",
      "source": [
        "**My own example 63**"
      ],
      "metadata": {
        "id": "p5L-BSfKrR6n"
      }
    },
    {
      "cell_type": "code",
      "source": [
        "print(0 != 0)"
      ],
      "metadata": {
        "id": "qGma7DyPkhCA",
        "colab": {
          "base_uri": "https://localhost:8080/"
        },
        "outputId": "5b36cf55-6dc1-403c-9324-302193ce9cba"
      },
      "execution_count": null,
      "outputs": [
        {
          "output_type": "stream",
          "name": "stdout",
          "text": [
            "False\n"
          ]
        }
      ]
    },
    {
      "cell_type": "markdown",
      "source": [
        "**My own example 64**"
      ],
      "metadata": {
        "id": "DfyAVPKKrTLy"
      }
    },
    {
      "cell_type": "code",
      "source": [
        "print(8 >= 5)"
      ],
      "metadata": {
        "colab": {
          "base_uri": "https://localhost:8080/"
        },
        "outputId": "c4c9b467-adbb-4b32-d30c-b7d63d9c2fe2",
        "id": "PU7vEDPGkhDc"
      },
      "execution_count": null,
      "outputs": [
        {
          "output_type": "stream",
          "name": "stdout",
          "text": [
            "True\n"
          ]
        }
      ]
    },
    {
      "cell_type": "markdown",
      "source": [
        "**My own example 65**"
      ],
      "metadata": {
        "id": "Cho079KvrUeJ"
      }
    },
    {
      "cell_type": "code",
      "source": [
        "print(-7 >= 6)"
      ],
      "metadata": {
        "id": "ufcJTt2SkhE-",
        "colab": {
          "base_uri": "https://localhost:8080/"
        },
        "outputId": "1ad809d9-9605-4828-ab03-40d8660bb2ec"
      },
      "execution_count": null,
      "outputs": [
        {
          "output_type": "stream",
          "name": "stdout",
          "text": [
            "False\n"
          ]
        }
      ]
    },
    {
      "cell_type": "markdown",
      "source": [
        "**My own example 66**"
      ],
      "metadata": {
        "id": "arAFhA1SrVta"
      }
    },
    {
      "cell_type": "code",
      "source": [
        "print(2 > 1 and 3 > 2)"
      ],
      "metadata": {
        "colab": {
          "base_uri": "https://localhost:8080/"
        },
        "outputId": "5d0c2d31-8de6-4b5a-fc49-7bba3a5664f0",
        "id": "PHzfaynBkhGf"
      },
      "execution_count": null,
      "outputs": [
        {
          "output_type": "stream",
          "name": "stdout",
          "text": [
            "True\n"
          ]
        }
      ]
    },
    {
      "cell_type": "markdown",
      "source": [
        "**My own example 67**"
      ],
      "metadata": {
        "id": "L1cbB682rVze"
      }
    },
    {
      "cell_type": "code",
      "source": [
        "print(2 > 1 or 3 < 2)"
      ],
      "metadata": {
        "id": "TomOTIZfkhIJ",
        "colab": {
          "base_uri": "https://localhost:8080/"
        },
        "outputId": "aa096744-570b-438e-ed9b-e5e64d747f7c"
      },
      "execution_count": null,
      "outputs": [
        {
          "output_type": "stream",
          "name": "stdout",
          "text": [
            "True\n"
          ]
        }
      ]
    },
    {
      "cell_type": "markdown",
      "source": [
        "**My own example 68**"
      ],
      "metadata": {
        "id": "xDxsCFpxrdv1"
      }
    },
    {
      "cell_type": "code",
      "source": [
        "p = 78> 0\n",
        "q = 2 >11\n",
        "if p and q:\n",
        "    print('p y q es verdadero')\n",
        "elif p and not q:\n",
        "    print('q es falsa')\n",
        "elif q and not p:\n",
        "    print('p es falsa')\n",
        "else:\n",
        "    print('p y q son falsas')"
      ],
      "metadata": {
        "colab": {
          "base_uri": "https://localhost:8080/"
        },
        "outputId": "3109c1d4-ea54-4c27-f101-2ee65d1df9c9",
        "id": "GyYXSz6PmK_q"
      },
      "execution_count": null,
      "outputs": [
        {
          "output_type": "stream",
          "name": "stdout",
          "text": [
            "q es falsa\n"
          ]
        }
      ]
    },
    {
      "cell_type": "markdown",
      "source": [
        "**My own example 69**"
      ],
      "metadata": {
        "id": "SMqLFnhjre3A"
      }
    },
    {
      "cell_type": "code",
      "source": [
        "i = 2\n",
        "while i < 256:\n",
        "    print(i)\n",
        "    i *=2  "
      ],
      "metadata": {
        "id": "1aPEEnwrmLK9",
        "colab": {
          "base_uri": "https://localhost:8080/"
        },
        "outputId": "60e6a1a9-cc29-46d2-fca6-96ffe52c947a"
      },
      "execution_count": null,
      "outputs": [
        {
          "output_type": "stream",
          "name": "stdout",
          "text": [
            "2\n",
            "4\n",
            "8\n",
            "16\n",
            "32\n",
            "64\n",
            "128\n"
          ]
        }
      ]
    },
    {
      "cell_type": "markdown",
      "source": [
        "**My own example 70**"
      ],
      "metadata": {
        "id": "frzjsapWrgWF"
      }
    },
    {
      "cell_type": "code",
      "source": [
        "for i in [1243,231,324,56]:\n",
        "    print(i)"
      ],
      "metadata": {
        "colab": {
          "base_uri": "https://localhost:8080/"
        },
        "outputId": "8bf27269-ba48-4c77-e033-14eb4bc40f23",
        "id": "swIeAjTkmLT6"
      },
      "execution_count": null,
      "outputs": [
        {
          "output_type": "stream",
          "name": "stdout",
          "text": [
            "1243\n",
            "231\n",
            "324\n",
            "56\n"
          ]
        }
      ]
    },
    {
      "cell_type": "markdown",
      "source": [
        "**My own example 71**"
      ],
      "metadata": {
        "id": "NFIUql8orjWC"
      }
    },
    {
      "cell_type": "code",
      "source": [
        "exp3 = []\n",
        "for i in [1,2,3,4,5]:\n",
        "    exp3.append(i**3)\n",
        "print(exp3)"
      ],
      "metadata": {
        "id": "DEjqsIQ2mLru",
        "colab": {
          "base_uri": "https://localhost:8080/"
        },
        "outputId": "ba2e107a-e7ae-452c-f644-9616fb7b3b60"
      },
      "execution_count": null,
      "outputs": [
        {
          "output_type": "stream",
          "name": "stdout",
          "text": [
            "[1, 8, 27, 64, 125]\n"
          ]
        }
      ]
    },
    {
      "cell_type": "markdown",
      "source": [
        "**My own example 72**"
      ],
      "metadata": {
        "id": "-1Vh4IQQrlGL"
      }
    },
    {
      "cell_type": "code",
      "source": [
        "exp6 = [x**2 for x in exp3]\n",
        "print(exp6)"
      ],
      "metadata": {
        "colab": {
          "base_uri": "https://localhost:8080/"
        },
        "outputId": "dfce00ef-6078-4256-fe6b-556d69734759",
        "id": "gxtJTwMcmLx7"
      },
      "execution_count": null,
      "outputs": [
        {
          "output_type": "stream",
          "name": "stdout",
          "text": [
            "[1, 64, 729, 4096, 15625]\n"
          ]
        }
      ]
    },
    {
      "cell_type": "markdown",
      "source": [
        "**My own example 73**"
      ],
      "metadata": {
        "id": "xbxM8cSyrmnx"
      }
    },
    {
      "cell_type": "code",
      "source": [
        "i =-8\n",
        "while i < -.5:\n",
        "    print(i)\n",
        "    i /=2  "
      ],
      "metadata": {
        "id": "cW0mkQ9-mL06",
        "colab": {
          "base_uri": "https://localhost:8080/"
        },
        "outputId": "f0524b1f-ecbb-40ee-a096-1db46bcc1d02"
      },
      "execution_count": null,
      "outputs": [
        {
          "output_type": "stream",
          "name": "stdout",
          "text": [
            "-8\n",
            "-4.0\n",
            "-2.0\n",
            "-1.0\n"
          ]
        }
      ]
    },
    {
      "cell_type": "markdown",
      "source": [
        "**My own example 74**"
      ],
      "metadata": {
        "id": "csBn0cGcrn92"
      }
    },
    {
      "cell_type": "code",
      "source": [
        "i =1\n",
        "ex=[]\n",
        "while i < 2024:\n",
        "    i *=2 \n",
        "    ex.append(i)\n",
        "print(ex)"
      ],
      "metadata": {
        "colab": {
          "base_uri": "https://localhost:8080/"
        },
        "outputId": "26d0105f-b147-4b6e-c081-b84e6d4be1ec",
        "id": "RDzyZbg0mZk3"
      },
      "execution_count": null,
      "outputs": [
        {
          "output_type": "stream",
          "name": "stdout",
          "text": [
            "[2, 4, 8, 16, 32, 64, 128, 256, 512, 1024, 2048]\n"
          ]
        }
      ]
    },
    {
      "cell_type": "markdown",
      "source": [
        "**My own example 75**"
      ],
      "metadata": {
        "id": "l4DnjJRvro-k"
      }
    },
    {
      "cell_type": "code",
      "source": [
        "st = ['ab','ce','te','fa','Fa','er', 'rfwq', 'fas']\n",
        "for i in st:\n",
        "    if i == 'ce':\n",
        "        continue\n",
        "    print(i)"
      ],
      "metadata": {
        "colab": {
          "base_uri": "https://localhost:8080/"
        },
        "outputId": "223faf76-a104-4198-b91e-3585a7c024ab",
        "id": "toUB5iy9mZoZ"
      },
      "execution_count": null,
      "outputs": [
        {
          "output_type": "stream",
          "name": "stdout",
          "text": [
            "ab\n",
            "te\n",
            "fa\n",
            "Fa\n",
            "er\n",
            "rfwq\n",
            "fas\n"
          ]
        }
      ]
    },
    {
      "cell_type": "markdown",
      "source": [
        "**My own example 76**"
      ],
      "metadata": {
        "id": "pZSAqNTTrq6P"
      }
    },
    {
      "cell_type": "code",
      "source": [
        "st = ['ab','ce','te','fa','Fa','er', 'rfwq', 'fas']\n",
        "for i in st:\n",
        "    print(i)\n",
        "    if i == 'ce':\n",
        "        break"
      ],
      "metadata": {
        "colab": {
          "base_uri": "https://localhost:8080/"
        },
        "outputId": "340a5246-c54c-44fb-9ac4-cb24b42a8951",
        "id": "m7hY4R_ImZyy"
      },
      "execution_count": null,
      "outputs": [
        {
          "output_type": "stream",
          "name": "stdout",
          "text": [
            "ab\n",
            "ce\n"
          ]
        }
      ]
    },
    {
      "cell_type": "markdown",
      "source": [
        "**My own example 77**"
      ],
      "metadata": {
        "id": "oUy3YdwCru7b"
      }
    },
    {
      "cell_type": "code",
      "source": [
        "raices = []\n",
        "for i in [9,36,81,1928734]:\n",
        "    raices.append(i**0.5)\n",
        "print(raices)"
      ],
      "metadata": {
        "colab": {
          "base_uri": "https://localhost:8080/"
        },
        "outputId": "b75998b2-9b0b-4ebd-d584-33bf13f1441c",
        "id": "L7nd3084mZ3L"
      },
      "execution_count": null,
      "outputs": [
        {
          "output_type": "stream",
          "name": "stdout",
          "text": [
            "[3.0, 6.0, 9.0, 1388.7886808294486]\n"
          ]
        }
      ]
    },
    {
      "cell_type": "markdown",
      "source": [
        "**My own example 78**"
      ],
      "metadata": {
        "id": "MN6Pe5Pb9gLt"
      }
    },
    {
      "cell_type": "code",
      "source": [
        "div = []\n",
        "for i in [91,36,81,1928734]:\n",
        "    div.append(i/79)\n",
        "print(div)"
      ],
      "metadata": {
        "colab": {
          "base_uri": "https://localhost:8080/"
        },
        "id": "gu7Xo4Qn92HU",
        "outputId": "3eed8932-7e68-42e0-c192-f35cc23567de"
      },
      "execution_count": null,
      "outputs": [
        {
          "output_type": "stream",
          "name": "stdout",
          "text": [
            "[1.1518987341772151, 0.45569620253164556, 1.0253164556962024, 24414.354430379746]\n"
          ]
        }
      ]
    },
    {
      "cell_type": "markdown",
      "source": [
        "**My own example 79**"
      ],
      "metadata": {
        "id": "_DZO3FnFrwMI"
      }
    },
    {
      "cell_type": "code",
      "source": [
        "i =1\n",
        "ex=[]\n",
        "while i < 2049:\n",
        "  print(i)\n",
        "  i *=2 \n",
        "  ex.append(i)\n",
        "  print(ex)"
      ],
      "metadata": {
        "colab": {
          "base_uri": "https://localhost:8080/"
        },
        "id": "2ibFmzVm7jK3",
        "outputId": "0a53ffa2-862f-4d23-b882-6c1c0b7144fa"
      },
      "execution_count": null,
      "outputs": [
        {
          "output_type": "stream",
          "name": "stdout",
          "text": [
            "1\n",
            "[2]\n",
            "2\n",
            "[2, 4]\n",
            "4\n",
            "[2, 4, 8]\n",
            "8\n",
            "[2, 4, 8, 16]\n",
            "16\n",
            "[2, 4, 8, 16, 32]\n",
            "32\n",
            "[2, 4, 8, 16, 32, 64]\n",
            "64\n",
            "[2, 4, 8, 16, 32, 64, 128]\n",
            "128\n",
            "[2, 4, 8, 16, 32, 64, 128, 256]\n",
            "256\n",
            "[2, 4, 8, 16, 32, 64, 128, 256, 512]\n",
            "512\n",
            "[2, 4, 8, 16, 32, 64, 128, 256, 512, 1024]\n",
            "1024\n",
            "[2, 4, 8, 16, 32, 64, 128, 256, 512, 1024, 2048]\n",
            "2048\n",
            "[2, 4, 8, 16, 32, 64, 128, 256, 512, 1024, 2048, 4096]\n"
          ]
        }
      ]
    },
    {
      "cell_type": "markdown",
      "source": [
        "**My own example 80**"
      ],
      "metadata": {
        "id": "jMLU0g_o6xaw"
      }
    },
    {
      "cell_type": "code",
      "source": [
        "i =0\n",
        "ex=[]\n",
        "while i <= 90:\n",
        "  print(i)\n",
        "  i +=9\n",
        "  ex.append(i)\n",
        "print(ex)"
      ],
      "metadata": {
        "colab": {
          "base_uri": "https://localhost:8080/"
        },
        "id": "fpZHPXx67jg5",
        "outputId": "2aab12bb-62a3-449f-a4b5-26cada959510"
      },
      "execution_count": null,
      "outputs": [
        {
          "output_type": "stream",
          "name": "stdout",
          "text": [
            "0\n",
            "9\n",
            "18\n",
            "27\n",
            "36\n",
            "45\n",
            "54\n",
            "63\n",
            "72\n",
            "81\n",
            "90\n",
            "[9, 18, 27, 36, 45, 54, 63, 72, 81, 90, 99]\n"
          ]
        }
      ]
    },
    {
      "cell_type": "markdown",
      "source": [
        "#Quanconnect Tutorial 3 Functions and Objective-Oriented Programming"
      ],
      "metadata": {
        "id": "yHsRRwaq7DLw"
      }
    },
    {
      "cell_type": "markdown",
      "source": [
        "**My own example 81**"
      ],
      "metadata": {
        "id": "b8jtfOkb62LZ"
      }
    },
    {
      "cell_type": "code",
      "source": [
        "def ecu(e,t):\n",
        "    return e**t\n",
        "print(ecu(2,3))\n",
        "print(ecu(5,10))"
      ],
      "metadata": {
        "colab": {
          "base_uri": "https://localhost:8080/"
        },
        "id": "TGh2FzLA7kJn",
        "outputId": "808d8a7e-a1d3-4ff4-ca6d-4afe99152727"
      },
      "execution_count": null,
      "outputs": [
        {
          "output_type": "stream",
          "name": "stdout",
          "text": [
            "8\n",
            "9765625\n"
          ]
        }
      ]
    },
    {
      "cell_type": "markdown",
      "source": [
        "**My own example 82**"
      ],
      "metadata": {
        "id": "n7I86Rys62PV"
      }
    },
    {
      "cell_type": "code",
      "source": [
        "def habla():\n",
        "    print('holiwi')\n",
        "habla()"
      ],
      "metadata": {
        "colab": {
          "base_uri": "https://localhost:8080/"
        },
        "id": "ILYxsqA_7lZe",
        "outputId": "2ef12859-83f2-4805-8f31-5e780c362372"
      },
      "execution_count": null,
      "outputs": [
        {
          "output_type": "stream",
          "name": "stdout",
          "text": [
            "holiwi\n"
          ]
        }
      ]
    },
    {
      "cell_type": "markdown",
      "source": [
        "**My own example 83**"
      ],
      "metadata": {
        "id": "hXWr8v3m62T8"
      }
    },
    {
      "cell_type": "code",
      "source": [
        "def imp():\n",
        "    print('k se dice')\n",
        "habla(); imp()"
      ],
      "metadata": {
        "colab": {
          "base_uri": "https://localhost:8080/"
        },
        "id": "xVD8crRB7mAF",
        "outputId": "6ea8801c-0c5b-4a18-8967-1ad38e6d1624"
      },
      "execution_count": null,
      "outputs": [
        {
          "output_type": "stream",
          "name": "stdout",
          "text": [
            "holiwi\n",
            "k se dice\n"
          ]
        }
      ]
    },
    {
      "cell_type": "markdown",
      "source": [
        "**My own example 84**"
      ],
      "metadata": {
        "id": "yiFMpAC262YP"
      }
    },
    {
      "cell_type": "code",
      "source": [
        "def ecu2(u,i,o,e):\n",
        "    return (u+o)*e/i\n",
        "print(ecu2(2,3,7,1))\n",
        "print(ecu2(5,10,100,53))"
      ],
      "metadata": {
        "colab": {
          "base_uri": "https://localhost:8080/"
        },
        "id": "JpBjQT557mZR",
        "outputId": "56f4726a-49da-4beb-e484-5494027c9ee1"
      },
      "execution_count": null,
      "outputs": [
        {
          "output_type": "stream",
          "name": "stdout",
          "text": [
            "3.0\n",
            "556.5\n"
          ]
        }
      ]
    },
    {
      "cell_type": "markdown",
      "source": [
        "**My own example 85**"
      ],
      "metadata": {
        "id": "U_hGICED62dX"
      }
    },
    {
      "cell_type": "code",
      "source": [
        "def ecu3(rere,te,teo,w):\n",
        "    return rere**te/(teo**w)\n",
        "print(ecu3(2,3,7,1))\n",
        "print(ecu3(5,10,100,53))"
      ],
      "metadata": {
        "colab": {
          "base_uri": "https://localhost:8080/"
        },
        "id": "MJBBh94t7m25",
        "outputId": "e1f9ff58-950d-491e-fbab-99d8b386fcad"
      },
      "execution_count": null,
      "outputs": [
        {
          "output_type": "stream",
          "name": "stdout",
          "text": [
            "1.1428571428571428\n",
            "9.765625e-100\n"
          ]
        }
      ]
    },
    {
      "cell_type": "markdown",
      "source": [
        "**My own example 86**"
      ],
      "metadata": {
        "id": "HFeAkTFm62iX"
      }
    },
    {
      "cell_type": "code",
      "source": [
        "list1 = ['ba','be','bi','bo','bu','bii', 'brr', 'we', 'brr', 'we', 'brr', 'we']\n",
        "print('longitud de la lista es {}'.format(len(list1)))\n",
        "for i in range(len(list1)):\n",
        "    print(list1[i])"
      ],
      "metadata": {
        "colab": {
          "base_uri": "https://localhost:8080/"
        },
        "id": "qFtywWKx7nQX",
        "outputId": "b836959d-f250-4e2f-89c1-1a55f0218816"
      },
      "execution_count": null,
      "outputs": [
        {
          "output_type": "stream",
          "name": "stdout",
          "text": [
            "longitud de la lista es 12\n",
            "ba\n",
            "be\n",
            "bi\n",
            "bo\n",
            "bu\n",
            "bii\n",
            "brr\n",
            "we\n",
            "brr\n",
            "we\n",
            "brr\n",
            "we\n"
          ]
        }
      ]
    },
    {
      "cell_type": "markdown",
      "source": [
        "**My own example 87**"
      ],
      "metadata": {
        "id": "l6KsT70V62o1"
      }
    },
    {
      "cell_type": "code",
      "source": [
        "print('longitud de la lista1 es {}'.format(len(lista1)))\n",
        "for i in range(len(lista1)):\n",
        "    print(lista1[i])"
      ],
      "metadata": {
        "colab": {
          "base_uri": "https://localhost:8080/"
        },
        "id": "lKGQLiGn7ntp",
        "outputId": "0e8b3765-b11f-41ca-a53c-5128f6609134"
      },
      "execution_count": null,
      "outputs": [
        {
          "output_type": "stream",
          "name": "stdout",
          "text": [
            "longitud de la lista1 es 10\n",
            "0\n",
            "1\n",
            "2\n",
            "3\n",
            "4\n",
            "5\n",
            "6\n",
            "7\n",
            "8\n",
            "9\n"
          ]
        }
      ]
    },
    {
      "cell_type": "markdown",
      "source": [
        "**My own example 88**"
      ],
      "metadata": {
        "id": "AViJJ1vEMBdy"
      }
    },
    {
      "cell_type": "code",
      "source": [
        "print('longitud de la lista2 es {}'.format(len(lista2)))\n",
        "for i in range(len(lista2)):\n",
        "    print(lista2[i])"
      ],
      "metadata": {
        "colab": {
          "base_uri": "https://localhost:8080/"
        },
        "outputId": "927cdd3a-6eb1-47bd-aff0-1b39ec30ad90",
        "id": "uZ_udx59MER4"
      },
      "execution_count": null,
      "outputs": [
        {
          "output_type": "stream",
          "name": "stdout",
          "text": [
            "longitud de la lista2 es 10\n",
            "0\n",
            "1\n",
            "2\n",
            "3\n",
            "4\n",
            "5\n",
            "6\n",
            "7\n",
            "8\n",
            "9\n"
          ]
        }
      ]
    },
    {
      "cell_type": "markdown",
      "source": [
        "**My own example 89**"
      ],
      "metadata": {
        "id": "z4WhZPTX62vC"
      }
    },
    {
      "cell_type": "code",
      "source": [
        "def homero():\n",
        "    print('DOOOH')\n",
        "homero()"
      ],
      "metadata": {
        "colab": {
          "base_uri": "https://localhost:8080/"
        },
        "id": "cE8HyJl87odb",
        "outputId": "91c7f9b5-b470-4980-b3b6-e27071b5c6fa"
      },
      "execution_count": null,
      "outputs": [
        {
          "output_type": "stream",
          "name": "stdout",
          "text": [
            "DOOOH\n"
          ]
        }
      ]
    },
    {
      "cell_type": "markdown",
      "source": [
        "**My own example 90**"
      ],
      "metadata": {
        "id": "_6DrjNVS6_z6"
      }
    },
    {
      "cell_type": "code",
      "source": [
        "def batman():\n",
        "    print('EL SEÑOR DE LA NOCHEEEEEEE')\n",
        "batman()"
      ],
      "metadata": {
        "colab": {
          "base_uri": "https://localhost:8080/"
        },
        "id": "vUTxLzP97o36",
        "outputId": "6153eecb-5f49-40bd-e25e-9e07f1eb4926"
      },
      "execution_count": null,
      "outputs": [
        {
          "output_type": "stream",
          "name": "stdout",
          "text": [
            "EL SEÑOR DE LA NOCHEEEEEEE\n"
          ]
        }
      ]
    },
    {
      "cell_type": "markdown",
      "source": [
        "**My own example 91**"
      ],
      "metadata": {
        "id": "UI_eZj-u7NCw"
      }
    },
    {
      "cell_type": "code",
      "source": [
        "def texto():\n",
        "    texto = \"METODOS NUM\"\n",
        "    return texto\n",
        "my_string = texto()\n",
        "print (my_string)"
      ],
      "metadata": {
        "colab": {
          "base_uri": "https://localhost:8080/"
        },
        "id": "FEs1itnV7pPp",
        "outputId": "b74b30e3-1031-4898-e6d4-6f5201777e88"
      },
      "execution_count": null,
      "outputs": [
        {
          "output_type": "stream",
          "name": "stdout",
          "text": [
            "METODOS NUM\n"
          ]
        }
      ]
    },
    {
      "cell_type": "markdown",
      "source": [
        "**My own example 92**"
      ],
      "metadata": {
        "id": "HfxG9rV37NQv"
      }
    },
    {
      "cell_type": "code",
      "source": [
        "def hola():\n",
        "    hola = \"hola mundo\"\n",
        "    return hola\n",
        "x = hola()\n",
        "print (x)"
      ],
      "metadata": {
        "id": "ta-tt7aa7rlu",
        "colab": {
          "base_uri": "https://localhost:8080/"
        },
        "outputId": "26d3a7fc-8aa8-4c82-b38b-94ae953bfd73"
      },
      "execution_count": null,
      "outputs": [
        {
          "output_type": "stream",
          "name": "stdout",
          "text": [
            "hola mundo\n"
          ]
        }
      ]
    },
    {
      "cell_type": "markdown",
      "source": [
        "**My own example 93**"
      ],
      "metadata": {
        "id": "6Xf-kw5r7NV4"
      }
    },
    {
      "cell_type": "code",
      "source": [
        "def ecu3(pe,ce,to,wor):\n",
        "    return pe**ce/(to**wor)\n",
        "print(ecu3(2,0.5,7,1))\n",
        "print(ecu3(5,0.6,100,53))"
      ],
      "metadata": {
        "id": "wRohnhe07sBU",
        "colab": {
          "base_uri": "https://localhost:8080/"
        },
        "outputId": "aa8cb5fc-068d-4f28-fa28-46f55e25a525"
      },
      "execution_count": null,
      "outputs": [
        {
          "output_type": "stream",
          "name": "stdout",
          "text": [
            "0.20203050891044216\n",
            "2.626527804403767e-106\n"
          ]
        }
      ]
    },
    {
      "cell_type": "markdown",
      "source": [
        "**My own example 94**"
      ],
      "metadata": {
        "id": "w9sZruId7NbH"
      }
    },
    {
      "cell_type": "code",
      "source": [
        "def r():\n",
        "    r = \"reeeee\"\n",
        "    return r\n",
        "esc = r()\n",
        "print (esc)"
      ],
      "metadata": {
        "id": "fWV2KzSS7sfu",
        "colab": {
          "base_uri": "https://localhost:8080/"
        },
        "outputId": "0f94a528-8a9c-41a0-db56-3a4b1adf66be"
      },
      "execution_count": null,
      "outputs": [
        {
          "output_type": "stream",
          "name": "stdout",
          "text": [
            "reeeee\n"
          ]
        }
      ]
    },
    {
      "cell_type": "markdown",
      "source": [
        "**My own example 95**"
      ],
      "metadata": {
        "id": "wFG-05ZH7Nf3"
      }
    },
    {
      "cell_type": "code",
      "source": [
        "def interpolacion(x1,x2,y1,y2,x):\n",
        "    return y1+(x-x1)*(y2-y1)/(x2-x1)\n",
        "print(interpolacion(2,3,5,8,2.5))\n",
        "print(interpolacion(5,10,9,100,7))"
      ],
      "metadata": {
        "id": "DjQF0IO77s8d",
        "colab": {
          "base_uri": "https://localhost:8080/"
        },
        "outputId": "23c9cfea-ba65-44ae-9ed9-ac65f227cc40"
      },
      "execution_count": null,
      "outputs": [
        {
          "output_type": "stream",
          "name": "stdout",
          "text": [
            "6.5\n",
            "45.4\n"
          ]
        }
      ]
    },
    {
      "cell_type": "markdown",
      "source": [
        "**My own example 96**"
      ],
      "metadata": {
        "id": "i4GYPmL77Nlh"
      }
    },
    {
      "cell_type": "code",
      "source": [
        "mt.cos(1)"
      ],
      "metadata": {
        "id": "eeBkiVTW7tfj",
        "colab": {
          "base_uri": "https://localhost:8080/"
        },
        "outputId": "2ca704f5-ac04-4336-a1c8-e0fa5ba319c1"
      },
      "execution_count": null,
      "outputs": [
        {
          "output_type": "execute_result",
          "data": {
            "text/plain": [
              "0.5403023058681398"
            ]
          },
          "metadata": {},
          "execution_count": 96
        }
      ]
    },
    {
      "cell_type": "markdown",
      "source": [
        "**My own example 97**"
      ],
      "metadata": {
        "id": "sjGxj0ST7NrM"
      }
    },
    {
      "cell_type": "code",
      "source": [
        "mt.sqrt(mt.sqrt(10000))"
      ],
      "metadata": {
        "id": "v4PFEu2q7t67",
        "colab": {
          "base_uri": "https://localhost:8080/"
        },
        "outputId": "0eb1d0c9-f028-4a8c-af3e-ea46ba74de68"
      },
      "execution_count": null,
      "outputs": [
        {
          "output_type": "execute_result",
          "data": {
            "text/plain": [
              "10.0"
            ]
          },
          "metadata": {},
          "execution_count": 97
        }
      ]
    },
    {
      "cell_type": "markdown",
      "source": [
        "**My own example 98**"
      ],
      "metadata": {
        "id": "VzPe2Qug7NyU"
      }
    },
    {
      "cell_type": "code",
      "source": [
        "96+9852"
      ],
      "metadata": {
        "id": "ZLXTeL497uii",
        "colab": {
          "base_uri": "https://localhost:8080/"
        },
        "outputId": "9f9a786b-77a7-4dd9-da2e-db9c0252aa91"
      },
      "execution_count": null,
      "outputs": [
        {
          "output_type": "execute_result",
          "data": {
            "text/plain": [
              "9948"
            ]
          },
          "metadata": {},
          "execution_count": 98
        }
      ]
    },
    {
      "cell_type": "markdown",
      "source": [
        "**My own example 99**"
      ],
      "metadata": {
        "id": "VjY8mtJh7hEV"
      }
    },
    {
      "cell_type": "code",
      "source": [
        "982/79"
      ],
      "metadata": {
        "id": "OPYDwx527u-r",
        "colab": {
          "base_uri": "https://localhost:8080/"
        },
        "outputId": "dfc20152-c7b1-4932-ca8a-1e480a7f13bd"
      },
      "execution_count": null,
      "outputs": [
        {
          "output_type": "execute_result",
          "data": {
            "text/plain": [
              "12.430379746835444"
            ]
          },
          "metadata": {},
          "execution_count": 99
        }
      ]
    },
    {
      "cell_type": "markdown",
      "source": [
        "**My own example 100**"
      ],
      "metadata": {
        "id": "wDXSC-U-7N_O"
      }
    },
    {
      "cell_type": "code",
      "source": [
        "mt.sqrt(89)"
      ],
      "metadata": {
        "id": "8Y4heklw7vpr",
        "colab": {
          "base_uri": "https://localhost:8080/"
        },
        "outputId": "e1fb2175-c01e-4ba9-8920-062b952adb4e"
      },
      "execution_count": null,
      "outputs": [
        {
          "output_type": "execute_result",
          "data": {
            "text/plain": [
              "9.433981132056603"
            ]
          },
          "metadata": {},
          "execution_count": 100
        }
      ]
    },
    {
      "cell_type": "markdown",
      "source": [
        "#QuantopianLecture 3"
      ],
      "metadata": {
        "id": "Vym8YSia7TqB"
      }
    },
    {
      "cell_type": "markdown",
      "source": [
        "**My own example 101**"
      ],
      "metadata": {
        "id": "U-OJGrCV7VPT"
      }
    },
    {
      "cell_type": "code",
      "source": [
        "import matplotlib.pyplot as plt\n",
        "listaq = [18, 659, 59, 88, 4.2]\n",
        "returns = np.array(listaq)\n",
        "print (returns, type(returns))"
      ],
      "metadata": {
        "id": "jJ5G4FAA7wMX",
        "colab": {
          "base_uri": "https://localhost:8080/"
        },
        "outputId": "9f6f83ae-ac76-4d56-8c38-d2975827afb9"
      },
      "execution_count": null,
      "outputs": [
        {
          "output_type": "stream",
          "name": "stdout",
          "text": [
            "[ 18.  659.   59.   88.    4.2] <class 'numpy.ndarray'>\n"
          ]
        }
      ]
    },
    {
      "cell_type": "markdown",
      "source": [
        "**My own example 102**"
      ],
      "metadata": {
        "id": "jfVTyRCO7VZs"
      }
    },
    {
      "cell_type": "code",
      "source": [
        "A = np.array([[1, 2], [3, 4]])\n",
        "print (A, type(A))"
      ],
      "metadata": {
        "id": "hqGOi4TV7wl_",
        "colab": {
          "base_uri": "https://localhost:8080/"
        },
        "outputId": "358de5ba-d84e-49fd-fef6-2d229ac88311"
      },
      "execution_count": null,
      "outputs": [
        {
          "output_type": "stream",
          "name": "stdout",
          "text": [
            "[[1 2]\n",
            " [3 4]] <class 'numpy.ndarray'>\n"
          ]
        }
      ]
    },
    {
      "cell_type": "markdown",
      "source": [
        "**My own example 103**"
      ],
      "metadata": {
        "id": "tHr46DWw7ViP"
      }
    },
    {
      "cell_type": "code",
      "source": [
        "print( A.shape)"
      ],
      "metadata": {
        "id": "QxgpKD1E7xA1",
        "colab": {
          "base_uri": "https://localhost:8080/"
        },
        "outputId": "81aff960-cc3c-4d11-9d96-1b8446d0666d"
      },
      "execution_count": null,
      "outputs": [
        {
          "output_type": "stream",
          "name": "stdout",
          "text": [
            "(2, 2)\n"
          ]
        }
      ]
    },
    {
      "cell_type": "markdown",
      "source": [
        "**My own example 104**"
      ],
      "metadata": {
        "id": "uGyzQeXv7Von"
      }
    },
    {
      "cell_type": "code",
      "source": [
        "print (returns[0], returns[len(returns) - 1])"
      ],
      "metadata": {
        "id": "dvXbdbd871Bb",
        "colab": {
          "base_uri": "https://localhost:8080/"
        },
        "outputId": "36305155-0a2e-4b67-90b9-a658719e193d"
      },
      "execution_count": null,
      "outputs": [
        {
          "output_type": "stream",
          "name": "stdout",
          "text": [
            "18.0 4.2\n"
          ]
        }
      ]
    },
    {
      "cell_type": "markdown",
      "source": [
        "**My own example 105**"
      ],
      "metadata": {
        "id": "zneM3L_F7Vto"
      }
    },
    {
      "cell_type": "code",
      "source": [
        "print (returns[1:3])"
      ],
      "metadata": {
        "id": "JfEBTIr972IS",
        "colab": {
          "base_uri": "https://localhost:8080/"
        },
        "outputId": "9f14b3bb-de6a-4654-c01e-ff2298b50e29"
      },
      "execution_count": null,
      "outputs": [
        {
          "output_type": "stream",
          "name": "stdout",
          "text": [
            "[659.  59.]\n"
          ]
        }
      ]
    },
    {
      "cell_type": "markdown",
      "source": [
        "**My own example 106**"
      ],
      "metadata": {
        "id": "mpch2xGr7Vx8"
      }
    },
    {
      "cell_type": "code",
      "source": [
        "print (A[:, 0])"
      ],
      "metadata": {
        "id": "y9pthEz073mP",
        "colab": {
          "base_uri": "https://localhost:8080/"
        },
        "outputId": "ba61cfa1-0097-4d2e-fad6-75753e70db98"
      },
      "execution_count": null,
      "outputs": [
        {
          "output_type": "stream",
          "name": "stdout",
          "text": [
            "[1 3]\n"
          ]
        }
      ]
    },
    {
      "cell_type": "markdown",
      "source": [
        "**My own example 107**"
      ],
      "metadata": {
        "id": "nUZakus47V2C"
      }
    },
    {
      "cell_type": "code",
      "source": [
        "print (A[:, 1])"
      ],
      "metadata": {
        "id": "nKFMvhdy74b4",
        "colab": {
          "base_uri": "https://localhost:8080/"
        },
        "outputId": "866798ee-9d23-4bf4-9ba6-d2dbec5976c4"
      },
      "execution_count": null,
      "outputs": [
        {
          "output_type": "stream",
          "name": "stdout",
          "text": [
            "[2 4]\n"
          ]
        }
      ]
    },
    {
      "cell_type": "markdown",
      "source": [
        "**My own example 108**"
      ],
      "metadata": {
        "id": "hLUp7u-k7Wjd"
      }
    },
    {
      "cell_type": "code",
      "source": [
        "print (A[0, :])"
      ],
      "metadata": {
        "id": "9pjtMLiG75ZD",
        "colab": {
          "base_uri": "https://localhost:8080/"
        },
        "outputId": "0f540e46-1758-4723-d44f-137d1167c55f"
      },
      "execution_count": null,
      "outputs": [
        {
          "output_type": "stream",
          "name": "stdout",
          "text": [
            "[1 2]\n"
          ]
        }
      ]
    },
    {
      "cell_type": "markdown",
      "source": [
        "**My own example 109**"
      ],
      "metadata": {
        "id": "neTG7Vse7Ws2"
      }
    },
    {
      "cell_type": "code",
      "source": [
        "print (A[1, :])\n"
      ],
      "metadata": {
        "id": "iZtKgMAv76fV",
        "colab": {
          "base_uri": "https://localhost:8080/"
        },
        "outputId": "201ea513-c45f-4ad3-8e50-2742c99f1f4f"
      },
      "execution_count": null,
      "outputs": [
        {
          "output_type": "stream",
          "name": "stdout",
          "text": [
            "[3 4]\n"
          ]
        }
      ]
    },
    {
      "cell_type": "markdown",
      "source": [
        "**My own example 110**"
      ],
      "metadata": {
        "id": "_S-fHq9j7W1i"
      }
    },
    {
      "cell_type": "code",
      "source": [
        "print (A[1, 1])"
      ],
      "metadata": {
        "id": "bsTRQOY778Y2",
        "colab": {
          "base_uri": "https://localhost:8080/"
        },
        "outputId": "71a45c42-76af-4747-b32e-2e55d2d5f2a1"
      },
      "execution_count": null,
      "outputs": [
        {
          "output_type": "stream",
          "name": "stdout",
          "text": [
            "4\n"
          ]
        }
      ]
    },
    {
      "cell_type": "markdown",
      "source": [
        "**My own example 111**"
      ],
      "metadata": {
        "id": "Rl028tfE11_K"
      }
    },
    {
      "cell_type": "code",
      "source": [
        "print(\"lista es \",returns)\n",
        "print(\"log(lista)=\",np.log(returns))\n"
      ],
      "metadata": {
        "colab": {
          "base_uri": "https://localhost:8080/"
        },
        "id": "L1Cvj8Gn2Ggf",
        "outputId": "9345e0f2-e30b-4f1c-9022-a680737521f2"
      },
      "execution_count": null,
      "outputs": [
        {
          "output_type": "stream",
          "name": "stdout",
          "text": [
            "lista es  [ 18.  659.   59.   88.    4.2]\n",
            "log(lista)= [2.89037176 6.49072353 4.07753744 4.47733681 1.43508453]\n"
          ]
        }
      ]
    },
    {
      "cell_type": "markdown",
      "source": [
        "**My own example 112**"
      ],
      "metadata": {
        "id": "1EwVho0W13N4"
      }
    },
    {
      "cell_type": "code",
      "source": [
        "print(np.mean(returns))"
      ],
      "metadata": {
        "colab": {
          "base_uri": "https://localhost:8080/"
        },
        "id": "Fk26HYmB2Hlm",
        "outputId": "e72828c5-9a99-4aa1-dbcb-d9327e4ba9b7"
      },
      "execution_count": null,
      "outputs": [
        {
          "output_type": "stream",
          "name": "stdout",
          "text": [
            "165.64000000000001\n"
          ]
        }
      ]
    },
    {
      "cell_type": "markdown",
      "source": [
        "**My own example 113**"
      ],
      "metadata": {
        "id": "J1PFM8EJ13sA"
      }
    },
    {
      "cell_type": "code",
      "source": [
        "print(np.max(returns))"
      ],
      "metadata": {
        "colab": {
          "base_uri": "https://localhost:8080/"
        },
        "id": "BAQuVrp62I2d",
        "outputId": "e5598413-d1ea-4077-f6a3-fc9980ef88fd"
      },
      "execution_count": null,
      "outputs": [
        {
          "output_type": "stream",
          "name": "stdout",
          "text": [
            "659.0\n"
          ]
        }
      ]
    },
    {
      "cell_type": "markdown",
      "source": [
        "**My own example 114**"
      ],
      "metadata": {
        "id": "_eUsltyQ13yY"
      }
    },
    {
      "cell_type": "code",
      "source": [
        "returns**0.5 + 5"
      ],
      "metadata": {
        "colab": {
          "base_uri": "https://localhost:8080/"
        },
        "id": "tUyxL33l2J4T",
        "outputId": "4e463148-34b6-4b5f-e011-f6df0787f095"
      },
      "execution_count": null,
      "outputs": [
        {
          "output_type": "execute_result",
          "data": {
            "text/plain": [
              "array([ 9.24264069, 30.67099531, 12.68114575, 14.38083152,  7.04939015])"
            ]
          },
          "metadata": {},
          "execution_count": 114
        }
      ]
    },
    {
      "cell_type": "markdown",
      "source": [
        "**My own example 115**"
      ],
      "metadata": {
        "id": "SxkxtS5s1347"
      }
    },
    {
      "cell_type": "code",
      "source": [
        "print(\"media: \", np.mean(returns), \"desviacion estandar: \", np.std(returns))"
      ],
      "metadata": {
        "colab": {
          "base_uri": "https://localhost:8080/"
        },
        "id": "_dGCA6Ly2K90",
        "outputId": "886e3e30-1476-485a-94f1-24d9e21d2390"
      },
      "execution_count": null,
      "outputs": [
        {
          "output_type": "stream",
          "name": "stdout",
          "text": [
            "media:  165.64000000000001 desviacion estandar:  248.46110037589386\n"
          ]
        }
      ]
    },
    {
      "cell_type": "markdown",
      "source": [
        "**My own example 116**"
      ],
      "metadata": {
        "id": "2N2ELcqL13_8"
      }
    },
    {
      "cell_type": "code",
      "source": [
        "N = 10\n",
        "nuevo = np.zeros((N, 100))"
      ],
      "metadata": {
        "id": "YwE5WoGW2MZL"
      },
      "execution_count": null,
      "outputs": []
    },
    {
      "cell_type": "markdown",
      "source": [
        "**My own example 117**"
      ],
      "metadata": {
        "id": "ToKX9nm314G-"
      }
    },
    {
      "cell_type": "code",
      "source": [
        "R_1 = np.random.normal(1.01, 0.03, 100)\n",
        "nuevo[0] = np.cumprod(R_1)\n",
        "for i in range(1, N):\n",
        "  R_i = R_1 + np.random.normal(1.01, 0.03, 100)\n",
        "  nuevo[i] = R_1\n",
        "print(nuevo)"
      ],
      "metadata": {
        "colab": {
          "base_uri": "https://localhost:8080/"
        },
        "id": "JcMIPMFN2Nq7",
        "outputId": "d447634d-a266-4619-bb40-3a7647f1935e"
      },
      "execution_count": null,
      "outputs": [
        {
          "output_type": "stream",
          "name": "stdout",
          "text": [
            "[[0.99733552 1.01258916 1.01052514 1.02510891 1.03512436 1.0229934\n",
            "  1.05207674 1.06602559 1.081219   1.14879155 1.16835385 1.21627188\n",
            "  1.20462862 1.26733092 1.28381184 1.29996787 1.3002479  1.2759899\n",
            "  1.30226099 1.29874528 1.35878404 1.36640108 1.38052168 1.41899322\n",
            "  1.43641981 1.41875901 1.42594813 1.46957535 1.47347403 1.39302432\n",
            "  1.40791388 1.45169695 1.59135848 1.60240146 1.67691864 1.76744358\n",
            "  1.82831714 1.85664743 1.85713344 1.89045954 1.95976574 2.06032052\n",
            "  2.0719444  2.18234697 2.27593746 2.30269726 2.37895264 2.45860359\n",
            "  2.52845881 2.48119942 2.4586002  2.44670716 2.54138278 2.47071611\n",
            "  2.49521917 2.55207542 2.41978355 2.43053093 2.45408549 2.56251665\n",
            "  2.54376914 2.60789786 2.79897702 2.8895562  2.91105185 2.99651401\n",
            "  3.10809228 3.17534287 3.21266814 3.18550738 3.20889059 3.3792582\n",
            "  3.49848079 3.56428689 3.63549759 3.76072565 3.83490547 3.84301048\n",
            "  3.87587991 3.86272615 3.51467683 3.46729304 3.54700033 3.51769463\n",
            "  3.67398619 3.74668906 3.80902677 3.7956771  3.74952779 3.9438165\n",
            "  4.01479779 4.07888309 4.15448271 4.30792582 4.20339117 4.09736316\n",
            "  4.34358635 4.35462047 4.42799443 4.52548596]\n",
            " [0.99733552 1.01529439 0.99796164 1.01443187 1.00977013 0.98828068\n",
            "  1.02842965 1.0132584  1.01425239 1.06249663 1.01702859 1.04101329\n",
            "  0.99042709 1.05205114 1.01300443 1.01258443 1.00021541 0.98134356\n",
            "  1.02058879 0.9973003  1.04622828 1.00560578 1.01033416 1.02786739\n",
            "  1.01228095 0.98770498 1.00506719 1.03059524 1.00265293 0.94540134\n",
            "  1.01068866 1.03109783 1.09620571 1.00693934 1.04650344 1.0539829\n",
            "  1.03444159 1.01549528 1.00026177 1.01794491 1.03666104 1.05130959\n",
            "  1.00564178 1.05328452 1.04288525 1.0117577  1.03311568 1.03348152\n",
            "  1.02841256 0.98130901 0.99089182 0.99516268 1.03869512 0.97219361\n",
            "  1.0099174  1.02278607 0.94816303 1.00444146 1.00969112 1.04418394\n",
            "  0.99268394 1.02521012 1.07326942 1.03236153 1.00743908 1.02935783\n",
            "  1.03723602 1.02163726 1.01175472 0.99154573 1.0073405  1.05309237\n",
            "  1.0352807  1.01880991 1.01997895 1.03444592 1.01972487 1.00211348\n",
            "  1.00855304 0.99660625 0.90989542 0.98651831 1.02298833 0.99173789\n",
            "  1.04443011 1.01978855 1.01663808 0.99649525 0.98784161 1.05181685\n",
            "  1.01799812 1.01596227 1.01853439 1.03693435 0.97573434 0.9747756\n",
            "  1.06009308 1.00254032 1.01684968 1.02201708]\n",
            " [0.99733552 1.01529439 0.99796164 1.01443187 1.00977013 0.98828068\n",
            "  1.02842965 1.0132584  1.01425239 1.06249663 1.01702859 1.04101329\n",
            "  0.99042709 1.05205114 1.01300443 1.01258443 1.00021541 0.98134356\n",
            "  1.02058879 0.9973003  1.04622828 1.00560578 1.01033416 1.02786739\n",
            "  1.01228095 0.98770498 1.00506719 1.03059524 1.00265293 0.94540134\n",
            "  1.01068866 1.03109783 1.09620571 1.00693934 1.04650344 1.0539829\n",
            "  1.03444159 1.01549528 1.00026177 1.01794491 1.03666104 1.05130959\n",
            "  1.00564178 1.05328452 1.04288525 1.0117577  1.03311568 1.03348152\n",
            "  1.02841256 0.98130901 0.99089182 0.99516268 1.03869512 0.97219361\n",
            "  1.0099174  1.02278607 0.94816303 1.00444146 1.00969112 1.04418394\n",
            "  0.99268394 1.02521012 1.07326942 1.03236153 1.00743908 1.02935783\n",
            "  1.03723602 1.02163726 1.01175472 0.99154573 1.0073405  1.05309237\n",
            "  1.0352807  1.01880991 1.01997895 1.03444592 1.01972487 1.00211348\n",
            "  1.00855304 0.99660625 0.90989542 0.98651831 1.02298833 0.99173789\n",
            "  1.04443011 1.01978855 1.01663808 0.99649525 0.98784161 1.05181685\n",
            "  1.01799812 1.01596227 1.01853439 1.03693435 0.97573434 0.9747756\n",
            "  1.06009308 1.00254032 1.01684968 1.02201708]\n",
            " [0.99733552 1.01529439 0.99796164 1.01443187 1.00977013 0.98828068\n",
            "  1.02842965 1.0132584  1.01425239 1.06249663 1.01702859 1.04101329\n",
            "  0.99042709 1.05205114 1.01300443 1.01258443 1.00021541 0.98134356\n",
            "  1.02058879 0.9973003  1.04622828 1.00560578 1.01033416 1.02786739\n",
            "  1.01228095 0.98770498 1.00506719 1.03059524 1.00265293 0.94540134\n",
            "  1.01068866 1.03109783 1.09620571 1.00693934 1.04650344 1.0539829\n",
            "  1.03444159 1.01549528 1.00026177 1.01794491 1.03666104 1.05130959\n",
            "  1.00564178 1.05328452 1.04288525 1.0117577  1.03311568 1.03348152\n",
            "  1.02841256 0.98130901 0.99089182 0.99516268 1.03869512 0.97219361\n",
            "  1.0099174  1.02278607 0.94816303 1.00444146 1.00969112 1.04418394\n",
            "  0.99268394 1.02521012 1.07326942 1.03236153 1.00743908 1.02935783\n",
            "  1.03723602 1.02163726 1.01175472 0.99154573 1.0073405  1.05309237\n",
            "  1.0352807  1.01880991 1.01997895 1.03444592 1.01972487 1.00211348\n",
            "  1.00855304 0.99660625 0.90989542 0.98651831 1.02298833 0.99173789\n",
            "  1.04443011 1.01978855 1.01663808 0.99649525 0.98784161 1.05181685\n",
            "  1.01799812 1.01596227 1.01853439 1.03693435 0.97573434 0.9747756\n",
            "  1.06009308 1.00254032 1.01684968 1.02201708]\n",
            " [0.99733552 1.01529439 0.99796164 1.01443187 1.00977013 0.98828068\n",
            "  1.02842965 1.0132584  1.01425239 1.06249663 1.01702859 1.04101329\n",
            "  0.99042709 1.05205114 1.01300443 1.01258443 1.00021541 0.98134356\n",
            "  1.02058879 0.9973003  1.04622828 1.00560578 1.01033416 1.02786739\n",
            "  1.01228095 0.98770498 1.00506719 1.03059524 1.00265293 0.94540134\n",
            "  1.01068866 1.03109783 1.09620571 1.00693934 1.04650344 1.0539829\n",
            "  1.03444159 1.01549528 1.00026177 1.01794491 1.03666104 1.05130959\n",
            "  1.00564178 1.05328452 1.04288525 1.0117577  1.03311568 1.03348152\n",
            "  1.02841256 0.98130901 0.99089182 0.99516268 1.03869512 0.97219361\n",
            "  1.0099174  1.02278607 0.94816303 1.00444146 1.00969112 1.04418394\n",
            "  0.99268394 1.02521012 1.07326942 1.03236153 1.00743908 1.02935783\n",
            "  1.03723602 1.02163726 1.01175472 0.99154573 1.0073405  1.05309237\n",
            "  1.0352807  1.01880991 1.01997895 1.03444592 1.01972487 1.00211348\n",
            "  1.00855304 0.99660625 0.90989542 0.98651831 1.02298833 0.99173789\n",
            "  1.04443011 1.01978855 1.01663808 0.99649525 0.98784161 1.05181685\n",
            "  1.01799812 1.01596227 1.01853439 1.03693435 0.97573434 0.9747756\n",
            "  1.06009308 1.00254032 1.01684968 1.02201708]\n",
            " [0.99733552 1.01529439 0.99796164 1.01443187 1.00977013 0.98828068\n",
            "  1.02842965 1.0132584  1.01425239 1.06249663 1.01702859 1.04101329\n",
            "  0.99042709 1.05205114 1.01300443 1.01258443 1.00021541 0.98134356\n",
            "  1.02058879 0.9973003  1.04622828 1.00560578 1.01033416 1.02786739\n",
            "  1.01228095 0.98770498 1.00506719 1.03059524 1.00265293 0.94540134\n",
            "  1.01068866 1.03109783 1.09620571 1.00693934 1.04650344 1.0539829\n",
            "  1.03444159 1.01549528 1.00026177 1.01794491 1.03666104 1.05130959\n",
            "  1.00564178 1.05328452 1.04288525 1.0117577  1.03311568 1.03348152\n",
            "  1.02841256 0.98130901 0.99089182 0.99516268 1.03869512 0.97219361\n",
            "  1.0099174  1.02278607 0.94816303 1.00444146 1.00969112 1.04418394\n",
            "  0.99268394 1.02521012 1.07326942 1.03236153 1.00743908 1.02935783\n",
            "  1.03723602 1.02163726 1.01175472 0.99154573 1.0073405  1.05309237\n",
            "  1.0352807  1.01880991 1.01997895 1.03444592 1.01972487 1.00211348\n",
            "  1.00855304 0.99660625 0.90989542 0.98651831 1.02298833 0.99173789\n",
            "  1.04443011 1.01978855 1.01663808 0.99649525 0.98784161 1.05181685\n",
            "  1.01799812 1.01596227 1.01853439 1.03693435 0.97573434 0.9747756\n",
            "  1.06009308 1.00254032 1.01684968 1.02201708]\n",
            " [0.99733552 1.01529439 0.99796164 1.01443187 1.00977013 0.98828068\n",
            "  1.02842965 1.0132584  1.01425239 1.06249663 1.01702859 1.04101329\n",
            "  0.99042709 1.05205114 1.01300443 1.01258443 1.00021541 0.98134356\n",
            "  1.02058879 0.9973003  1.04622828 1.00560578 1.01033416 1.02786739\n",
            "  1.01228095 0.98770498 1.00506719 1.03059524 1.00265293 0.94540134\n",
            "  1.01068866 1.03109783 1.09620571 1.00693934 1.04650344 1.0539829\n",
            "  1.03444159 1.01549528 1.00026177 1.01794491 1.03666104 1.05130959\n",
            "  1.00564178 1.05328452 1.04288525 1.0117577  1.03311568 1.03348152\n",
            "  1.02841256 0.98130901 0.99089182 0.99516268 1.03869512 0.97219361\n",
            "  1.0099174  1.02278607 0.94816303 1.00444146 1.00969112 1.04418394\n",
            "  0.99268394 1.02521012 1.07326942 1.03236153 1.00743908 1.02935783\n",
            "  1.03723602 1.02163726 1.01175472 0.99154573 1.0073405  1.05309237\n",
            "  1.0352807  1.01880991 1.01997895 1.03444592 1.01972487 1.00211348\n",
            "  1.00855304 0.99660625 0.90989542 0.98651831 1.02298833 0.99173789\n",
            "  1.04443011 1.01978855 1.01663808 0.99649525 0.98784161 1.05181685\n",
            "  1.01799812 1.01596227 1.01853439 1.03693435 0.97573434 0.9747756\n",
            "  1.06009308 1.00254032 1.01684968 1.02201708]\n",
            " [0.99733552 1.01529439 0.99796164 1.01443187 1.00977013 0.98828068\n",
            "  1.02842965 1.0132584  1.01425239 1.06249663 1.01702859 1.04101329\n",
            "  0.99042709 1.05205114 1.01300443 1.01258443 1.00021541 0.98134356\n",
            "  1.02058879 0.9973003  1.04622828 1.00560578 1.01033416 1.02786739\n",
            "  1.01228095 0.98770498 1.00506719 1.03059524 1.00265293 0.94540134\n",
            "  1.01068866 1.03109783 1.09620571 1.00693934 1.04650344 1.0539829\n",
            "  1.03444159 1.01549528 1.00026177 1.01794491 1.03666104 1.05130959\n",
            "  1.00564178 1.05328452 1.04288525 1.0117577  1.03311568 1.03348152\n",
            "  1.02841256 0.98130901 0.99089182 0.99516268 1.03869512 0.97219361\n",
            "  1.0099174  1.02278607 0.94816303 1.00444146 1.00969112 1.04418394\n",
            "  0.99268394 1.02521012 1.07326942 1.03236153 1.00743908 1.02935783\n",
            "  1.03723602 1.02163726 1.01175472 0.99154573 1.0073405  1.05309237\n",
            "  1.0352807  1.01880991 1.01997895 1.03444592 1.01972487 1.00211348\n",
            "  1.00855304 0.99660625 0.90989542 0.98651831 1.02298833 0.99173789\n",
            "  1.04443011 1.01978855 1.01663808 0.99649525 0.98784161 1.05181685\n",
            "  1.01799812 1.01596227 1.01853439 1.03693435 0.97573434 0.9747756\n",
            "  1.06009308 1.00254032 1.01684968 1.02201708]\n",
            " [0.99733552 1.01529439 0.99796164 1.01443187 1.00977013 0.98828068\n",
            "  1.02842965 1.0132584  1.01425239 1.06249663 1.01702859 1.04101329\n",
            "  0.99042709 1.05205114 1.01300443 1.01258443 1.00021541 0.98134356\n",
            "  1.02058879 0.9973003  1.04622828 1.00560578 1.01033416 1.02786739\n",
            "  1.01228095 0.98770498 1.00506719 1.03059524 1.00265293 0.94540134\n",
            "  1.01068866 1.03109783 1.09620571 1.00693934 1.04650344 1.0539829\n",
            "  1.03444159 1.01549528 1.00026177 1.01794491 1.03666104 1.05130959\n",
            "  1.00564178 1.05328452 1.04288525 1.0117577  1.03311568 1.03348152\n",
            "  1.02841256 0.98130901 0.99089182 0.99516268 1.03869512 0.97219361\n",
            "  1.0099174  1.02278607 0.94816303 1.00444146 1.00969112 1.04418394\n",
            "  0.99268394 1.02521012 1.07326942 1.03236153 1.00743908 1.02935783\n",
            "  1.03723602 1.02163726 1.01175472 0.99154573 1.0073405  1.05309237\n",
            "  1.0352807  1.01880991 1.01997895 1.03444592 1.01972487 1.00211348\n",
            "  1.00855304 0.99660625 0.90989542 0.98651831 1.02298833 0.99173789\n",
            "  1.04443011 1.01978855 1.01663808 0.99649525 0.98784161 1.05181685\n",
            "  1.01799812 1.01596227 1.01853439 1.03693435 0.97573434 0.9747756\n",
            "  1.06009308 1.00254032 1.01684968 1.02201708]\n",
            " [0.99733552 1.01529439 0.99796164 1.01443187 1.00977013 0.98828068\n",
            "  1.02842965 1.0132584  1.01425239 1.06249663 1.01702859 1.04101329\n",
            "  0.99042709 1.05205114 1.01300443 1.01258443 1.00021541 0.98134356\n",
            "  1.02058879 0.9973003  1.04622828 1.00560578 1.01033416 1.02786739\n",
            "  1.01228095 0.98770498 1.00506719 1.03059524 1.00265293 0.94540134\n",
            "  1.01068866 1.03109783 1.09620571 1.00693934 1.04650344 1.0539829\n",
            "  1.03444159 1.01549528 1.00026177 1.01794491 1.03666104 1.05130959\n",
            "  1.00564178 1.05328452 1.04288525 1.0117577  1.03311568 1.03348152\n",
            "  1.02841256 0.98130901 0.99089182 0.99516268 1.03869512 0.97219361\n",
            "  1.0099174  1.02278607 0.94816303 1.00444146 1.00969112 1.04418394\n",
            "  0.99268394 1.02521012 1.07326942 1.03236153 1.00743908 1.02935783\n",
            "  1.03723602 1.02163726 1.01175472 0.99154573 1.0073405  1.05309237\n",
            "  1.0352807  1.01880991 1.01997895 1.03444592 1.01972487 1.00211348\n",
            "  1.00855304 0.99660625 0.90989542 0.98651831 1.02298833 0.99173789\n",
            "  1.04443011 1.01978855 1.01663808 0.99649525 0.98784161 1.05181685\n",
            "  1.01799812 1.01596227 1.01853439 1.03693435 0.97573434 0.9747756\n",
            "  1.06009308 1.00254032 1.01684968 1.02201708]]\n"
          ]
        }
      ]
    },
    {
      "cell_type": "markdown",
      "source": [
        "**My own example 118**"
      ],
      "metadata": {
        "id": "tsleR0OZ14N6"
      }
    },
    {
      "cell_type": "code",
      "source": [
        "A = np.array([\n",
        "        [1, 2, 3, 12, 6],\n",
        "        [4, 5, 6, 15, 20],\n",
        "        [7, 8, 9, 10, 10]        \n",
        "    ])\n",
        "B = np.array([\n",
        "        [4, 5, 2],\n",
        "        [2, 3, 8],\n",
        "        [6, 5, 8],\n",
        "        [9, 8, 9]\n",
        "    ])\n",
        "\n",
        "o=np.dot(B, A)\n",
        "print(o)"
      ],
      "metadata": {
        "colab": {
          "base_uri": "https://localhost:8080/"
        },
        "id": "OB2RTAVG2O3D",
        "outputId": "97f2a75c-2b4a-4975-8125-d60e40afffc8"
      },
      "execution_count": null,
      "outputs": [
        {
          "output_type": "stream",
          "name": "stdout",
          "text": [
            "[[ 38  49  60 143 144]\n",
            " [ 70  83  96 149 152]\n",
            " [ 82 101 120 227 216]\n",
            " [104 130 156 318 304]]\n"
          ]
        }
      ]
    },
    {
      "cell_type": "markdown",
      "source": [
        "**My own example 119**"
      ],
      "metadata": {
        "id": "Qj-3-gMM14VJ"
      }
    },
    {
      "cell_type": "code",
      "source": [
        "print(np.transpose(o))"
      ],
      "metadata": {
        "colab": {
          "base_uri": "https://localhost:8080/"
        },
        "id": "8rFj480T2P-_",
        "outputId": "cd86786b-0144-4b5d-89e0-830352f73b22"
      },
      "execution_count": null,
      "outputs": [
        {
          "output_type": "stream",
          "name": "stdout",
          "text": [
            "[[ 38  70  82 104]\n",
            " [ 49  83 101 130]\n",
            " [ 60  96 120 156]\n",
            " [143 149 227 318]\n",
            " [144 152 216 304]]\n"
          ]
        }
      ]
    },
    {
      "cell_type": "markdown",
      "source": [
        "**My own example 120**"
      ],
      "metadata": {
        "id": "wx8QfAHT14dY"
      }
    },
    {
      "cell_type": "code",
      "source": [
        "print(np.transpose(B))"
      ],
      "metadata": {
        "colab": {
          "base_uri": "https://localhost:8080/"
        },
        "id": "UVTR7E-W2Qz9",
        "outputId": "7d9b57be-f078-4f2d-a1e2-fc67b5dbf786"
      },
      "execution_count": null,
      "outputs": [
        {
          "output_type": "stream",
          "name": "stdout",
          "text": [
            "[[4 2 6 9]\n",
            " [5 3 5 8]\n",
            " [2 8 8 9]]\n"
          ]
        }
      ]
    },
    {
      "cell_type": "markdown",
      "source": [
        "#QuantopianLecture 4"
      ],
      "metadata": {
        "id": "JTp63EEr2RCH"
      }
    },
    {
      "cell_type": "markdown",
      "source": [
        "**My own example 121**"
      ],
      "metadata": {
        "id": "JbInq0AN17SA"
      }
    },
    {
      "cell_type": "code",
      "source": [
        "import pandas as pd\n",
        "import matplotlib.pyplot as plt\n",
        "returns = pd.DataFrame(np.random.normal(1.0, 0.03, (500, 5)))\n",
        "precios = returns.cumprod()\n",
        "precios.plot()\n",
        "plt.title('variacion de precios')\n",
        "plt.xlabel('tiempo')\n",
        "plt.ylabel('precios')\n",
        "plt.legend(loc=0);"
      ],
      "metadata": {
        "colab": {
          "base_uri": "https://localhost:8080/"
        },
        "id": "Z94GJiq92Wa-",
        "outputId": "94243f04-311f-471c-c3da-4f5eda17e4be"
      },
      "execution_count": null,
      "outputs": [
        {
          "output_type": "display_data",
          "data": {
            "text/plain": [
              "<Figure size 432x288 with 1 Axes>"
            ],
            "image/png": "[encoded data removed]"
          },
          "metadata": {
            "needs_background": "light"
          }
        }
      ]
    },
    {
      "cell_type": "markdown",
      "source": [
        "**My own example 122**"
      ],
      "metadata": {
        "id": "j6AC352h17XJ"
      }
    },
    {
      "cell_type": "code",
      "source": [
        "asas = pd.Series([1, 2, np.nan, 4, 5])\n",
        "print (asas)"
      ],
      "metadata": {
        "colab": {
          "base_uri": "https://localhost:8080/"
        },
        "id": "gHKFIWrb2X0r",
        "outputId": "e297b8f0-dff2-428b-b93d-c69410456d72"
      },
      "execution_count": null,
      "outputs": [
        {
          "output_type": "stream",
          "name": "stdout",
          "text": [
            "0    1.0\n",
            "1    2.0\n",
            "2    NaN\n",
            "3    4.0\n",
            "4    5.0\n",
            "dtype: float64\n"
          ]
        }
      ]
    },
    {
      "cell_type": "markdown",
      "source": [
        "**My own example 123**"
      ],
      "metadata": {
        "id": "WvH7L-a617ch"
      }
    },
    {
      "cell_type": "code",
      "source": [
        "print (asas.name)\n",
        "asas.name = \"series\"\n",
        "print( asas.name)"
      ],
      "metadata": {
        "colab": {
          "base_uri": "https://localhost:8080/"
        },
        "id": "AyEdCSdN2ZL-",
        "outputId": "b9f897e3-ffef-439a-c1e7-debbfef21f1f"
      },
      "execution_count": null,
      "outputs": [
        {
          "output_type": "stream",
          "name": "stdout",
          "text": [
            "None\n",
            "series\n"
          ]
        }
      ]
    },
    {
      "cell_type": "markdown",
      "source": [
        "**My own example 124**"
      ],
      "metadata": {
        "id": "ObCnTqS217i8"
      }
    },
    {
      "cell_type": "code",
      "source": [
        "print( \"primer elemento de la serie: \", asas.iloc[0])\n",
        "print( \"ultimo elemento de la tabla: \", asas.iloc[len(asas)-1])"
      ],
      "metadata": {
        "colab": {
          "base_uri": "https://localhost:8080/"
        },
        "id": "4aPPitU22aa-",
        "outputId": "82cb51c6-5449-4116-9ccd-8df5f66f53b4"
      },
      "execution_count": null,
      "outputs": [
        {
          "output_type": "stream",
          "name": "stdout",
          "text": [
            "primer elemento de la serie:  1.0\n",
            "ultimo elemento de la tabla:  5.0\n"
          ]
        }
      ]
    },
    {
      "cell_type": "markdown",
      "source": [
        "**My own example 125**"
      ],
      "metadata": {
        "id": "mJKLNBNA17oR"
      }
    },
    {
      "cell_type": "code",
      "source": [
        "asas.loc[1]"
      ],
      "metadata": {
        "colab": {
          "base_uri": "https://localhost:8080/"
        },
        "id": "dk4iOG3v2bK-",
        "outputId": "545aa977-f3cb-47b7-f60e-06e841d1823a"
      },
      "execution_count": null,
      "outputs": [
        {
          "output_type": "execute_result",
          "data": {
            "text/plain": [
              "2.0"
            ]
          },
          "metadata": {},
          "execution_count": 125
        }
      ]
    },
    {
      "cell_type": "markdown",
      "source": [
        "**My own example 126**"
      ],
      "metadata": {
        "id": "A2YBIuc217tp"
      }
    },
    {
      "cell_type": "code",
      "source": [
        "serie1 = pd.Series([54,578,8,74,4,87,24,8,1,94,1,84,1,84,7,897,54,8,879,11])\n",
        "print (serie1)"
      ],
      "metadata": {
        "colab": {
          "base_uri": "https://localhost:8080/"
        },
        "id": "6x8J836L2cC-",
        "outputId": "a91cd2fb-86ad-43ed-85aa-f28e87100dc8"
      },
      "execution_count": null,
      "outputs": [
        {
          "output_type": "stream",
          "name": "stdout",
          "text": [
            "0      54\n",
            "1     578\n",
            "2       8\n",
            "3      74\n",
            "4       4\n",
            "5      87\n",
            "6      24\n",
            "7       8\n",
            "8       1\n",
            "9      94\n",
            "10      1\n",
            "11     84\n",
            "12      1\n",
            "13     84\n",
            "14      7\n",
            "15    897\n",
            "16     54\n",
            "17      8\n",
            "18    879\n",
            "19     11\n",
            "dtype: int64\n"
          ]
        }
      ]
    },
    {
      "cell_type": "markdown",
      "source": [
        "**My own example 127**"
      ],
      "metadata": {
        "id": "9qJAR32T17zo"
      }
    },
    {
      "cell_type": "code",
      "source": [
        "print( \"primer elemento de la serie: \", serie1.iloc[0])\n",
        "print( \"ultimo elemento de la tabla: \", serie1.iloc[len(serie1)-1])"
      ],
      "metadata": {
        "colab": {
          "base_uri": "https://localhost:8080/"
        },
        "id": "zj371Uqm2dO9",
        "outputId": "e89efe82-de3f-444e-c6f1-66c5a650eb76"
      },
      "execution_count": null,
      "outputs": [
        {
          "output_type": "stream",
          "name": "stdout",
          "text": [
            "primer elemento de la serie:  54\n",
            "ultimo elemento de la tabla:  11\n"
          ]
        }
      ]
    },
    {
      "cell_type": "markdown",
      "source": [
        "**My own example 128**"
      ],
      "metadata": {
        "id": "1Ycauuk-179O"
      }
    },
    {
      "cell_type": "code",
      "source": [
        "serie1.loc[10:19]"
      ],
      "metadata": {
        "colab": {
          "base_uri": "https://localhost:8080/"
        },
        "id": "dV35XmL52epF",
        "outputId": "1b8a5e24-8994-453d-9b91-4336b86bbeb9"
      },
      "execution_count": null,
      "outputs": [
        {
          "output_type": "execute_result",
          "data": {
            "text/plain": [
              "10      1\n",
              "11     84\n",
              "12      1\n",
              "13     84\n",
              "14      7\n",
              "15    897\n",
              "16     54\n",
              "17      8\n",
              "18    879\n",
              "19     11\n",
              "dtype: int64"
            ]
          },
          "metadata": {},
          "execution_count": 128
        }
      ]
    },
    {
      "cell_type": "markdown",
      "source": [
        "**My own example 129**"
      ],
      "metadata": {
        "id": "8Yjh-5gV18OP"
      }
    },
    {
      "cell_type": "code",
      "source": [
        "serie1.loc[1:19]"
      ],
      "metadata": {
        "colab": {
          "base_uri": "https://localhost:8080/"
        },
        "id": "1JlJV0_z2gOY",
        "outputId": "f722c02d-2224-4dcb-a5a3-872d5246cf34"
      },
      "execution_count": null,
      "outputs": [
        {
          "output_type": "execute_result",
          "data": {
            "text/plain": [
              "1     578\n",
              "2       8\n",
              "3      74\n",
              "4       4\n",
              "5      87\n",
              "6      24\n",
              "7       8\n",
              "8       1\n",
              "9      94\n",
              "10      1\n",
              "11     84\n",
              "12      1\n",
              "13     84\n",
              "14      7\n",
              "15    897\n",
              "16     54\n",
              "17      8\n",
              "18    879\n",
              "19     11\n",
              "dtype: int64"
            ]
          },
          "metadata": {},
          "execution_count": 129
        }
      ]
    },
    {
      "cell_type": "markdown",
      "source": [
        "**My own example 130**"
      ],
      "metadata": {
        "id": "Kwa4hD8718PR"
      }
    },
    {
      "cell_type": "code",
      "source": [
        "print (serie1 < 10)"
      ],
      "metadata": {
        "colab": {
          "base_uri": "https://localhost:8080/"
        },
        "id": "E2nGotP02hOf",
        "outputId": "c590f71e-f2d8-4135-81b4-d0067f2b6478"
      },
      "execution_count": null,
      "outputs": [
        {
          "output_type": "stream",
          "name": "stdout",
          "text": [
            "0     False\n",
            "1     False\n",
            "2      True\n",
            "3     False\n",
            "4      True\n",
            "5     False\n",
            "6     False\n",
            "7      True\n",
            "8      True\n",
            "9     False\n",
            "10     True\n",
            "11    False\n",
            "12     True\n",
            "13    False\n",
            "14     True\n",
            "15    False\n",
            "16    False\n",
            "17     True\n",
            "18    False\n",
            "19    False\n",
            "dtype: bool\n"
          ]
        }
      ]
    },
    {
      "cell_type": "markdown",
      "source": [
        "**My own example 131**"
      ],
      "metadata": {
        "id": "0xgm93KK1-jO"
      }
    },
    {
      "cell_type": "code",
      "source": [
        "print (serie1.loc[serie1 < 10])"
      ],
      "metadata": {
        "colab": {
          "base_uri": "https://localhost:8080/"
        },
        "id": "Ah6I18Kf2icV",
        "outputId": "058de824-b20d-45f4-d5e6-1d77191c3e42"
      },
      "execution_count": null,
      "outputs": [
        {
          "output_type": "stream",
          "name": "stdout",
          "text": [
            "2     8\n",
            "4     4\n",
            "7     8\n",
            "8     1\n",
            "10    1\n",
            "12    1\n",
            "14    7\n",
            "17    8\n",
            "dtype: int64\n"
          ]
        }
      ]
    },
    {
      "cell_type": "markdown",
      "source": [
        "**My own example 132**"
      ],
      "metadata": {
        "id": "rMWpPtY31-oQ"
      }
    },
    {
      "cell_type": "code",
      "source": [
        "dict_data = {\n",
        "    'a' : [1, 2, 3, 4, 5],\n",
        "    'b' : ['L', 'K', 'J', 'M', 'Z'],\n",
        "    'c' : np.random.normal(0, 1, 5)\n",
        "}\n",
        "frame_data = pd.DataFrame(dict_data, index=pd.date_range('2023-02-20', periods=5))\n",
        "print (frame_data)"
      ],
      "metadata": {
        "colab": {
          "base_uri": "https://localhost:8080/"
        },
        "id": "_RQSLTYT2jkn",
        "outputId": "525116a7-ae51-4157-88a0-0d9910348ded"
      },
      "execution_count": null,
      "outputs": [
        {
          "output_type": "stream",
          "name": "stdout",
          "text": [
            "            a  b         c\n",
            "2023-02-20  1  L -2.115235\n",
            "2023-02-21  2  K -1.971994\n",
            "2023-02-22  3  J -0.920043\n",
            "2023-02-23  4  M -0.921618\n",
            "2023-02-24  5  Z  0.544687\n"
          ]
        }
      ]
    },
    {
      "cell_type": "markdown",
      "source": [
        "**My own example 133**"
      ],
      "metadata": {
        "id": "ljj5FhXg1-uP"
      }
    },
    {
      "cell_type": "code",
      "source": [
        "s_1 = pd.Series([2, 4, 6, 8, 10], name='nicolas')\n",
        "s_2 = pd.Series([1, 3, 5, 7, 9], name=\"eduardo\")\n",
        "numeros = pd.concat([s_1, s_2], axis=1)\n",
        "print (numeros)"
      ],
      "metadata": {
        "colab": {
          "base_uri": "https://localhost:8080/"
        },
        "id": "U0bibLpW2k2Q",
        "outputId": "519fc98c-1199-46fd-bcbe-d8b87cc831be"
      },
      "execution_count": null,
      "outputs": [
        {
          "output_type": "stream",
          "name": "stdout",
          "text": [
            "   nicolas  eduardo\n",
            "0        2        1\n",
            "1        4        3\n",
            "2        6        5\n",
            "3        8        7\n",
            "4       10        9\n"
          ]
        }
      ]
    },
    {
      "cell_type": "markdown",
      "source": [
        "**My own example 134**"
      ],
      "metadata": {
        "id": "DLr4NiTe1-zY"
      }
    },
    {
      "cell_type": "code",
      "source": [
        "numeros.values"
      ],
      "metadata": {
        "colab": {
          "base_uri": "https://localhost:8080/"
        },
        "id": "5t2lPfi32lsJ",
        "outputId": "1e86ad34-581b-49d4-88ca-9b686e44b5f8"
      },
      "execution_count": null,
      "outputs": [
        {
          "output_type": "execute_result",
          "data": {
            "text/plain": [
              "array([[ 2,  1],\n",
              "       [ 4,  3],\n",
              "       [ 6,  5],\n",
              "       [ 8,  7],\n",
              "       [10,  9]])"
            ]
          },
          "metadata": {},
          "execution_count": 134
        }
      ]
    },
    {
      "cell_type": "markdown",
      "source": [
        "**My own example 135**"
      ],
      "metadata": {
        "id": "oqNpy_vV1-4N"
      }
    },
    {
      "cell_type": "code",
      "source": [
        "cq = pd.DataFrame(np.random.normal(1.0, 0.9, (100, 10)))\n",
        "prices = cq.cumprod()\n",
        "prices.plot()\n",
        "plt.title('pe')\n",
        "plt.xlabel('tiempo')\n",
        "plt.ylabel('precio')\n",
        "plt.legend(loc=0);"
      ],
      "metadata": {
        "colab": {
          "base_uri": "https://localhost:8080/"
        },
        "id": "145MaDRn2n5U",
        "outputId": "2f8e447f-fc20-4b46-8645-71f1d7381093"
      },
      "execution_count": null,
      "outputs": [
        {
          "output_type": "display_data",
          "data": {
            "text/plain": [
              "<Figure size 432x288 with 1 Axes>"
            ],
            "image/png": "[encoded data removed]"
          },
          "metadata": {
            "needs_background": "light"
          }
        }
      ]
    },
    {
      "cell_type": "markdown",
      "source": [
        "**My own example 136**"
      ],
      "metadata": {
        "id": "z-DHf4Ju1_BY"
      }
    },
    {
      "cell_type": "code",
      "source": [
        "y = {\n",
        "    'a' : [98,98.29,89],\n",
        "    'b' : ['L', 'K', 'J'],\n",
        "    'c' : np.random.normal(0, 1, 3)\n",
        "}\n",
        "frame_data = pd.DataFrame(y, index=pd.date_range('2023-02-20', periods=3))\n",
        "print (frame_data)"
      ],
      "metadata": {
        "colab": {
          "base_uri": "https://localhost:8080/"
        },
        "id": "9pbnGRVF2sxd",
        "outputId": "47e31b6d-050c-4bbf-981a-f08e7c453899"
      },
      "execution_count": null,
      "outputs": [
        {
          "output_type": "stream",
          "name": "stdout",
          "text": [
            "                a  b         c\n",
            "2023-02-20  98.00  L -0.130079\n",
            "2023-02-21  98.29  K  0.930482\n",
            "2023-02-22  89.00  J -0.988110\n"
          ]
        }
      ]
    },
    {
      "cell_type": "markdown",
      "source": [
        "**My own example 137**"
      ],
      "metadata": {
        "id": "WIQoo1111_QO"
      }
    },
    {
      "cell_type": "code",
      "source": [
        "asd = pd.Series([5,57,8,5,5,787,4,4,87,84,8,71,8,7,18,4,8,4,87])\n",
        "print (asd)"
      ],
      "metadata": {
        "colab": {
          "base_uri": "https://localhost:8080/"
        },
        "id": "jJLwbbWT2vGm",
        "outputId": "b9bc7a17-938d-4f6d-c8e9-4d459e03fee3"
      },
      "execution_count": null,
      "outputs": [
        {
          "output_type": "stream",
          "name": "stdout",
          "text": [
            "0       5\n",
            "1      57\n",
            "2       8\n",
            "3       5\n",
            "4       5\n",
            "5     787\n",
            "6       4\n",
            "7       4\n",
            "8      87\n",
            "9      84\n",
            "10      8\n",
            "11     71\n",
            "12      8\n",
            "13      7\n",
            "14     18\n",
            "15      4\n",
            "16      8\n",
            "17      4\n",
            "18     87\n",
            "dtype: int64\n"
          ]
        }
      ]
    },
    {
      "cell_type": "markdown",
      "source": [
        "**My own example 138**"
      ],
      "metadata": {
        "id": "vVaKnUHX1_Ra"
      }
    },
    {
      "cell_type": "code",
      "source": [
        "print (asd.loc[asd < 5])"
      ],
      "metadata": {
        "colab": {
          "base_uri": "https://localhost:8080/"
        },
        "id": "lPzTQENU2wQF",
        "outputId": "51f1fbc0-99de-4f75-ce52-9f1a6e9d0e94"
      },
      "execution_count": null,
      "outputs": [
        {
          "output_type": "stream",
          "name": "stdout",
          "text": [
            "6     4\n",
            "7     4\n",
            "15    4\n",
            "17    4\n",
            "dtype: int64\n"
          ]
        }
      ]
    },
    {
      "cell_type": "markdown",
      "source": [
        "**My own example 139**"
      ],
      "metadata": {
        "id": "p8wfN85k1_Sr"
      }
    },
    {
      "cell_type": "code",
      "source": [
        "print (asd.loc[asd < 89])"
      ],
      "metadata": {
        "colab": {
          "base_uri": "https://localhost:8080/"
        },
        "id": "9RQcu_mV2xwC",
        "outputId": "e9db4f16-4477-4e55-f2be-bfecea3ea4e9"
      },
      "execution_count": null,
      "outputs": [
        {
          "output_type": "stream",
          "name": "stdout",
          "text": [
            "0      5\n",
            "1     57\n",
            "2      8\n",
            "3      5\n",
            "4      5\n",
            "6      4\n",
            "7      4\n",
            "8     87\n",
            "9     84\n",
            "10     8\n",
            "11    71\n",
            "12     8\n",
            "13     7\n",
            "14    18\n",
            "15     4\n",
            "16     8\n",
            "17     4\n",
            "18    87\n",
            "dtype: int64\n"
          ]
        }
      ]
    },
    {
      "cell_type": "markdown",
      "source": [
        "**My own example 140**"
      ],
      "metadata": {
        "id": "WuyWszhp1_T8"
      }
    },
    {
      "cell_type": "code",
      "source": [
        "qeqw = pd.DataFrame(np.random.normal(1.0, 0.09, (50, 10)))\n",
        "prices = qeqw.cumprod()\n",
        "prices.plot()\n",
        "plt.title('qeqw')\n",
        "plt.xlabel('tiempo')\n",
        "plt.ylabel('precio')\n",
        "plt.legend(loc=0);"
      ],
      "metadata": {
        "colab": {
          "base_uri": "https://localhost:8080/"
        },
        "id": "pACa7ZNZ2zG6",
        "outputId": "05eeb4ea-0c00-49c9-b535-41fe6bc44f26"
      },
      "execution_count": null,
      "outputs": [
        {
          "output_type": "display_data",
          "data": {
            "text/plain": [
              "<Figure size 432x288 with 1 Axes>"
            ],
            "image/png": "[encoded data removed]"
          },
          "metadata": {
            "needs_background": "light"
          }
        }
      ]
    },
    {
      "cell_type": "markdown",
      "source": [
        "#Quanconnect Tutorial 4 NumPy "
      ],
      "metadata": {
        "id": "MI3COIVd2zU7"
      }
    },
    {
      "cell_type": "markdown",
      "source": [
        "**My own example 141**"
      ],
      "metadata": {
        "id": "EXJ4Rwqx2CEM"
      }
    },
    {
      "cell_type": "code",
      "source": [
        "e = np.array([[1,8,5,8],[8,8,8,8]])\n",
        "print(e, type(e))"
      ],
      "metadata": {
        "colab": {
          "base_uri": "https://localhost:8080/"
        },
        "id": "M3aaCaLA29-E",
        "outputId": "89c65dd5-2121-48db-af03-6412ca9f9b37"
      },
      "execution_count": null,
      "outputs": [
        {
          "output_type": "stream",
          "name": "stdout",
          "text": [
            "[[1 8 5 8]\n",
            " [8 8 8 8]] <class 'numpy.ndarray'>\n"
          ]
        }
      ]
    },
    {
      "cell_type": "markdown",
      "source": [
        "**My own example 142**"
      ],
      "metadata": {
        "id": "v6nm8c6p2CFX"
      }
    },
    {
      "cell_type": "code",
      "source": [
        "precio = [4,8,5,8,9,8,39]\n",
        "precio = pd.Series(precio)\n",
        "precio"
      ],
      "metadata": {
        "colab": {
          "base_uri": "https://localhost:8080/"
        },
        "id": "uY5KgKyq3JlN",
        "outputId": "aa3f8d44-c6eb-400b-b886-418f194f50cc"
      },
      "execution_count": null,
      "outputs": [
        {
          "output_type": "execute_result",
          "data": {
            "text/plain": [
              "0     4\n",
              "1     8\n",
              "2     5\n",
              "3     8\n",
              "4     9\n",
              "5     8\n",
              "6    39\n",
              "dtype: int64"
            ]
          },
          "metadata": {},
          "execution_count": 142
        }
      ]
    },
    {
      "cell_type": "markdown",
      "source": [
        "**My own example 143**"
      ],
      "metadata": {
        "id": "xhhE1WdA2CPe"
      }
    },
    {
      "cell_type": "code",
      "source": [
        "precio.index = [7,6,5,4,3,2,1]\n",
        "precio"
      ],
      "metadata": {
        "colab": {
          "base_uri": "https://localhost:8080/"
        },
        "id": "LAWciXmT3K0X",
        "outputId": "b9b8c27f-7634-42c0-dd83-cc11a39ec3af"
      },
      "execution_count": null,
      "outputs": [
        {
          "output_type": "execute_result",
          "data": {
            "text/plain": [
              "7     4\n",
              "6     8\n",
              "5     5\n",
              "4     8\n",
              "3     9\n",
              "2     8\n",
              "1    39\n",
              "dtype: int64"
            ]
          },
          "metadata": {},
          "execution_count": 143
        }
      ]
    },
    {
      "cell_type": "markdown",
      "source": [
        "**My own example 144**"
      ],
      "metadata": {
        "id": "APspB0fr2Cai"
      }
    },
    {
      "cell_type": "code",
      "source": [
        "print(precio[1:])"
      ],
      "metadata": {
        "colab": {
          "base_uri": "https://localhost:8080/"
        },
        "id": "x8M6zHSu3L9V",
        "outputId": "6170b582-9682-460d-aa0d-c23945921f35"
      },
      "execution_count": null,
      "outputs": [
        {
          "output_type": "stream",
          "name": "stdout",
          "text": [
            "6     8\n",
            "5     5\n",
            "4     8\n",
            "3     9\n",
            "2     8\n",
            "1    39\n",
            "dtype: int64\n"
          ]
        }
      ]
    },
    {
      "cell_type": "markdown",
      "source": [
        "**My own example 145**"
      ],
      "metadata": {
        "id": "jskXpuyk2Cg9"
      }
    },
    {
      "cell_type": "code",
      "source": [
        "print(precio[:-2])"
      ],
      "metadata": {
        "colab": {
          "base_uri": "https://localhost:8080/"
        },
        "id": "wM_jdsAX3M20",
        "outputId": "b643db99-7238-4ed3-bba9-6fd1195a0672"
      },
      "execution_count": null,
      "outputs": [
        {
          "output_type": "stream",
          "name": "stdout",
          "text": [
            "7    4\n",
            "6    8\n",
            "5    5\n",
            "4    8\n",
            "3    9\n",
            "dtype: int64\n"
          ]
        }
      ]
    },
    {
      "cell_type": "markdown",
      "source": [
        "**My own example 146**"
      ],
      "metadata": {
        "id": "vOfwfott2Cqp"
      }
    },
    {
      "cell_type": "code",
      "source": [
        "print(precio[4])\n",
        "precio[4] = 98\n",
        "print(precio)"
      ],
      "metadata": {
        "colab": {
          "base_uri": "https://localhost:8080/"
        },
        "id": "01h9L1DH3Q9L",
        "outputId": "c7266a21-6267-421b-8892-1fbf46b3c35c"
      },
      "execution_count": null,
      "outputs": [
        {
          "output_type": "stream",
          "name": "stdout",
          "text": [
            "8\n",
            "7     4\n",
            "6     8\n",
            "5     5\n",
            "4    98\n",
            "3     9\n",
            "2     8\n",
            "1    39\n",
            "dtype: int64\n"
          ]
        }
      ]
    },
    {
      "cell_type": "markdown",
      "source": [
        "**My own example 147**"
      ],
      "metadata": {
        "id": "zjSd242Z2C4-"
      }
    },
    {
      "cell_type": "code",
      "source": [
        "precio = pd.Series(precio, name = 'precio de huevo')\n",
        "print(precio)\n",
        "print(precio.name)"
      ],
      "metadata": {
        "colab": {
          "base_uri": "https://localhost:8080/"
        },
        "id": "dS_up4ko3OeW",
        "outputId": "d391e16b-b859-4637-a446-f0e47e755948"
      },
      "execution_count": null,
      "outputs": [
        {
          "output_type": "stream",
          "name": "stdout",
          "text": [
            "7     4\n",
            "6     8\n",
            "5     5\n",
            "4    98\n",
            "3     9\n",
            "2     8\n",
            "1    39\n",
            "Name: precio de huevo, dtype: int64\n",
            "precio de huevo\n"
          ]
        }
      ]
    },
    {
      "cell_type": "markdown",
      "source": [
        "**My own example 148**"
      ],
      "metadata": {
        "id": "ckZKGamM2C6H"
      }
    },
    {
      "cell_type": "code",
      "source": [
        "print(precio[precio < np.mean(precio)] )\n",
        "print([(precio > np.mean(precio)) & (precio < np.mean(precio) + .8*np.std(precio))])"
      ],
      "metadata": {
        "colab": {
          "base_uri": "https://localhost:8080/"
        },
        "id": "Xx3mL6V43SZS",
        "outputId": "9cae9bde-d0b7-48f7-911d-41188514617e"
      },
      "execution_count": null,
      "outputs": [
        {
          "output_type": "stream",
          "name": "stdout",
          "text": [
            "7    4\n",
            "6    8\n",
            "5    5\n",
            "3    9\n",
            "2    8\n",
            "Name: precio de huevo, dtype: int64\n",
            "[7    False\n",
            "6    False\n",
            "5    False\n",
            "4    False\n",
            "3    False\n",
            "2    False\n",
            "1     True\n",
            "Name: precio de huevo, dtype: bool]\n"
          ]
        }
      ]
    },
    {
      "cell_type": "markdown",
      "source": [
        "**My own example 149**"
      ],
      "metadata": {
        "id": "ygPy5AAv2C7F"
      }
    },
    {
      "cell_type": "code",
      "source": [
        "es = np.array([[11.8,83,55,85],[82,821,38,84]])\n",
        "print(es, type(es))"
      ],
      "metadata": {
        "colab": {
          "base_uri": "https://localhost:8080/"
        },
        "id": "_RIToE933dbZ",
        "outputId": "fb0f6cdd-a23b-4ba1-9e33-41c1d2d4a476"
      },
      "execution_count": null,
      "outputs": [
        {
          "output_type": "stream",
          "name": "stdout",
          "text": [
            "[[ 11.8  83.   55.   85. ]\n",
            " [ 82.  821.   38.   84. ]] <class 'numpy.ndarray'>\n"
          ]
        }
      ]
    },
    {
      "cell_type": "markdown",
      "source": [
        "**My own example 150**"
      ],
      "metadata": {
        "id": "DkvgAEeQ2C8y"
      }
    },
    {
      "cell_type": "code",
      "source": [
        "es = np.array([[11,83,55,85],[82,821,38,84]])\n",
        "print(es, type(es))"
      ],
      "metadata": {
        "colab": {
          "base_uri": "https://localhost:8080/"
        },
        "id": "K9MGVGbD3gyr",
        "outputId": "f9ac8de6-6afe-44fa-986b-d37746db5fbf"
      },
      "execution_count": null,
      "outputs": [
        {
          "output_type": "stream",
          "name": "stdout",
          "text": [
            "[[ 11  83  55  85]\n",
            " [ 82 821  38  84]] <class 'numpy.ndarray'>\n"
          ]
        }
      ]
    },
    {
      "cell_type": "markdown",
      "source": [
        "**My own example 151**"
      ],
      "metadata": {
        "id": "2vvPG5ZI3hQS"
      }
    },
    {
      "cell_type": "code",
      "source": [
        "print(es[:1])"
      ],
      "metadata": {
        "colab": {
          "base_uri": "https://localhost:8080/"
        },
        "id": "koJfVBeh3j94",
        "outputId": "c42f7fbc-5f7e-4984-a3c6-3db5e6276855"
      },
      "execution_count": null,
      "outputs": [
        {
          "output_type": "stream",
          "name": "stdout",
          "text": [
            "[[11 83 55 85]]\n"
          ]
        }
      ]
    },
    {
      "cell_type": "markdown",
      "source": [
        "**My own example 152**"
      ],
      "metadata": {
        "id": "6CCMIEHO3hda"
      }
    },
    {
      "cell_type": "code",
      "source": [
        "print(es[0:2])"
      ],
      "metadata": {
        "colab": {
          "base_uri": "https://localhost:8080/"
        },
        "id": "bimehyaR3lKZ",
        "outputId": "c893ebea-175a-4bf5-84c2-b11ccc9e6884"
      },
      "execution_count": null,
      "outputs": [
        {
          "output_type": "stream",
          "name": "stdout",
          "text": [
            "[[ 11  83  55  85]\n",
            " [ 82 821  38  84]]\n"
          ]
        }
      ]
    },
    {
      "cell_type": "markdown",
      "source": [
        "**My own example 153**"
      ],
      "metadata": {
        "id": "9kFziUkc3huZ"
      }
    },
    {
      "cell_type": "code",
      "source": [
        "edad = [20,22,24,25,23,25,28,24,20,20,20]\n",
        "edad = pd.Series(edad)\n",
        "edad"
      ],
      "metadata": {
        "colab": {
          "base_uri": "https://localhost:8080/"
        },
        "id": "OrINNLta3noe",
        "outputId": "fc50c0aa-ff3c-4d07-b1bf-796725aa1665"
      },
      "execution_count": null,
      "outputs": [
        {
          "output_type": "execute_result",
          "data": {
            "text/plain": [
              "0     20\n",
              "1     22\n",
              "2     24\n",
              "3     25\n",
              "4     23\n",
              "5     25\n",
              "6     28\n",
              "7     24\n",
              "8     20\n",
              "9     20\n",
              "10    20\n",
              "dtype: int64"
            ]
          },
          "metadata": {},
          "execution_count": 153
        }
      ]
    },
    {
      "cell_type": "markdown",
      "source": [
        "**My own example 154**"
      ],
      "metadata": {
        "id": "RyliaZAA3h17"
      }
    },
    {
      "cell_type": "code",
      "source": [
        "edad.index = [\"juan\",\"fer\",\"juan\",\"mk\",\"pepe\",\"pol\",\"pio\",\"va\",\"vane\",\"pipe\",\"ana\"]\n",
        "edad"
      ],
      "metadata": {
        "colab": {
          "base_uri": "https://localhost:8080/"
        },
        "id": "PXESbW843mfF",
        "outputId": "0f28668f-8440-4fbe-a6b4-51f6a3eb1d99"
      },
      "execution_count": null,
      "outputs": [
        {
          "output_type": "execute_result",
          "data": {
            "text/plain": [
              "juan    20\n",
              "fer     22\n",
              "juan    24\n",
              "mk      25\n",
              "pepe    23\n",
              "pol     25\n",
              "pio     28\n",
              "va      24\n",
              "vane    20\n",
              "pipe    20\n",
              "ana     20\n",
              "dtype: int64"
            ]
          },
          "metadata": {},
          "execution_count": 154
        }
      ]
    },
    {
      "cell_type": "markdown",
      "source": [
        "**My own example 155**"
      ],
      "metadata": {
        "id": "JfBIMS7o3h9f"
      }
    },
    {
      "cell_type": "code",
      "source": [
        "edad = pd.Series(edad, name = 'edad de grupo')\n",
        "print(edad)\n",
        "print(edad.name)"
      ],
      "metadata": {
        "colab": {
          "base_uri": "https://localhost:8080/"
        },
        "id": "F-H28RYp3rEN",
        "outputId": "de6c8f9c-d60d-40c8-adca-c5ef159b7c3d"
      },
      "execution_count": null,
      "outputs": [
        {
          "output_type": "stream",
          "name": "stdout",
          "text": [
            "juan    20\n",
            "fer     22\n",
            "juan    24\n",
            "mk      25\n",
            "pepe    23\n",
            "pol     25\n",
            "pio     28\n",
            "va      24\n",
            "vane    20\n",
            "pipe    20\n",
            "ana     20\n",
            "Name: edad de grupo, dtype: int64\n",
            "edad de grupo\n"
          ]
        }
      ]
    },
    {
      "cell_type": "markdown",
      "source": [
        "**My own example 156**"
      ],
      "metadata": {
        "id": "b_a08ACv3iD8"
      }
    },
    {
      "cell_type": "code",
      "source": [
        "print(\"edad promedio de grupo\",np.mean(edad) )"
      ],
      "metadata": {
        "colab": {
          "base_uri": "https://localhost:8080/"
        },
        "id": "MsqLVQsO3sQw",
        "outputId": "58918ae4-fdc9-4f71-b6e1-4fbcc3bf23c3"
      },
      "execution_count": null,
      "outputs": [
        {
          "output_type": "stream",
          "name": "stdout",
          "text": [
            "edad promedio de grupo 22.818181818181817\n"
          ]
        }
      ]
    },
    {
      "cell_type": "markdown",
      "source": [
        "**My own example 157**"
      ],
      "metadata": {
        "id": "lk8O16cj3iK2"
      }
    },
    {
      "cell_type": "code",
      "source": [
        "print(\"menores que el promedio\",edad[edad < np.mean(edad)] )"
      ],
      "metadata": {
        "colab": {
          "base_uri": "https://localhost:8080/"
        },
        "id": "NdpsANtF3tM9",
        "outputId": "2cc964d0-d117-4934-93bf-65c100258e64"
      },
      "execution_count": null,
      "outputs": [
        {
          "output_type": "stream",
          "name": "stdout",
          "text": [
            "menores que el promedio juan    20\n",
            "fer     22\n",
            "vane    20\n",
            "pipe    20\n",
            "ana     20\n",
            "Name: edad de grupo, dtype: int64\n"
          ]
        }
      ]
    },
    {
      "cell_type": "markdown",
      "source": [
        "**My own example 158**"
      ],
      "metadata": {
        "id": "kTh14jq63iSH"
      }
    },
    {
      "cell_type": "code",
      "source": [
        "print(\"mayores que el promedio\", edad[edad > np.mean(edad)] )"
      ],
      "metadata": {
        "colab": {
          "base_uri": "https://localhost:8080/"
        },
        "id": "ZB2CTsYm3uY7",
        "outputId": "7c1ad469-8087-43fc-b3e2-28420fbb5d95"
      },
      "execution_count": null,
      "outputs": [
        {
          "output_type": "stream",
          "name": "stdout",
          "text": [
            "mayores que el promedio juan    24\n",
            "mk      25\n",
            "pepe    23\n",
            "pol     25\n",
            "pio     28\n",
            "va      24\n",
            "Name: edad de grupo, dtype: int64\n"
          ]
        }
      ]
    },
    {
      "cell_type": "markdown",
      "source": [
        "**My own example 159**"
      ],
      "metadata": {
        "id": "nqUCT8rT3iZc"
      }
    },
    {
      "cell_type": "code",
      "source": [
        "print(\"mayores de 25 años\",edad[edad > 25] )"
      ],
      "metadata": {
        "colab": {
          "base_uri": "https://localhost:8080/"
        },
        "id": "6jiehcxJ3vi-",
        "outputId": "6c84f33c-a94e-41c2-fe52-67e01839bf17"
      },
      "execution_count": null,
      "outputs": [
        {
          "output_type": "stream",
          "name": "stdout",
          "text": [
            "mayores de 25 años pio    28\n",
            "Name: edad de grupo, dtype: int64\n"
          ]
        }
      ]
    },
    {
      "cell_type": "markdown",
      "source": [
        "**My own example 160**"
      ],
      "metadata": {
        "id": "E1FSGp5l3igs"
      }
    },
    {
      "cell_type": "code",
      "source": [
        "print(\"menoes de 25 años\",edad[edad < 25] )"
      ],
      "metadata": {
        "colab": {
          "base_uri": "https://localhost:8080/"
        },
        "id": "iygiajqX3ymM",
        "outputId": "1250e4f1-1967-43b1-f5b9-a5b80ab1c8df"
      },
      "execution_count": null,
      "outputs": [
        {
          "output_type": "stream",
          "name": "stdout",
          "text": [
            "menoes de 25 años juan    20\n",
            "fer     22\n",
            "juan    24\n",
            "pepe    23\n",
            "va      24\n",
            "vane    20\n",
            "pipe    20\n",
            "ana     20\n",
            "Name: edad de grupo, dtype: int64\n"
          ]
        }
      ]
    },
    {
      "cell_type": "markdown",
      "source": [
        "#Quanconnect Tutorial 5 Pandas"
      ],
      "metadata": {
        "id": "-U4XiIcS3zES"
      }
    },
    {
      "cell_type": "markdown",
      "source": [
        "**My own example 161**"
      ],
      "metadata": {
        "id": "ZraRphKX4NY1"
      }
    },
    {
      "cell_type": "code",
      "source": [
        "import QuantBook as qb \n",
        "aapl = qb.AddEquity(\"AAPL\")\n",
        "start_time = datetime(2016, 1, 1) # start datetime for history call\n",
        "end_time = datetime(2017, 12, 31) # end datetime for history call\n",
        "# Returns daily historical data between January 1st 2016 and December 31st 2017\n",
        "aapl_history = qb.History(aapl.Symbol, start_time, end_time, Resolution.Daily)\n",
        "print(aapl_history.index)\n",
        "print(aapl_history.columns)\n",
        "aapl_history"
      ],
      "metadata": {
        "colab": {
          "base_uri": "https://localhost:8080/",
          "height": 373
        },
        "id": "n11eKM4n4ZDe",
        "outputId": "bdc9f6c1-3a47-4f08-8e85-5b9ce0151858"
      },
      "execution_count": null,
      "outputs": [
        {
          "output_type": "error",
          "ename": "ModuleNotFoundError",
          "evalue": "ignored",
          "traceback": [
            "\u001b[0;31m---------------------------------------------------------------------------\u001b[0m",
            "\u001b[0;31mModuleNotFoundError\u001b[0m                       Traceback (most recent call last)",
            "\u001b[0;32m<ipython-input-3-39cafc209b1c>\u001b[0m in \u001b[0;36m<module>\u001b[0;34m\u001b[0m\n\u001b[0;32m----> 1\u001b[0;31m \u001b[0;32mimport\u001b[0m \u001b[0mQuantBook\u001b[0m \u001b[0;32mas\u001b[0m \u001b[0mqb\u001b[0m\u001b[0;34m\u001b[0m\u001b[0;34m\u001b[0m\u001b[0m\n\u001b[0m\u001b[1;32m      2\u001b[0m \u001b[0maapl\u001b[0m \u001b[0;34m=\u001b[0m \u001b[0mqb\u001b[0m\u001b[0;34m.\u001b[0m\u001b[0mAddEquity\u001b[0m\u001b[0;34m(\u001b[0m\u001b[0;34m\"AAPL\"\u001b[0m\u001b[0;34m)\u001b[0m\u001b[0;34m\u001b[0m\u001b[0;34m\u001b[0m\u001b[0m\n\u001b[1;32m      3\u001b[0m \u001b[0mstart_time\u001b[0m \u001b[0;34m=\u001b[0m \u001b[0mdatetime\u001b[0m\u001b[0;34m(\u001b[0m\u001b[0;36m2016\u001b[0m\u001b[0;34m,\u001b[0m \u001b[0;36m1\u001b[0m\u001b[0;34m,\u001b[0m \u001b[0;36m1\u001b[0m\u001b[0;34m)\u001b[0m \u001b[0;31m# start datetime for history call\u001b[0m\u001b[0;34m\u001b[0m\u001b[0;34m\u001b[0m\u001b[0m\n\u001b[1;32m      4\u001b[0m \u001b[0mend_time\u001b[0m \u001b[0;34m=\u001b[0m \u001b[0mdatetime\u001b[0m\u001b[0;34m(\u001b[0m\u001b[0;36m2017\u001b[0m\u001b[0;34m,\u001b[0m \u001b[0;36m12\u001b[0m\u001b[0;34m,\u001b[0m \u001b[0;36m31\u001b[0m\u001b[0;34m)\u001b[0m \u001b[0;31m# end datetime for history call\u001b[0m\u001b[0;34m\u001b[0m\u001b[0;34m\u001b[0m\u001b[0m\n\u001b[1;32m      5\u001b[0m \u001b[0;31m# Returns daily historical data between January 1st 2016 and December 31st 2017\u001b[0m\u001b[0;34m\u001b[0m\u001b[0;34m\u001b[0m\u001b[0;34m\u001b[0m\u001b[0m\n",
            "\u001b[0;31mModuleNotFoundError\u001b[0m: No module named 'QuantBook'",
            "",
            "\u001b[0;31m---------------------------------------------------------------------------\u001b[0;32m\nNOTE: If your import is failing due to a missing package, you can\nmanually install dependencies using either !pip or !apt.\n\nTo view examples of installing some common dependencies, click the\n\"Open Examples\" button below.\n\u001b[0;31m---------------------------------------------------------------------------\u001b[0m\n"
          ],
          "errorDetails": {
            "actions": [
              {
                "action": "open_url",
                "actionText": "Open Examples",
                "url": "/notebooks/snippets/importing_libraries.ipynb"
              }
            ]
          }
        }
      ]
    },
    {
      "cell_type": "markdown",
      "source": [
        "**My own example 162**"
      ],
      "metadata": {
        "id": "TEso_tY14Zkv"
      }
    },
    {
      "cell_type": "code",
      "source": [],
      "metadata": {
        "id": "hwMwbLV84f5N"
      },
      "execution_count": null,
      "outputs": []
    },
    {
      "cell_type": "markdown",
      "source": [
        "**My own example 163**"
      ],
      "metadata": {
        "id": "JRe9bztf4bq-"
      }
    },
    {
      "cell_type": "code",
      "source": [],
      "metadata": {
        "id": "wLUcdY0n4hB5"
      },
      "execution_count": null,
      "outputs": []
    },
    {
      "cell_type": "markdown",
      "source": [
        "**My own example 164**"
      ],
      "metadata": {
        "id": "031PZ17p4bw6"
      }
    },
    {
      "cell_type": "code",
      "source": [],
      "metadata": {
        "id": "wLzV-4nV4iEi"
      },
      "execution_count": null,
      "outputs": []
    },
    {
      "cell_type": "markdown",
      "source": [
        "**My own example 165**"
      ],
      "metadata": {
        "id": "55VzRBxv4cME"
      }
    },
    {
      "cell_type": "code",
      "source": [],
      "metadata": {
        "id": "QaaMwXie4jmo"
      },
      "execution_count": null,
      "outputs": []
    },
    {
      "cell_type": "markdown",
      "source": [
        "**My own example 166**"
      ],
      "metadata": {
        "id": "QJPifKPT4cP6"
      }
    },
    {
      "cell_type": "code",
      "source": [],
      "metadata": {
        "id": "JprlTPDP4k6e"
      },
      "execution_count": null,
      "outputs": []
    },
    {
      "cell_type": "markdown",
      "source": [
        "**My own example 167**"
      ],
      "metadata": {
        "id": "Foi3Czxr4b4I"
      }
    },
    {
      "cell_type": "code",
      "source": [],
      "metadata": {
        "id": "XqCtTfGD4mCO"
      },
      "execution_count": null,
      "outputs": []
    },
    {
      "cell_type": "markdown",
      "source": [
        "**My own example 168**"
      ],
      "metadata": {
        "id": "Og1tpWjH4b9Y"
      }
    },
    {
      "cell_type": "code",
      "source": [],
      "metadata": {
        "id": "m0lz5bax4nFt"
      },
      "execution_count": null,
      "outputs": []
    },
    {
      "cell_type": "markdown",
      "source": [
        "**My own example 169**"
      ],
      "metadata": {
        "id": "nqZPMtV-4cCf"
      }
    },
    {
      "cell_type": "code",
      "source": [],
      "metadata": {
        "id": "lrvgmzpW4oKT"
      },
      "execution_count": null,
      "outputs": []
    },
    {
      "cell_type": "markdown",
      "source": [
        "**My own example 170**"
      ],
      "metadata": {
        "id": "Uj3TwdOZ4cGx"
      }
    },
    {
      "cell_type": "code",
      "source": [],
      "metadata": {
        "id": "WfspIP5X4qrA"
      },
      "execution_count": null,
      "outputs": []
    },
    {
      "cell_type": "markdown",
      "source": [
        "**My own example 171**"
      ],
      "metadata": {
        "id": "2KM9CVim4rKE"
      }
    },
    {
      "cell_type": "code",
      "source": [],
      "metadata": {
        "id": "lh50bTuu4_c5"
      },
      "execution_count": null,
      "outputs": []
    },
    {
      "cell_type": "markdown",
      "source": [
        "**My own example 172**"
      ],
      "metadata": {
        "id": "GYQMTn-f4rLu"
      }
    },
    {
      "cell_type": "code",
      "source": [],
      "metadata": {
        "id": "InESQ-Iq5ASe"
      },
      "execution_count": null,
      "outputs": []
    },
    {
      "cell_type": "markdown",
      "source": [
        "**My own example 173**"
      ],
      "metadata": {
        "id": "fhVVtLPC4rNG"
      }
    },
    {
      "cell_type": "code",
      "source": [],
      "metadata": {
        "id": "gup8CA_A5BWw"
      },
      "execution_count": null,
      "outputs": []
    },
    {
      "cell_type": "markdown",
      "source": [
        "**My own example 174**"
      ],
      "metadata": {
        "id": "9pb1HQ-f4rPc"
      }
    },
    {
      "cell_type": "code",
      "source": [],
      "metadata": {
        "id": "kgp1D9jp5C1A"
      },
      "execution_count": null,
      "outputs": []
    },
    {
      "cell_type": "markdown",
      "source": [
        "**My own example 175**"
      ],
      "metadata": {
        "id": "ALt29imZ4rTd"
      }
    },
    {
      "cell_type": "code",
      "source": [],
      "metadata": {
        "id": "RJM34-8r5DzX"
      },
      "execution_count": null,
      "outputs": []
    },
    {
      "cell_type": "markdown",
      "source": [
        "**My own example 176**"
      ],
      "metadata": {
        "id": "t3qTl7R54rYo"
      }
    },
    {
      "cell_type": "code",
      "source": [],
      "metadata": {
        "id": "UHD5stQH5E1d"
      },
      "execution_count": null,
      "outputs": []
    },
    {
      "cell_type": "markdown",
      "source": [
        "**My own example 177**"
      ],
      "metadata": {
        "id": "UjCmREKW4rdR"
      }
    },
    {
      "cell_type": "code",
      "source": [],
      "metadata": {
        "id": "afrK6Em75GBz"
      },
      "execution_count": null,
      "outputs": []
    },
    {
      "cell_type": "markdown",
      "source": [
        "**My own example 178**"
      ],
      "metadata": {
        "id": "btiiC5Xc4riQ"
      }
    },
    {
      "cell_type": "code",
      "source": [],
      "metadata": {
        "id": "CWtrc5_t5HaN"
      },
      "execution_count": null,
      "outputs": []
    },
    {
      "cell_type": "markdown",
      "source": [
        "**My own example 179**"
      ],
      "metadata": {
        "id": "PukT5rbI4rnJ"
      }
    },
    {
      "cell_type": "code",
      "source": [],
      "metadata": {
        "id": "QxN_EUt16kK_"
      },
      "execution_count": null,
      "outputs": []
    },
    {
      "cell_type": "markdown",
      "source": [
        "**My own example 180**"
      ],
      "metadata": {
        "id": "0eBvnZT74tsx"
      }
    },
    {
      "cell_type": "code",
      "source": [],
      "metadata": {
        "id": "zs0BJCVN5JXN"
      },
      "execution_count": null,
      "outputs": []
    },
    {
      "cell_type": "markdown",
      "source": [
        "#Updated version github"
      ],
      "metadata": {
        "id": "HVj35Thc5Ji6"
      }
    },
    {
      "cell_type": "markdown",
      "source": [
        "**My own example 181**"
      ],
      "metadata": {
        "id": "nxmSL0zQ4voM"
      }
    },
    {
      "cell_type": "code",
      "source": [],
      "metadata": {
        "id": "PToNXFgN5Vmz"
      },
      "execution_count": null,
      "outputs": []
    },
    {
      "cell_type": "markdown",
      "source": [
        "**My own example 182**"
      ],
      "metadata": {
        "id": "WMcbkaiQ4vtf"
      }
    },
    {
      "cell_type": "code",
      "source": [],
      "metadata": {
        "id": "xNR6YFt95Wf7"
      },
      "execution_count": null,
      "outputs": []
    },
    {
      "cell_type": "markdown",
      "source": [
        "\n",
        "**My own example 183**"
      ],
      "metadata": {
        "id": "lNQYzPjC4vxU"
      }
    },
    {
      "cell_type": "code",
      "source": [],
      "metadata": {
        "id": "4Cq8eSvb5ZPF"
      },
      "execution_count": null,
      "outputs": []
    },
    {
      "cell_type": "markdown",
      "source": [
        "**My own example 184**"
      ],
      "metadata": {
        "id": "CySVkr584v17"
      }
    },
    {
      "cell_type": "code",
      "source": [],
      "metadata": {
        "id": "tY4ANxm95bTi"
      },
      "execution_count": null,
      "outputs": []
    },
    {
      "cell_type": "markdown",
      "source": [
        "**My own example 185**"
      ],
      "metadata": {
        "id": "9KJkAvUP4v6A"
      }
    },
    {
      "cell_type": "code",
      "source": [],
      "metadata": {
        "id": "kl6H_k8X5cUH"
      },
      "execution_count": null,
      "outputs": []
    },
    {
      "cell_type": "markdown",
      "source": [
        "**My own example 186**"
      ],
      "metadata": {
        "id": "z-BWSPOB4v-T"
      }
    },
    {
      "cell_type": "code",
      "source": [],
      "metadata": {
        "id": "O4olfM4M5dd0"
      },
      "execution_count": null,
      "outputs": []
    },
    {
      "cell_type": "markdown",
      "source": [
        "**My own example 187**"
      ],
      "metadata": {
        "id": "741XyM984wCk"
      }
    },
    {
      "cell_type": "code",
      "source": [],
      "metadata": {
        "id": "nLv7uHy55eem"
      },
      "execution_count": null,
      "outputs": []
    },
    {
      "cell_type": "markdown",
      "source": [
        "**My own example 188**"
      ],
      "metadata": {
        "id": "gjvzXNNW4wH3"
      }
    },
    {
      "cell_type": "code",
      "source": [],
      "metadata": {
        "id": "JBv_50gz5hC_"
      },
      "execution_count": null,
      "outputs": []
    },
    {
      "cell_type": "markdown",
      "source": [
        "**My own example 189**"
      ],
      "metadata": {
        "id": "bqDcgaHM4wUO"
      }
    },
    {
      "cell_type": "code",
      "source": [],
      "metadata": {
        "id": "n1Ohpy2p5h9J"
      },
      "execution_count": null,
      "outputs": []
    },
    {
      "cell_type": "markdown",
      "source": [
        "**My own example 190**"
      ],
      "metadata": {
        "id": "dXKx_wgW4wwP"
      }
    },
    {
      "cell_type": "code",
      "source": [],
      "metadata": {
        "id": "H7BWSdQx5lPK"
      },
      "execution_count": null,
      "outputs": []
    },
    {
      "cell_type": "markdown",
      "source": [
        "**My own example 191**"
      ],
      "metadata": {
        "id": "RZUoMjkK4yuF"
      }
    },
    {
      "cell_type": "code",
      "source": [],
      "metadata": {
        "id": "RrvJy0hN5nVk"
      },
      "execution_count": null,
      "outputs": []
    },
    {
      "cell_type": "markdown",
      "source": [
        "**My own example 192**"
      ],
      "metadata": {
        "id": "iIrVeTXY4yx9"
      }
    },
    {
      "cell_type": "code",
      "source": [],
      "metadata": {
        "id": "tzwl3Mz35oHE"
      },
      "execution_count": null,
      "outputs": []
    },
    {
      "cell_type": "markdown",
      "source": [
        "**My own example 193**"
      ],
      "metadata": {
        "id": "eib0KIoO4y2G"
      }
    },
    {
      "cell_type": "code",
      "source": [],
      "metadata": {
        "id": "pw2SdELj5pG_"
      },
      "execution_count": null,
      "outputs": []
    },
    {
      "cell_type": "markdown",
      "source": [
        "**My own example 194**"
      ],
      "metadata": {
        "id": "1c4vk8sK4y7c"
      }
    },
    {
      "cell_type": "code",
      "source": [],
      "metadata": {
        "id": "8YXigEDk5smW"
      },
      "execution_count": null,
      "outputs": []
    },
    {
      "cell_type": "markdown",
      "source": [
        "**My own example 195**"
      ],
      "metadata": {
        "id": "VISWMDwv4zA0"
      }
    },
    {
      "cell_type": "code",
      "source": [],
      "metadata": {
        "id": "jZcs2BNP5toE"
      },
      "execution_count": null,
      "outputs": []
    },
    {
      "cell_type": "markdown",
      "source": [
        "**My own example 196**"
      ],
      "metadata": {
        "id": "DCMWQ4No4zFr"
      }
    },
    {
      "cell_type": "code",
      "source": [],
      "metadata": {
        "id": "vYPUC-QG5yKa"
      },
      "execution_count": null,
      "outputs": []
    },
    {
      "cell_type": "markdown",
      "source": [
        "**My own example 197**"
      ],
      "metadata": {
        "id": "2Tdzun-V4zKP"
      }
    },
    {
      "cell_type": "code",
      "source": [],
      "metadata": {
        "id": "e2Rsm-5s5yAm"
      },
      "execution_count": null,
      "outputs": []
    },
    {
      "cell_type": "markdown",
      "source": [
        "**My own example 198**"
      ],
      "metadata": {
        "id": "zOQ4iglO4zPk"
      }
    },
    {
      "cell_type": "code",
      "source": [],
      "metadata": {
        "id": "fqgjoZae50rW"
      },
      "execution_count": null,
      "outputs": []
    },
    {
      "cell_type": "markdown",
      "source": [
        "**My own example 199**"
      ],
      "metadata": {
        "id": "LPyfUKBO4zbV"
      }
    },
    {
      "cell_type": "code",
      "source": [],
      "metadata": {
        "id": "sg7cfB-M515V"
      },
      "execution_count": null,
      "outputs": []
    },
    {
      "cell_type": "markdown",
      "source": [
        "**My own example 200**"
      ],
      "metadata": {
        "id": "VfWIzSuD4z2V"
      }
    },
    {
      "cell_type": "code",
      "source": [],
      "metadata": {
        "id": "9atLXLH_53xO"
      },
      "execution_count": null,
      "outputs": []
    },
    {
      "cell_type": "markdown",
      "source": [
        "#QuantopianLecture 5"
      ],
      "metadata": {
        "id": "PEIIuHY957Hm"
      }
    },
    {
      "cell_type": "markdown",
      "source": [
        "**My own example 201**"
      ],
      "metadata": {
        "id": "yt1vIYa142HG"
      }
    },
    {
      "cell_type": "code",
      "source": [],
      "metadata": {
        "id": "1i36a21I6AyI"
      },
      "execution_count": null,
      "outputs": []
    },
    {
      "cell_type": "markdown",
      "source": [
        "**My own example 202**"
      ],
      "metadata": {
        "id": "pi1pfclA42L8"
      }
    },
    {
      "cell_type": "code",
      "source": [],
      "metadata": {
        "id": "L7RRageY6B5x"
      },
      "execution_count": null,
      "outputs": []
    },
    {
      "cell_type": "markdown",
      "source": [
        "**My own example 203**"
      ],
      "metadata": {
        "id": "DOAXP4ba42RD"
      }
    },
    {
      "cell_type": "code",
      "source": [],
      "metadata": {
        "id": "B93uWASQ6DCZ"
      },
      "execution_count": null,
      "outputs": []
    },
    {
      "cell_type": "markdown",
      "source": [
        "**My own example 204**"
      ],
      "metadata": {
        "id": "YwGuQWow42Wf"
      }
    },
    {
      "cell_type": "code",
      "source": [],
      "metadata": {
        "id": "e3gPVEXi6FZB"
      },
      "execution_count": null,
      "outputs": []
    },
    {
      "cell_type": "markdown",
      "source": [
        "**My own example 205**"
      ],
      "metadata": {
        "id": "AgCz_MNB42cF"
      }
    },
    {
      "cell_type": "code",
      "source": [],
      "metadata": {
        "id": "bi3mbGiX6Gek"
      },
      "execution_count": null,
      "outputs": []
    },
    {
      "cell_type": "markdown",
      "source": [
        "**My own example 206**"
      ],
      "metadata": {
        "id": "l3HRUtuG42gd"
      }
    },
    {
      "cell_type": "code",
      "source": [],
      "metadata": {
        "id": "yUFXfMo36HsT"
      },
      "execution_count": null,
      "outputs": []
    },
    {
      "cell_type": "markdown",
      "source": [
        "**My own example 207**"
      ],
      "metadata": {
        "id": "SgeQXi7_42lf"
      }
    },
    {
      "cell_type": "code",
      "source": [],
      "metadata": {
        "id": "9BkEIWhv6Jzb"
      },
      "execution_count": null,
      "outputs": []
    },
    {
      "cell_type": "markdown",
      "source": [
        "**My own example 208**"
      ],
      "metadata": {
        "id": "f0cJYoTC42yI"
      }
    },
    {
      "cell_type": "code",
      "source": [],
      "metadata": {
        "id": "R8f-Hjoq6MMZ"
      },
      "execution_count": null,
      "outputs": []
    },
    {
      "cell_type": "markdown",
      "source": [
        "**My own example 209**"
      ],
      "metadata": {
        "id": "Kxs6zUnd43Nn"
      }
    },
    {
      "cell_type": "code",
      "source": [],
      "metadata": {
        "id": "JNVIz9-o6NgT"
      },
      "execution_count": null,
      "outputs": []
    },
    {
      "cell_type": "markdown",
      "source": [
        "**My own example 210**"
      ],
      "metadata": {
        "id": "U9qcyNrH43PN"
      }
    },
    {
      "cell_type": "code",
      "source": [],
      "metadata": {
        "id": "n5oZvuh56PmF"
      },
      "execution_count": null,
      "outputs": []
    },
    {
      "cell_type": "markdown",
      "source": [
        "**My own example 211**"
      ],
      "metadata": {
        "id": "g2hDSzFc47Pg"
      }
    },
    {
      "cell_type": "code",
      "source": [],
      "metadata": {
        "id": "rk1c7Fs06Q9D"
      },
      "execution_count": null,
      "outputs": []
    },
    {
      "cell_type": "markdown",
      "source": [
        "**My own example 212**"
      ],
      "metadata": {
        "id": "NPmjSy_e47Ti"
      }
    },
    {
      "cell_type": "code",
      "source": [],
      "metadata": {
        "id": "syjtntil6SI3"
      },
      "execution_count": null,
      "outputs": []
    },
    {
      "cell_type": "markdown",
      "source": [
        "**My own example 213**"
      ],
      "metadata": {
        "id": "n2sXLqk247X2"
      }
    },
    {
      "cell_type": "code",
      "source": [],
      "metadata": {
        "id": "APa5AL5j6TxL"
      },
      "execution_count": null,
      "outputs": []
    },
    {
      "cell_type": "markdown",
      "source": [
        "**My own example 214**"
      ],
      "metadata": {
        "id": "K9b3yuf047cM"
      }
    },
    {
      "cell_type": "code",
      "source": [],
      "metadata": {
        "id": "jE8lspAH6VXp"
      },
      "execution_count": null,
      "outputs": []
    },
    {
      "cell_type": "markdown",
      "source": [
        "**My own example 215**"
      ],
      "metadata": {
        "id": "L30iAc3b47gN"
      }
    },
    {
      "cell_type": "code",
      "source": [],
      "metadata": {
        "id": "CSBWC1SY6WZj"
      },
      "execution_count": null,
      "outputs": []
    },
    {
      "cell_type": "markdown",
      "source": [
        "**My own example 216**"
      ],
      "metadata": {
        "id": "jbtTCvQ847ke"
      }
    },
    {
      "cell_type": "code",
      "source": [],
      "metadata": {
        "id": "s73QYzsc6X2a"
      },
      "execution_count": null,
      "outputs": []
    },
    {
      "cell_type": "markdown",
      "source": [
        "**My own example 217**"
      ],
      "metadata": {
        "id": "jOs2cll647od"
      }
    },
    {
      "cell_type": "code",
      "source": [],
      "metadata": {
        "id": "fGwlMpxd6c6c"
      },
      "execution_count": null,
      "outputs": []
    },
    {
      "cell_type": "markdown",
      "source": [
        "**My own example 218**"
      ],
      "metadata": {
        "id": "FWtDxNEH47tX"
      }
    },
    {
      "cell_type": "code",
      "source": [],
      "metadata": {
        "id": "Amnj8PZm6Z11"
      },
      "execution_count": null,
      "outputs": []
    },
    {
      "cell_type": "markdown",
      "source": [
        "**My own example 219**"
      ],
      "metadata": {
        "id": "cpg2KGnG47xu"
      }
    },
    {
      "cell_type": "code",
      "source": [],
      "metadata": {
        "id": "uOmBMhqw6bJ2"
      },
      "execution_count": null,
      "outputs": []
    },
    {
      "cell_type": "markdown",
      "source": [
        "**My own example 220**"
      ],
      "metadata": {
        "id": "8Cz8Kldi472j"
      }
    },
    {
      "cell_type": "code",
      "source": [],
      "metadata": {
        "id": "w29S1fIr6cPw"
      },
      "execution_count": null,
      "outputs": []
    }
  ]
}