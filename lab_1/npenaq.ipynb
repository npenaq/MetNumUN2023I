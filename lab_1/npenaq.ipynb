{
  "cells": [
    {
      "cell_type": "markdown",
      "metadata": {
        "id": "view-in-github",
        "colab_type": "text"
      },
      "source": [
        "<a href=\"https://colab.research.google.com/github/npenaq/MetNumUN2023I/blob/main/lab_1/npenaq.ipynb\" target=\"_parent\"><img src=\"https://colab.research.google.com/assets/colab-badge.svg\" alt=\"Open In Colab\"/></a>"
      ]
    },
    {
      "cell_type": "markdown",
      "metadata": {
        "id": "riDmruqaFhXE"
      },
      "source": [
        "# Quantopian Lecture 1"
      ]
    },
    {
      "cell_type": "markdown",
      "metadata": {
        "id": "ZZnOrayHpDGx"
      },
      "source": [
        "**My own example 1**"
      ]
    },
    {
      "cell_type": "code",
      "execution_count": 1,
      "metadata": {
        "colab": {
          "base_uri": "https://localhost:8080/"
        },
        "id": "2Bq4Am57jCtD",
        "outputId": "3d42ac9e-640b-478d-fb44-e28f7d917ef4"
      },
      "outputs": [
        {
          "output_type": "execute_result",
          "data": {
            "text/plain": [
              "16"
            ]
          },
          "metadata": {},
          "execution_count": 1
        }
      ],
      "source": [
        "8+8"
      ]
    },
    {
      "cell_type": "markdown",
      "metadata": {
        "id": "8FZWKH-8pM1a"
      },
      "source": [
        "**My own example 2**"
      ]
    },
    {
      "cell_type": "code",
      "execution_count": 2,
      "metadata": {
        "colab": {
          "base_uri": "https://localhost:8080/"
        },
        "id": "6rU6FOpGcHfL",
        "outputId": "50e22be2-fda2-4a92-9470-ae6c454a95b3"
      },
      "outputs": [
        {
          "output_type": "execute_result",
          "data": {
            "text/plain": [
              "95"
            ]
          },
          "metadata": {},
          "execution_count": 2
        }
      ],
      "source": [
        "87+8"
      ]
    },
    {
      "cell_type": "markdown",
      "metadata": {
        "id": "6A7jWfqPpP-H"
      },
      "source": [
        "**My own example 3**"
      ]
    },
    {
      "cell_type": "code",
      "execution_count": 3,
      "metadata": {
        "id": "lW9GMzaEjC44"
      },
      "outputs": [],
      "source": [
        "n=8 "
      ]
    },
    {
      "cell_type": "markdown",
      "metadata": {
        "id": "r1wiFEX5pUaZ"
      },
      "source": [
        "**My own example 4**"
      ]
    },
    {
      "cell_type": "code",
      "execution_count": 4,
      "metadata": {
        "id": "T7KZTV4vcxm3"
      },
      "outputs": [],
      "source": [
        "N=9"
      ]
    },
    {
      "cell_type": "markdown",
      "metadata": {
        "id": "wdetVvMkpWqy"
      },
      "source": [
        "**My own example 5**"
      ]
    },
    {
      "cell_type": "code",
      "execution_count": 5,
      "metadata": {
        "id": "FyMo8jFhjuSB"
      },
      "outputs": [],
      "source": [
        "x=\"asd\""
      ]
    },
    {
      "cell_type": "markdown",
      "metadata": {
        "id": "i5U0EpVHpYY_"
      },
      "source": [
        "**My own example 6**"
      ]
    },
    {
      "cell_type": "code",
      "execution_count": 6,
      "metadata": {
        "colab": {
          "base_uri": "https://localhost:8080/"
        },
        "id": "8Zmg6SvDc6x3",
        "outputId": "e24f43d8-ef3c-42c8-b042-4635876e3821"
      },
      "outputs": [
        {
          "output_type": "stream",
          "name": "stdout",
          "text": [
            "64\n"
          ]
        },
        {
          "output_type": "execute_result",
          "data": {
            "text/plain": [
              "17"
            ]
          },
          "metadata": {},
          "execution_count": 6
        }
      ],
      "source": [
        "print (89-25)\n",
        "8+9"
      ]
    },
    {
      "cell_type": "markdown",
      "metadata": {
        "id": "cqBmbN8tpaF-"
      },
      "source": [
        "**My own example 7**"
      ]
    },
    {
      "cell_type": "code",
      "execution_count": 7,
      "metadata": {
        "colab": {
          "base_uri": "https://localhost:8080/"
        },
        "id": "KTLMIialjv7Z",
        "outputId": "3267e279-551c-4755-d9ee-de06d7642b62"
      },
      "outputs": [
        {
          "output_type": "execute_result",
          "data": {
            "text/plain": [
              "5050"
            ]
          },
          "metadata": {},
          "execution_count": 7
        }
      ],
      "source": [
        "p = 0\n",
        "for e in range(101):\n",
        "    p+= e\n",
        "p"
      ]
    },
    {
      "cell_type": "markdown",
      "metadata": {
        "id": "A45cTH9Jpbwk"
      },
      "source": [
        "**My own example 8**"
      ]
    },
    {
      "cell_type": "code",
      "execution_count": 8,
      "metadata": {
        "id": "gUbRRh2qfKot"
      },
      "outputs": [],
      "source": [
        "import numpy as np\n",
        "import pandas as pd\n",
        "\n",
        "# This is a plotting library for pretty pictures.\n",
        "import matplotlib.pyplot as plt"
      ]
    },
    {
      "cell_type": "markdown",
      "metadata": {
        "id": "haYJD0KfpdMI"
      },
      "source": [
        "**My own example 9**"
      ]
    },
    {
      "cell_type": "code",
      "execution_count": 9,
      "metadata": {
        "colab": {
          "base_uri": "https://localhost:8080/",
          "height": 282
        },
        "id": "lrk-ClXjjwZe",
        "outputId": "25a7c425-9dba-44e3-c737-92b80375a623"
      },
      "outputs": [
        {
          "output_type": "execute_result",
          "data": {
            "text/plain": [
              "[<matplotlib.lines.Line2D at 0x7f5dfd37fb50>]"
            ]
          },
          "metadata": {},
          "execution_count": 9
        },
        {
          "output_type": "display_data",
          "data": {
            "text/plain": [
              "<Figure size 432x288 with 1 Axes>"
            ],
            "image/png": "[encoded data removed]"
          },
          "metadata": {
            "needs_background": "light"
          }
        }
      ],
      "source": [
        "X = np.random.normal(0, 8, 100)\n",
        "plt.plot(X)"
      ]
    },
    {
      "cell_type": "markdown",
      "metadata": {
        "id": "4UTUQhB8pezG"
      },
      "source": [
        "**My own example 10**"
      ]
    },
    {
      "cell_type": "code",
      "execution_count": 10,
      "metadata": {
        "colab": {
          "base_uri": "https://localhost:8080/",
          "height": 283
        },
        "id": "Ye12S4OtfPj_",
        "outputId": "2e8c1e70-3b94-497e-8e67-451bb0c86a5a"
      },
      "outputs": [
        {
          "output_type": "execute_result",
          "data": {
            "text/plain": [
              "[<matplotlib.lines.Line2D at 0x7f5dfaa85400>]"
            ]
          },
          "metadata": {},
          "execution_count": 10
        },
        {
          "output_type": "display_data",
          "data": {
            "text/plain": [
              "<Figure size 432x288 with 1 Axes>"
            ],
            "image/png": "[encoded data removed]"
          },
          "metadata": {
            "needs_background": "light"
          }
        }
      ],
      "source": [
        "y = np.random.normal(0.2,9,20)\n",
        "plt.plot(y)"
      ]
    },
    {
      "cell_type": "markdown",
      "metadata": {
        "id": "7qNZOmNupgUK"
      },
      "source": [
        "**My own example 11**"
      ]
    },
    {
      "cell_type": "code",
      "execution_count": 11,
      "metadata": {
        "colab": {
          "base_uri": "https://localhost:8080/",
          "height": 279
        },
        "id": "LVYstAGljyew",
        "outputId": "50095efb-ffa6-4e9e-f64b-5c6b9c0cce52"
      },
      "outputs": [
        {
          "output_type": "display_data",
          "data": {
            "text/plain": [
              "<Figure size 432x288 with 1 Axes>"
            ],
            "image/png": "[encoded data removed]"
          },
          "metadata": {
            "needs_background": "light"
          }
        }
      ],
      "source": [
        "PO = np.random.normal(0, 2, 100)\n",
        "pi = np.random.normal(0, 1, 150)\n",
        "\n",
        "plt.plot(PO);\n",
        "plt.plot(pi);\n",
        "plt.xlabel('tiempo')\n",
        "plt.ylabel('ingreso')\n",
        "plt.legend(['PO', 'pi']);"
      ]
    },
    {
      "cell_type": "markdown",
      "metadata": {
        "id": "BtLv8LfupikJ"
      },
      "source": [
        "**My own example 12**"
      ]
    },
    {
      "cell_type": "code",
      "execution_count": 12,
      "metadata": {
        "colab": {
          "base_uri": "https://localhost:8080/"
        },
        "id": "jltawR0efTXf",
        "outputId": "48bdd131-f934-430f-9b06-6d67bad3a747"
      },
      "outputs": [
        {
          "output_type": "execute_result",
          "data": {
            "text/plain": [
              "-0.9138259536573752"
            ]
          },
          "metadata": {},
          "execution_count": 12
        }
      ],
      "source": [
        "# promedio\n",
        "np.mean(X)"
      ]
    },
    {
      "cell_type": "markdown",
      "metadata": {
        "id": "vn9SfS0tpkXy"
      },
      "source": [
        "**My own example 13**"
      ]
    },
    {
      "cell_type": "code",
      "execution_count": 13,
      "metadata": {
        "colab": {
          "base_uri": "https://localhost:8080/"
        },
        "id": "_PDDWqbOjy5c",
        "outputId": "a0cd28e9-346e-4dc7-aad6-d5e2bf81c41b"
      },
      "outputs": [
        {
          "output_type": "execute_result",
          "data": {
            "text/plain": [
              "8.103790627359222"
            ]
          },
          "metadata": {},
          "execution_count": 13
        }
      ],
      "source": [
        "# desviacion estandar\n",
        "np.std(X)"
      ]
    },
    {
      "cell_type": "markdown",
      "metadata": {
        "id": "EQW5w3Smpmh8"
      },
      "source": [
        "**My own example 14**"
      ]
    },
    {
      "cell_type": "code",
      "execution_count": 14,
      "metadata": {
        "colab": {
          "base_uri": "https://localhost:8080/",
          "height": 279
        },
        "id": "sumR-N4QfgFD",
        "outputId": "b6113e55-32c0-4682-ce09-e18a64015eeb"
      },
      "outputs": [
        {
          "output_type": "display_data",
          "data": {
            "text/plain": [
              "<Figure size 432x288 with 1 Axes>"
            ],
            "image/png": "[encoded data removed]"
          },
          "metadata": {
            "needs_background": "light"
          }
        }
      ],
      "source": [
        "usa = np.random.normal(0,1,100)\n",
        "cop = np.random.normal(0,8, 100)\n",
        "\n",
        "plt.plot(usa);\n",
        "plt.plot(cop);\n",
        "plt.xlabel('tiempo')\n",
        "plt.ylabel('precio')\n",
        "plt.legend(['usa', 'cop']);"
      ]
    },
    {
      "cell_type": "markdown",
      "metadata": {
        "id": "ImCfbg8Spn3_"
      },
      "source": [
        "**My own example 15**"
      ]
    },
    {
      "cell_type": "code",
      "execution_count": 15,
      "metadata": {
        "colab": {
          "base_uri": "https://localhost:8080/"
        },
        "id": "knHltbw9j21W",
        "outputId": "c886b514-4d99-418b-a132-75cb8b3fd073"
      },
      "outputs": [
        {
          "output_type": "execute_result",
          "data": {
            "text/plain": [
              "122"
            ]
          },
          "metadata": {},
          "execution_count": 15
        }
      ],
      "source": [
        "p = 150\n",
        "for i in range(8):\n",
        "    p-= i\n",
        "p"
      ]
    },
    {
      "cell_type": "markdown",
      "metadata": {
        "id": "B4bllSMbprFM"
      },
      "source": [
        "**My own example 16**"
      ]
    },
    {
      "cell_type": "code",
      "execution_count": 16,
      "metadata": {
        "colab": {
          "base_uri": "https://localhost:8080/"
        },
        "id": "L5MJYpJ8fgJH",
        "outputId": "d2823ece-4fd0-4534-e5bc-84b587a6210d"
      },
      "outputs": [
        {
          "output_type": "execute_result",
          "data": {
            "text/plain": [
              "-0.08880618760242072"
            ]
          },
          "metadata": {},
          "execution_count": 16
        }
      ],
      "source": [
        "# promedio\n",
        "np.mean(usa)"
      ]
    },
    {
      "cell_type": "markdown",
      "metadata": {
        "id": "YOjfQil9psyQ"
      },
      "source": [
        "**My own example 17**"
      ]
    },
    {
      "cell_type": "code",
      "execution_count": 17,
      "metadata": {
        "colab": {
          "base_uri": "https://localhost:8080/"
        },
        "id": "M7fo9MaAj3Ir",
        "outputId": "9b462525-02fd-4b1b-f887-e5ae5b73956d"
      },
      "outputs": [
        {
          "output_type": "execute_result",
          "data": {
            "text/plain": [
              "0.4880600436111254"
            ]
          },
          "metadata": {},
          "execution_count": 17
        }
      ],
      "source": [
        "# promedio\n",
        "np.mean(cop)"
      ]
    },
    {
      "cell_type": "markdown",
      "metadata": {
        "id": "KVL54sS_puGX"
      },
      "source": [
        "**My own example 18**"
      ]
    },
    {
      "cell_type": "code",
      "execution_count": 18,
      "metadata": {
        "colab": {
          "base_uri": "https://localhost:8080/"
        },
        "id": "GoRmcmWhfgMn",
        "outputId": "8173ee19-0f38-4269-e9a4-c5f2bf78e679"
      },
      "outputs": [
        {
          "output_type": "execute_result",
          "data": {
            "text/plain": [
              "131960000000.0"
            ]
          },
          "metadata": {},
          "execution_count": 18
        }
      ],
      "source": [
        "6598/0.00000005"
      ]
    },
    {
      "cell_type": "markdown",
      "metadata": {
        "id": "2jN_DY_DpuBI"
      },
      "source": [
        "**My own example 19**"
      ]
    },
    {
      "cell_type": "code",
      "execution_count": 19,
      "metadata": {
        "colab": {
          "base_uri": "https://localhost:8080/"
        },
        "id": "vTzJH5dvj3rf",
        "outputId": "7f7e5c1c-7687-42ac-e957-9cbb77608499"
      },
      "outputs": [
        {
          "output_type": "stream",
          "name": "stdout",
          "text": [
            "Metodos\n"
          ]
        },
        {
          "output_type": "execute_result",
          "data": {
            "text/plain": [
              "17"
            ]
          },
          "metadata": {},
          "execution_count": 19
        }
      ],
      "source": [
        "print (\"Metodos\")\n",
        "8+9 "
      ]
    },
    {
      "cell_type": "markdown",
      "metadata": {
        "id": "iBlmWhqZp0RP"
      },
      "source": [
        "**My own example 20**"
      ]
    },
    {
      "cell_type": "code",
      "execution_count": 20,
      "metadata": {
        "colab": {
          "base_uri": "https://localhost:8080/",
          "height": 282
        },
        "id": "2S887M3hfgPr",
        "outputId": "5104e7e9-1134-4087-b2b3-619567490eda"
      },
      "outputs": [
        {
          "output_type": "execute_result",
          "data": {
            "text/plain": [
              "[<matplotlib.lines.Line2D at 0x7f5dfa8fd160>]"
            ]
          },
          "metadata": {},
          "execution_count": 20
        },
        {
          "output_type": "display_data",
          "data": {
            "text/plain": [
              "<Figure size 432x288 with 1 Axes>"
            ],
            "image/png": "[encoded data removed]"
          },
          "metadata": {
            "needs_background": "light"
          }
        }
      ],
      "source": [
        "t = np.random.normal(90, 0.8, 100)\n",
        "plt.plot(t)"
      ]
    },
    {
      "cell_type": "markdown",
      "metadata": {
        "id": "BVoKWMUvFwhX"
      },
      "source": [
        "# Quantopian Lecture 2"
      ]
    },
    {
      "cell_type": "markdown",
      "metadata": {
        "id": "fMGGwHkdp205"
      },
      "source": [
        "**My own example 21**"
      ]
    },
    {
      "cell_type": "code",
      "execution_count": 21,
      "metadata": {
        "colab": {
          "base_uri": "https://localhost:8080/"
        },
        "id": "ANeg-ZjbVhIb",
        "outputId": "8b0dfbc4-f555-4ae2-d7d4-445c3a6cec6c"
      },
      "outputs": [
        {
          "output_type": "stream",
          "name": "stdout",
          "text": [
            "bizz\n"
          ]
        }
      ],
      "source": [
        "i = 12\n",
        "if i % 3 == 0:\n",
        "    if i % 5 == 0:\n",
        "        print ('bizz fuzz')\n",
        "    else:\n",
        "        print ('bizz')\n",
        "elif i % 5 == 0:\n",
        "        print ('fuzz')\n",
        "else:\n",
        "    print( '...')"
      ]
    },
    {
      "cell_type": "markdown",
      "metadata": {
        "id": "XV9QkUtvp4tm"
      },
      "source": [
        "**My own example 22**"
      ]
    },
    {
      "cell_type": "code",
      "execution_count": 22,
      "metadata": {
        "colab": {
          "base_uri": "https://localhost:8080/",
          "height": 36
        },
        "id": "7kSDiNpBfgSM",
        "outputId": "7ee17e6e-0059-449b-fce7-e1068fc1c511"
      },
      "outputs": [
        {
          "output_type": "execute_result",
          "data": {
            "text/plain": [
              "'comentario en codigo'"
            ],
            "application/vnd.google.colaboratory.intrinsic+json": {
              "type": "string"
            }
          },
          "metadata": {},
          "execution_count": 22
        }
      ],
      "source": [
        "\"comentario en codigo\""
      ]
    },
    {
      "cell_type": "markdown",
      "metadata": {
        "id": "zHvNfPi0qASb"
      },
      "source": [
        "**My own example 23**"
      ]
    },
    {
      "cell_type": "code",
      "execution_count": 23,
      "metadata": {
        "colab": {
          "base_uri": "https://localhost:8080/"
        },
        "id": "7agWsbjnj4xm",
        "outputId": "60c129d6-9c1a-459d-c1c7-4d11dc714ab9"
      },
      "outputs": [
        {
          "output_type": "stream",
          "name": "stdout",
          "text": [
            "1\n"
          ]
        }
      ],
      "source": [
        "dos = 1\n",
        "print (dos)"
      ]
    },
    {
      "cell_type": "markdown",
      "metadata": {
        "id": "4mGtWh8tqB8p"
      },
      "source": [
        "**My own example 24**"
      ]
    },
    {
      "cell_type": "code",
      "execution_count": 24,
      "metadata": {
        "colab": {
          "base_uri": "https://localhost:8080/"
        },
        "id": "BZAbQUlXfgU-",
        "outputId": "ec0fff7f-28af-4305-dac1-19df04afbb64"
      },
      "outputs": [
        {
          "output_type": "stream",
          "name": "stdout",
          "text": [
            "198 <class 'int'>\n",
            "198.0\n"
          ]
        },
        {
          "output_type": "execute_result",
          "data": {
            "text/plain": [
              "(None, float)"
            ]
          },
          "metadata": {},
          "execution_count": 24
        }
      ],
      "source": [
        "mf = 198\n",
        "print ((mf), type(mf))\n",
        "mf = float(198)\n",
        "print (mf), type(mf)"
      ]
    },
    {
      "cell_type": "markdown",
      "metadata": {
        "id": "Dbjpk9ULqDi0"
      },
      "source": [
        "**My own example 25**"
      ]
    },
    {
      "cell_type": "code",
      "execution_count": 25,
      "metadata": {
        "colab": {
          "base_uri": "https://localhost:8080/"
        },
        "id": "1GkV3l5Qj5tc",
        "outputId": "84deb5d2-6c60-4f00-afc9-db0236588052"
      },
      "outputs": [
        {
          "output_type": "stream",
          "name": "stdout",
          "text": [
            "3\n"
          ]
        },
        {
          "output_type": "execute_result",
          "data": {
            "text/plain": [
              "(None, int)"
            ]
          },
          "metadata": {},
          "execution_count": 25
        }
      ],
      "source": [
        "mi = int(3.14159)\n",
        "print (mi), type(mi)"
      ]
    },
    {
      "cell_type": "markdown",
      "metadata": {
        "id": "XhmVugP8qFPt"
      },
      "source": [
        "**My own example 26**"
      ]
    },
    {
      "cell_type": "code",
      "execution_count": 26,
      "metadata": {
        "colab": {
          "base_uri": "https://localhost:8080/"
        },
        "id": "Nv4AefedfgYJ",
        "outputId": "f0dd67c6-941d-498b-9ea4-ff723e8ee81d"
      },
      "outputs": [
        {
          "output_type": "stream",
          "name": "stdout",
          "text": [
            "i es 3\n"
          ]
        }
      ],
      "source": [
        "i = 3\n",
        "if i == 1:\n",
        "    print ('i es 1')\n",
        "elif i == 2:\n",
        "    print ('i es 2')\n",
        "elif i == 3:\n",
        "    print ('i es 3')\n",
        "else:\n",
        "    print (\"i no esta\")"
      ]
    },
    {
      "cell_type": "markdown",
      "metadata": {
        "id": "LIrdIFsRqIm0"
      },
      "source": [
        "**My own example 27**"
      ]
    },
    {
      "cell_type": "code",
      "execution_count": 27,
      "metadata": {
        "colab": {
          "base_uri": "https://localhost:8080/"
        },
        "id": "o1V88H9Cj7HI",
        "outputId": "fe5817ce-3878-4756-ce4e-278824edff32"
      },
      "outputs": [
        {
          "output_type": "stream",
          "name": "stdout",
          "text": [
            "True\n"
          ]
        },
        {
          "output_type": "execute_result",
          "data": {
            "text/plain": [
              "(None, bool)"
            ]
          },
          "metadata": {},
          "execution_count": 27
        }
      ],
      "source": [
        "tf = True\n",
        "print (tf), type(tf)"
      ]
    },
    {
      "cell_type": "markdown",
      "metadata": {
        "id": "77046xVJqK7G"
      },
      "source": [
        "**My own example 28**"
      ]
    },
    {
      "cell_type": "code",
      "execution_count": 28,
      "metadata": {
        "colab": {
          "base_uri": "https://localhost:8080/"
        },
        "id": "02yrmlxCgd5o",
        "outputId": "8fcc5852-a270-41d3-d646-ee89a9d68f29"
      },
      "outputs": [
        {
          "output_type": "stream",
          "name": "stdout",
          "text": [
            "Suma:  194\n",
            "Resta:  -4009\n",
            "Multiplicacion:  864\n",
            "Division:  0.21115537848605578\n",
            "Exponencial:  1267650600228229401496703205376\n"
          ]
        }
      ],
      "source": [
        "print ('Suma: ', 9+185)\n",
        "print ('Resta: ', 4569-8578)\n",
        "print ('Multiplicacion: ', 9*96)\n",
        "print ('Division: ', 159/753)\n",
        "print ('Exponencial: ', 2**100)"
      ]
    },
    {
      "cell_type": "markdown",
      "metadata": {
        "id": "0K0Jor_tqMsw"
      },
      "source": [
        "**My own example 29**"
      ]
    },
    {
      "cell_type": "code",
      "execution_count": 29,
      "metadata": {
        "colab": {
          "base_uri": "https://localhost:8080/"
        },
        "id": "OoyoO6GXj8To",
        "outputId": "1c94a162-be70-4c70-baf8-2332260f006d"
      },
      "outputs": [
        {
          "output_type": "stream",
          "name": "stdout",
          "text": [
            "Modulo:  1\n"
          ]
        }
      ],
      "source": [
        "print ('Modulo: ', 25%4)"
      ]
    },
    {
      "cell_type": "markdown",
      "metadata": {
        "id": "adoSjnArqOBr"
      },
      "source": [
        "**My own example 30**"
      ]
    },
    {
      "cell_type": "code",
      "execution_count": 30,
      "metadata": {
        "colab": {
          "base_uri": "https://localhost:8080/"
        },
        "id": "v4Xpt7qvfgbA",
        "outputId": "c1f229aa-6cc1-40ee-f083-193b1fcbfa24"
      },
      "outputs": [
        {
          "output_type": "stream",
          "name": "stdout",
          "text": [
            "35\n"
          ]
        }
      ],
      "source": [
        "yy= 178\n",
        "Tr = 5\n",
        "print (int(yy / Tr))\n"
      ]
    },
    {
      "cell_type": "markdown",
      "metadata": {
        "id": "P9cSxo7HqQVo"
      },
      "source": [
        "**My own example 31**"
      ]
    },
    {
      "cell_type": "code",
      "execution_count": 31,
      "metadata": {
        "colab": {
          "base_uri": "https://localhost:8080/"
        },
        "id": "rQTwDoqyhIUB",
        "outputId": "0777ad97-9df1-48f9-bca9-395f53001513"
      },
      "outputs": [
        {
          "output_type": "execute_result",
          "data": {
            "text/plain": [
              "8"
            ]
          },
          "metadata": {},
          "execution_count": 31
        }
      ],
      "source": [
        "import math as mt\n",
        "abs(-8)\n"
      ]
    },
    {
      "cell_type": "markdown",
      "metadata": {
        "id": "1N-JJ2E1qRpc"
      },
      "source": [
        "**My own example 32**"
      ]
    },
    {
      "cell_type": "code",
      "execution_count": 32,
      "metadata": {
        "colab": {
          "base_uri": "https://localhost:8080/"
        },
        "id": "T2qK5EPGj-cO",
        "outputId": "8f706839-9d5c-41e8-f6cd-ca3b4d4c11ea"
      },
      "outputs": [
        {
          "output_type": "stream",
          "name": "stdout",
          "text": [
            "pi=  3.141592653589793\n"
          ]
        }
      ],
      "source": [
        "print (\"pi= \", mt.pi)"
      ]
    },
    {
      "cell_type": "markdown",
      "metadata": {
        "id": "Z8ESDYk1qTZI"
      },
      "source": [
        "**My own example 33**"
      ]
    },
    {
      "cell_type": "code",
      "execution_count": 33,
      "metadata": {
        "colab": {
          "base_uri": "https://localhost:8080/"
        },
        "id": "yRmABTwFgeA5",
        "outputId": "45447203-8934-43e3-e28f-e1d2e316eb89"
      },
      "outputs": [
        {
          "output_type": "execute_result",
          "data": {
            "text/plain": [
              "4.25996440809066"
            ]
          },
          "metadata": {},
          "execution_count": 33
        }
      ],
      "source": [
        "k = np.random.normal(0, 2, 100)\n",
        "max(k)"
      ]
    },
    {
      "cell_type": "markdown",
      "metadata": {
        "id": "SvAR3BtQqU5K"
      },
      "source": [
        "**My own example 34**"
      ]
    },
    {
      "cell_type": "code",
      "execution_count": 34,
      "metadata": {
        "colab": {
          "base_uri": "https://localhost:8080/"
        },
        "id": "HbMUy4CfkAFh",
        "outputId": "cad66a55-4bb4-488f-9b9d-53aea4272355"
      },
      "outputs": [
        {
          "output_type": "execute_result",
          "data": {
            "text/plain": [
              "-5.588656610860773"
            ]
          },
          "metadata": {},
          "execution_count": 34
        }
      ],
      "source": [
        "min(k)"
      ]
    },
    {
      "cell_type": "markdown",
      "metadata": {
        "id": "EvNvky1OqYF-"
      },
      "source": [
        "**My own example 35**"
      ]
    },
    {
      "cell_type": "code",
      "execution_count": 35,
      "metadata": {
        "colab": {
          "base_uri": "https://localhost:8080/"
        },
        "id": "dVUcmVy3ge25",
        "outputId": "a62d22c0-9c5b-4dee-f6fa-24de286d4dc0"
      },
      "outputs": [
        {
          "output_type": "execute_result",
          "data": {
            "text/plain": [
              "-34.142563280565255"
            ]
          },
          "metadata": {},
          "execution_count": 35
        }
      ],
      "source": [
        "sum(k)"
      ]
    },
    {
      "cell_type": "markdown",
      "metadata": {
        "id": "cK31gkjvqcDi"
      },
      "source": [
        "**My own example 36**"
      ]
    },
    {
      "cell_type": "code",
      "execution_count": 36,
      "metadata": {
        "colab": {
          "base_uri": "https://localhost:8080/"
        },
        "id": "PyxoC7lGkA4G",
        "outputId": "670514ff-b52c-477b-fc7b-c28cfd1002ad"
      },
      "outputs": [
        {
          "output_type": "stream",
          "name": "stdout",
          "text": [
            "[5, 8, 9, 9, 48, 85, 2, 8, 75, 5, 78, 8, 98, 9.8, 98, 'as', 'oaskd']\n"
          ]
        }
      ],
      "source": [
        "lista1=[5,8,9,9,48,85,2,8,75,5,78]\n",
        "lista2=[8,98,9.8,98]\n",
        "lista3=[\"as\",\"oaskd\"]\n",
        "listat=lista1+lista2+lista3\n",
        "print(listat)"
      ]
    },
    {
      "cell_type": "markdown",
      "metadata": {
        "id": "smJQz5v9qdPs"
      },
      "source": [
        "**My own example 37**"
      ]
    },
    {
      "cell_type": "code",
      "execution_count": 37,
      "metadata": {
        "colab": {
          "base_uri": "https://localhost:8080/"
        },
        "id": "0rZKoOwnge9W",
        "outputId": "06554a94-73cb-4fa4-f7f0-6f3218af0799"
      },
      "outputs": [
        {
          "output_type": "stream",
          "name": "stdout",
          "text": [
            "[9, 9, 48, 85, 2, 8]\n"
          ]
        }
      ],
      "source": [
        "print(listat[2:8])"
      ]
    },
    {
      "cell_type": "markdown",
      "metadata": {
        "id": "e42noZBIqfiB"
      },
      "source": [
        "**My own example 38**"
      ]
    },
    {
      "cell_type": "code",
      "execution_count": 38,
      "metadata": {
        "colab": {
          "base_uri": "https://localhost:8080/"
        },
        "id": "vbBXC2eukCVb",
        "outputId": "b908c8b2-57b4-4852-acf8-b4194fbec7d3"
      },
      "outputs": [
        {
          "output_type": "stream",
          "name": "stdout",
          "text": [
            "range(0, 10)\n"
          ]
        }
      ],
      "source": [
        "b = 10\n",
        "lista1 = range(b)\n",
        "print (lista1)"
      ]
    },
    {
      "cell_type": "markdown",
      "metadata": {
        "id": "Oycf_fI_qg2I"
      },
      "source": [
        "**My own example 39**"
      ]
    },
    {
      "cell_type": "code",
      "execution_count": 39,
      "metadata": {
        "colab": {
          "base_uri": "https://localhost:8080/"
        },
        "id": "gyMPvqXngfOQ",
        "outputId": "aae4b740-3e21-4b79-9992-e9a8f1743e9c"
      },
      "outputs": [
        {
          "output_type": "stream",
          "name": "stdout",
          "text": [
            "range(0, 10)\n"
          ]
        }
      ],
      "source": [
        "a = 0\n",
        "b = 10\n",
        "lista2 = range(a, b)\n",
        "print (lista2)"
      ]
    },
    {
      "cell_type": "markdown",
      "metadata": {
        "id": "SAWLpxsEqiaW"
      },
      "source": [
        "**My own example 40**"
      ]
    },
    {
      "cell_type": "code",
      "execution_count": 40,
      "metadata": {
        "colab": {
          "base_uri": "https://localhost:8080/"
        },
        "id": "wqe-0HkdkD41",
        "outputId": "ab30710a-b538-4ef8-e028-99d19a3e7878"
      },
      "outputs": [
        {
          "output_type": "stream",
          "name": "stdout",
          "text": [
            "True\n"
          ]
        }
      ],
      "source": [
        "m = 2\n",
        "n = 23\n",
        "print (m < n)"
      ]
    },
    {
      "cell_type": "markdown",
      "metadata": {
        "id": "h2rDQQUlXFEX"
      },
      "source": [
        "#Quanconnect Tutorial 1 Python"
      ]
    },
    {
      "cell_type": "markdown",
      "metadata": {
        "id": "M5x65flhqlb9"
      },
      "source": [
        "**My own example 41**"
      ]
    },
    {
      "cell_type": "code",
      "execution_count": 41,
      "metadata": {
        "colab": {
          "base_uri": "https://localhost:8080/"
        },
        "id": "2xgtXpFJkFzf",
        "outputId": "e1fef5d9-9921-4e6b-8215-7e69d915ad46"
      },
      "outputs": [
        {
          "output_type": "stream",
          "name": "stdout",
          "text": [
            "vamos a pasar metodos numericos\n"
          ]
        }
      ],
      "source": [
        "mt1 = 'vamos a pasar'\n",
        "mt2 = 'metodos numericos'\n",
        "print(mt1 + ' ' + mt2)"
      ]
    },
    {
      "cell_type": "markdown",
      "metadata": {
        "id": "p4s_VPcVqtBB"
      },
      "source": [
        "**My own example 42**"
      ]
    },
    {
      "cell_type": "code",
      "execution_count": 42,
      "metadata": {
        "colab": {
          "base_uri": "https://localhost:8080/"
        },
        "id": "5YJxil_ekgZk",
        "outputId": "5d9c8728-6fa0-4681-debb-c3d7a829e319"
      },
      "outputs": [
        {
          "output_type": "stream",
          "name": "stdout",
          "text": [
            "<class 'str'>\n",
            "<class 'int'>\n"
          ]
        }
      ],
      "source": [
        "mt1 = '100'\n",
        "print(type(mt1))\n",
        "mii = int(mt1)\n",
        "print(type(mii))"
      ]
    },
    {
      "cell_type": "markdown",
      "metadata": {
        "id": "3MZcnvaWquaw"
      },
      "source": [
        "**My own example 43**"
      ]
    },
    {
      "cell_type": "code",
      "execution_count": 43,
      "metadata": {
        "colab": {
          "base_uri": "https://localhost:8080/"
        },
        "id": "nljq8idMkggZ",
        "outputId": "4fcc2fe0-079e-48a8-df1d-54f2af7e6e00"
      },
      "outputs": [
        {
          "output_type": "stream",
          "name": "stdout",
          "text": [
            "True\n",
            "<class 'bool'>\n"
          ]
        }
      ],
      "source": [
        "mb = True\n",
        "print(mb)\n",
        "print(type(mb))"
      ]
    },
    {
      "cell_type": "markdown",
      "metadata": {
        "id": "Vgh43F6RqvxD"
      },
      "source": [
        "**My own example 44**"
      ]
    },
    {
      "cell_type": "code",
      "execution_count": 44,
      "metadata": {
        "colab": {
          "base_uri": "https://localhost:8080/"
        },
        "id": "Smd9umrQkghx",
        "outputId": "d16ad027-265e-43f5-e91f-a9c017d0f882"
      },
      "outputs": [
        {
          "output_type": "stream",
          "name": "stdout",
          "text": [
            "Suma  1235\n",
            "Resta  11\n",
            "Multiplicación  6\n",
            "División  10.0\n",
            "Exponencial 4294967296\n"
          ]
        }
      ],
      "source": [
        "print(\"Suma \", 1234+1)\n",
        "print(\"Resta \", 23-12)\n",
        "print(\"Multiplicación \", 2*3)\n",
        "print(\"División \", 70/7)\n",
        "print('Exponencial', 2**32) "
      ]
    },
    {
      "cell_type": "markdown",
      "metadata": {
        "id": "r30HVnwXqxSb"
      },
      "source": [
        "**My own example 45**"
      ]
    },
    {
      "cell_type": "code",
      "execution_count": 45,
      "metadata": {
        "colab": {
          "base_uri": "https://localhost:8080/"
        },
        "id": "qHgTGuMNkgja",
        "outputId": "0ca6f8d2-c5ce-4af5-a98a-a7230547e58e"
      },
      "outputs": [
        {
          "output_type": "stream",
          "name": "stdout",
          "text": [
            "['ji', 'jo', 1, 2, 3]\n"
          ]
        }
      ],
      "source": [
        "ml = ['ji', 'jo', 1,2,3]\n",
        "print(ml)"
      ]
    },
    {
      "cell_type": "markdown",
      "metadata": {
        "id": "AOfVGZHrqzeZ"
      },
      "source": [
        "**My own example 46**"
      ]
    },
    {
      "cell_type": "code",
      "execution_count": 46,
      "metadata": {
        "colab": {
          "base_uri": "https://localhost:8080/"
        },
        "id": "MT0Yjyuukgky",
        "outputId": "d385345a-df94-458f-c42b-6e70df3043fe"
      },
      "outputs": [
        {
          "output_type": "stream",
          "name": "stdout",
          "text": [
            "5\n",
            "ji\n",
            "3\n"
          ]
        }
      ],
      "source": [
        "print(len(ml))\n",
        "print(ml[0])\n",
        "print(ml[len(ml) -1])"
      ]
    },
    {
      "cell_type": "markdown",
      "metadata": {
        "id": "LWU7px9vq067"
      },
      "source": [
        "**My own example 47**"
      ]
    },
    {
      "cell_type": "code",
      "execution_count": 47,
      "metadata": {
        "colab": {
          "base_uri": "https://localhost:8080/"
        },
        "id": "SxJ-MHdJkgmI",
        "outputId": "dc787a1d-2140-4fa7-ed36-d3ed464ea753"
      },
      "outputs": [
        {
          "output_type": "stream",
          "name": "stdout",
          "text": [
            "['ji', 'jo', 'O_o', 2, 3]\n"
          ]
        }
      ],
      "source": [
        "ml[2] = 'O_o'\n",
        "print(ml)"
      ]
    },
    {
      "cell_type": "markdown",
      "metadata": {
        "id": "fyELraOhq2j5"
      },
      "source": [
        "**My own example 48**"
      ]
    },
    {
      "cell_type": "code",
      "execution_count": 48,
      "metadata": {
        "colab": {
          "base_uri": "https://localhost:8080/"
        },
        "id": "H2JWcqpzkgni",
        "outputId": "87338637-567f-4a7c-93b2-1fa738e42262"
      },
      "outputs": [
        {
          "output_type": "stream",
          "name": "stdout",
          "text": [
            "['ji', 'jo', 'O_o']\n"
          ]
        }
      ],
      "source": [
        "print(ml[0:3]) "
      ]
    },
    {
      "cell_type": "markdown",
      "metadata": {
        "id": "JSg3DsHFq2qv"
      },
      "source": [
        "**My own example 49**"
      ]
    },
    {
      "cell_type": "code",
      "execution_count": 49,
      "metadata": {
        "colab": {
          "base_uri": "https://localhost:8080/"
        },
        "id": "SuA65nYMkgo_",
        "outputId": "1e42a698-b57f-45fa-f98c-a885a6c2a355"
      },
      "outputs": [
        {
          "output_type": "stream",
          "name": "stdout",
          "text": [
            "['jo', 'O_o', 2, 3]\n"
          ]
        }
      ],
      "source": [
        "print(ml[1:])"
      ]
    },
    {
      "cell_type": "markdown",
      "metadata": {
        "id": "9qYXk3S2q77H"
      },
      "source": [
        "**My own example 50**"
      ]
    },
    {
      "cell_type": "code",
      "execution_count": 50,
      "metadata": {
        "colab": {
          "base_uri": "https://localhost:8080/"
        },
        "id": "7uYklcC6kgsE",
        "outputId": "c5c0236c-f184-4b5a-e745-7ea46015ec0b"
      },
      "outputs": [
        {
          "output_type": "stream",
          "name": "stdout",
          "text": [
            "['ji', 'jo', 'O_o', 2]\n"
          ]
        }
      ],
      "source": [
        "print(ml[:4])"
      ]
    },
    {
      "cell_type": "markdown",
      "metadata": {
        "id": "Nm5Z4u0lq-0S"
      },
      "source": [
        "**My own example 51**"
      ]
    },
    {
      "cell_type": "code",
      "execution_count": 51,
      "metadata": {
        "colab": {
          "base_uri": "https://localhost:8080/"
        },
        "id": "iQL8xgETkguF",
        "outputId": "feddd36e-0879-450e-c235-8011a2b46c8f"
      },
      "outputs": [
        {
          "output_type": "stream",
          "name": "stdout",
          "text": [
            "['ji', 'jo', 'O_o', 2, 3, 'rere']\n"
          ]
        }
      ],
      "source": [
        "ml.append('rere')\n",
        "print(ml)"
      ]
    },
    {
      "cell_type": "markdown",
      "metadata": {
        "id": "UmZjIZ6CrA3-"
      },
      "source": [
        "**My own example 52**"
      ]
    },
    {
      "cell_type": "code",
      "execution_count": 52,
      "metadata": {
        "colab": {
          "base_uri": "https://localhost:8080/"
        },
        "id": "ZI3Ml7B8kgwR",
        "outputId": "bc1ee4a4-276c-4c50-9635-4fb0e86da6f3"
      },
      "outputs": [
        {
          "output_type": "stream",
          "name": "stdout",
          "text": [
            "['ji', 'jo', 'O_o', 3, 'rere']\n"
          ]
        }
      ],
      "source": [
        "ml.remove(2)\n",
        "print(ml)\n"
      ]
    },
    {
      "cell_type": "markdown",
      "metadata": {
        "id": "kWSaFMYerCcY"
      },
      "source": [
        "**My own example 53**"
      ]
    },
    {
      "cell_type": "code",
      "execution_count": 53,
      "metadata": {
        "colab": {
          "base_uri": "https://localhost:8080/"
        },
        "id": "Vy6jt5E7kgx1",
        "outputId": "2e77ffb8-ab19-470c-c482-cbc24fbef9f6"
      },
      "outputs": [
        {
          "output_type": "stream",
          "name": "stdout",
          "text": [
            "{'sas', 'saa', 's', 'a', 'aa', 'aaa'}\n"
          ]
        }
      ],
      "source": [
        "sl = ['aa','a','aaa','aa','s','sas','saa','sas']\n",
        "sl = set(sl)\n",
        "print(sl)"
      ]
    },
    {
      "cell_type": "markdown",
      "metadata": {
        "id": "Rq_LMF8orDn1"
      },
      "source": [
        "**My own example 54**"
      ]
    },
    {
      "cell_type": "code",
      "execution_count": 54,
      "metadata": {
        "colab": {
          "base_uri": "https://localhost:8080/"
        },
        "id": "DaFsQJeEkgzU",
        "outputId": "55888f82-217e-4652-ce2b-9d59883c797d"
      },
      "outputs": [
        {
          "output_type": "stream",
          "name": "stdout",
          "text": [
            "stock list\n"
          ]
        }
      ],
      "source": [
        "my_dic = {'sl':'stock list', 'FB':'FaceBook', 'GOOG':'Alphabet'}\n",
        "print(my_dic['sl'])"
      ]
    },
    {
      "cell_type": "markdown",
      "metadata": {
        "id": "a9kY2ThjrE9U"
      },
      "source": [
        "**My own example 55**"
      ]
    },
    {
      "cell_type": "code",
      "execution_count": 55,
      "metadata": {
        "colab": {
          "base_uri": "https://localhost:8080/"
        },
        "id": "CJu9FfEBkg01",
        "outputId": "45096a93-d4f3-4bdb-abc5-50a8141809b4"
      },
      "outputs": [
        {
          "output_type": "stream",
          "name": "stdout",
          "text": [
            "dict_keys(['sl', 'FB', 'GOOG'])\n"
          ]
        }
      ],
      "source": [
        "print(my_dic.keys())"
      ]
    },
    {
      "cell_type": "markdown",
      "metadata": {
        "id": "OuXiQZp7rGJE"
      },
      "source": [
        "**My own example 56**"
      ]
    },
    {
      "cell_type": "code",
      "execution_count": 56,
      "metadata": {
        "colab": {
          "base_uri": "https://localhost:8080/"
        },
        "id": "HKQDdBK1kg2U",
        "outputId": "a7561eba-d0b2-49a4-c123-5213a9c83402"
      },
      "outputs": [
        {
          "output_type": "stream",
          "name": "stdout",
          "text": [
            "ensefalograma\n"
          ]
        }
      ],
      "source": [
        "my_str = 'electroensefalograma'\n",
        "print(my_str[7:]) "
      ]
    },
    {
      "cell_type": "markdown",
      "metadata": {
        "id": "f35UwykurHXA"
      },
      "source": [
        "**My own example 57**"
      ]
    },
    {
      "cell_type": "code",
      "execution_count": 57,
      "metadata": {
        "colab": {
          "base_uri": "https://localhost:8080/"
        },
        "id": "1zuVGLF5kg32",
        "outputId": "bd8d204c-6933-41df-97da-1ce858b12691"
      },
      "outputs": [
        {
          "output_type": "stream",
          "name": "stdout",
          "text": [
            "4\n",
            "17\n",
            "pasilla\n"
          ]
        }
      ],
      "source": [
        "print('electroensefalograma'.count('e'))\n",
        "print('The first time e appears in this sentence'.find('a'))\n",
        "print('posillo'.replace('o','a'))"
      ]
    },
    {
      "cell_type": "markdown",
      "metadata": {
        "id": "D4lfWxJvrJhk"
      },
      "source": [
        "**My own example 58**"
      ]
    },
    {
      "cell_type": "code",
      "execution_count": 58,
      "metadata": {
        "colab": {
          "base_uri": "https://localhost:8080/"
        },
        "id": "DRQYcgVGkg5h",
        "outputId": "a1d8b7be-042d-415a-aec1-b0196fc583fb"
      },
      "outputs": [
        {
          "output_type": "stream",
          "name": "stdout",
          "text": [
            "2023-02-18 09:43:00\n",
            "09\n"
          ]
        }
      ],
      "source": [
        "Time = '2023-02-18 09:43:00'\n",
        "splited_list = Time.split(' ')\n",
        "date = splited_list[0]\n",
        "time = splited_list[1]\n",
        "print(date, time)\n",
        "hour = time.split(':')[0]\n",
        "print(hour)"
      ]
    },
    {
      "cell_type": "markdown",
      "metadata": {
        "id": "jP1co116rK4D"
      },
      "source": [
        "**My own example 59**"
      ]
    },
    {
      "cell_type": "code",
      "execution_count": 59,
      "metadata": {
        "colab": {
          "base_uri": "https://localhost:8080/"
        },
        "id": "r_HvJHFBkg7N",
        "outputId": "45f40a91-ea52-46ab-c3fb-2a7b97e91637"
      },
      "outputs": [
        {
          "output_type": "stream",
          "name": "stdout",
          "text": [
            "sal\n"
          ]
        }
      ],
      "source": [
        "my_dic['sl'] = 'sal'\n",
        "print(my_dic['sl'])"
      ]
    },
    {
      "cell_type": "markdown",
      "metadata": {
        "id": "4cCSYCP2rMnT"
      },
      "source": [
        "**My own example 60**"
      ]
    },
    {
      "cell_type": "code",
      "execution_count": 60,
      "metadata": {
        "colab": {
          "base_uri": "https://localhost:8080/"
        },
        "id": "0WtMmnHBkg85",
        "outputId": "ab596bb0-0f4a-4e0f-dd0d-8d5e92595ceb"
      },
      "outputs": [
        {
          "output_type": "stream",
          "name": "stdout",
          "text": [
            "gooooooooooooooooooooooooooooooooooooooooooo\n"
          ]
        }
      ],
      "source": [
        "my_dic['GOOD'] = 'gooooooooooooooooooooooooooooooooooooooooooo'\n",
        "print(my_dic['GOOD'])"
      ]
    },
    {
      "cell_type": "markdown",
      "metadata": {
        "id": "BTfJTOEd07Dl"
      },
      "source": [
        "#Quanconnect Tutorial 2 Python"
      ]
    },
    {
      "cell_type": "markdown",
      "metadata": {
        "id": "HTe-thJBrO9G"
      },
      "source": [
        "**My own example 61**"
      ]
    },
    {
      "cell_type": "code",
      "execution_count": 61,
      "metadata": {
        "colab": {
          "base_uri": "https://localhost:8080/"
        },
        "id": "RExGJWCIkg-r",
        "outputId": "f5207f4a-cafc-4a2a-db82-19503b2fe0a0"
      },
      "outputs": [
        {
          "output_type": "stream",
          "name": "stdout",
          "text": [
            "False\n"
          ]
        }
      ],
      "source": [
        "print(98 == 0)"
      ]
    },
    {
      "cell_type": "markdown",
      "metadata": {
        "id": "4C6NOfLqrQZa"
      },
      "source": [
        "**My own example 62**"
      ]
    },
    {
      "cell_type": "code",
      "execution_count": 62,
      "metadata": {
        "colab": {
          "base_uri": "https://localhost:8080/"
        },
        "id": "qI55Qo2nkhAT",
        "outputId": "d11ace3f-7724-48cb-f3b7-08c0bf9aa161"
      },
      "outputs": [
        {
          "output_type": "stream",
          "name": "stdout",
          "text": [
            "True\n"
          ]
        }
      ],
      "source": [
        "print(11 == 11)"
      ]
    },
    {
      "cell_type": "markdown",
      "metadata": {
        "id": "p5L-BSfKrR6n"
      },
      "source": [
        "**My own example 63**"
      ]
    },
    {
      "cell_type": "code",
      "execution_count": 63,
      "metadata": {
        "colab": {
          "base_uri": "https://localhost:8080/"
        },
        "id": "qGma7DyPkhCA",
        "outputId": "b3c675a2-2606-4da5-93c0-dd66fa4a0121"
      },
      "outputs": [
        {
          "output_type": "stream",
          "name": "stdout",
          "text": [
            "False\n"
          ]
        }
      ],
      "source": [
        "print(0 != 0)"
      ]
    },
    {
      "cell_type": "markdown",
      "metadata": {
        "id": "DfyAVPKKrTLy"
      },
      "source": [
        "**My own example 64**"
      ]
    },
    {
      "cell_type": "code",
      "execution_count": 64,
      "metadata": {
        "colab": {
          "base_uri": "https://localhost:8080/"
        },
        "id": "PU7vEDPGkhDc",
        "outputId": "bcb94116-282e-4e13-ec71-47a3a22051c4"
      },
      "outputs": [
        {
          "output_type": "stream",
          "name": "stdout",
          "text": [
            "True\n"
          ]
        }
      ],
      "source": [
        "print(8 >= 5)"
      ]
    },
    {
      "cell_type": "markdown",
      "metadata": {
        "id": "Cho079KvrUeJ"
      },
      "source": [
        "**My own example 65**"
      ]
    },
    {
      "cell_type": "code",
      "execution_count": 65,
      "metadata": {
        "colab": {
          "base_uri": "https://localhost:8080/"
        },
        "id": "ufcJTt2SkhE-",
        "outputId": "d052d930-21ee-47b8-eede-7dab8903d422"
      },
      "outputs": [
        {
          "output_type": "stream",
          "name": "stdout",
          "text": [
            "False\n"
          ]
        }
      ],
      "source": [
        "print(-7 >= 6)"
      ]
    },
    {
      "cell_type": "markdown",
      "metadata": {
        "id": "arAFhA1SrVta"
      },
      "source": [
        "**My own example 66**"
      ]
    },
    {
      "cell_type": "code",
      "execution_count": 66,
      "metadata": {
        "colab": {
          "base_uri": "https://localhost:8080/"
        },
        "id": "PHzfaynBkhGf",
        "outputId": "9c3fc1e0-2fbd-49fe-b37c-d51c8490f4d5"
      },
      "outputs": [
        {
          "output_type": "stream",
          "name": "stdout",
          "text": [
            "True\n"
          ]
        }
      ],
      "source": [
        "print(2 > 1 and 3 > 2)"
      ]
    },
    {
      "cell_type": "markdown",
      "metadata": {
        "id": "L1cbB682rVze"
      },
      "source": [
        "**My own example 67**"
      ]
    },
    {
      "cell_type": "code",
      "execution_count": 67,
      "metadata": {
        "colab": {
          "base_uri": "https://localhost:8080/"
        },
        "id": "TomOTIZfkhIJ",
        "outputId": "3e005c8d-305f-4d7c-e30c-f4a6f6c73c64"
      },
      "outputs": [
        {
          "output_type": "stream",
          "name": "stdout",
          "text": [
            "True\n"
          ]
        }
      ],
      "source": [
        "print(2 > 1 or 3 < 2)"
      ]
    },
    {
      "cell_type": "markdown",
      "metadata": {
        "id": "xDxsCFpxrdv1"
      },
      "source": [
        "**My own example 68**"
      ]
    },
    {
      "cell_type": "code",
      "execution_count": 68,
      "metadata": {
        "colab": {
          "base_uri": "https://localhost:8080/"
        },
        "id": "GyYXSz6PmK_q",
        "outputId": "cf1e1838-ade3-4187-e4d9-b3c4a85ff12d"
      },
      "outputs": [
        {
          "output_type": "stream",
          "name": "stdout",
          "text": [
            "q es falsa\n"
          ]
        }
      ],
      "source": [
        "p = 78> 0\n",
        "q = 2 >11\n",
        "if p and q:\n",
        "    print('p y q es verdadero')\n",
        "elif p and not q:\n",
        "    print('q es falsa')\n",
        "elif q and not p:\n",
        "    print('p es falsa')\n",
        "else:\n",
        "    print('p y q son falsas')"
      ]
    },
    {
      "cell_type": "markdown",
      "metadata": {
        "id": "SMqLFnhjre3A"
      },
      "source": [
        "**My own example 69**"
      ]
    },
    {
      "cell_type": "code",
      "execution_count": 69,
      "metadata": {
        "colab": {
          "base_uri": "https://localhost:8080/"
        },
        "id": "1aPEEnwrmLK9",
        "outputId": "01d1cffd-073e-47d0-f92d-80d0ac971440"
      },
      "outputs": [
        {
          "output_type": "stream",
          "name": "stdout",
          "text": [
            "2\n",
            "4\n",
            "8\n",
            "16\n",
            "32\n",
            "64\n",
            "128\n"
          ]
        }
      ],
      "source": [
        "i = 2\n",
        "while i < 256:\n",
        "    print(i)\n",
        "    i *=2  "
      ]
    },
    {
      "cell_type": "markdown",
      "metadata": {
        "id": "frzjsapWrgWF"
      },
      "source": [
        "**My own example 70**"
      ]
    },
    {
      "cell_type": "code",
      "execution_count": 70,
      "metadata": {
        "colab": {
          "base_uri": "https://localhost:8080/"
        },
        "id": "swIeAjTkmLT6",
        "outputId": "56e5f515-0f4a-4e67-c6e6-04222d0cc96e"
      },
      "outputs": [
        {
          "output_type": "stream",
          "name": "stdout",
          "text": [
            "1243\n",
            "231\n",
            "324\n",
            "56\n"
          ]
        }
      ],
      "source": [
        "for i in [1243,231,324,56]:\n",
        "    print(i)"
      ]
    },
    {
      "cell_type": "markdown",
      "metadata": {
        "id": "NFIUql8orjWC"
      },
      "source": [
        "**My own example 71**"
      ]
    },
    {
      "cell_type": "code",
      "execution_count": 71,
      "metadata": {
        "colab": {
          "base_uri": "https://localhost:8080/"
        },
        "id": "DEjqsIQ2mLru",
        "outputId": "c3cfe5bf-c30d-4a43-d1be-a1b6ceb0405b"
      },
      "outputs": [
        {
          "output_type": "stream",
          "name": "stdout",
          "text": [
            "[1, 8, 27, 64, 125]\n"
          ]
        }
      ],
      "source": [
        "exp3 = []\n",
        "for i in [1,2,3,4,5]:\n",
        "    exp3.append(i**3)\n",
        "print(exp3)"
      ]
    },
    {
      "cell_type": "markdown",
      "metadata": {
        "id": "-1Vh4IQQrlGL"
      },
      "source": [
        "**My own example 72**"
      ]
    },
    {
      "cell_type": "code",
      "execution_count": 72,
      "metadata": {
        "colab": {
          "base_uri": "https://localhost:8080/"
        },
        "id": "gxtJTwMcmLx7",
        "outputId": "ef321dfc-f37a-42ce-e9e4-c92cfc6d8cfc"
      },
      "outputs": [
        {
          "output_type": "stream",
          "name": "stdout",
          "text": [
            "[1, 64, 729, 4096, 15625]\n"
          ]
        }
      ],
      "source": [
        "exp6 = [x**2 for x in exp3]\n",
        "print(exp6)"
      ]
    },
    {
      "cell_type": "markdown",
      "metadata": {
        "id": "xbxM8cSyrmnx"
      },
      "source": [
        "**My own example 73**"
      ]
    },
    {
      "cell_type": "code",
      "execution_count": 73,
      "metadata": {
        "colab": {
          "base_uri": "https://localhost:8080/"
        },
        "id": "cW0mkQ9-mL06",
        "outputId": "0b1b5b60-99fb-44fa-d5f8-401fc5aa2399"
      },
      "outputs": [
        {
          "output_type": "stream",
          "name": "stdout",
          "text": [
            "-8\n",
            "-4.0\n",
            "-2.0\n",
            "-1.0\n"
          ]
        }
      ],
      "source": [
        "i =-8\n",
        "while i < -.5:\n",
        "    print(i)\n",
        "    i /=2  "
      ]
    },
    {
      "cell_type": "markdown",
      "metadata": {
        "id": "csBn0cGcrn92"
      },
      "source": [
        "**My own example 74**"
      ]
    },
    {
      "cell_type": "code",
      "execution_count": 74,
      "metadata": {
        "colab": {
          "base_uri": "https://localhost:8080/"
        },
        "id": "RDzyZbg0mZk3",
        "outputId": "914bb4ac-d22c-410f-fb18-a26e603cbc5e"
      },
      "outputs": [
        {
          "output_type": "stream",
          "name": "stdout",
          "text": [
            "[2, 4, 8, 16, 32, 64, 128, 256, 512, 1024, 2048]\n"
          ]
        }
      ],
      "source": [
        "i =1\n",
        "ex=[]\n",
        "while i < 2024:\n",
        "    i *=2 \n",
        "    ex.append(i)\n",
        "print(ex)"
      ]
    },
    {
      "cell_type": "markdown",
      "metadata": {
        "id": "l4DnjJRvro-k"
      },
      "source": [
        "**My own example 75**"
      ]
    },
    {
      "cell_type": "code",
      "execution_count": 75,
      "metadata": {
        "colab": {
          "base_uri": "https://localhost:8080/"
        },
        "id": "toUB5iy9mZoZ",
        "outputId": "66b4f31b-609d-4be5-8b40-dd1e62262526"
      },
      "outputs": [
        {
          "output_type": "stream",
          "name": "stdout",
          "text": [
            "ab\n",
            "te\n",
            "fa\n",
            "Fa\n",
            "er\n",
            "rfwq\n",
            "fas\n"
          ]
        }
      ],
      "source": [
        "st = ['ab','ce','te','fa','Fa','er', 'rfwq', 'fas']\n",
        "for i in st:\n",
        "    if i == 'ce':\n",
        "        continue\n",
        "    print(i)"
      ]
    },
    {
      "cell_type": "markdown",
      "metadata": {
        "id": "pZSAqNTTrq6P"
      },
      "source": [
        "**My own example 76**"
      ]
    },
    {
      "cell_type": "code",
      "execution_count": 76,
      "metadata": {
        "colab": {
          "base_uri": "https://localhost:8080/"
        },
        "id": "m7hY4R_ImZyy",
        "outputId": "1b0bd0e0-d5d5-4859-bf69-ae0fd4fd6903"
      },
      "outputs": [
        {
          "output_type": "stream",
          "name": "stdout",
          "text": [
            "ab\n",
            "ce\n"
          ]
        }
      ],
      "source": [
        "st = ['ab','ce','te','fa','Fa','er', 'rfwq', 'fas']\n",
        "for i in st:\n",
        "    print(i)\n",
        "    if i == 'ce':\n",
        "        break"
      ]
    },
    {
      "cell_type": "markdown",
      "metadata": {
        "id": "oUy3YdwCru7b"
      },
      "source": [
        "**My own example 77**"
      ]
    },
    {
      "cell_type": "code",
      "execution_count": 77,
      "metadata": {
        "colab": {
          "base_uri": "https://localhost:8080/"
        },
        "id": "L7nd3084mZ3L",
        "outputId": "efa87afc-87ec-4fd0-f43a-9d0a28ca03ca"
      },
      "outputs": [
        {
          "output_type": "stream",
          "name": "stdout",
          "text": [
            "[3.0, 6.0, 9.0, 1388.7886808294486]\n"
          ]
        }
      ],
      "source": [
        "raices = []\n",
        "for i in [9,36,81,1928734]:\n",
        "    raices.append(i**0.5)\n",
        "print(raices)"
      ]
    },
    {
      "cell_type": "markdown",
      "metadata": {
        "id": "MN6Pe5Pb9gLt"
      },
      "source": [
        "**My own example 78**"
      ]
    },
    {
      "cell_type": "code",
      "execution_count": 78,
      "metadata": {
        "colab": {
          "base_uri": "https://localhost:8080/"
        },
        "id": "gu7Xo4Qn92HU",
        "outputId": "bf588aa5-8f02-421c-8b2f-cf8e3fa1ab75"
      },
      "outputs": [
        {
          "output_type": "stream",
          "name": "stdout",
          "text": [
            "[1.1518987341772151, 0.45569620253164556, 1.0253164556962024, 24414.354430379746]\n"
          ]
        }
      ],
      "source": [
        "div = []\n",
        "for i in [91,36,81,1928734]:\n",
        "    div.append(i/79)\n",
        "print(div)"
      ]
    },
    {
      "cell_type": "markdown",
      "metadata": {
        "id": "_DZO3FnFrwMI"
      },
      "source": [
        "**My own example 79**"
      ]
    },
    {
      "cell_type": "code",
      "execution_count": 79,
      "metadata": {
        "colab": {
          "base_uri": "https://localhost:8080/"
        },
        "id": "2ibFmzVm7jK3",
        "outputId": "85e28512-3b97-4698-edb7-d2509117f6bb"
      },
      "outputs": [
        {
          "output_type": "stream",
          "name": "stdout",
          "text": [
            "1\n",
            "[2]\n",
            "2\n",
            "[2, 4]\n",
            "4\n",
            "[2, 4, 8]\n",
            "8\n",
            "[2, 4, 8, 16]\n",
            "16\n",
            "[2, 4, 8, 16, 32]\n",
            "32\n",
            "[2, 4, 8, 16, 32, 64]\n",
            "64\n",
            "[2, 4, 8, 16, 32, 64, 128]\n",
            "128\n",
            "[2, 4, 8, 16, 32, 64, 128, 256]\n",
            "256\n",
            "[2, 4, 8, 16, 32, 64, 128, 256, 512]\n",
            "512\n",
            "[2, 4, 8, 16, 32, 64, 128, 256, 512, 1024]\n",
            "1024\n",
            "[2, 4, 8, 16, 32, 64, 128, 256, 512, 1024, 2048]\n",
            "2048\n",
            "[2, 4, 8, 16, 32, 64, 128, 256, 512, 1024, 2048, 4096]\n"
          ]
        }
      ],
      "source": [
        "i =1\n",
        "ex=[]\n",
        "while i < 2049:\n",
        "  print(i)\n",
        "  i *=2 \n",
        "  ex.append(i)\n",
        "  print(ex)"
      ]
    },
    {
      "cell_type": "markdown",
      "metadata": {
        "id": "jMLU0g_o6xaw"
      },
      "source": [
        "**My own example 80**"
      ]
    },
    {
      "cell_type": "code",
      "execution_count": 80,
      "metadata": {
        "colab": {
          "base_uri": "https://localhost:8080/"
        },
        "id": "fpZHPXx67jg5",
        "outputId": "d1a99844-d8f2-4e45-f95e-e112aa55c32a"
      },
      "outputs": [
        {
          "output_type": "stream",
          "name": "stdout",
          "text": [
            "0\n",
            "9\n",
            "18\n",
            "27\n",
            "36\n",
            "45\n",
            "54\n",
            "63\n",
            "72\n",
            "81\n",
            "90\n",
            "[9, 18, 27, 36, 45, 54, 63, 72, 81, 90, 99]\n"
          ]
        }
      ],
      "source": [
        "i =0\n",
        "ex=[]\n",
        "while i <= 90:\n",
        "  print(i)\n",
        "  i +=9\n",
        "  ex.append(i)\n",
        "print(ex)"
      ]
    },
    {
      "cell_type": "markdown",
      "metadata": {
        "id": "yHsRRwaq7DLw"
      },
      "source": [
        "#Quanconnect Tutorial 3 Functions and Objective-Oriented Programming"
      ]
    },
    {
      "cell_type": "markdown",
      "metadata": {
        "id": "b8jtfOkb62LZ"
      },
      "source": [
        "**My own example 81**"
      ]
    },
    {
      "cell_type": "code",
      "execution_count": 81,
      "metadata": {
        "colab": {
          "base_uri": "https://localhost:8080/"
        },
        "id": "TGh2FzLA7kJn",
        "outputId": "7805ab92-6b04-4f6b-f8e1-f26b26237409"
      },
      "outputs": [
        {
          "output_type": "stream",
          "name": "stdout",
          "text": [
            "8\n",
            "9765625\n"
          ]
        }
      ],
      "source": [
        "def ecu(e,t):\n",
        "    return e**t\n",
        "print(ecu(2,3))\n",
        "print(ecu(5,10))"
      ]
    },
    {
      "cell_type": "markdown",
      "metadata": {
        "id": "n7I86Rys62PV"
      },
      "source": [
        "**My own example 82**"
      ]
    },
    {
      "cell_type": "code",
      "execution_count": 82,
      "metadata": {
        "colab": {
          "base_uri": "https://localhost:8080/"
        },
        "id": "ILYxsqA_7lZe",
        "outputId": "363e36f5-e5b0-4ec9-dd7d-149d659739ab"
      },
      "outputs": [
        {
          "output_type": "stream",
          "name": "stdout",
          "text": [
            "holiwi\n"
          ]
        }
      ],
      "source": [
        "def habla():\n",
        "    print('holiwi')\n",
        "habla()"
      ]
    },
    {
      "cell_type": "markdown",
      "metadata": {
        "id": "hXWr8v3m62T8"
      },
      "source": [
        "**My own example 83**"
      ]
    },
    {
      "cell_type": "code",
      "execution_count": 83,
      "metadata": {
        "colab": {
          "base_uri": "https://localhost:8080/"
        },
        "id": "xVD8crRB7mAF",
        "outputId": "876e8823-22d9-496c-ac3d-bf474d220375"
      },
      "outputs": [
        {
          "output_type": "stream",
          "name": "stdout",
          "text": [
            "holiwi\n",
            "k se dice\n"
          ]
        }
      ],
      "source": [
        "def imp():\n",
        "    print('k se dice')\n",
        "habla(); imp()"
      ]
    },
    {
      "cell_type": "markdown",
      "metadata": {
        "id": "yiFMpAC262YP"
      },
      "source": [
        "**My own example 84**"
      ]
    },
    {
      "cell_type": "code",
      "execution_count": 84,
      "metadata": {
        "colab": {
          "base_uri": "https://localhost:8080/"
        },
        "id": "JpBjQT557mZR",
        "outputId": "e87d0c8e-a57e-427c-f8b7-dcddd067d903"
      },
      "outputs": [
        {
          "output_type": "stream",
          "name": "stdout",
          "text": [
            "3.0\n",
            "556.5\n"
          ]
        }
      ],
      "source": [
        "def ecu2(u,i,o,e):\n",
        "    return (u+o)*e/i\n",
        "print(ecu2(2,3,7,1))\n",
        "print(ecu2(5,10,100,53))"
      ]
    },
    {
      "cell_type": "markdown",
      "metadata": {
        "id": "U_hGICED62dX"
      },
      "source": [
        "**My own example 85**"
      ]
    },
    {
      "cell_type": "code",
      "execution_count": 85,
      "metadata": {
        "colab": {
          "base_uri": "https://localhost:8080/"
        },
        "id": "MJBBh94t7m25",
        "outputId": "bddeceb2-69f8-4dca-aa85-1f024a0f2424"
      },
      "outputs": [
        {
          "output_type": "stream",
          "name": "stdout",
          "text": [
            "1.1428571428571428\n",
            "9.765625e-100\n"
          ]
        }
      ],
      "source": [
        "def ecu3(rere,te,teo,w):\n",
        "    return rere**te/(teo**w)\n",
        "print(ecu3(2,3,7,1))\n",
        "print(ecu3(5,10,100,53))"
      ]
    },
    {
      "cell_type": "markdown",
      "metadata": {
        "id": "HFeAkTFm62iX"
      },
      "source": [
        "**My own example 86**"
      ]
    },
    {
      "cell_type": "code",
      "execution_count": 86,
      "metadata": {
        "colab": {
          "base_uri": "https://localhost:8080/"
        },
        "id": "qFtywWKx7nQX",
        "outputId": "4e5e7d0a-b57e-460a-9a9d-b0e2dd87a0eb"
      },
      "outputs": [
        {
          "output_type": "stream",
          "name": "stdout",
          "text": [
            "longitud de la lista es 12\n",
            "ba\n",
            "be\n",
            "bi\n",
            "bo\n",
            "bu\n",
            "bii\n",
            "brr\n",
            "we\n",
            "brr\n",
            "we\n",
            "brr\n",
            "we\n"
          ]
        }
      ],
      "source": [
        "list1 = ['ba','be','bi','bo','bu','bii', 'brr', 'we', 'brr', 'we', 'brr', 'we']\n",
        "print('longitud de la lista es {}'.format(len(list1)))\n",
        "for i in range(len(list1)):\n",
        "    print(list1[i])"
      ]
    },
    {
      "cell_type": "markdown",
      "metadata": {
        "id": "l6KsT70V62o1"
      },
      "source": [
        "**My own example 87**"
      ]
    },
    {
      "cell_type": "code",
      "execution_count": 87,
      "metadata": {
        "colab": {
          "base_uri": "https://localhost:8080/"
        },
        "id": "lKGQLiGn7ntp",
        "outputId": "68698636-c97b-4ff7-b234-8285374c8cee"
      },
      "outputs": [
        {
          "output_type": "stream",
          "name": "stdout",
          "text": [
            "longitud de la lista1 es 10\n",
            "0\n",
            "1\n",
            "2\n",
            "3\n",
            "4\n",
            "5\n",
            "6\n",
            "7\n",
            "8\n",
            "9\n"
          ]
        }
      ],
      "source": [
        "print('longitud de la lista1 es {}'.format(len(lista1)))\n",
        "for i in range(len(lista1)):\n",
        "    print(lista1[i])"
      ]
    },
    {
      "cell_type": "markdown",
      "metadata": {
        "id": "AViJJ1vEMBdy"
      },
      "source": [
        "**My own example 88**"
      ]
    },
    {
      "cell_type": "code",
      "execution_count": 88,
      "metadata": {
        "colab": {
          "base_uri": "https://localhost:8080/"
        },
        "id": "uZ_udx59MER4",
        "outputId": "530eab44-0859-4621-b81a-d64f764fc187"
      },
      "outputs": [
        {
          "output_type": "stream",
          "name": "stdout",
          "text": [
            "longitud de la lista2 es 10\n",
            "0\n",
            "1\n",
            "2\n",
            "3\n",
            "4\n",
            "5\n",
            "6\n",
            "7\n",
            "8\n",
            "9\n"
          ]
        }
      ],
      "source": [
        "print('longitud de la lista2 es {}'.format(len(lista2)))\n",
        "for i in range(len(lista2)):\n",
        "    print(lista2[i])"
      ]
    },
    {
      "cell_type": "markdown",
      "metadata": {
        "id": "z4WhZPTX62vC"
      },
      "source": [
        "**My own example 89**"
      ]
    },
    {
      "cell_type": "code",
      "execution_count": 89,
      "metadata": {
        "colab": {
          "base_uri": "https://localhost:8080/"
        },
        "id": "cE8HyJl87odb",
        "outputId": "779948b0-7795-4172-f83d-e352631ddbf0"
      },
      "outputs": [
        {
          "output_type": "stream",
          "name": "stdout",
          "text": [
            "DOOOH\n"
          ]
        }
      ],
      "source": [
        "def homero():\n",
        "    print('DOOOH')\n",
        "homero()"
      ]
    },
    {
      "cell_type": "markdown",
      "metadata": {
        "id": "_6DrjNVS6_z6"
      },
      "source": [
        "**My own example 90**"
      ]
    },
    {
      "cell_type": "code",
      "execution_count": 90,
      "metadata": {
        "colab": {
          "base_uri": "https://localhost:8080/"
        },
        "id": "vUTxLzP97o36",
        "outputId": "114a6010-d461-491f-e560-327c3ed6c08e"
      },
      "outputs": [
        {
          "output_type": "stream",
          "name": "stdout",
          "text": [
            "EL SEÑOR DE LA NOCHEEEEEEE\n"
          ]
        }
      ],
      "source": [
        "def batman():\n",
        "    print('EL SEÑOR DE LA NOCHEEEEEEE')\n",
        "batman()"
      ]
    },
    {
      "cell_type": "markdown",
      "metadata": {
        "id": "UI_eZj-u7NCw"
      },
      "source": [
        "**My own example 91**"
      ]
    },
    {
      "cell_type": "code",
      "execution_count": 91,
      "metadata": {
        "colab": {
          "base_uri": "https://localhost:8080/"
        },
        "id": "FEs1itnV7pPp",
        "outputId": "321e065d-70cf-4e81-c5bf-43ed21f3a547"
      },
      "outputs": [
        {
          "output_type": "stream",
          "name": "stdout",
          "text": [
            "METODOS NUM\n"
          ]
        }
      ],
      "source": [
        "def texto():\n",
        "    texto = \"METODOS NUM\"\n",
        "    return texto\n",
        "my_string = texto()\n",
        "print (my_string)"
      ]
    },
    {
      "cell_type": "markdown",
      "metadata": {
        "id": "HfxG9rV37NQv"
      },
      "source": [
        "**My own example 92**"
      ]
    },
    {
      "cell_type": "code",
      "execution_count": 92,
      "metadata": {
        "colab": {
          "base_uri": "https://localhost:8080/"
        },
        "id": "ta-tt7aa7rlu",
        "outputId": "c2135c49-4a0f-44d0-c0ed-9fb1b2200c12"
      },
      "outputs": [
        {
          "output_type": "stream",
          "name": "stdout",
          "text": [
            "hola mundo\n"
          ]
        }
      ],
      "source": [
        "def hola():\n",
        "    hola = \"hola mundo\"\n",
        "    return hola\n",
        "x = hola()\n",
        "print (x)"
      ]
    },
    {
      "cell_type": "markdown",
      "metadata": {
        "id": "6Xf-kw5r7NV4"
      },
      "source": [
        "**My own example 93**"
      ]
    },
    {
      "cell_type": "code",
      "execution_count": 93,
      "metadata": {
        "colab": {
          "base_uri": "https://localhost:8080/"
        },
        "id": "wRohnhe07sBU",
        "outputId": "3d122ed7-db27-4cf9-cc3f-7f6b955b0f7f"
      },
      "outputs": [
        {
          "output_type": "stream",
          "name": "stdout",
          "text": [
            "0.20203050891044216\n",
            "2.626527804403767e-106\n"
          ]
        }
      ],
      "source": [
        "def ecu3(pe,ce,to,wor):\n",
        "    return pe**ce/(to**wor)\n",
        "print(ecu3(2,0.5,7,1))\n",
        "print(ecu3(5,0.6,100,53))"
      ]
    },
    {
      "cell_type": "markdown",
      "metadata": {
        "id": "w9sZruId7NbH"
      },
      "source": [
        "**My own example 94**"
      ]
    },
    {
      "cell_type": "code",
      "execution_count": 94,
      "metadata": {
        "colab": {
          "base_uri": "https://localhost:8080/"
        },
        "id": "fWV2KzSS7sfu",
        "outputId": "7ee590e9-6f87-40f5-c3cf-2ca615cc6a95"
      },
      "outputs": [
        {
          "output_type": "stream",
          "name": "stdout",
          "text": [
            "reeeee\n"
          ]
        }
      ],
      "source": [
        "def r():\n",
        "    r = \"reeeee\"\n",
        "    return r\n",
        "esc = r()\n",
        "print (esc)"
      ]
    },
    {
      "cell_type": "markdown",
      "metadata": {
        "id": "wFG-05ZH7Nf3"
      },
      "source": [
        "**My own example 95**"
      ]
    },
    {
      "cell_type": "code",
      "execution_count": 95,
      "metadata": {
        "colab": {
          "base_uri": "https://localhost:8080/"
        },
        "id": "DjQF0IO77s8d",
        "outputId": "7005f7a8-00b0-4fb2-f2f3-f2481f835927"
      },
      "outputs": [
        {
          "output_type": "stream",
          "name": "stdout",
          "text": [
            "6.5\n",
            "45.4\n"
          ]
        }
      ],
      "source": [
        "def interpolacion(x1,x2,y1,y2,x):\n",
        "    return y1+(x-x1)*(y2-y1)/(x2-x1)\n",
        "print(interpolacion(2,3,5,8,2.5))\n",
        "print(interpolacion(5,10,9,100,7))"
      ]
    },
    {
      "cell_type": "markdown",
      "metadata": {
        "id": "i4GYPmL77Nlh"
      },
      "source": [
        "**My own example 96**"
      ]
    },
    {
      "cell_type": "code",
      "execution_count": 96,
      "metadata": {
        "colab": {
          "base_uri": "https://localhost:8080/"
        },
        "id": "eeBkiVTW7tfj",
        "outputId": "9be1150d-0f2b-4493-c3bc-24a358f43390"
      },
      "outputs": [
        {
          "output_type": "execute_result",
          "data": {
            "text/plain": [
              "0.5403023058681398"
            ]
          },
          "metadata": {},
          "execution_count": 96
        }
      ],
      "source": [
        "mt.cos(1)"
      ]
    },
    {
      "cell_type": "markdown",
      "metadata": {
        "id": "sjGxj0ST7NrM"
      },
      "source": [
        "**My own example 97**"
      ]
    },
    {
      "cell_type": "code",
      "execution_count": 97,
      "metadata": {
        "colab": {
          "base_uri": "https://localhost:8080/"
        },
        "id": "v4PFEu2q7t67",
        "outputId": "ff669c7e-86b8-4807-9654-559fdc0f4b36"
      },
      "outputs": [
        {
          "output_type": "execute_result",
          "data": {
            "text/plain": [
              "10.0"
            ]
          },
          "metadata": {},
          "execution_count": 97
        }
      ],
      "source": [
        "mt.sqrt(mt.sqrt(10000))"
      ]
    },
    {
      "cell_type": "markdown",
      "metadata": {
        "id": "VzPe2Qug7NyU"
      },
      "source": [
        "**My own example 98**"
      ]
    },
    {
      "cell_type": "code",
      "execution_count": 98,
      "metadata": {
        "colab": {
          "base_uri": "https://localhost:8080/"
        },
        "id": "ZLXTeL497uii",
        "outputId": "e77b1cfd-5190-4c15-afab-c1eff8246408"
      },
      "outputs": [
        {
          "output_type": "execute_result",
          "data": {
            "text/plain": [
              "9948"
            ]
          },
          "metadata": {},
          "execution_count": 98
        }
      ],
      "source": [
        "96+9852"
      ]
    },
    {
      "cell_type": "markdown",
      "metadata": {
        "id": "VjY8mtJh7hEV"
      },
      "source": [
        "**My own example 99**"
      ]
    },
    {
      "cell_type": "code",
      "execution_count": 99,
      "metadata": {
        "colab": {
          "base_uri": "https://localhost:8080/"
        },
        "id": "OPYDwx527u-r",
        "outputId": "842e7428-36e6-49ba-f5f5-bd82350baf72"
      },
      "outputs": [
        {
          "output_type": "execute_result",
          "data": {
            "text/plain": [
              "12.430379746835444"
            ]
          },
          "metadata": {},
          "execution_count": 99
        }
      ],
      "source": [
        "982/79"
      ]
    },
    {
      "cell_type": "markdown",
      "metadata": {
        "id": "wDXSC-U-7N_O"
      },
      "source": [
        "**My own example 100**"
      ]
    },
    {
      "cell_type": "code",
      "execution_count": 100,
      "metadata": {
        "colab": {
          "base_uri": "https://localhost:8080/"
        },
        "id": "8Y4heklw7vpr",
        "outputId": "ab90255b-779a-414a-8636-1e5d14a456f2"
      },
      "outputs": [
        {
          "output_type": "execute_result",
          "data": {
            "text/plain": [
              "9.433981132056603"
            ]
          },
          "metadata": {},
          "execution_count": 100
        }
      ],
      "source": [
        "mt.sqrt(89)"
      ]
    },
    {
      "cell_type": "markdown",
      "metadata": {
        "id": "Vym8YSia7TqB"
      },
      "source": [
        "#QuantopianLecture 3"
      ]
    },
    {
      "cell_type": "markdown",
      "metadata": {
        "id": "U-OJGrCV7VPT"
      },
      "source": [
        "**My own example 101**"
      ]
    },
    {
      "cell_type": "code",
      "execution_count": 101,
      "metadata": {
        "colab": {
          "base_uri": "https://localhost:8080/"
        },
        "id": "jJ5G4FAA7wMX",
        "outputId": "3e2cde87-73e7-475d-bcb4-d2353cbdf12c"
      },
      "outputs": [
        {
          "output_type": "stream",
          "name": "stdout",
          "text": [
            "[ 18.  659.   59.   88.    4.2] <class 'numpy.ndarray'>\n"
          ]
        }
      ],
      "source": [
        "import matplotlib.pyplot as plt\n",
        "listaq = [18, 659, 59, 88, 4.2]\n",
        "returns = np.array(listaq)\n",
        "print (returns, type(returns))"
      ]
    },
    {
      "cell_type": "markdown",
      "metadata": {
        "id": "jfVTyRCO7VZs"
      },
      "source": [
        "**My own example 102**"
      ]
    },
    {
      "cell_type": "code",
      "execution_count": 102,
      "metadata": {
        "colab": {
          "base_uri": "https://localhost:8080/"
        },
        "id": "hqGOi4TV7wl_",
        "outputId": "2e2e4492-10cf-4ab8-e7c6-a657bd283c9e"
      },
      "outputs": [
        {
          "output_type": "stream",
          "name": "stdout",
          "text": [
            "[[1 2]\n",
            " [3 4]] <class 'numpy.ndarray'>\n"
          ]
        }
      ],
      "source": [
        "A = np.array([[1, 2], [3, 4]])\n",
        "print (A, type(A))"
      ]
    },
    {
      "cell_type": "markdown",
      "metadata": {
        "id": "tHr46DWw7ViP"
      },
      "source": [
        "**My own example 103**"
      ]
    },
    {
      "cell_type": "code",
      "execution_count": 103,
      "metadata": {
        "colab": {
          "base_uri": "https://localhost:8080/"
        },
        "id": "QxgpKD1E7xA1",
        "outputId": "1f9cac3c-5ee1-4b5f-d9cb-228268154daa"
      },
      "outputs": [
        {
          "output_type": "stream",
          "name": "stdout",
          "text": [
            "(2, 2)\n"
          ]
        }
      ],
      "source": [
        "print( A.shape)"
      ]
    },
    {
      "cell_type": "markdown",
      "metadata": {
        "id": "uGyzQeXv7Von"
      },
      "source": [
        "**My own example 104**"
      ]
    },
    {
      "cell_type": "code",
      "execution_count": 104,
      "metadata": {
        "colab": {
          "base_uri": "https://localhost:8080/"
        },
        "id": "dvXbdbd871Bb",
        "outputId": "f2fc96f7-faac-4527-aca8-7b6c5c75ba80"
      },
      "outputs": [
        {
          "output_type": "stream",
          "name": "stdout",
          "text": [
            "18.0 4.2\n"
          ]
        }
      ],
      "source": [
        "print (returns[0], returns[len(returns) - 1])"
      ]
    },
    {
      "cell_type": "markdown",
      "metadata": {
        "id": "zneM3L_F7Vto"
      },
      "source": [
        "**My own example 105**"
      ]
    },
    {
      "cell_type": "code",
      "execution_count": 105,
      "metadata": {
        "colab": {
          "base_uri": "https://localhost:8080/"
        },
        "id": "JfEBTIr972IS",
        "outputId": "fd8cd88b-3c13-4b2f-ab55-9f037478337a"
      },
      "outputs": [
        {
          "output_type": "stream",
          "name": "stdout",
          "text": [
            "[659.  59.]\n"
          ]
        }
      ],
      "source": [
        "print (returns[1:3])"
      ]
    },
    {
      "cell_type": "markdown",
      "metadata": {
        "id": "mpch2xGr7Vx8"
      },
      "source": [
        "**My own example 106**"
      ]
    },
    {
      "cell_type": "code",
      "execution_count": 106,
      "metadata": {
        "colab": {
          "base_uri": "https://localhost:8080/"
        },
        "id": "y9pthEz073mP",
        "outputId": "d8bc0588-1d0f-423a-d682-4c15e2875563"
      },
      "outputs": [
        {
          "output_type": "stream",
          "name": "stdout",
          "text": [
            "[1 3]\n"
          ]
        }
      ],
      "source": [
        "print (A[:, 0])"
      ]
    },
    {
      "cell_type": "markdown",
      "metadata": {
        "id": "nUZakus47V2C"
      },
      "source": [
        "**My own example 107**"
      ]
    },
    {
      "cell_type": "code",
      "execution_count": 107,
      "metadata": {
        "colab": {
          "base_uri": "https://localhost:8080/"
        },
        "id": "nKFMvhdy74b4",
        "outputId": "56713212-84de-4336-cf17-10b8d5fb683f"
      },
      "outputs": [
        {
          "output_type": "stream",
          "name": "stdout",
          "text": [
            "[2 4]\n"
          ]
        }
      ],
      "source": [
        "print (A[:, 1])"
      ]
    },
    {
      "cell_type": "markdown",
      "metadata": {
        "id": "hLUp7u-k7Wjd"
      },
      "source": [
        "**My own example 108**"
      ]
    },
    {
      "cell_type": "code",
      "execution_count": 108,
      "metadata": {
        "colab": {
          "base_uri": "https://localhost:8080/"
        },
        "id": "9pjtMLiG75ZD",
        "outputId": "4a30b78e-40b2-40cd-d213-1310e7ea99ad"
      },
      "outputs": [
        {
          "output_type": "stream",
          "name": "stdout",
          "text": [
            "[1 2]\n"
          ]
        }
      ],
      "source": [
        "print (A[0, :])"
      ]
    },
    {
      "cell_type": "markdown",
      "metadata": {
        "id": "neTG7Vse7Ws2"
      },
      "source": [
        "**My own example 109**"
      ]
    },
    {
      "cell_type": "code",
      "execution_count": 109,
      "metadata": {
        "colab": {
          "base_uri": "https://localhost:8080/"
        },
        "id": "iZtKgMAv76fV",
        "outputId": "7cf4fd6e-13aa-4ceb-9130-7323c597dac2"
      },
      "outputs": [
        {
          "output_type": "stream",
          "name": "stdout",
          "text": [
            "[3 4]\n"
          ]
        }
      ],
      "source": [
        "print (A[1, :])\n"
      ]
    },
    {
      "cell_type": "markdown",
      "metadata": {
        "id": "_S-fHq9j7W1i"
      },
      "source": [
        "**My own example 110**"
      ]
    },
    {
      "cell_type": "code",
      "execution_count": 110,
      "metadata": {
        "colab": {
          "base_uri": "https://localhost:8080/"
        },
        "id": "bsTRQOY778Y2",
        "outputId": "f887d38f-c2e5-4bc0-b50f-6c7e626fa36b"
      },
      "outputs": [
        {
          "output_type": "stream",
          "name": "stdout",
          "text": [
            "4\n"
          ]
        }
      ],
      "source": [
        "print (A[1, 1])"
      ]
    },
    {
      "cell_type": "markdown",
      "metadata": {
        "id": "Rl028tfE11_K"
      },
      "source": [
        "**My own example 111**"
      ]
    },
    {
      "cell_type": "code",
      "execution_count": 111,
      "metadata": {
        "colab": {
          "base_uri": "https://localhost:8080/"
        },
        "id": "L1Cvj8Gn2Ggf",
        "outputId": "3dfd9ba2-77d5-43bc-c724-2ad78aa01b1a"
      },
      "outputs": [
        {
          "output_type": "stream",
          "name": "stdout",
          "text": [
            "lista es  [ 18.  659.   59.   88.    4.2]\n",
            "log(lista)= [2.89037176 6.49072353 4.07753744 4.47733681 1.43508453]\n"
          ]
        }
      ],
      "source": [
        "print(\"lista es \",returns)\n",
        "print(\"log(lista)=\",np.log(returns))\n"
      ]
    },
    {
      "cell_type": "markdown",
      "metadata": {
        "id": "1EwVho0W13N4"
      },
      "source": [
        "**My own example 112**"
      ]
    },
    {
      "cell_type": "code",
      "execution_count": 112,
      "metadata": {
        "colab": {
          "base_uri": "https://localhost:8080/"
        },
        "id": "Fk26HYmB2Hlm",
        "outputId": "281589ab-ec15-4fc2-ffda-b3d3b67e5bd3"
      },
      "outputs": [
        {
          "output_type": "stream",
          "name": "stdout",
          "text": [
            "165.64000000000001\n"
          ]
        }
      ],
      "source": [
        "print(np.mean(returns))"
      ]
    },
    {
      "cell_type": "markdown",
      "metadata": {
        "id": "J1PFM8EJ13sA"
      },
      "source": [
        "**My own example 113**"
      ]
    },
    {
      "cell_type": "code",
      "execution_count": 113,
      "metadata": {
        "colab": {
          "base_uri": "https://localhost:8080/"
        },
        "id": "BAQuVrp62I2d",
        "outputId": "a8e2dd5d-83e8-4f3a-ce82-83a46be403b0"
      },
      "outputs": [
        {
          "output_type": "stream",
          "name": "stdout",
          "text": [
            "659.0\n"
          ]
        }
      ],
      "source": [
        "print(np.max(returns))"
      ]
    },
    {
      "cell_type": "markdown",
      "metadata": {
        "id": "_eUsltyQ13yY"
      },
      "source": [
        "**My own example 114**"
      ]
    },
    {
      "cell_type": "code",
      "execution_count": 114,
      "metadata": {
        "colab": {
          "base_uri": "https://localhost:8080/"
        },
        "id": "tUyxL33l2J4T",
        "outputId": "a3439219-3a11-43ee-88c5-6f8d57e31567"
      },
      "outputs": [
        {
          "output_type": "execute_result",
          "data": {
            "text/plain": [
              "array([ 9.24264069, 30.67099531, 12.68114575, 14.38083152,  7.04939015])"
            ]
          },
          "metadata": {},
          "execution_count": 114
        }
      ],
      "source": [
        "returns**0.5 + 5"
      ]
    },
    {
      "cell_type": "markdown",
      "metadata": {
        "id": "SxkxtS5s1347"
      },
      "source": [
        "**My own example 115**"
      ]
    },
    {
      "cell_type": "code",
      "execution_count": 115,
      "metadata": {
        "colab": {
          "base_uri": "https://localhost:8080/"
        },
        "id": "_dGCA6Ly2K90",
        "outputId": "227ccf25-4641-47fb-e7b0-a8508eb23423"
      },
      "outputs": [
        {
          "output_type": "stream",
          "name": "stdout",
          "text": [
            "media:  165.64000000000001 desviacion estandar:  248.46110037589386\n"
          ]
        }
      ],
      "source": [
        "print(\"media: \", np.mean(returns), \"desviacion estandar: \", np.std(returns))"
      ]
    },
    {
      "cell_type": "markdown",
      "metadata": {
        "id": "2N2ELcqL13_8"
      },
      "source": [
        "**My own example 116**"
      ]
    },
    {
      "cell_type": "code",
      "execution_count": 116,
      "metadata": {
        "id": "YwE5WoGW2MZL"
      },
      "outputs": [],
      "source": [
        "N = 10\n",
        "nuevo = np.zeros((N, 100))"
      ]
    },
    {
      "cell_type": "markdown",
      "metadata": {
        "id": "ToKX9nm314G-"
      },
      "source": [
        "**My own example 117**"
      ]
    },
    {
      "cell_type": "code",
      "execution_count": 117,
      "metadata": {
        "colab": {
          "base_uri": "https://localhost:8080/"
        },
        "id": "JcMIPMFN2Nq7",
        "outputId": "607ebd2d-476f-469e-b2f3-5d3fbd5b64d2"
      },
      "outputs": [
        {
          "output_type": "stream",
          "name": "stdout",
          "text": [
            "[[0.98331943 0.95377334 0.97777483 1.02878956 1.02904262 1.03428774\n",
            "  1.09653438 1.08922235 1.10747096 1.11807554 1.14552352 1.21414941\n",
            "  1.26960971 1.28716696 1.25104471 1.24487028 1.29592091 1.28576955\n",
            "  1.29347708 1.33525663 1.40017746 1.38957378 1.4116534  1.50131264\n",
            "  1.55466853 1.55927778 1.56001146 1.54005269 1.48575728 1.50359193\n",
            "  1.56249181 1.57919096 1.56390104 1.56697203 1.62208962 1.60801354\n",
            "  1.65976116 1.55776532 1.57094782 1.55939725 1.57520863 1.55346082\n",
            "  1.56824513 1.58232281 1.61546371 1.59382895 1.61663021 1.60658802\n",
            "  1.56515689 1.50499438 1.49855752 1.49998843 1.53832995 1.50910356\n",
            "  1.46123042 1.51479966 1.52867845 1.49455157 1.46549184 1.3632934\n",
            "  1.40409591 1.43538517 1.48887147 1.46577187 1.5139421  1.49906127\n",
            "  1.56573213 1.55393301 1.58624239 1.62999782 1.62486729 1.6285598\n",
            "  1.63463007 1.6512017  1.60443912 1.58249414 1.69198138 1.72287397\n",
            "  1.73794971 1.84426763 1.87614588 2.0238484  2.05925064 2.10423932\n",
            "  2.12784688 2.21590797 2.20962941 2.36397881 2.32658957 2.46509013\n",
            "  2.60332302 2.52591024 2.60205596 2.52023634 2.67298815 2.64783282\n",
            "  2.71691917 2.66194641 2.76365917 2.92304438]\n",
            " [0.98331943 0.9699527  1.02516478 1.05217432 1.00024597 1.00509708\n",
            "  1.0601831  0.99333169 1.0167538  1.00957549 1.02454931 1.05990789\n",
            "  1.04567831 1.01382886 0.97193663 0.99506458 1.04100879 0.99216669\n",
            "  1.00599448 1.03230019 1.04862049 0.99242691 1.01588949 1.06351364\n",
            "  1.03553949 1.00296478 1.00047053 0.98720601 0.96474445 1.01200374\n",
            "  1.03917278 1.01068752 0.99031788 1.00196367 1.03517459 0.99132225\n",
            "  1.03218109 0.93854788 1.00846245 0.99264739 1.01013942 0.98619369\n",
            "  1.00951702 1.0089767  1.02094447 0.98660771 1.01430597 0.99378819\n",
            "  0.97421173 0.96156136 0.995723   1.00095486 1.02556121 0.98100122\n",
            "  0.9682771  1.03666037 1.00916213 0.97767557 0.98055622 0.93026338\n",
            "  1.02992937 1.02228428 1.03726268 0.98448516 1.03286339 0.99017081\n",
            "  1.04447507 0.99246415 1.02079201 1.02758433 0.99685243 1.0022725\n",
            "  1.00372738 1.01013785 0.97167967 0.98632233 1.06918651 1.01825823\n",
            "  1.00875034 1.06117433 1.01728505 1.07872657 1.01749253 1.02184711\n",
            "  1.01121904 1.04138507 0.9971666  1.06985307 0.98418377 1.05952943\n",
            "  1.0560762  0.97026386 1.03014585 0.96855578 1.06061011 0.99058906\n",
            "  1.02609166 0.97976651 1.03820992 1.0576718 ]\n",
            " [0.98331943 0.9699527  1.02516478 1.05217432 1.00024597 1.00509708\n",
            "  1.0601831  0.99333169 1.0167538  1.00957549 1.02454931 1.05990789\n",
            "  1.04567831 1.01382886 0.97193663 0.99506458 1.04100879 0.99216669\n",
            "  1.00599448 1.03230019 1.04862049 0.99242691 1.01588949 1.06351364\n",
            "  1.03553949 1.00296478 1.00047053 0.98720601 0.96474445 1.01200374\n",
            "  1.03917278 1.01068752 0.99031788 1.00196367 1.03517459 0.99132225\n",
            "  1.03218109 0.93854788 1.00846245 0.99264739 1.01013942 0.98619369\n",
            "  1.00951702 1.0089767  1.02094447 0.98660771 1.01430597 0.99378819\n",
            "  0.97421173 0.96156136 0.995723   1.00095486 1.02556121 0.98100122\n",
            "  0.9682771  1.03666037 1.00916213 0.97767557 0.98055622 0.93026338\n",
            "  1.02992937 1.02228428 1.03726268 0.98448516 1.03286339 0.99017081\n",
            "  1.04447507 0.99246415 1.02079201 1.02758433 0.99685243 1.0022725\n",
            "  1.00372738 1.01013785 0.97167967 0.98632233 1.06918651 1.01825823\n",
            "  1.00875034 1.06117433 1.01728505 1.07872657 1.01749253 1.02184711\n",
            "  1.01121904 1.04138507 0.9971666  1.06985307 0.98418377 1.05952943\n",
            "  1.0560762  0.97026386 1.03014585 0.96855578 1.06061011 0.99058906\n",
            "  1.02609166 0.97976651 1.03820992 1.0576718 ]\n",
            " [0.98331943 0.9699527  1.02516478 1.05217432 1.00024597 1.00509708\n",
            "  1.0601831  0.99333169 1.0167538  1.00957549 1.02454931 1.05990789\n",
            "  1.04567831 1.01382886 0.97193663 0.99506458 1.04100879 0.99216669\n",
            "  1.00599448 1.03230019 1.04862049 0.99242691 1.01588949 1.06351364\n",
            "  1.03553949 1.00296478 1.00047053 0.98720601 0.96474445 1.01200374\n",
            "  1.03917278 1.01068752 0.99031788 1.00196367 1.03517459 0.99132225\n",
            "  1.03218109 0.93854788 1.00846245 0.99264739 1.01013942 0.98619369\n",
            "  1.00951702 1.0089767  1.02094447 0.98660771 1.01430597 0.99378819\n",
            "  0.97421173 0.96156136 0.995723   1.00095486 1.02556121 0.98100122\n",
            "  0.9682771  1.03666037 1.00916213 0.97767557 0.98055622 0.93026338\n",
            "  1.02992937 1.02228428 1.03726268 0.98448516 1.03286339 0.99017081\n",
            "  1.04447507 0.99246415 1.02079201 1.02758433 0.99685243 1.0022725\n",
            "  1.00372738 1.01013785 0.97167967 0.98632233 1.06918651 1.01825823\n",
            "  1.00875034 1.06117433 1.01728505 1.07872657 1.01749253 1.02184711\n",
            "  1.01121904 1.04138507 0.9971666  1.06985307 0.98418377 1.05952943\n",
            "  1.0560762  0.97026386 1.03014585 0.96855578 1.06061011 0.99058906\n",
            "  1.02609166 0.97976651 1.03820992 1.0576718 ]\n",
            " [0.98331943 0.9699527  1.02516478 1.05217432 1.00024597 1.00509708\n",
            "  1.0601831  0.99333169 1.0167538  1.00957549 1.02454931 1.05990789\n",
            "  1.04567831 1.01382886 0.97193663 0.99506458 1.04100879 0.99216669\n",
            "  1.00599448 1.03230019 1.04862049 0.99242691 1.01588949 1.06351364\n",
            "  1.03553949 1.00296478 1.00047053 0.98720601 0.96474445 1.01200374\n",
            "  1.03917278 1.01068752 0.99031788 1.00196367 1.03517459 0.99132225\n",
            "  1.03218109 0.93854788 1.00846245 0.99264739 1.01013942 0.98619369\n",
            "  1.00951702 1.0089767  1.02094447 0.98660771 1.01430597 0.99378819\n",
            "  0.97421173 0.96156136 0.995723   1.00095486 1.02556121 0.98100122\n",
            "  0.9682771  1.03666037 1.00916213 0.97767557 0.98055622 0.93026338\n",
            "  1.02992937 1.02228428 1.03726268 0.98448516 1.03286339 0.99017081\n",
            "  1.04447507 0.99246415 1.02079201 1.02758433 0.99685243 1.0022725\n",
            "  1.00372738 1.01013785 0.97167967 0.98632233 1.06918651 1.01825823\n",
            "  1.00875034 1.06117433 1.01728505 1.07872657 1.01749253 1.02184711\n",
            "  1.01121904 1.04138507 0.9971666  1.06985307 0.98418377 1.05952943\n",
            "  1.0560762  0.97026386 1.03014585 0.96855578 1.06061011 0.99058906\n",
            "  1.02609166 0.97976651 1.03820992 1.0576718 ]\n",
            " [0.98331943 0.9699527  1.02516478 1.05217432 1.00024597 1.00509708\n",
            "  1.0601831  0.99333169 1.0167538  1.00957549 1.02454931 1.05990789\n",
            "  1.04567831 1.01382886 0.97193663 0.99506458 1.04100879 0.99216669\n",
            "  1.00599448 1.03230019 1.04862049 0.99242691 1.01588949 1.06351364\n",
            "  1.03553949 1.00296478 1.00047053 0.98720601 0.96474445 1.01200374\n",
            "  1.03917278 1.01068752 0.99031788 1.00196367 1.03517459 0.99132225\n",
            "  1.03218109 0.93854788 1.00846245 0.99264739 1.01013942 0.98619369\n",
            "  1.00951702 1.0089767  1.02094447 0.98660771 1.01430597 0.99378819\n",
            "  0.97421173 0.96156136 0.995723   1.00095486 1.02556121 0.98100122\n",
            "  0.9682771  1.03666037 1.00916213 0.97767557 0.98055622 0.93026338\n",
            "  1.02992937 1.02228428 1.03726268 0.98448516 1.03286339 0.99017081\n",
            "  1.04447507 0.99246415 1.02079201 1.02758433 0.99685243 1.0022725\n",
            "  1.00372738 1.01013785 0.97167967 0.98632233 1.06918651 1.01825823\n",
            "  1.00875034 1.06117433 1.01728505 1.07872657 1.01749253 1.02184711\n",
            "  1.01121904 1.04138507 0.9971666  1.06985307 0.98418377 1.05952943\n",
            "  1.0560762  0.97026386 1.03014585 0.96855578 1.06061011 0.99058906\n",
            "  1.02609166 0.97976651 1.03820992 1.0576718 ]\n",
            " [0.98331943 0.9699527  1.02516478 1.05217432 1.00024597 1.00509708\n",
            "  1.0601831  0.99333169 1.0167538  1.00957549 1.02454931 1.05990789\n",
            "  1.04567831 1.01382886 0.97193663 0.99506458 1.04100879 0.99216669\n",
            "  1.00599448 1.03230019 1.04862049 0.99242691 1.01588949 1.06351364\n",
            "  1.03553949 1.00296478 1.00047053 0.98720601 0.96474445 1.01200374\n",
            "  1.03917278 1.01068752 0.99031788 1.00196367 1.03517459 0.99132225\n",
            "  1.03218109 0.93854788 1.00846245 0.99264739 1.01013942 0.98619369\n",
            "  1.00951702 1.0089767  1.02094447 0.98660771 1.01430597 0.99378819\n",
            "  0.97421173 0.96156136 0.995723   1.00095486 1.02556121 0.98100122\n",
            "  0.9682771  1.03666037 1.00916213 0.97767557 0.98055622 0.93026338\n",
            "  1.02992937 1.02228428 1.03726268 0.98448516 1.03286339 0.99017081\n",
            "  1.04447507 0.99246415 1.02079201 1.02758433 0.99685243 1.0022725\n",
            "  1.00372738 1.01013785 0.97167967 0.98632233 1.06918651 1.01825823\n",
            "  1.00875034 1.06117433 1.01728505 1.07872657 1.01749253 1.02184711\n",
            "  1.01121904 1.04138507 0.9971666  1.06985307 0.98418377 1.05952943\n",
            "  1.0560762  0.97026386 1.03014585 0.96855578 1.06061011 0.99058906\n",
            "  1.02609166 0.97976651 1.03820992 1.0576718 ]\n",
            " [0.98331943 0.9699527  1.02516478 1.05217432 1.00024597 1.00509708\n",
            "  1.0601831  0.99333169 1.0167538  1.00957549 1.02454931 1.05990789\n",
            "  1.04567831 1.01382886 0.97193663 0.99506458 1.04100879 0.99216669\n",
            "  1.00599448 1.03230019 1.04862049 0.99242691 1.01588949 1.06351364\n",
            "  1.03553949 1.00296478 1.00047053 0.98720601 0.96474445 1.01200374\n",
            "  1.03917278 1.01068752 0.99031788 1.00196367 1.03517459 0.99132225\n",
            "  1.03218109 0.93854788 1.00846245 0.99264739 1.01013942 0.98619369\n",
            "  1.00951702 1.0089767  1.02094447 0.98660771 1.01430597 0.99378819\n",
            "  0.97421173 0.96156136 0.995723   1.00095486 1.02556121 0.98100122\n",
            "  0.9682771  1.03666037 1.00916213 0.97767557 0.98055622 0.93026338\n",
            "  1.02992937 1.02228428 1.03726268 0.98448516 1.03286339 0.99017081\n",
            "  1.04447507 0.99246415 1.02079201 1.02758433 0.99685243 1.0022725\n",
            "  1.00372738 1.01013785 0.97167967 0.98632233 1.06918651 1.01825823\n",
            "  1.00875034 1.06117433 1.01728505 1.07872657 1.01749253 1.02184711\n",
            "  1.01121904 1.04138507 0.9971666  1.06985307 0.98418377 1.05952943\n",
            "  1.0560762  0.97026386 1.03014585 0.96855578 1.06061011 0.99058906\n",
            "  1.02609166 0.97976651 1.03820992 1.0576718 ]\n",
            " [0.98331943 0.9699527  1.02516478 1.05217432 1.00024597 1.00509708\n",
            "  1.0601831  0.99333169 1.0167538  1.00957549 1.02454931 1.05990789\n",
            "  1.04567831 1.01382886 0.97193663 0.99506458 1.04100879 0.99216669\n",
            "  1.00599448 1.03230019 1.04862049 0.99242691 1.01588949 1.06351364\n",
            "  1.03553949 1.00296478 1.00047053 0.98720601 0.96474445 1.01200374\n",
            "  1.03917278 1.01068752 0.99031788 1.00196367 1.03517459 0.99132225\n",
            "  1.03218109 0.93854788 1.00846245 0.99264739 1.01013942 0.98619369\n",
            "  1.00951702 1.0089767  1.02094447 0.98660771 1.01430597 0.99378819\n",
            "  0.97421173 0.96156136 0.995723   1.00095486 1.02556121 0.98100122\n",
            "  0.9682771  1.03666037 1.00916213 0.97767557 0.98055622 0.93026338\n",
            "  1.02992937 1.02228428 1.03726268 0.98448516 1.03286339 0.99017081\n",
            "  1.04447507 0.99246415 1.02079201 1.02758433 0.99685243 1.0022725\n",
            "  1.00372738 1.01013785 0.97167967 0.98632233 1.06918651 1.01825823\n",
            "  1.00875034 1.06117433 1.01728505 1.07872657 1.01749253 1.02184711\n",
            "  1.01121904 1.04138507 0.9971666  1.06985307 0.98418377 1.05952943\n",
            "  1.0560762  0.97026386 1.03014585 0.96855578 1.06061011 0.99058906\n",
            "  1.02609166 0.97976651 1.03820992 1.0576718 ]\n",
            " [0.98331943 0.9699527  1.02516478 1.05217432 1.00024597 1.00509708\n",
            "  1.0601831  0.99333169 1.0167538  1.00957549 1.02454931 1.05990789\n",
            "  1.04567831 1.01382886 0.97193663 0.99506458 1.04100879 0.99216669\n",
            "  1.00599448 1.03230019 1.04862049 0.99242691 1.01588949 1.06351364\n",
            "  1.03553949 1.00296478 1.00047053 0.98720601 0.96474445 1.01200374\n",
            "  1.03917278 1.01068752 0.99031788 1.00196367 1.03517459 0.99132225\n",
            "  1.03218109 0.93854788 1.00846245 0.99264739 1.01013942 0.98619369\n",
            "  1.00951702 1.0089767  1.02094447 0.98660771 1.01430597 0.99378819\n",
            "  0.97421173 0.96156136 0.995723   1.00095486 1.02556121 0.98100122\n",
            "  0.9682771  1.03666037 1.00916213 0.97767557 0.98055622 0.93026338\n",
            "  1.02992937 1.02228428 1.03726268 0.98448516 1.03286339 0.99017081\n",
            "  1.04447507 0.99246415 1.02079201 1.02758433 0.99685243 1.0022725\n",
            "  1.00372738 1.01013785 0.97167967 0.98632233 1.06918651 1.01825823\n",
            "  1.00875034 1.06117433 1.01728505 1.07872657 1.01749253 1.02184711\n",
            "  1.01121904 1.04138507 0.9971666  1.06985307 0.98418377 1.05952943\n",
            "  1.0560762  0.97026386 1.03014585 0.96855578 1.06061011 0.99058906\n",
            "  1.02609166 0.97976651 1.03820992 1.0576718 ]]\n"
          ]
        }
      ],
      "source": [
        "R_1 = np.random.normal(1.01, 0.03, 100)\n",
        "nuevo[0] = np.cumprod(R_1)\n",
        "for i in range(1, N):\n",
        "  R_i = R_1 + np.random.normal(1.01, 0.03, 100)\n",
        "  nuevo[i] = R_1\n",
        "print(nuevo)"
      ]
    },
    {
      "cell_type": "markdown",
      "metadata": {
        "id": "tsleR0OZ14N6"
      },
      "source": [
        "**My own example 118**"
      ]
    },
    {
      "cell_type": "code",
      "execution_count": 118,
      "metadata": {
        "colab": {
          "base_uri": "https://localhost:8080/"
        },
        "id": "OB2RTAVG2O3D",
        "outputId": "dd366c75-88e5-4798-aa91-230c779b4fe4"
      },
      "outputs": [
        {
          "output_type": "stream",
          "name": "stdout",
          "text": [
            "[[ 38  49  60 143 144]\n",
            " [ 70  83  96 149 152]\n",
            " [ 82 101 120 227 216]\n",
            " [104 130 156 318 304]]\n"
          ]
        }
      ],
      "source": [
        "A = np.array([\n",
        "        [1, 2, 3, 12, 6],\n",
        "        [4, 5, 6, 15, 20],\n",
        "        [7, 8, 9, 10, 10]        \n",
        "    ])\n",
        "B = np.array([\n",
        "        [4, 5, 2],\n",
        "        [2, 3, 8],\n",
        "        [6, 5, 8],\n",
        "        [9, 8, 9]\n",
        "    ])\n",
        "\n",
        "o=np.dot(B, A)\n",
        "print(o)"
      ]
    },
    {
      "cell_type": "markdown",
      "metadata": {
        "id": "Qj-3-gMM14VJ"
      },
      "source": [
        "**My own example 119**"
      ]
    },
    {
      "cell_type": "code",
      "execution_count": 119,
      "metadata": {
        "colab": {
          "base_uri": "https://localhost:8080/"
        },
        "id": "8rFj480T2P-_",
        "outputId": "225a4234-d415-4149-da50-42370dfac934"
      },
      "outputs": [
        {
          "output_type": "stream",
          "name": "stdout",
          "text": [
            "[[ 38  70  82 104]\n",
            " [ 49  83 101 130]\n",
            " [ 60  96 120 156]\n",
            " [143 149 227 318]\n",
            " [144 152 216 304]]\n"
          ]
        }
      ],
      "source": [
        "print(np.transpose(o))"
      ]
    },
    {
      "cell_type": "markdown",
      "metadata": {
        "id": "wx8QfAHT14dY"
      },
      "source": [
        "**My own example 120**"
      ]
    },
    {
      "cell_type": "code",
      "execution_count": 120,
      "metadata": {
        "colab": {
          "base_uri": "https://localhost:8080/"
        },
        "id": "UVTR7E-W2Qz9",
        "outputId": "95870556-58f9-4f08-faee-90b0535f6935"
      },
      "outputs": [
        {
          "output_type": "stream",
          "name": "stdout",
          "text": [
            "[[4 2 6 9]\n",
            " [5 3 5 8]\n",
            " [2 8 8 9]]\n"
          ]
        }
      ],
      "source": [
        "print(np.transpose(B))"
      ]
    },
    {
      "cell_type": "markdown",
      "metadata": {
        "id": "JTp63EEr2RCH"
      },
      "source": [
        "#QuantopianLecture 4"
      ]
    },
    {
      "cell_type": "markdown",
      "metadata": {
        "id": "JbInq0AN17SA"
      },
      "source": [
        "**My own example 121**"
      ]
    },
    {
      "cell_type": "code",
      "execution_count": 121,
      "metadata": {
        "colab": {
          "base_uri": "https://localhost:8080/",
          "height": 295
        },
        "id": "Z94GJiq92Wa-",
        "outputId": "2bbf1fac-fe3c-4494-f2af-da86c3e678cb"
      },
      "outputs": [
        {
          "output_type": "display_data",
          "data": {
            "text/plain": [
              "<Figure size 432x288 with 1 Axes>"
            ],
            "image/png": "[encoded data removed]"
          },
          "metadata": {
            "needs_background": "light"
          }
        }
      ],
      "source": [
        "import pandas as pd\n",
        "import matplotlib.pyplot as plt\n",
        "returns = pd.DataFrame(np.random.normal(1.0, 0.03, (500, 5)))\n",
        "precios = returns.cumprod()\n",
        "precios.plot()\n",
        "plt.title('variacion de precios')\n",
        "plt.xlabel('tiempo')\n",
        "plt.ylabel('precios')\n",
        "plt.legend(loc=0);"
      ]
    },
    {
      "cell_type": "markdown",
      "metadata": {
        "id": "j6AC352h17XJ"
      },
      "source": [
        "**My own example 122**"
      ]
    },
    {
      "cell_type": "code",
      "execution_count": 122,
      "metadata": {
        "colab": {
          "base_uri": "https://localhost:8080/"
        },
        "id": "gHKFIWrb2X0r",
        "outputId": "f8932e33-0e8a-4c64-e8c8-7b06e8cf8d2a"
      },
      "outputs": [
        {
          "output_type": "stream",
          "name": "stdout",
          "text": [
            "0    1.0\n",
            "1    2.0\n",
            "2    NaN\n",
            "3    4.0\n",
            "4    5.0\n",
            "dtype: float64\n"
          ]
        }
      ],
      "source": [
        "asas = pd.Series([1, 2, np.nan, 4, 5])\n",
        "print (asas)"
      ]
    },
    {
      "cell_type": "markdown",
      "metadata": {
        "id": "WvH7L-a617ch"
      },
      "source": [
        "**My own example 123**"
      ]
    },
    {
      "cell_type": "code",
      "execution_count": 123,
      "metadata": {
        "colab": {
          "base_uri": "https://localhost:8080/"
        },
        "id": "AyEdCSdN2ZL-",
        "outputId": "e5f8a527-a240-4928-9b39-f7308c28697b"
      },
      "outputs": [
        {
          "output_type": "stream",
          "name": "stdout",
          "text": [
            "None\n",
            "series\n"
          ]
        }
      ],
      "source": [
        "print (asas.name)\n",
        "asas.name = \"series\"\n",
        "print( asas.name)"
      ]
    },
    {
      "cell_type": "markdown",
      "metadata": {
        "id": "ObCnTqS217i8"
      },
      "source": [
        "**My own example 124**"
      ]
    },
    {
      "cell_type": "code",
      "execution_count": 124,
      "metadata": {
        "colab": {
          "base_uri": "https://localhost:8080/"
        },
        "id": "4aPPitU22aa-",
        "outputId": "18fcdd73-809c-478d-a98c-7df70e27d411"
      },
      "outputs": [
        {
          "output_type": "stream",
          "name": "stdout",
          "text": [
            "primer elemento de la serie:  1.0\n",
            "ultimo elemento de la tabla:  5.0\n"
          ]
        }
      ],
      "source": [
        "print( \"primer elemento de la serie: \", asas.iloc[0])\n",
        "print( \"ultimo elemento de la tabla: \", asas.iloc[len(asas)-1])"
      ]
    },
    {
      "cell_type": "markdown",
      "metadata": {
        "id": "mJKLNBNA17oR"
      },
      "source": [
        "**My own example 125**"
      ]
    },
    {
      "cell_type": "code",
      "execution_count": 125,
      "metadata": {
        "colab": {
          "base_uri": "https://localhost:8080/"
        },
        "id": "dk4iOG3v2bK-",
        "outputId": "4b1bb44b-5686-4c4d-b537-2acb28c5216d"
      },
      "outputs": [
        {
          "output_type": "execute_result",
          "data": {
            "text/plain": [
              "2.0"
            ]
          },
          "metadata": {},
          "execution_count": 125
        }
      ],
      "source": [
        "asas.loc[1]"
      ]
    },
    {
      "cell_type": "markdown",
      "metadata": {
        "id": "A2YBIuc217tp"
      },
      "source": [
        "**My own example 126**"
      ]
    },
    {
      "cell_type": "code",
      "execution_count": 126,
      "metadata": {
        "colab": {
          "base_uri": "https://localhost:8080/"
        },
        "id": "6x8J836L2cC-",
        "outputId": "31b9c5e9-4c86-4317-eaa6-a709e684c599"
      },
      "outputs": [
        {
          "output_type": "stream",
          "name": "stdout",
          "text": [
            "0      54\n",
            "1     578\n",
            "2       8\n",
            "3      74\n",
            "4       4\n",
            "5      87\n",
            "6      24\n",
            "7       8\n",
            "8       1\n",
            "9      94\n",
            "10      1\n",
            "11     84\n",
            "12      1\n",
            "13     84\n",
            "14      7\n",
            "15    897\n",
            "16     54\n",
            "17      8\n",
            "18    879\n",
            "19     11\n",
            "dtype: int64\n"
          ]
        }
      ],
      "source": [
        "serie1 = pd.Series([54,578,8,74,4,87,24,8,1,94,1,84,1,84,7,897,54,8,879,11])\n",
        "print (serie1)"
      ]
    },
    {
      "cell_type": "markdown",
      "metadata": {
        "id": "9qJAR32T17zo"
      },
      "source": [
        "**My own example 127**"
      ]
    },
    {
      "cell_type": "code",
      "execution_count": 127,
      "metadata": {
        "colab": {
          "base_uri": "https://localhost:8080/"
        },
        "id": "zj371Uqm2dO9",
        "outputId": "d75facfa-3206-4804-967c-22f4fb5ab1d2"
      },
      "outputs": [
        {
          "output_type": "stream",
          "name": "stdout",
          "text": [
            "primer elemento de la serie:  54\n",
            "ultimo elemento de la tabla:  11\n"
          ]
        }
      ],
      "source": [
        "print( \"primer elemento de la serie: \", serie1.iloc[0])\n",
        "print( \"ultimo elemento de la tabla: \", serie1.iloc[len(serie1)-1])"
      ]
    },
    {
      "cell_type": "markdown",
      "metadata": {
        "id": "1Ycauuk-179O"
      },
      "source": [
        "**My own example 128**"
      ]
    },
    {
      "cell_type": "code",
      "execution_count": 128,
      "metadata": {
        "colab": {
          "base_uri": "https://localhost:8080/"
        },
        "id": "dV35XmL52epF",
        "outputId": "51a056ac-2790-44f0-8f08-cf23d4708f1e"
      },
      "outputs": [
        {
          "output_type": "execute_result",
          "data": {
            "text/plain": [
              "10      1\n",
              "11     84\n",
              "12      1\n",
              "13     84\n",
              "14      7\n",
              "15    897\n",
              "16     54\n",
              "17      8\n",
              "18    879\n",
              "19     11\n",
              "dtype: int64"
            ]
          },
          "metadata": {},
          "execution_count": 128
        }
      ],
      "source": [
        "serie1.loc[10:19]"
      ]
    },
    {
      "cell_type": "markdown",
      "metadata": {
        "id": "8Yjh-5gV18OP"
      },
      "source": [
        "**My own example 129**"
      ]
    },
    {
      "cell_type": "code",
      "execution_count": 129,
      "metadata": {
        "colab": {
          "base_uri": "https://localhost:8080/"
        },
        "id": "1JlJV0_z2gOY",
        "outputId": "82574370-be2c-4a9c-9101-f9543fa614af"
      },
      "outputs": [
        {
          "output_type": "execute_result",
          "data": {
            "text/plain": [
              "1     578\n",
              "2       8\n",
              "3      74\n",
              "4       4\n",
              "5      87\n",
              "6      24\n",
              "7       8\n",
              "8       1\n",
              "9      94\n",
              "10      1\n",
              "11     84\n",
              "12      1\n",
              "13     84\n",
              "14      7\n",
              "15    897\n",
              "16     54\n",
              "17      8\n",
              "18    879\n",
              "19     11\n",
              "dtype: int64"
            ]
          },
          "metadata": {},
          "execution_count": 129
        }
      ],
      "source": [
        "serie1.loc[1:19]"
      ]
    },
    {
      "cell_type": "markdown",
      "metadata": {
        "id": "Kwa4hD8718PR"
      },
      "source": [
        "**My own example 130**"
      ]
    },
    {
      "cell_type": "code",
      "execution_count": 130,
      "metadata": {
        "colab": {
          "base_uri": "https://localhost:8080/"
        },
        "id": "E2nGotP02hOf",
        "outputId": "eb0414ef-faea-4bbc-eadc-e22d483954a1"
      },
      "outputs": [
        {
          "output_type": "stream",
          "name": "stdout",
          "text": [
            "0     False\n",
            "1     False\n",
            "2      True\n",
            "3     False\n",
            "4      True\n",
            "5     False\n",
            "6     False\n",
            "7      True\n",
            "8      True\n",
            "9     False\n",
            "10     True\n",
            "11    False\n",
            "12     True\n",
            "13    False\n",
            "14     True\n",
            "15    False\n",
            "16    False\n",
            "17     True\n",
            "18    False\n",
            "19    False\n",
            "dtype: bool\n"
          ]
        }
      ],
      "source": [
        "print (serie1 < 10)"
      ]
    },
    {
      "cell_type": "markdown",
      "metadata": {
        "id": "0xgm93KK1-jO"
      },
      "source": [
        "**My own example 131**"
      ]
    },
    {
      "cell_type": "code",
      "execution_count": 131,
      "metadata": {
        "colab": {
          "base_uri": "https://localhost:8080/"
        },
        "id": "Ah6I18Kf2icV",
        "outputId": "ad46a61e-c19f-46c6-f435-8b4fdd3578b1"
      },
      "outputs": [
        {
          "output_type": "stream",
          "name": "stdout",
          "text": [
            "2     8\n",
            "4     4\n",
            "7     8\n",
            "8     1\n",
            "10    1\n",
            "12    1\n",
            "14    7\n",
            "17    8\n",
            "dtype: int64\n"
          ]
        }
      ],
      "source": [
        "print (serie1.loc[serie1 < 10])"
      ]
    },
    {
      "cell_type": "markdown",
      "metadata": {
        "id": "rMWpPtY31-oQ"
      },
      "source": [
        "**My own example 132**"
      ]
    },
    {
      "cell_type": "code",
      "execution_count": 132,
      "metadata": {
        "colab": {
          "base_uri": "https://localhost:8080/"
        },
        "id": "_RQSLTYT2jkn",
        "outputId": "d4d9feaf-4a58-4ea6-fca8-10ff5f87d060"
      },
      "outputs": [
        {
          "output_type": "stream",
          "name": "stdout",
          "text": [
            "            a  b         c\n",
            "2023-02-20  1  L  1.740430\n",
            "2023-02-21  2  K -0.795801\n",
            "2023-02-22  3  J  0.812616\n",
            "2023-02-23  4  M  0.757075\n",
            "2023-02-24  5  Z -0.115229\n"
          ]
        }
      ],
      "source": [
        "dict_data = {\n",
        "    'a' : [1, 2, 3, 4, 5],\n",
        "    'b' : ['L', 'K', 'J', 'M', 'Z'],\n",
        "    'c' : np.random.normal(0, 1, 5)\n",
        "}\n",
        "frame_data = pd.DataFrame(dict_data, index=pd.date_range('2023-02-20', periods=5))\n",
        "print (frame_data)"
      ]
    },
    {
      "cell_type": "markdown",
      "metadata": {
        "id": "ljj5FhXg1-uP"
      },
      "source": [
        "**My own example 133**"
      ]
    },
    {
      "cell_type": "code",
      "execution_count": 133,
      "metadata": {
        "colab": {
          "base_uri": "https://localhost:8080/"
        },
        "id": "U0bibLpW2k2Q",
        "outputId": "06fa8c87-bb28-49c4-94c1-ef21cb056d46"
      },
      "outputs": [
        {
          "output_type": "stream",
          "name": "stdout",
          "text": [
            "   nicolas  eduardo\n",
            "0        2        1\n",
            "1        4        3\n",
            "2        6        5\n",
            "3        8        7\n",
            "4       10        9\n"
          ]
        }
      ],
      "source": [
        "s_1 = pd.Series([2, 4, 6, 8, 10], name='nicolas')\n",
        "s_2 = pd.Series([1, 3, 5, 7, 9], name=\"eduardo\")\n",
        "numeros = pd.concat([s_1, s_2], axis=1)\n",
        "print (numeros)"
      ]
    },
    {
      "cell_type": "markdown",
      "metadata": {
        "id": "DLr4NiTe1-zY"
      },
      "source": [
        "**My own example 134**"
      ]
    },
    {
      "cell_type": "code",
      "execution_count": 134,
      "metadata": {
        "colab": {
          "base_uri": "https://localhost:8080/"
        },
        "id": "5t2lPfi32lsJ",
        "outputId": "63077b43-e2f6-4cba-ffb5-bc27ef0e2eec"
      },
      "outputs": [
        {
          "output_type": "execute_result",
          "data": {
            "text/plain": [
              "array([[ 2,  1],\n",
              "       [ 4,  3],\n",
              "       [ 6,  5],\n",
              "       [ 8,  7],\n",
              "       [10,  9]])"
            ]
          },
          "metadata": {},
          "execution_count": 134
        }
      ],
      "source": [
        "numeros.values"
      ]
    },
    {
      "cell_type": "markdown",
      "metadata": {
        "id": "oqNpy_vV1-4N"
      },
      "source": [
        "**My own example 135**"
      ]
    },
    {
      "cell_type": "code",
      "execution_count": 135,
      "metadata": {
        "colab": {
          "base_uri": "https://localhost:8080/",
          "height": 295
        },
        "id": "145MaDRn2n5U",
        "outputId": "f9b2a537-512d-4bf4-bb96-88477e56511d"
      },
      "outputs": [
        {
          "output_type": "display_data",
          "data": {
            "text/plain": [
              "<Figure size 432x288 with 1 Axes>"
            ],
            "image/png": "[encoded data removed]"
          },
          "metadata": {
            "needs_background": "light"
          }
        }
      ],
      "source": [
        "cq = pd.DataFrame(np.random.normal(1.0, 0.9, (100, 10)))\n",
        "prices = cq.cumprod()\n",
        "prices.plot()\n",
        "plt.title('pe')\n",
        "plt.xlabel('tiempo')\n",
        "plt.ylabel('precio')\n",
        "plt.legend(loc=0);"
      ]
    },
    {
      "cell_type": "markdown",
      "metadata": {
        "id": "z-DHf4Ju1_BY"
      },
      "source": [
        "**My own example 136**"
      ]
    },
    {
      "cell_type": "code",
      "execution_count": 136,
      "metadata": {
        "colab": {
          "base_uri": "https://localhost:8080/"
        },
        "id": "9pbnGRVF2sxd",
        "outputId": "cfcace21-00dd-46d7-df65-d9cb197fc9c1"
      },
      "outputs": [
        {
          "output_type": "stream",
          "name": "stdout",
          "text": [
            "                a  b         c\n",
            "2023-02-20  98.00  L -0.668195\n",
            "2023-02-21  98.29  K  0.090035\n",
            "2023-02-22  89.00  J  1.695160\n"
          ]
        }
      ],
      "source": [
        "y = {\n",
        "    'a' : [98,98.29,89],\n",
        "    'b' : ['L', 'K', 'J'],\n",
        "    'c' : np.random.normal(0, 1, 3)\n",
        "}\n",
        "frame_data = pd.DataFrame(y, index=pd.date_range('2023-02-20', periods=3))\n",
        "print (frame_data)"
      ]
    },
    {
      "cell_type": "markdown",
      "metadata": {
        "id": "WIQoo1111_QO"
      },
      "source": [
        "**My own example 137**"
      ]
    },
    {
      "cell_type": "code",
      "execution_count": 137,
      "metadata": {
        "colab": {
          "base_uri": "https://localhost:8080/"
        },
        "id": "jJLwbbWT2vGm",
        "outputId": "18ad8b89-3ca2-4202-d64b-9d6deea984d1"
      },
      "outputs": [
        {
          "output_type": "stream",
          "name": "stdout",
          "text": [
            "0       5\n",
            "1      57\n",
            "2       8\n",
            "3       5\n",
            "4       5\n",
            "5     787\n",
            "6       4\n",
            "7       4\n",
            "8      87\n",
            "9      84\n",
            "10      8\n",
            "11     71\n",
            "12      8\n",
            "13      7\n",
            "14     18\n",
            "15      4\n",
            "16      8\n",
            "17      4\n",
            "18     87\n",
            "dtype: int64\n"
          ]
        }
      ],
      "source": [
        "asd = pd.Series([5,57,8,5,5,787,4,4,87,84,8,71,8,7,18,4,8,4,87])\n",
        "print (asd)"
      ]
    },
    {
      "cell_type": "markdown",
      "metadata": {
        "id": "vVaKnUHX1_Ra"
      },
      "source": [
        "**My own example 138**"
      ]
    },
    {
      "cell_type": "code",
      "execution_count": 138,
      "metadata": {
        "colab": {
          "base_uri": "https://localhost:8080/"
        },
        "id": "lPzTQENU2wQF",
        "outputId": "e18ce599-6a69-4cfe-978a-bec7de12537c"
      },
      "outputs": [
        {
          "output_type": "stream",
          "name": "stdout",
          "text": [
            "6     4\n",
            "7     4\n",
            "15    4\n",
            "17    4\n",
            "dtype: int64\n"
          ]
        }
      ],
      "source": [
        "print (asd.loc[asd < 5])"
      ]
    },
    {
      "cell_type": "markdown",
      "metadata": {
        "id": "p8wfN85k1_Sr"
      },
      "source": [
        "**My own example 139**"
      ]
    },
    {
      "cell_type": "code",
      "execution_count": 139,
      "metadata": {
        "colab": {
          "base_uri": "https://localhost:8080/"
        },
        "id": "9RQcu_mV2xwC",
        "outputId": "cdb5f01f-be23-45ce-97da-3781b6268d35"
      },
      "outputs": [
        {
          "output_type": "stream",
          "name": "stdout",
          "text": [
            "0      5\n",
            "1     57\n",
            "2      8\n",
            "3      5\n",
            "4      5\n",
            "6      4\n",
            "7      4\n",
            "8     87\n",
            "9     84\n",
            "10     8\n",
            "11    71\n",
            "12     8\n",
            "13     7\n",
            "14    18\n",
            "15     4\n",
            "16     8\n",
            "17     4\n",
            "18    87\n",
            "dtype: int64\n"
          ]
        }
      ],
      "source": [
        "print (asd.loc[asd < 89])"
      ]
    },
    {
      "cell_type": "markdown",
      "metadata": {
        "id": "WuyWszhp1_T8"
      },
      "source": [
        "**My own example 140**"
      ]
    },
    {
      "cell_type": "code",
      "execution_count": 140,
      "metadata": {
        "colab": {
          "base_uri": "https://localhost:8080/",
          "height": 295
        },
        "id": "pACa7ZNZ2zG6",
        "outputId": "9adb8526-0c5a-4e21-d43f-de0898851628"
      },
      "outputs": [
        {
          "output_type": "display_data",
          "data": {
            "text/plain": [
              "<Figure size 432x288 with 1 Axes>"
            ],
            "image/png": "[encoded data removed]"
          },
          "metadata": {
            "needs_background": "light"
          }
        }
      ],
      "source": [
        "qeqw = pd.DataFrame(np.random.normal(1.0, 0.09, (50, 10)))\n",
        "prices = qeqw.cumprod()\n",
        "prices.plot()\n",
        "plt.title('qeqw')\n",
        "plt.xlabel('tiempo')\n",
        "plt.ylabel('precio')\n",
        "plt.legend(loc=0);"
      ]
    },
    {
      "cell_type": "markdown",
      "metadata": {
        "id": "MI3COIVd2zU7"
      },
      "source": [
        "#Quanconnect Tutorial 4 NumPy "
      ]
    },
    {
      "cell_type": "markdown",
      "metadata": {
        "id": "EXJ4Rwqx2CEM"
      },
      "source": [
        "**My own example 141**"
      ]
    },
    {
      "cell_type": "code",
      "execution_count": 141,
      "metadata": {
        "colab": {
          "base_uri": "https://localhost:8080/"
        },
        "id": "M3aaCaLA29-E",
        "outputId": "4d497982-fffa-4682-f6a4-7f4f55363d88"
      },
      "outputs": [
        {
          "output_type": "stream",
          "name": "stdout",
          "text": [
            "[[1 8 5 8]\n",
            " [8 8 8 8]] <class 'numpy.ndarray'>\n"
          ]
        }
      ],
      "source": [
        "e = np.array([[1,8,5,8],[8,8,8,8]])\n",
        "print(e, type(e))"
      ]
    },
    {
      "cell_type": "markdown",
      "metadata": {
        "id": "v6nm8c6p2CFX"
      },
      "source": [
        "**My own example 142**"
      ]
    },
    {
      "cell_type": "code",
      "execution_count": 142,
      "metadata": {
        "colab": {
          "base_uri": "https://localhost:8080/"
        },
        "id": "uY5KgKyq3JlN",
        "outputId": "e7f4b4d4-8b3c-4e2b-e31e-93ac45963f9f"
      },
      "outputs": [
        {
          "output_type": "execute_result",
          "data": {
            "text/plain": [
              "0     4\n",
              "1     8\n",
              "2     5\n",
              "3     8\n",
              "4     9\n",
              "5     8\n",
              "6    39\n",
              "dtype: int64"
            ]
          },
          "metadata": {},
          "execution_count": 142
        }
      ],
      "source": [
        "precio = [4,8,5,8,9,8,39]\n",
        "precio = pd.Series(precio)\n",
        "precio"
      ]
    },
    {
      "cell_type": "markdown",
      "metadata": {
        "id": "xhhE1WdA2CPe"
      },
      "source": [
        "**My own example 143**"
      ]
    },
    {
      "cell_type": "code",
      "execution_count": 143,
      "metadata": {
        "colab": {
          "base_uri": "https://localhost:8080/"
        },
        "id": "LAWciXmT3K0X",
        "outputId": "b60545e2-0187-4c01-f0a4-0430d05b5ad7"
      },
      "outputs": [
        {
          "output_type": "execute_result",
          "data": {
            "text/plain": [
              "7     4\n",
              "6     8\n",
              "5     5\n",
              "4     8\n",
              "3     9\n",
              "2     8\n",
              "1    39\n",
              "dtype: int64"
            ]
          },
          "metadata": {},
          "execution_count": 143
        }
      ],
      "source": [
        "precio.index = [7,6,5,4,3,2,1]\n",
        "precio"
      ]
    },
    {
      "cell_type": "markdown",
      "metadata": {
        "id": "APspB0fr2Cai"
      },
      "source": [
        "**My own example 144**"
      ]
    },
    {
      "cell_type": "code",
      "execution_count": 144,
      "metadata": {
        "colab": {
          "base_uri": "https://localhost:8080/"
        },
        "id": "x8M6zHSu3L9V",
        "outputId": "184ed4b8-5a9b-488b-ac43-7e7aaa9b15f0"
      },
      "outputs": [
        {
          "output_type": "stream",
          "name": "stdout",
          "text": [
            "6     8\n",
            "5     5\n",
            "4     8\n",
            "3     9\n",
            "2     8\n",
            "1    39\n",
            "dtype: int64\n"
          ]
        }
      ],
      "source": [
        "print(precio[1:])"
      ]
    },
    {
      "cell_type": "markdown",
      "metadata": {
        "id": "jskXpuyk2Cg9"
      },
      "source": [
        "**My own example 145**"
      ]
    },
    {
      "cell_type": "code",
      "execution_count": 145,
      "metadata": {
        "colab": {
          "base_uri": "https://localhost:8080/"
        },
        "id": "wM_jdsAX3M20",
        "outputId": "27320c6a-cfa2-4bfe-960a-8203bb29c36f"
      },
      "outputs": [
        {
          "output_type": "stream",
          "name": "stdout",
          "text": [
            "7    4\n",
            "6    8\n",
            "5    5\n",
            "4    8\n",
            "3    9\n",
            "dtype: int64\n"
          ]
        }
      ],
      "source": [
        "print(precio[:-2])"
      ]
    },
    {
      "cell_type": "markdown",
      "metadata": {
        "id": "vOfwfott2Cqp"
      },
      "source": [
        "**My own example 146**"
      ]
    },
    {
      "cell_type": "code",
      "execution_count": 146,
      "metadata": {
        "colab": {
          "base_uri": "https://localhost:8080/"
        },
        "id": "01h9L1DH3Q9L",
        "outputId": "472a8e8d-026e-420f-cf29-41f6005ff550"
      },
      "outputs": [
        {
          "output_type": "stream",
          "name": "stdout",
          "text": [
            "8\n",
            "7     4\n",
            "6     8\n",
            "5     5\n",
            "4    98\n",
            "3     9\n",
            "2     8\n",
            "1    39\n",
            "dtype: int64\n"
          ]
        }
      ],
      "source": [
        "print(precio[4])\n",
        "precio[4] = 98\n",
        "print(precio)"
      ]
    },
    {
      "cell_type": "markdown",
      "metadata": {
        "id": "zjSd242Z2C4-"
      },
      "source": [
        "**My own example 147**"
      ]
    },
    {
      "cell_type": "code",
      "execution_count": 147,
      "metadata": {
        "colab": {
          "base_uri": "https://localhost:8080/"
        },
        "id": "dS_up4ko3OeW",
        "outputId": "475141a6-69db-4fd9-cc77-9533d5b73159"
      },
      "outputs": [
        {
          "output_type": "stream",
          "name": "stdout",
          "text": [
            "7     4\n",
            "6     8\n",
            "5     5\n",
            "4    98\n",
            "3     9\n",
            "2     8\n",
            "1    39\n",
            "Name: precio de huevo, dtype: int64\n",
            "precio de huevo\n"
          ]
        }
      ],
      "source": [
        "precio = pd.Series(precio, name = 'precio de huevo')\n",
        "print(precio)\n",
        "print(precio.name)"
      ]
    },
    {
      "cell_type": "markdown",
      "metadata": {
        "id": "ckZKGamM2C6H"
      },
      "source": [
        "**My own example 148**"
      ]
    },
    {
      "cell_type": "code",
      "execution_count": 148,
      "metadata": {
        "colab": {
          "base_uri": "https://localhost:8080/"
        },
        "id": "Xx3mL6V43SZS",
        "outputId": "b9eb004c-f88b-4601-d0a3-07d5a591aa71"
      },
      "outputs": [
        {
          "output_type": "stream",
          "name": "stdout",
          "text": [
            "7    4\n",
            "6    8\n",
            "5    5\n",
            "3    9\n",
            "2    8\n",
            "Name: precio de huevo, dtype: int64\n",
            "[7    False\n",
            "6    False\n",
            "5    False\n",
            "4    False\n",
            "3    False\n",
            "2    False\n",
            "1     True\n",
            "Name: precio de huevo, dtype: bool]\n"
          ]
        }
      ],
      "source": [
        "print(precio[precio < np.mean(precio)] )\n",
        "print([(precio > np.mean(precio)) & (precio < np.mean(precio) + .8*np.std(precio))])"
      ]
    },
    {
      "cell_type": "markdown",
      "metadata": {
        "id": "ygPy5AAv2C7F"
      },
      "source": [
        "**My own example 149**"
      ]
    },
    {
      "cell_type": "code",
      "execution_count": 149,
      "metadata": {
        "colab": {
          "base_uri": "https://localhost:8080/"
        },
        "id": "_RIToE933dbZ",
        "outputId": "61288cae-2960-4a8e-fe6a-d4c621ad2c79"
      },
      "outputs": [
        {
          "output_type": "stream",
          "name": "stdout",
          "text": [
            "[[ 11.8  83.   55.   85. ]\n",
            " [ 82.  821.   38.   84. ]] <class 'numpy.ndarray'>\n"
          ]
        }
      ],
      "source": [
        "es = np.array([[11.8,83,55,85],[82,821,38,84]])\n",
        "print(es, type(es))"
      ]
    },
    {
      "cell_type": "markdown",
      "metadata": {
        "id": "DkvgAEeQ2C8y"
      },
      "source": [
        "**My own example 150**"
      ]
    },
    {
      "cell_type": "code",
      "execution_count": 150,
      "metadata": {
        "colab": {
          "base_uri": "https://localhost:8080/"
        },
        "id": "K9MGVGbD3gyr",
        "outputId": "a954181c-8455-4cc3-a272-bc9c7dc9dd3a"
      },
      "outputs": [
        {
          "output_type": "stream",
          "name": "stdout",
          "text": [
            "[[ 11  83  55  85]\n",
            " [ 82 821  38  84]] <class 'numpy.ndarray'>\n"
          ]
        }
      ],
      "source": [
        "es = np.array([[11,83,55,85],[82,821,38,84]])\n",
        "print(es, type(es))"
      ]
    },
    {
      "cell_type": "markdown",
      "metadata": {
        "id": "2vvPG5ZI3hQS"
      },
      "source": [
        "**My own example 151**"
      ]
    },
    {
      "cell_type": "code",
      "execution_count": 151,
      "metadata": {
        "colab": {
          "base_uri": "https://localhost:8080/"
        },
        "id": "koJfVBeh3j94",
        "outputId": "4d5097d1-1ada-4dda-fdd0-467c77519d56"
      },
      "outputs": [
        {
          "output_type": "stream",
          "name": "stdout",
          "text": [
            "[[11 83 55 85]]\n"
          ]
        }
      ],
      "source": [
        "print(es[:1])"
      ]
    },
    {
      "cell_type": "markdown",
      "metadata": {
        "id": "6CCMIEHO3hda"
      },
      "source": [
        "**My own example 152**"
      ]
    },
    {
      "cell_type": "code",
      "execution_count": 152,
      "metadata": {
        "colab": {
          "base_uri": "https://localhost:8080/"
        },
        "id": "bimehyaR3lKZ",
        "outputId": "cd5091ac-e43a-4ac9-bb15-e5dfd2ed7dd0"
      },
      "outputs": [
        {
          "output_type": "stream",
          "name": "stdout",
          "text": [
            "[[ 11  83  55  85]\n",
            " [ 82 821  38  84]]\n"
          ]
        }
      ],
      "source": [
        "print(es[0:2])"
      ]
    },
    {
      "cell_type": "markdown",
      "metadata": {
        "id": "9kFziUkc3huZ"
      },
      "source": [
        "**My own example 153**"
      ]
    },
    {
      "cell_type": "code",
      "execution_count": 153,
      "metadata": {
        "colab": {
          "base_uri": "https://localhost:8080/"
        },
        "id": "OrINNLta3noe",
        "outputId": "018dca39-61d7-4640-c2b6-b20ee3bfaedd"
      },
      "outputs": [
        {
          "output_type": "execute_result",
          "data": {
            "text/plain": [
              "0     20\n",
              "1     22\n",
              "2     24\n",
              "3     25\n",
              "4     23\n",
              "5     25\n",
              "6     28\n",
              "7     24\n",
              "8     20\n",
              "9     20\n",
              "10    20\n",
              "dtype: int64"
            ]
          },
          "metadata": {},
          "execution_count": 153
        }
      ],
      "source": [
        "edad = [20,22,24,25,23,25,28,24,20,20,20]\n",
        "edad = pd.Series(edad)\n",
        "edad"
      ]
    },
    {
      "cell_type": "markdown",
      "metadata": {
        "id": "RyliaZAA3h17"
      },
      "source": [
        "**My own example 154**"
      ]
    },
    {
      "cell_type": "code",
      "execution_count": 154,
      "metadata": {
        "colab": {
          "base_uri": "https://localhost:8080/"
        },
        "id": "PXESbW843mfF",
        "outputId": "c42e273f-b0bc-46de-baa0-d81cdc1337c3"
      },
      "outputs": [
        {
          "output_type": "execute_result",
          "data": {
            "text/plain": [
              "juan    20\n",
              "fer     22\n",
              "juan    24\n",
              "mk      25\n",
              "pepe    23\n",
              "pol     25\n",
              "pio     28\n",
              "va      24\n",
              "vane    20\n",
              "pipe    20\n",
              "ana     20\n",
              "dtype: int64"
            ]
          },
          "metadata": {},
          "execution_count": 154
        }
      ],
      "source": [
        "edad.index = [\"juan\",\"fer\",\"juan\",\"mk\",\"pepe\",\"pol\",\"pio\",\"va\",\"vane\",\"pipe\",\"ana\"]\n",
        "edad"
      ]
    },
    {
      "cell_type": "markdown",
      "metadata": {
        "id": "JfBIMS7o3h9f"
      },
      "source": [
        "**My own example 155**"
      ]
    },
    {
      "cell_type": "code",
      "execution_count": 155,
      "metadata": {
        "colab": {
          "base_uri": "https://localhost:8080/"
        },
        "id": "F-H28RYp3rEN",
        "outputId": "5b4f1393-5c6c-4d29-de71-83bf583f784b"
      },
      "outputs": [
        {
          "output_type": "stream",
          "name": "stdout",
          "text": [
            "juan    20\n",
            "fer     22\n",
            "juan    24\n",
            "mk      25\n",
            "pepe    23\n",
            "pol     25\n",
            "pio     28\n",
            "va      24\n",
            "vane    20\n",
            "pipe    20\n",
            "ana     20\n",
            "Name: edad de grupo, dtype: int64\n",
            "edad de grupo\n"
          ]
        }
      ],
      "source": [
        "edad = pd.Series(edad, name = 'edad de grupo')\n",
        "print(edad)\n",
        "print(edad.name)"
      ]
    },
    {
      "cell_type": "markdown",
      "metadata": {
        "id": "b_a08ACv3iD8"
      },
      "source": [
        "**My own example 156**"
      ]
    },
    {
      "cell_type": "code",
      "execution_count": 156,
      "metadata": {
        "colab": {
          "base_uri": "https://localhost:8080/"
        },
        "id": "MsqLVQsO3sQw",
        "outputId": "626095bd-0a2d-444d-a903-0c27a7ed4dda"
      },
      "outputs": [
        {
          "output_type": "stream",
          "name": "stdout",
          "text": [
            "edad promedio de grupo 22.818181818181817\n"
          ]
        }
      ],
      "source": [
        "print(\"edad promedio de grupo\",np.mean(edad) )"
      ]
    },
    {
      "cell_type": "markdown",
      "metadata": {
        "id": "lk8O16cj3iK2"
      },
      "source": [
        "**My own example 157**"
      ]
    },
    {
      "cell_type": "code",
      "execution_count": 157,
      "metadata": {
        "colab": {
          "base_uri": "https://localhost:8080/"
        },
        "id": "NdpsANtF3tM9",
        "outputId": "75c6e326-2f1f-4df8-d426-348a28aa1a77"
      },
      "outputs": [
        {
          "output_type": "stream",
          "name": "stdout",
          "text": [
            "menores que el promedio juan    20\n",
            "fer     22\n",
            "vane    20\n",
            "pipe    20\n",
            "ana     20\n",
            "Name: edad de grupo, dtype: int64\n"
          ]
        }
      ],
      "source": [
        "print(\"menores que el promedio\",edad[edad < np.mean(edad)] )"
      ]
    },
    {
      "cell_type": "markdown",
      "metadata": {
        "id": "kTh14jq63iSH"
      },
      "source": [
        "**My own example 158**"
      ]
    },
    {
      "cell_type": "code",
      "execution_count": 158,
      "metadata": {
        "colab": {
          "base_uri": "https://localhost:8080/"
        },
        "id": "ZB2CTsYm3uY7",
        "outputId": "ffaf5071-3360-4ae9-db93-a3809ed44329"
      },
      "outputs": [
        {
          "output_type": "stream",
          "name": "stdout",
          "text": [
            "mayores que el promedio juan    24\n",
            "mk      25\n",
            "pepe    23\n",
            "pol     25\n",
            "pio     28\n",
            "va      24\n",
            "Name: edad de grupo, dtype: int64\n"
          ]
        }
      ],
      "source": [
        "print(\"mayores que el promedio\", edad[edad > np.mean(edad)] )"
      ]
    },
    {
      "cell_type": "markdown",
      "metadata": {
        "id": "nqUCT8rT3iZc"
      },
      "source": [
        "**My own example 159**"
      ]
    },
    {
      "cell_type": "code",
      "execution_count": 159,
      "metadata": {
        "colab": {
          "base_uri": "https://localhost:8080/"
        },
        "id": "6jiehcxJ3vi-",
        "outputId": "9b4dfae6-199f-4b30-9dc7-0b630e5968ba"
      },
      "outputs": [
        {
          "output_type": "stream",
          "name": "stdout",
          "text": [
            "mayores de 25 años pio    28\n",
            "Name: edad de grupo, dtype: int64\n"
          ]
        }
      ],
      "source": [
        "print(\"mayores de 25 años\",edad[edad > 25] )"
      ]
    },
    {
      "cell_type": "markdown",
      "metadata": {
        "id": "E1FSGp5l3igs"
      },
      "source": [
        "**My own example 160**"
      ]
    },
    {
      "cell_type": "code",
      "execution_count": 160,
      "metadata": {
        "colab": {
          "base_uri": "https://localhost:8080/"
        },
        "id": "iygiajqX3ymM",
        "outputId": "e90e7c18-5e63-4638-b974-7833e6d3b91d"
      },
      "outputs": [
        {
          "output_type": "stream",
          "name": "stdout",
          "text": [
            "menoes de 25 años juan    20\n",
            "fer     22\n",
            "juan    24\n",
            "pepe    23\n",
            "va      24\n",
            "vane    20\n",
            "pipe    20\n",
            "ana     20\n",
            "Name: edad de grupo, dtype: int64\n"
          ]
        }
      ],
      "source": [
        "print(\"menoes de 25 años\",edad[edad < 25] )"
      ]
    },
    {
      "cell_type": "markdown",
      "metadata": {
        "id": "-U4XiIcS3zES"
      },
      "source": [
        "#Quanconnect Tutorial 5 Pandas"
      ]
    },
    {
      "cell_type": "markdown",
      "metadata": {
        "id": "ZraRphKX4NY1"
      },
      "source": [
        "**My own example 161**"
      ]
    },
    {
      "cell_type": "code",
      "execution_count": 161,
      "metadata": {
        "colab": {
          "base_uri": "https://localhost:8080/"
        },
        "id": "n11eKM4n4ZDe",
        "outputId": "343bc9e7-3bba-4d5d-fa42-3e14fd3ce8e9"
      },
      "outputs": [
        {
          "output_type": "stream",
          "name": "stdout",
          "text": [
            "range(0, 10)\n",
            "range(1, 11)\n",
            "range(1, 11, 2)\n"
          ]
        }
      ],
      "source": [
        "print(range(10))\n",
        "print(range(1,11))\n",
        "print(range(1,11,2))"
      ]
    },
    {
      "cell_type": "markdown",
      "metadata": {
        "id": "TEso_tY14Zkv"
      },
      "source": [
        "**My own example 162**"
      ]
    },
    {
      "cell_type": "code",
      "execution_count": 162,
      "metadata": {
        "colab": {
          "base_uri": "https://localhost:8080/"
        },
        "id": "hwMwbLV84f5N",
        "outputId": "e140c5ba-7e8d-46c0-deca-376dcbe0cd7d"
      },
      "outputs": [
        {
          "output_type": "execute_result",
          "data": {
            "text/plain": [
              "[0, 1, 4, 9, 16, 25, 36, 49, 64, 81]"
            ]
          },
          "metadata": {},
          "execution_count": 162
        }
      ],
      "source": [
        "list(map(lambda x: x**2, range(10)))"
      ]
    },
    {
      "cell_type": "markdown",
      "metadata": {
        "id": "JRe9bztf4bq-"
      },
      "source": [
        "**My own example 163**"
      ]
    },
    {
      "cell_type": "code",
      "execution_count": 163,
      "metadata": {
        "colab": {
          "base_uri": "https://localhost:8080/"
        },
        "id": "wLUcdY0n4hB5",
        "outputId": "c7cad00b-3023-4a93-8955-2bb51608a680"
      },
      "outputs": [
        {
          "output_type": "execute_result",
          "data": {
            "text/plain": [
              "[5, 8, 9, 8, 5]"
            ]
          },
          "metadata": {},
          "execution_count": 163
        }
      ],
      "source": [
        "list(map(lambda x, y: x*y, [1,2,3,4,5],[5,4,3,2,1]))"
      ]
    },
    {
      "cell_type": "markdown",
      "metadata": {
        "id": "031PZ17p4bw6"
      },
      "source": [
        "**My own example 164**"
      ]
    },
    {
      "cell_type": "code",
      "execution_count": 164,
      "metadata": {
        "colab": {
          "base_uri": "https://localhost:8080/"
        },
        "id": "wLzV-4nV4iEi",
        "outputId": "4f3014e5-3b88-4576-f488-aea6510a5489"
      },
      "outputs": [
        {
          "output_type": "execute_result",
          "data": {
            "text/plain": [
              "[1, 2, 3, 4, 5]"
            ]
          },
          "metadata": {},
          "execution_count": 164
        }
      ],
      "source": [
        "sorted([5,2,3,4,1])"
      ]
    },
    {
      "cell_type": "markdown",
      "metadata": {
        "id": "55VzRBxv4cME"
      },
      "source": [
        "**My own example 165**"
      ]
    },
    {
      "cell_type": "code",
      "execution_count": 165,
      "metadata": {
        "colab": {
          "base_uri": "https://localhost:8080/",
          "height": 0
        },
        "id": "QaaMwXie4jmo",
        "outputId": "c70678fd-c5a6-4f9b-cc56-1c2f2646332f"
      },
      "outputs": [
        {
          "output_type": "display_data",
          "data": {
            "text/plain": [
              "<Figure size 432x288 with 1 Axes>"
            ],
            "image/png": "[encoded data removed]"
          },
          "metadata": {
            "needs_background": "light"
          }
        }
      ],
      "source": [
        "mm = pd.DataFrame(np.random.normal(1.0, 0.03, (100, 10)))\n",
        "pp = mm.cumprod()\n",
        "pp.plot()\n",
        "plt.title('precios ramdon partiendo de 1.0')\n",
        "plt.xlabel('T')\n",
        "plt.ylabel('$')\n",
        "plt.legend(loc=0);"
      ]
    },
    {
      "cell_type": "markdown",
      "metadata": {
        "id": "QJPifKPT4cP6"
      },
      "source": [
        "**My own example 166**"
      ]
    },
    {
      "cell_type": "code",
      "execution_count": 166,
      "metadata": {
        "colab": {
          "base_uri": "https://localhost:8080/"
        },
        "id": "JprlTPDP4k6e",
        "outputId": "3e0ce4e8-bd58-4dd3-f408-9db5d5762d6a"
      },
      "outputs": [
        {
          "output_type": "stream",
          "name": "stdout",
          "text": [
            "0    NaN\n",
            "1    NaN\n",
            "2    NaN\n",
            "3    8.0\n",
            "4    NaN\n",
            "dtype: float64\n"
          ]
        }
      ],
      "source": [
        "ej = pd.Series([np.nan, np.nan, np.nan, 8, np.nan])\n",
        "print (ej)"
      ]
    },
    {
      "cell_type": "markdown",
      "metadata": {
        "id": "Foi3Czxr4b4I"
      },
      "source": [
        "**My own example 167**"
      ]
    },
    {
      "cell_type": "code",
      "execution_count": 167,
      "metadata": {
        "colab": {
          "base_uri": "https://localhost:8080/"
        },
        "id": "XqCtTfGD4mCO",
        "outputId": "73637edd-f983-4bbb-f8e5-5e0732b11378"
      },
      "outputs": [
        {
          "output_type": "stream",
          "name": "stdout",
          "text": [
            "None\n"
          ]
        }
      ],
      "source": [
        "print (ej.name)"
      ]
    },
    {
      "cell_type": "markdown",
      "metadata": {
        "id": "Og1tpWjH4b9Y"
      },
      "source": [
        "**My own example 168**"
      ]
    },
    {
      "cell_type": "code",
      "execution_count": 168,
      "metadata": {
        "colab": {
          "base_uri": "https://localhost:8080/"
        },
        "id": "m0lz5bax4nFt",
        "outputId": "20fde856-d009-4a92-dd81-0830ce187b2b"
      },
      "outputs": [
        {
          "output_type": "stream",
          "name": "stdout",
          "text": [
            "datod\n"
          ]
        }
      ],
      "source": [
        "ej.name = \"datod\"\n",
        "print (ej.name)"
      ]
    },
    {
      "cell_type": "markdown",
      "metadata": {
        "id": "nqZPMtV-4cCf"
      },
      "source": [
        "**My own example 169**"
      ]
    },
    {
      "cell_type": "code",
      "execution_count": 169,
      "metadata": {
        "colab": {
          "base_uri": "https://localhost:8080/"
        },
        "id": "lrvgmzpW4oKT",
        "outputId": "8fade718-9ec6-4930-e288-79ebd2cee64a"
      },
      "outputs": [
        {
          "output_type": "stream",
          "name": "stdout",
          "text": [
            "RangeIndex(start=0, stop=5, step=1)\n"
          ]
        }
      ],
      "source": [
        "print (ej.index)"
      ]
    },
    {
      "cell_type": "markdown",
      "metadata": {
        "id": "Uj3TwdOZ4cGx"
      },
      "source": [
        "**My own example 170**"
      ]
    },
    {
      "cell_type": "code",
      "execution_count": 170,
      "metadata": {
        "colab": {
          "base_uri": "https://localhost:8080/"
        },
        "id": "WfspIP5X4qrA",
        "outputId": "f82788f9-fc12-4629-f13c-f4578a00c050"
      },
      "outputs": [
        {
          "output_type": "stream",
          "name": "stdout",
          "text": [
            "DatetimeIndex(['2023-02-20', '2023-02-21', '2023-02-22', '2023-02-23',\n",
            "               '2023-02-24'],\n",
            "              dtype='datetime64[ns]', freq='D')\n"
          ]
        }
      ],
      "source": [
        "ni = pd.date_range(\"2023-02-20\", periods=len(ej), freq=\"D\")\n",
        "print (ni)"
      ]
    },
    {
      "cell_type": "markdown",
      "metadata": {
        "id": "2KM9CVim4rKE"
      },
      "source": [
        "**My own example 171**"
      ]
    },
    {
      "cell_type": "code",
      "execution_count": 171,
      "metadata": {
        "colab": {
          "base_uri": "https://localhost:8080/"
        },
        "id": "lh50bTuu4_c5",
        "outputId": "2042984e-90c1-4d02-b4f6-4b91e23f14a1"
      },
      "outputs": [
        {
          "output_type": "stream",
          "name": "stdout",
          "text": [
            "primer elemento:  nan\n",
            "ultimo elemento:  nan\n"
          ]
        }
      ],
      "source": [
        "print (\"primer elemento: \", ej.iloc[0])\n",
        "print (\"ultimo elemento: \", ej.iloc[len(ej)-1])"
      ]
    },
    {
      "cell_type": "markdown",
      "metadata": {
        "id": "GYQMTn-f4rLu"
      },
      "source": [
        "**My own example 172**"
      ]
    },
    {
      "cell_type": "code",
      "execution_count": 172,
      "metadata": {
        "colab": {
          "base_uri": "https://localhost:8080/"
        },
        "id": "InESQ-Iq5ASe",
        "outputId": "8bc16a0f-99e0-48fd-bcb8-c9af2f03bb45"
      },
      "outputs": [
        {
          "output_type": "execute_result",
          "data": {
            "text/plain": [
              "0    NaN\n",
              "1    NaN\n",
              "2    NaN\n",
              "3    8.0\n",
              "Name: datod, dtype: float64"
            ]
          },
          "metadata": {},
          "execution_count": 172
        }
      ],
      "source": [
        "ej.iloc[:4]"
      ]
    },
    {
      "cell_type": "markdown",
      "metadata": {
        "id": "fhVVtLPC4rNG"
      },
      "source": [
        "**My own example 173**"
      ]
    },
    {
      "cell_type": "code",
      "execution_count": 173,
      "metadata": {
        "colab": {
          "base_uri": "https://localhost:8080/",
          "height": 0
        },
        "id": "gup8CA_A5BWw",
        "outputId": "881fe329-337e-4dd0-d960-0f25894e55d1"
      },
      "outputs": [
        {
          "output_type": "display_data",
          "data": {
            "text/plain": [
              "<Figure size 432x288 with 1 Axes>"
            ],
            "image/png": "[encoded data removed]"
          },
          "metadata": {
            "needs_background": "light"
          }
        }
      ],
      "source": [
        "pp.plot();\n",
        "# We still need to add the axis labels and title ourselves\n",
        "plt.title(\" pp\")\n",
        "plt.ylabel(\"$\")\n",
        "plt.xlabel(\"fecha\");"
      ]
    },
    {
      "cell_type": "markdown",
      "metadata": {
        "id": "9pb1HQ-f4rPc"
      },
      "source": [
        "**My own example 174**"
      ]
    },
    {
      "cell_type": "code",
      "execution_count": 174,
      "metadata": {
        "colab": {
          "base_uri": "https://localhost:8080/"
        },
        "id": "kgp1D9jp5C1A",
        "outputId": "899ab536-5c64-4765-aab3-3db6fe8ae981"
      },
      "outputs": [
        {
          "output_type": "stream",
          "name": "stdout",
          "text": [
            "Mean:  0    1.168047\n",
            "1    1.201106\n",
            "2    1.004914\n",
            "3    0.922803\n",
            "4    0.990353\n",
            "5    1.021974\n",
            "6    1.124872\n",
            "7    1.274477\n",
            "8    1.017305\n",
            "9    0.823487\n",
            "dtype: float64\n",
            "Standard deviation:  0    0.132278\n",
            "1    0.094596\n",
            "2    0.093575\n",
            "3    0.082057\n",
            "4    0.131958\n",
            "5    0.080240\n",
            "6    0.103108\n",
            "7    0.190366\n",
            "8    0.097769\n",
            "9    0.173197\n",
            "dtype: float64\n"
          ]
        }
      ],
      "source": [
        "print (\"Mean: \", pp.mean())\n",
        "print (\"Standard deviation: \", pp.std())"
      ]
    },
    {
      "cell_type": "markdown",
      "metadata": {
        "id": "ALt29imZ4rTd"
      },
      "source": [
        "**My own example 175**"
      ]
    },
    {
      "cell_type": "code",
      "execution_count": 175,
      "metadata": {
        "colab": {
          "base_uri": "https://localhost:8080/",
          "height": 0
        },
        "id": "RJM34-8r5DzX",
        "outputId": "180f39a8-0a2a-4ff9-c57c-159687c8e9f8"
      },
      "outputs": [
        {
          "output_type": "execute_result",
          "data": {
            "text/plain": [
              "          0         1         2         3         4         5         6  \\\n",
              "0 -8.036698 -7.988164 -7.967200 -8.014991 -7.994611 -8.062559 -8.093870   \n",
              "1 -7.985283 -7.981569 -7.857847 -8.044779 -7.936516 -7.984591 -8.087298   \n",
              "2 -8.039452 -7.857865 -7.838217 -8.017475 -7.846742 -7.976997 -8.118021   \n",
              "3 -7.990059 -7.867767 -7.958121 -7.995803 -7.807205 -7.883492 -8.169736   \n",
              "4 -7.990985 -7.835467 -7.946192 -7.857752 -7.825275 -7.935175 -8.159933   \n",
              "\n",
              "          7         8         9  \n",
              "0 -7.968846 -7.987882 -8.011289  \n",
              "1 -7.985670 -8.055389 -7.947201  \n",
              "2 -8.089912 -8.042006 -7.912741  \n",
              "3 -7.994597 -8.069173 -7.973324  \n",
              "4 -8.020435 -7.920761 -7.870166  "
            ],
            "text/html": [
              "\n",
              "  <div id=\"df-157b82c8-3cac-443d-82f0-5e3fcb591270\">\n",
              "    <div class=\"colab-df-container\">\n",
              "      <div>\n",
              "<style scoped>\n",
              "    .dataframe tbody tr th:only-of-type {\n",
              "        vertical-align: middle;\n",
              "    }\n",
              "\n",
              "    .dataframe tbody tr th {\n",
              "        vertical-align: top;\n",
              "    }\n",
              "\n",
              "    .dataframe thead th {\n",
              "        text-align: right;\n",
              "    }\n",
              "</style>\n",
              "<table border=\"1\" class=\"dataframe\">\n",
              "  <thead>\n",
              "    <tr style=\"text-align: right;\">\n",
              "      <th></th>\n",
              "      <th>0</th>\n",
              "      <th>1</th>\n",
              "      <th>2</th>\n",
              "      <th>3</th>\n",
              "      <th>4</th>\n",
              "      <th>5</th>\n",
              "      <th>6</th>\n",
              "      <th>7</th>\n",
              "      <th>8</th>\n",
              "      <th>9</th>\n",
              "    </tr>\n",
              "  </thead>\n",
              "  <tbody>\n",
              "    <tr>\n",
              "      <th>0</th>\n",
              "      <td>-8.036698</td>\n",
              "      <td>-7.988164</td>\n",
              "      <td>-7.967200</td>\n",
              "      <td>-8.014991</td>\n",
              "      <td>-7.994611</td>\n",
              "      <td>-8.062559</td>\n",
              "      <td>-8.093870</td>\n",
              "      <td>-7.968846</td>\n",
              "      <td>-7.987882</td>\n",
              "      <td>-8.011289</td>\n",
              "    </tr>\n",
              "    <tr>\n",
              "      <th>1</th>\n",
              "      <td>-7.985283</td>\n",
              "      <td>-7.981569</td>\n",
              "      <td>-7.857847</td>\n",
              "      <td>-8.044779</td>\n",
              "      <td>-7.936516</td>\n",
              "      <td>-7.984591</td>\n",
              "      <td>-8.087298</td>\n",
              "      <td>-7.985670</td>\n",
              "      <td>-8.055389</td>\n",
              "      <td>-7.947201</td>\n",
              "    </tr>\n",
              "    <tr>\n",
              "      <th>2</th>\n",
              "      <td>-8.039452</td>\n",
              "      <td>-7.857865</td>\n",
              "      <td>-7.838217</td>\n",
              "      <td>-8.017475</td>\n",
              "      <td>-7.846742</td>\n",
              "      <td>-7.976997</td>\n",
              "      <td>-8.118021</td>\n",
              "      <td>-8.089912</td>\n",
              "      <td>-8.042006</td>\n",
              "      <td>-7.912741</td>\n",
              "    </tr>\n",
              "    <tr>\n",
              "      <th>3</th>\n",
              "      <td>-7.990059</td>\n",
              "      <td>-7.867767</td>\n",
              "      <td>-7.958121</td>\n",
              "      <td>-7.995803</td>\n",
              "      <td>-7.807205</td>\n",
              "      <td>-7.883492</td>\n",
              "      <td>-8.169736</td>\n",
              "      <td>-7.994597</td>\n",
              "      <td>-8.069173</td>\n",
              "      <td>-7.973324</td>\n",
              "    </tr>\n",
              "    <tr>\n",
              "      <th>4</th>\n",
              "      <td>-7.990985</td>\n",
              "      <td>-7.835467</td>\n",
              "      <td>-7.946192</td>\n",
              "      <td>-7.857752</td>\n",
              "      <td>-7.825275</td>\n",
              "      <td>-7.935175</td>\n",
              "      <td>-8.159933</td>\n",
              "      <td>-8.020435</td>\n",
              "      <td>-7.920761</td>\n",
              "      <td>-7.870166</td>\n",
              "    </tr>\n",
              "  </tbody>\n",
              "</table>\n",
              "</div>\n",
              "      <button class=\"colab-df-convert\" onclick=\"convertToInteractive('df-157b82c8-3cac-443d-82f0-5e3fcb591270')\"\n",
              "              title=\"Convert this dataframe to an interactive table.\"\n",
              "              style=\"display:none;\">\n",
              "        \n",
              "  <svg xmlns=\"http://www.w3.org/2000/svg\" height=\"24px\"viewBox=\"0 0 24 24\"\n",
              "       width=\"24px\">\n",
              "    <path d=\"M0 0h24v24H0V0z\" fill=\"none\"/>\n",
              "    <path d=\"M18.56 5.44l.94 2.06.94-2.06 2.06-.94-2.06-.94-.94-2.06-.94 2.06-2.06.94zm-11 1L8.5 8.5l.94-2.06 2.06-.94-2.06-.94L8.5 2.5l-.94 2.06-2.06.94zm10 10l.94 2.06.94-2.06 2.06-.94-2.06-.94-.94-2.06-.94 2.06-2.06.94z\"/><path d=\"M17.41 7.96l-1.37-1.37c-.4-.4-.92-.59-1.43-.59-.52 0-1.04.2-1.43.59L10.3 9.45l-7.72 7.72c-.78.78-.78 2.05 0 2.83L4 21.41c.39.39.9.59 1.41.59.51 0 1.02-.2 1.41-.59l7.78-7.78 2.81-2.81c.8-.78.8-2.07 0-2.86zM5.41 20L4 18.59l7.72-7.72 1.47 1.35L5.41 20z\"/>\n",
              "  </svg>\n",
              "      </button>\n",
              "      \n",
              "  <style>\n",
              "    .colab-df-container {\n",
              "      display:flex;\n",
              "      flex-wrap:wrap;\n",
              "      gap: 12px;\n",
              "    }\n",
              "\n",
              "    .colab-df-convert {\n",
              "      background-color: #E8F0FE;\n",
              "      border: none;\n",
              "      border-radius: 50%;\n",
              "      cursor: pointer;\n",
              "      display: none;\n",
              "      fill: #1967D2;\n",
              "      height: 32px;\n",
              "      padding: 0 0 0 0;\n",
              "      width: 32px;\n",
              "    }\n",
              "\n",
              "    .colab-df-convert:hover {\n",
              "      background-color: #E2EBFA;\n",
              "      box-shadow: 0px 1px 2px rgba(60, 64, 67, 0.3), 0px 1px 3px 1px rgba(60, 64, 67, 0.15);\n",
              "      fill: #174EA6;\n",
              "    }\n",
              "\n",
              "    [theme=dark] .colab-df-convert {\n",
              "      background-color: #3B4455;\n",
              "      fill: #D2E3FC;\n",
              "    }\n",
              "\n",
              "    [theme=dark] .colab-df-convert:hover {\n",
              "      background-color: #434B5C;\n",
              "      box-shadow: 0px 1px 3px 1px rgba(0, 0, 0, 0.15);\n",
              "      filter: drop-shadow(0px 1px 2px rgba(0, 0, 0, 0.3));\n",
              "      fill: #FFFFFF;\n",
              "    }\n",
              "  </style>\n",
              "\n",
              "      <script>\n",
              "        const buttonEl =\n",
              "          document.querySelector('#df-157b82c8-3cac-443d-82f0-5e3fcb591270 button.colab-df-convert');\n",
              "        buttonEl.style.display =\n",
              "          google.colab.kernel.accessAllowed ? 'block' : 'none';\n",
              "\n",
              "        async function convertToInteractive(key) {\n",
              "          const element = document.querySelector('#df-157b82c8-3cac-443d-82f0-5e3fcb591270');\n",
              "          const dataTable =\n",
              "            await google.colab.kernel.invokeFunction('convertToInteractive',\n",
              "                                                     [key], {});\n",
              "          if (!dataTable) return;\n",
              "\n",
              "          const docLinkHtml = 'Like what you see? Visit the ' +\n",
              "            '<a target=\"_blank\" href=https://colab.research.google.com/notebooks/data_table.ipynb>data table notebook</a>'\n",
              "            + ' to learn more about interactive tables.';\n",
              "          element.innerHTML = '';\n",
              "          dataTable['output_type'] = 'display_data';\n",
              "          await google.colab.output.renderOutput(dataTable, element);\n",
              "          const docLink = document.createElement('div');\n",
              "          docLink.innerHTML = docLinkHtml;\n",
              "          element.appendChild(docLink);\n",
              "        }\n",
              "      </script>\n",
              "    </div>\n",
              "  </div>\n",
              "  "
            ]
          },
          "metadata": {},
          "execution_count": 175
        }
      ],
      "source": [
        "modip = pp * 2 - 10\n",
        "modip.head(5)"
      ]
    },
    {
      "cell_type": "markdown",
      "metadata": {
        "id": "t3qTl7R54rYo"
      },
      "source": [
        "**My own example 176**"
      ]
    },
    {
      "cell_type": "code",
      "execution_count": 176,
      "metadata": {
        "colab": {
          "base_uri": "https://localhost:8080/",
          "height": 0
        },
        "id": "UHD5stQH5E1d",
        "outputId": "7fd27ad3-a789-41b9-a810-f6c5c27a3a17"
      },
      "outputs": [
        {
          "output_type": "execute_result",
          "data": {
            "text/plain": [
              "          0          1         2         3          4          5          6   \\\n",
              "0  22.455778 -25.694389 -8.746008  4.383965  11.660619  19.265540  34.936642   \n",
              "1  22.481485 -25.691091 -8.691331  4.369071  11.689667  19.304524  34.939928   \n",
              "2  22.454401 -25.629239 -8.681516  4.382723  11.734553  19.308321  34.924566   \n",
              "3  22.479098 -25.634191 -8.741468  4.393559  11.754322  19.355074  34.898709   \n",
              "4  22.478635 -25.618041 -8.735503  4.462585  11.745287  19.329233  34.903610   \n",
              "\n",
              "          7          8          9   ...  90  91  92  93  94  95  96  97  98  \\\n",
              "0  31.014539 -28.732513 -48.453606  ... NaN NaN NaN NaN NaN NaN NaN NaN NaN   \n",
              "1  31.006127 -28.766267 -48.421562  ... NaN NaN NaN NaN NaN NaN NaN NaN NaN   \n",
              "2  30.954005 -28.759575 -48.404332  ... NaN NaN NaN NaN NaN NaN NaN NaN NaN   \n",
              "3  31.001663 -28.773158 -48.434623  ... NaN NaN NaN NaN NaN NaN NaN NaN NaN   \n",
              "4  30.988744 -28.698952 -48.383044  ... NaN NaN NaN NaN NaN NaN NaN NaN NaN   \n",
              "\n",
              "   99  \n",
              "0 NaN  \n",
              "1 NaN  \n",
              "2 NaN  \n",
              "3 NaN  \n",
              "4 NaN  \n",
              "\n",
              "[5 rows x 100 columns]"
            ],
            "text/html": [
              "\n",
              "  <div id=\"df-abc51c52-92a1-45d8-b760-9093252da787\">\n",
              "    <div class=\"colab-df-container\">\n",
              "      <div>\n",
              "<style scoped>\n",
              "    .dataframe tbody tr th:only-of-type {\n",
              "        vertical-align: middle;\n",
              "    }\n",
              "\n",
              "    .dataframe tbody tr th {\n",
              "        vertical-align: top;\n",
              "    }\n",
              "\n",
              "    .dataframe thead th {\n",
              "        text-align: right;\n",
              "    }\n",
              "</style>\n",
              "<table border=\"1\" class=\"dataframe\">\n",
              "  <thead>\n",
              "    <tr style=\"text-align: right;\">\n",
              "      <th></th>\n",
              "      <th>0</th>\n",
              "      <th>1</th>\n",
              "      <th>2</th>\n",
              "      <th>3</th>\n",
              "      <th>4</th>\n",
              "      <th>5</th>\n",
              "      <th>6</th>\n",
              "      <th>7</th>\n",
              "      <th>8</th>\n",
              "      <th>9</th>\n",
              "      <th>...</th>\n",
              "      <th>90</th>\n",
              "      <th>91</th>\n",
              "      <th>92</th>\n",
              "      <th>93</th>\n",
              "      <th>94</th>\n",
              "      <th>95</th>\n",
              "      <th>96</th>\n",
              "      <th>97</th>\n",
              "      <th>98</th>\n",
              "      <th>99</th>\n",
              "    </tr>\n",
              "  </thead>\n",
              "  <tbody>\n",
              "    <tr>\n",
              "      <th>0</th>\n",
              "      <td>22.455778</td>\n",
              "      <td>-25.694389</td>\n",
              "      <td>-8.746008</td>\n",
              "      <td>4.383965</td>\n",
              "      <td>11.660619</td>\n",
              "      <td>19.265540</td>\n",
              "      <td>34.936642</td>\n",
              "      <td>31.014539</td>\n",
              "      <td>-28.732513</td>\n",
              "      <td>-48.453606</td>\n",
              "      <td>...</td>\n",
              "      <td>NaN</td>\n",
              "      <td>NaN</td>\n",
              "      <td>NaN</td>\n",
              "      <td>NaN</td>\n",
              "      <td>NaN</td>\n",
              "      <td>NaN</td>\n",
              "      <td>NaN</td>\n",
              "      <td>NaN</td>\n",
              "      <td>NaN</td>\n",
              "      <td>NaN</td>\n",
              "    </tr>\n",
              "    <tr>\n",
              "      <th>1</th>\n",
              "      <td>22.481485</td>\n",
              "      <td>-25.691091</td>\n",
              "      <td>-8.691331</td>\n",
              "      <td>4.369071</td>\n",
              "      <td>11.689667</td>\n",
              "      <td>19.304524</td>\n",
              "      <td>34.939928</td>\n",
              "      <td>31.006127</td>\n",
              "      <td>-28.766267</td>\n",
              "      <td>-48.421562</td>\n",
              "      <td>...</td>\n",
              "      <td>NaN</td>\n",
              "      <td>NaN</td>\n",
              "      <td>NaN</td>\n",
              "      <td>NaN</td>\n",
              "      <td>NaN</td>\n",
              "      <td>NaN</td>\n",
              "      <td>NaN</td>\n",
              "      <td>NaN</td>\n",
              "      <td>NaN</td>\n",
              "      <td>NaN</td>\n",
              "    </tr>\n",
              "    <tr>\n",
              "      <th>2</th>\n",
              "      <td>22.454401</td>\n",
              "      <td>-25.629239</td>\n",
              "      <td>-8.681516</td>\n",
              "      <td>4.382723</td>\n",
              "      <td>11.734553</td>\n",
              "      <td>19.308321</td>\n",
              "      <td>34.924566</td>\n",
              "      <td>30.954005</td>\n",
              "      <td>-28.759575</td>\n",
              "      <td>-48.404332</td>\n",
              "      <td>...</td>\n",
              "      <td>NaN</td>\n",
              "      <td>NaN</td>\n",
              "      <td>NaN</td>\n",
              "      <td>NaN</td>\n",
              "      <td>NaN</td>\n",
              "      <td>NaN</td>\n",
              "      <td>NaN</td>\n",
              "      <td>NaN</td>\n",
              "      <td>NaN</td>\n",
              "      <td>NaN</td>\n",
              "    </tr>\n",
              "    <tr>\n",
              "      <th>3</th>\n",
              "      <td>22.479098</td>\n",
              "      <td>-25.634191</td>\n",
              "      <td>-8.741468</td>\n",
              "      <td>4.393559</td>\n",
              "      <td>11.754322</td>\n",
              "      <td>19.355074</td>\n",
              "      <td>34.898709</td>\n",
              "      <td>31.001663</td>\n",
              "      <td>-28.773158</td>\n",
              "      <td>-48.434623</td>\n",
              "      <td>...</td>\n",
              "      <td>NaN</td>\n",
              "      <td>NaN</td>\n",
              "      <td>NaN</td>\n",
              "      <td>NaN</td>\n",
              "      <td>NaN</td>\n",
              "      <td>NaN</td>\n",
              "      <td>NaN</td>\n",
              "      <td>NaN</td>\n",
              "      <td>NaN</td>\n",
              "      <td>NaN</td>\n",
              "    </tr>\n",
              "    <tr>\n",
              "      <th>4</th>\n",
              "      <td>22.478635</td>\n",
              "      <td>-25.618041</td>\n",
              "      <td>-8.735503</td>\n",
              "      <td>4.462585</td>\n",
              "      <td>11.745287</td>\n",
              "      <td>19.329233</td>\n",
              "      <td>34.903610</td>\n",
              "      <td>30.988744</td>\n",
              "      <td>-28.698952</td>\n",
              "      <td>-48.383044</td>\n",
              "      <td>...</td>\n",
              "      <td>NaN</td>\n",
              "      <td>NaN</td>\n",
              "      <td>NaN</td>\n",
              "      <td>NaN</td>\n",
              "      <td>NaN</td>\n",
              "      <td>NaN</td>\n",
              "      <td>NaN</td>\n",
              "      <td>NaN</td>\n",
              "      <td>NaN</td>\n",
              "      <td>NaN</td>\n",
              "    </tr>\n",
              "  </tbody>\n",
              "</table>\n",
              "<p>5 rows × 100 columns</p>\n",
              "</div>\n",
              "      <button class=\"colab-df-convert\" onclick=\"convertToInteractive('df-abc51c52-92a1-45d8-b760-9093252da787')\"\n",
              "              title=\"Convert this dataframe to an interactive table.\"\n",
              "              style=\"display:none;\">\n",
              "        \n",
              "  <svg xmlns=\"http://www.w3.org/2000/svg\" height=\"24px\"viewBox=\"0 0 24 24\"\n",
              "       width=\"24px\">\n",
              "    <path d=\"M0 0h24v24H0V0z\" fill=\"none\"/>\n",
              "    <path d=\"M18.56 5.44l.94 2.06.94-2.06 2.06-.94-2.06-.94-.94-2.06-.94 2.06-2.06.94zm-11 1L8.5 8.5l.94-2.06 2.06-.94-2.06-.94L8.5 2.5l-.94 2.06-2.06.94zm10 10l.94 2.06.94-2.06 2.06-.94-2.06-.94-.94-2.06-.94 2.06-2.06.94z\"/><path d=\"M17.41 7.96l-1.37-1.37c-.4-.4-.92-.59-1.43-.59-.52 0-1.04.2-1.43.59L10.3 9.45l-7.72 7.72c-.78.78-.78 2.05 0 2.83L4 21.41c.39.39.9.59 1.41.59.51 0 1.02-.2 1.41-.59l7.78-7.78 2.81-2.81c.8-.78.8-2.07 0-2.86zM5.41 20L4 18.59l7.72-7.72 1.47 1.35L5.41 20z\"/>\n",
              "  </svg>\n",
              "      </button>\n",
              "      \n",
              "  <style>\n",
              "    .colab-df-container {\n",
              "      display:flex;\n",
              "      flex-wrap:wrap;\n",
              "      gap: 12px;\n",
              "    }\n",
              "\n",
              "    .colab-df-convert {\n",
              "      background-color: #E8F0FE;\n",
              "      border: none;\n",
              "      border-radius: 50%;\n",
              "      cursor: pointer;\n",
              "      display: none;\n",
              "      fill: #1967D2;\n",
              "      height: 32px;\n",
              "      padding: 0 0 0 0;\n",
              "      width: 32px;\n",
              "    }\n",
              "\n",
              "    .colab-df-convert:hover {\n",
              "      background-color: #E2EBFA;\n",
              "      box-shadow: 0px 1px 2px rgba(60, 64, 67, 0.3), 0px 1px 3px 1px rgba(60, 64, 67, 0.15);\n",
              "      fill: #174EA6;\n",
              "    }\n",
              "\n",
              "    [theme=dark] .colab-df-convert {\n",
              "      background-color: #3B4455;\n",
              "      fill: #D2E3FC;\n",
              "    }\n",
              "\n",
              "    [theme=dark] .colab-df-convert:hover {\n",
              "      background-color: #434B5C;\n",
              "      box-shadow: 0px 1px 3px 1px rgba(0, 0, 0, 0.15);\n",
              "      filter: drop-shadow(0px 1px 2px rgba(0, 0, 0, 0.3));\n",
              "      fill: #FFFFFF;\n",
              "    }\n",
              "  </style>\n",
              "\n",
              "      <script>\n",
              "        const buttonEl =\n",
              "          document.querySelector('#df-abc51c52-92a1-45d8-b760-9093252da787 button.colab-df-convert');\n",
              "        buttonEl.style.display =\n",
              "          google.colab.kernel.accessAllowed ? 'block' : 'none';\n",
              "\n",
              "        async function convertToInteractive(key) {\n",
              "          const element = document.querySelector('#df-abc51c52-92a1-45d8-b760-9093252da787');\n",
              "          const dataTable =\n",
              "            await google.colab.kernel.invokeFunction('convertToInteractive',\n",
              "                                                     [key], {});\n",
              "          if (!dataTable) return;\n",
              "\n",
              "          const docLinkHtml = 'Like what you see? Visit the ' +\n",
              "            '<a target=\"_blank\" href=https://colab.research.google.com/notebooks/data_table.ipynb>data table notebook</a>'\n",
              "            + ' to learn more about interactive tables.';\n",
              "          element.innerHTML = '';\n",
              "          dataTable['output_type'] = 'display_data';\n",
              "          await google.colab.output.renderOutput(dataTable, element);\n",
              "          const docLink = document.createElement('div');\n",
              "          docLink.innerHTML = docLinkHtml;\n",
              "          element.appendChild(docLink);\n",
              "        }\n",
              "      </script>\n",
              "    </div>\n",
              "  </div>\n",
              "  "
            ]
          },
          "metadata": {},
          "execution_count": 176
        }
      ],
      "source": [
        "noisyp = pp + 5 * pd.Series(np.random.normal(0, 5, len(pp)), index=pp.index) + 20\n",
        "noisyp.head(5)"
      ]
    },
    {
      "cell_type": "markdown",
      "metadata": {
        "id": "UjCmREKW4rdR"
      },
      "source": [
        "**My own example 177**"
      ]
    },
    {
      "cell_type": "code",
      "execution_count": 177,
      "metadata": {
        "colab": {
          "base_uri": "https://localhost:8080/",
          "height": 0
        },
        "id": "afrK6Em75GBz",
        "outputId": "f83b843b-6f3c-47c1-c100-558e95208676"
      },
      "outputs": [
        {
          "output_type": "execute_result",
          "data": {
            "text/plain": [
              "         0         1         2         3         4         5         6   \\\n",
              "0  0.892828 -0.347939 -0.168240  1.350850  0.797143  2.480091 -1.061056   \n",
              "1  0.918535 -0.344641 -0.113563  1.335956  0.826190  2.519075 -1.057770   \n",
              "2  0.891451 -0.282789 -0.103748  1.349608  0.871077  2.522872 -1.073132   \n",
              "3  0.916147 -0.287741 -0.163700  1.360444  0.890846  2.569625 -1.098989   \n",
              "4  0.915685 -0.271591 -0.157735  1.429470  0.881811  2.543783 -1.094088   \n",
              "\n",
              "         7         8         9   ...  90  91  92  93  94  95  96  97  98  99  \n",
              "0  1.069953  1.491372 -1.447792  ... NaN NaN NaN NaN NaN NaN NaN NaN NaN NaN  \n",
              "1  1.061541  1.457618 -1.415748  ... NaN NaN NaN NaN NaN NaN NaN NaN NaN NaN  \n",
              "2  1.009420  1.464310 -1.398518  ... NaN NaN NaN NaN NaN NaN NaN NaN NaN NaN  \n",
              "3  1.057077  1.450727 -1.428810  ... NaN NaN NaN NaN NaN NaN NaN NaN NaN NaN  \n",
              "4  1.044158  1.524933 -1.377231  ... NaN NaN NaN NaN NaN NaN NaN NaN NaN NaN  \n",
              "\n",
              "[5 rows x 100 columns]"
            ],
            "text/html": [
              "\n",
              "  <div id=\"df-5f246f85-751b-4fb9-bacc-05cf3e4e3c2e\">\n",
              "    <div class=\"colab-df-container\">\n",
              "      <div>\n",
              "<style scoped>\n",
              "    .dataframe tbody tr th:only-of-type {\n",
              "        vertical-align: middle;\n",
              "    }\n",
              "\n",
              "    .dataframe tbody tr th {\n",
              "        vertical-align: top;\n",
              "    }\n",
              "\n",
              "    .dataframe thead th {\n",
              "        text-align: right;\n",
              "    }\n",
              "</style>\n",
              "<table border=\"1\" class=\"dataframe\">\n",
              "  <thead>\n",
              "    <tr style=\"text-align: right;\">\n",
              "      <th></th>\n",
              "      <th>0</th>\n",
              "      <th>1</th>\n",
              "      <th>2</th>\n",
              "      <th>3</th>\n",
              "      <th>4</th>\n",
              "      <th>5</th>\n",
              "      <th>6</th>\n",
              "      <th>7</th>\n",
              "      <th>8</th>\n",
              "      <th>9</th>\n",
              "      <th>...</th>\n",
              "      <th>90</th>\n",
              "      <th>91</th>\n",
              "      <th>92</th>\n",
              "      <th>93</th>\n",
              "      <th>94</th>\n",
              "      <th>95</th>\n",
              "      <th>96</th>\n",
              "      <th>97</th>\n",
              "      <th>98</th>\n",
              "      <th>99</th>\n",
              "    </tr>\n",
              "  </thead>\n",
              "  <tbody>\n",
              "    <tr>\n",
              "      <th>0</th>\n",
              "      <td>0.892828</td>\n",
              "      <td>-0.347939</td>\n",
              "      <td>-0.168240</td>\n",
              "      <td>1.350850</td>\n",
              "      <td>0.797143</td>\n",
              "      <td>2.480091</td>\n",
              "      <td>-1.061056</td>\n",
              "      <td>1.069953</td>\n",
              "      <td>1.491372</td>\n",
              "      <td>-1.447792</td>\n",
              "      <td>...</td>\n",
              "      <td>NaN</td>\n",
              "      <td>NaN</td>\n",
              "      <td>NaN</td>\n",
              "      <td>NaN</td>\n",
              "      <td>NaN</td>\n",
              "      <td>NaN</td>\n",
              "      <td>NaN</td>\n",
              "      <td>NaN</td>\n",
              "      <td>NaN</td>\n",
              "      <td>NaN</td>\n",
              "    </tr>\n",
              "    <tr>\n",
              "      <th>1</th>\n",
              "      <td>0.918535</td>\n",
              "      <td>-0.344641</td>\n",
              "      <td>-0.113563</td>\n",
              "      <td>1.335956</td>\n",
              "      <td>0.826190</td>\n",
              "      <td>2.519075</td>\n",
              "      <td>-1.057770</td>\n",
              "      <td>1.061541</td>\n",
              "      <td>1.457618</td>\n",
              "      <td>-1.415748</td>\n",
              "      <td>...</td>\n",
              "      <td>NaN</td>\n",
              "      <td>NaN</td>\n",
              "      <td>NaN</td>\n",
              "      <td>NaN</td>\n",
              "      <td>NaN</td>\n",
              "      <td>NaN</td>\n",
              "      <td>NaN</td>\n",
              "      <td>NaN</td>\n",
              "      <td>NaN</td>\n",
              "      <td>NaN</td>\n",
              "    </tr>\n",
              "    <tr>\n",
              "      <th>2</th>\n",
              "      <td>0.891451</td>\n",
              "      <td>-0.282789</td>\n",
              "      <td>-0.103748</td>\n",
              "      <td>1.349608</td>\n",
              "      <td>0.871077</td>\n",
              "      <td>2.522872</td>\n",
              "      <td>-1.073132</td>\n",
              "      <td>1.009420</td>\n",
              "      <td>1.464310</td>\n",
              "      <td>-1.398518</td>\n",
              "      <td>...</td>\n",
              "      <td>NaN</td>\n",
              "      <td>NaN</td>\n",
              "      <td>NaN</td>\n",
              "      <td>NaN</td>\n",
              "      <td>NaN</td>\n",
              "      <td>NaN</td>\n",
              "      <td>NaN</td>\n",
              "      <td>NaN</td>\n",
              "      <td>NaN</td>\n",
              "      <td>NaN</td>\n",
              "    </tr>\n",
              "    <tr>\n",
              "      <th>3</th>\n",
              "      <td>0.916147</td>\n",
              "      <td>-0.287741</td>\n",
              "      <td>-0.163700</td>\n",
              "      <td>1.360444</td>\n",
              "      <td>0.890846</td>\n",
              "      <td>2.569625</td>\n",
              "      <td>-1.098989</td>\n",
              "      <td>1.057077</td>\n",
              "      <td>1.450727</td>\n",
              "      <td>-1.428810</td>\n",
              "      <td>...</td>\n",
              "      <td>NaN</td>\n",
              "      <td>NaN</td>\n",
              "      <td>NaN</td>\n",
              "      <td>NaN</td>\n",
              "      <td>NaN</td>\n",
              "      <td>NaN</td>\n",
              "      <td>NaN</td>\n",
              "      <td>NaN</td>\n",
              "      <td>NaN</td>\n",
              "      <td>NaN</td>\n",
              "    </tr>\n",
              "    <tr>\n",
              "      <th>4</th>\n",
              "      <td>0.915685</td>\n",
              "      <td>-0.271591</td>\n",
              "      <td>-0.157735</td>\n",
              "      <td>1.429470</td>\n",
              "      <td>0.881811</td>\n",
              "      <td>2.543783</td>\n",
              "      <td>-1.094088</td>\n",
              "      <td>1.044158</td>\n",
              "      <td>1.524933</td>\n",
              "      <td>-1.377231</td>\n",
              "      <td>...</td>\n",
              "      <td>NaN</td>\n",
              "      <td>NaN</td>\n",
              "      <td>NaN</td>\n",
              "      <td>NaN</td>\n",
              "      <td>NaN</td>\n",
              "      <td>NaN</td>\n",
              "      <td>NaN</td>\n",
              "      <td>NaN</td>\n",
              "      <td>NaN</td>\n",
              "      <td>NaN</td>\n",
              "    </tr>\n",
              "  </tbody>\n",
              "</table>\n",
              "<p>5 rows × 100 columns</p>\n",
              "</div>\n",
              "      <button class=\"colab-df-convert\" onclick=\"convertToInteractive('df-5f246f85-751b-4fb9-bacc-05cf3e4e3c2e')\"\n",
              "              title=\"Convert this dataframe to an interactive table.\"\n",
              "              style=\"display:none;\">\n",
              "        \n",
              "  <svg xmlns=\"http://www.w3.org/2000/svg\" height=\"24px\"viewBox=\"0 0 24 24\"\n",
              "       width=\"24px\">\n",
              "    <path d=\"M0 0h24v24H0V0z\" fill=\"none\"/>\n",
              "    <path d=\"M18.56 5.44l.94 2.06.94-2.06 2.06-.94-2.06-.94-.94-2.06-.94 2.06-2.06.94zm-11 1L8.5 8.5l.94-2.06 2.06-.94-2.06-.94L8.5 2.5l-.94 2.06-2.06.94zm10 10l.94 2.06.94-2.06 2.06-.94-2.06-.94-.94-2.06-.94 2.06-2.06.94z\"/><path d=\"M17.41 7.96l-1.37-1.37c-.4-.4-.92-.59-1.43-.59-.52 0-1.04.2-1.43.59L10.3 9.45l-7.72 7.72c-.78.78-.78 2.05 0 2.83L4 21.41c.39.39.9.59 1.41.59.51 0 1.02-.2 1.41-.59l7.78-7.78 2.81-2.81c.8-.78.8-2.07 0-2.86zM5.41 20L4 18.59l7.72-7.72 1.47 1.35L5.41 20z\"/>\n",
              "  </svg>\n",
              "      </button>\n",
              "      \n",
              "  <style>\n",
              "    .colab-df-container {\n",
              "      display:flex;\n",
              "      flex-wrap:wrap;\n",
              "      gap: 12px;\n",
              "    }\n",
              "\n",
              "    .colab-df-convert {\n",
              "      background-color: #E8F0FE;\n",
              "      border: none;\n",
              "      border-radius: 50%;\n",
              "      cursor: pointer;\n",
              "      display: none;\n",
              "      fill: #1967D2;\n",
              "      height: 32px;\n",
              "      padding: 0 0 0 0;\n",
              "      width: 32px;\n",
              "    }\n",
              "\n",
              "    .colab-df-convert:hover {\n",
              "      background-color: #E2EBFA;\n",
              "      box-shadow: 0px 1px 2px rgba(60, 64, 67, 0.3), 0px 1px 3px 1px rgba(60, 64, 67, 0.15);\n",
              "      fill: #174EA6;\n",
              "    }\n",
              "\n",
              "    [theme=dark] .colab-df-convert {\n",
              "      background-color: #3B4455;\n",
              "      fill: #D2E3FC;\n",
              "    }\n",
              "\n",
              "    [theme=dark] .colab-df-convert:hover {\n",
              "      background-color: #434B5C;\n",
              "      box-shadow: 0px 1px 3px 1px rgba(0, 0, 0, 0.15);\n",
              "      filter: drop-shadow(0px 1px 2px rgba(0, 0, 0, 0.3));\n",
              "      fill: #FFFFFF;\n",
              "    }\n",
              "  </style>\n",
              "\n",
              "      <script>\n",
              "        const buttonEl =\n",
              "          document.querySelector('#df-5f246f85-751b-4fb9-bacc-05cf3e4e3c2e button.colab-df-convert');\n",
              "        buttonEl.style.display =\n",
              "          google.colab.kernel.accessAllowed ? 'block' : 'none';\n",
              "\n",
              "        async function convertToInteractive(key) {\n",
              "          const element = document.querySelector('#df-5f246f85-751b-4fb9-bacc-05cf3e4e3c2e');\n",
              "          const dataTable =\n",
              "            await google.colab.kernel.invokeFunction('convertToInteractive',\n",
              "                                                     [key], {});\n",
              "          if (!dataTable) return;\n",
              "\n",
              "          const docLinkHtml = 'Like what you see? Visit the ' +\n",
              "            '<a target=\"_blank\" href=https://colab.research.google.com/notebooks/data_table.ipynb>data table notebook</a>'\n",
              "            + ' to learn more about interactive tables.';\n",
              "          element.innerHTML = '';\n",
              "          dataTable['output_type'] = 'display_data';\n",
              "          await google.colab.output.renderOutput(dataTable, element);\n",
              "          const docLink = document.createElement('div');\n",
              "          docLink.innerHTML = docLinkHtml;\n",
              "          element.appendChild(docLink);\n",
              "        }\n",
              "      </script>\n",
              "    </div>\n",
              "  </div>\n",
              "  "
            ]
          },
          "metadata": {},
          "execution_count": 177
        }
      ],
      "source": [
        "emptys = pp + pd.Series(np.random.normal(0, 1, len(pp)))\n",
        "emptys.head(5)"
      ]
    },
    {
      "cell_type": "markdown",
      "metadata": {
        "id": "btiiC5Xc4riQ"
      },
      "source": [
        "**My own example 178**"
      ]
    },
    {
      "cell_type": "code",
      "execution_count": 178,
      "metadata": {
        "colab": {
          "base_uri": "https://localhost:8080/",
          "height": 0
        },
        "id": "CWtrc5_t5HaN",
        "outputId": "4b69691f-76df-471d-fec8-09f7ef4f367e"
      },
      "outputs": [
        {
          "output_type": "execute_result",
          "data": {
            "text/plain": [
              "Text(0, 0.5, 'Percent Returns')"
            ]
          },
          "metadata": {},
          "execution_count": 178
        },
        {
          "output_type": "display_data",
          "data": {
            "text/plain": [
              "<Figure size 432x288 with 1 Axes>"
            ],
            "image/png": "[encoded data removed]"
          },
          "metadata": {
            "needs_background": "light"
          }
        }
      ],
      "source": [
        "addR= pp.diff()[1:]\n",
        "multR = pp.pct_change()[1:]\n",
        "multR.plot();\n",
        "plt.title(\"Multiplicative returns of  pp\")\n",
        "plt.xlabel(\"Date\")\n",
        "plt.ylabel(\"Percent Returns\")\n"
      ]
    },
    {
      "cell_type": "markdown",
      "metadata": {
        "id": "PukT5rbI4rnJ"
      },
      "source": [
        "**My own example 179**"
      ]
    },
    {
      "cell_type": "code",
      "execution_count": 179,
      "metadata": {
        "colab": {
          "base_uri": "https://localhost:8080/"
        },
        "id": "QxN_EUt16kK_",
        "outputId": "fe754880-0f31-4f27-b818-a078db6529a0"
      },
      "outputs": [
        {
          "output_type": "stream",
          "name": "stdout",
          "text": [
            "0.0009071447011053113\n"
          ]
        }
      ],
      "source": [
        "print( np.median(multR))"
      ]
    },
    {
      "cell_type": "markdown",
      "metadata": {
        "id": "0eBvnZT74tsx"
      },
      "source": [
        "**My own example 180**"
      ]
    },
    {
      "cell_type": "code",
      "execution_count": 180,
      "metadata": {
        "colab": {
          "base_uri": "https://localhost:8080/"
        },
        "id": "zs0BJCVN5JXN",
        "outputId": "acd6e704-9a9f-4c13-a5b8-fe3beb2bbfad"
      },
      "outputs": [
        {
          "output_type": "stream",
          "name": "stdout",
          "text": [
            "0    0.004547\n",
            "1    0.004927\n",
            "2    0.000554\n",
            "3   -0.003999\n",
            "4   -0.001475\n",
            "5   -0.000752\n",
            "6    0.000157\n",
            "7    0.005968\n",
            "8   -0.002530\n",
            "9   -0.003719\n",
            "dtype: float64\n"
          ]
        }
      ],
      "source": [
        "print (multR.median())"
      ]
    },
    {
      "cell_type": "markdown",
      "metadata": {
        "id": "HVj35Thc5Ji6"
      },
      "source": [
        "#Updated version github"
      ]
    },
    {
      "cell_type": "markdown",
      "metadata": {
        "id": "nxmSL0zQ4voM"
      },
      "source": [
        "**My own example 181**"
      ]
    },
    {
      "cell_type": "code",
      "execution_count": 181,
      "metadata": {
        "colab": {
          "base_uri": "https://localhost:8080/"
        },
        "id": "PToNXFgN5Vmz",
        "outputId": "9b2a5a2a-9f6b-4776-c724-22955338d4dd"
      },
      "outputs": [
        {
          "output_type": "stream",
          "name": "stdout",
          "text": [
            "                va       a      ee\n",
            "2023-02-23  143.50  898.70  155.58\n",
            "2023-02-24  144.09  911.71  153.67\n",
            "2023-02-25  142.73  906.69  152.36\n",
            "2023-02-26  144.18  918.59  152.94\n",
            "2023-02-27  143.77  926.99  153.49\n"
          ]
        }
      ],
      "source": [
        "dict = {'va': [143.5, 144.09, 142.73, 144.18, 143.77],'a':[898.7, 911.71, 906.69, 918.59, 926.99],\n",
        "        'ee':[155.58, 153.67, 152.36, 152.94, 153.49]}\n",
        "data_index = pd.date_range('2023-02-23',periods = 5, freq = 'D')\n",
        "df = pd.DataFrame(dict, index = data_index)\n",
        "print(df)"
      ]
    },
    {
      "cell_type": "markdown",
      "metadata": {
        "id": "WMcbkaiQ4vtf"
      },
      "source": [
        "**My own example 182**"
      ]
    },
    {
      "cell_type": "code",
      "execution_count": 182,
      "metadata": {
        "colab": {
          "base_uri": "https://localhost:8080/"
        },
        "id": "xNR6YFt95Wf7",
        "outputId": "ee320ed3-4e69-4285-acbd-62cfd52f1e20"
      },
      "outputs": [
        {
          "output_type": "stream",
          "name": "stdout",
          "text": [
            "[ 8  5 96 85 25 39] <class 'numpy.ndarray'>\n"
          ]
        }
      ],
      "source": [
        "stl = [8,5,96,85,25,39]\n",
        "re = np.array(stl)\n",
        "print (re, type(re))"
      ]
    },
    {
      "cell_type": "markdown",
      "metadata": {
        "id": "lNQYzPjC4vxU"
      },
      "source": [
        "\n",
        "**My own example 183**"
      ]
    },
    {
      "cell_type": "code",
      "execution_count": 183,
      "metadata": {
        "colab": {
          "base_uri": "https://localhost:8080/"
        },
        "id": "4Cq8eSvb5ZPF",
        "outputId": "9dca6ed6-329e-40c8-cbba-77ae8c4ee9f2"
      },
      "outputs": [
        {
          "output_type": "stream",
          "name": "stdout",
          "text": [
            "[[1 2 8 5 8 5 8]\n",
            " [3 4 5 8 5 8 5]\n",
            " [3 4 5 8 5 8 5]] <class 'numpy.ndarray'>\n"
          ]
        }
      ],
      "source": [
        "aa = np.array([[1, 2,8,5,8,5,8], [3, 4,5,8,5,8,5], [3, 4,5,8,5,8,5]])\n",
        "print( aa, type(aa))"
      ]
    },
    {
      "cell_type": "markdown",
      "metadata": {
        "id": "CySVkr584v17"
      },
      "source": [
        "**My own example 184**"
      ]
    },
    {
      "cell_type": "code",
      "execution_count": 184,
      "metadata": {
        "colab": {
          "base_uri": "https://localhost:8080/"
        },
        "id": "tY4ANxm95bTi",
        "outputId": "02b21e57-2a4a-4c38-aca5-b0eed5496481"
      },
      "outputs": [
        {
          "output_type": "stream",
          "name": "stdout",
          "text": [
            "(3, 7)\n"
          ]
        }
      ],
      "source": [
        "print( aa.shape)"
      ]
    },
    {
      "cell_type": "markdown",
      "metadata": {
        "id": "9KJkAvUP4v6A"
      },
      "source": [
        "**My own example 185**"
      ]
    },
    {
      "cell_type": "code",
      "execution_count": 185,
      "metadata": {
        "colab": {
          "base_uri": "https://localhost:8080/"
        },
        "id": "kl6H_k8X5cUH",
        "outputId": "b131d4e2-bfae-4c85-f9c2-81bb98702d1f"
      },
      "outputs": [
        {
          "output_type": "stream",
          "name": "stdout",
          "text": [
            "8 39\n"
          ]
        }
      ],
      "source": [
        "print (re[0], re[len(re) - 1])"
      ]
    },
    {
      "cell_type": "markdown",
      "metadata": {
        "id": "z-BWSPOB4v-T"
      },
      "source": [
        "**My own example 186**"
      ]
    },
    {
      "cell_type": "code",
      "execution_count": 186,
      "metadata": {
        "colab": {
          "base_uri": "https://localhost:8080/"
        },
        "id": "O4olfM4M5dd0",
        "outputId": "c943606a-2821-4e92-cb10-a7eb67f5f07e"
      },
      "outputs": [
        {
          "output_type": "stream",
          "name": "stdout",
          "text": [
            "[1 3 3]\n"
          ]
        }
      ],
      "source": [
        "print( aa[:, 0])"
      ]
    },
    {
      "cell_type": "markdown",
      "metadata": {
        "id": "741XyM984wCk"
      },
      "source": [
        "**My own example 187**"
      ]
    },
    {
      "cell_type": "code",
      "execution_count": 187,
      "metadata": {
        "colab": {
          "base_uri": "https://localhost:8080/"
        },
        "id": "nLv7uHy55eem",
        "outputId": "4b3d25e0-3c3c-4c43-fe0f-3c845d38d250"
      },
      "outputs": [
        {
          "output_type": "stream",
          "name": "stdout",
          "text": [
            "[1 2 8 5 8 5 8]\n"
          ]
        }
      ],
      "source": [
        "print (aa[0, :])"
      ]
    },
    {
      "cell_type": "markdown",
      "metadata": {
        "id": "gjvzXNNW4wH3"
      },
      "source": [
        "**My own example 188**"
      ]
    },
    {
      "cell_type": "code",
      "execution_count": 188,
      "metadata": {
        "id": "JBv_50gz5hC_",
        "colab": {
          "base_uri": "https://localhost:8080/"
        },
        "outputId": "8a8351b8-b2e9-4024-d14b-8b91214f7dea"
      },
      "outputs": [
        {
          "output_type": "stream",
          "name": "stdout",
          "text": [
            "<class 'numpy.ndarray'>\n"
          ]
        }
      ],
      "source": [
        "print( type(aa[0,:]))"
      ]
    },
    {
      "cell_type": "markdown",
      "metadata": {
        "id": "bqDcgaHM4wUO"
      },
      "source": [
        "**My own example 189**"
      ]
    },
    {
      "cell_type": "code",
      "execution_count": 189,
      "metadata": {
        "id": "n1Ohpy2p5h9J",
        "colab": {
          "base_uri": "https://localhost:8080/"
        },
        "outputId": "5f2777bf-50a8-4020-f8de-060000dcf7f7"
      },
      "outputs": [
        {
          "output_type": "stream",
          "name": "stdout",
          "text": [
            "8\n"
          ]
        }
      ],
      "source": [
        "print( aa[2, 5])"
      ]
    },
    {
      "cell_type": "markdown",
      "metadata": {
        "id": "dXKx_wgW4wwP"
      },
      "source": [
        "**My own example 190**"
      ]
    },
    {
      "cell_type": "code",
      "execution_count": 190,
      "metadata": {
        "id": "H7BWSdQx5lPK",
        "colab": {
          "base_uri": "https://localhost:8080/"
        },
        "outputId": "8765b098-5229-4e9c-847a-3bbb3cd0a523"
      },
      "outputs": [
        {
          "output_type": "stream",
          "name": "stdout",
          "text": [
            "[2.07944154 1.60943791 4.56434819 4.44265126 3.21887582 3.66356165]\n"
          ]
        }
      ],
      "source": [
        "print (np.log(re))"
      ]
    },
    {
      "cell_type": "markdown",
      "metadata": {
        "id": "RZUoMjkK4yuF"
      },
      "source": [
        "**My own example 191**"
      ]
    },
    {
      "cell_type": "code",
      "execution_count": 191,
      "metadata": {
        "id": "RrvJy0hN5nVk",
        "colab": {
          "base_uri": "https://localhost:8080/"
        },
        "outputId": "550c1244-4c46-49df-a29b-f716ae17f9e5"
      },
      "outputs": [
        {
          "output_type": "stream",
          "name": "stdout",
          "text": [
            "43.0\n"
          ]
        }
      ],
      "source": [
        "print (np.mean(re))"
      ]
    },
    {
      "cell_type": "markdown",
      "metadata": {
        "id": "iIrVeTXY4yx9"
      },
      "source": [
        "**My own example 192**"
      ]
    },
    {
      "cell_type": "code",
      "execution_count": 192,
      "metadata": {
        "id": "tzwl3Mz35oHE"
      },
      "outputs": [],
      "source": [
        "N = 10\n",
        "aets = np.zeros((N, 100))\n",
        "ret = np.zeros((N, 100))"
      ]
    },
    {
      "cell_type": "markdown",
      "metadata": {
        "id": "eib0KIoO4y2G"
      },
      "source": [
        "**My own example 193**"
      ]
    },
    {
      "cell_type": "code",
      "execution_count": 193,
      "metadata": {
        "id": "pw2SdELj5pG_"
      },
      "outputs": [],
      "source": [
        "R_1 = np.random.normal(1.01, 0.03, 100)\n",
        "ret[0] = R_1\n",
        "aets[0] = np.cumprod(R_1)"
      ]
    },
    {
      "cell_type": "markdown",
      "metadata": {
        "id": "1c4vk8sK4y7c"
      },
      "source": [
        "**My own example 194**"
      ]
    },
    {
      "cell_type": "code",
      "execution_count": 194,
      "metadata": {
        "id": "8YXigEDk5smW"
      },
      "outputs": [],
      "source": [
        "for i in range(1, N):\n",
        "    R_i = R_1 + np.random.normal(0.001, 0.02, 100)\n",
        "    ret[i] = R_i # Set each row of returns equal to the new R_i array\n",
        "    aets[i] = np.cumprod(R_i)\n",
        "    \n",
        "meanret = [(np.mean(R) - 1)*100 for R in ret]\n",
        "retvolatilities = [np.std(R) for R in ret]"
      ]
    },
    {
      "cell_type": "markdown",
      "metadata": {
        "id": "VISWMDwv4zA0"
      },
      "source": [
        "**My own example 195**"
      ]
    },
    {
      "cell_type": "code",
      "execution_count": 195,
      "metadata": {
        "id": "jZcs2BNP5toE",
        "colab": {
          "base_uri": "https://localhost:8080/",
          "height": 295
        },
        "outputId": "6b0171f8-50ed-415d-e5db-f95ef0e4889e"
      },
      "outputs": [
        {
          "output_type": "display_data",
          "data": {
            "text/plain": [
              "<Figure size 432x288 with 1 Axes>"
            ],
            "image/png": "[encoded data removed]"
          },
          "metadata": {
            "needs_background": "light"
          }
        }
      ],
      "source": [
        "plt.bar(np.arange(len(meanret)), meanret)\n",
        "plt.xlabel('Stock')\n",
        "plt.ylabel('Returns')\n",
        "plt.title('Returns for {0} Random Assets'.format(N));"
      ]
    },
    {
      "cell_type": "markdown",
      "metadata": {
        "id": "DCMWQ4No4zFr"
      },
      "source": [
        "**My own example 196**"
      ]
    },
    {
      "cell_type": "code",
      "execution_count": 196,
      "metadata": {
        "id": "vYPUC-QG5yKa",
        "colab": {
          "base_uri": "https://localhost:8080/"
        },
        "outputId": "7f999935-1a13-4652-f1e4-85045de39618"
      },
      "outputs": [
        {
          "output_type": "stream",
          "name": "stdout",
          "text": [
            "4.0\n",
            "-18.0\n"
          ]
        }
      ],
      "source": [
        "def product(a,e,i,o):\n",
        "    return a*e/i-o\n",
        "print(product(8,9,6,8))\n",
        "print(product(78,98,98,96))"
      ]
    },
    {
      "cell_type": "markdown",
      "metadata": {
        "id": "2Tdzun-V4zKP"
      },
      "source": [
        "**My own example 197**"
      ]
    },
    {
      "cell_type": "code",
      "execution_count": 197,
      "metadata": {
        "id": "e2Rsm-5s5yAm"
      },
      "outputs": [],
      "source": [
        "N = 10\n",
        "aets = np.zeros((N, 100))\n",
        "a = np.zeros((N, 100))"
      ]
    },
    {
      "cell_type": "markdown",
      "metadata": {
        "id": "zOQ4iglO4zPk"
      },
      "source": [
        "**My own example 198**"
      ]
    },
    {
      "cell_type": "code",
      "execution_count": 198,
      "metadata": {
        "id": "fqgjoZae50rW"
      },
      "outputs": [],
      "source": [
        "R_1 = np.random.normal(1.01, 0.03, 100)\n",
        "a[0] = R_1\n",
        "aets[0] = np.cumprod(R_1)"
      ]
    },
    {
      "cell_type": "markdown",
      "metadata": {
        "id": "LPyfUKBO4zbV"
      },
      "source": [
        "**My own example 199**"
      ]
    },
    {
      "cell_type": "code",
      "execution_count": 199,
      "metadata": {
        "id": "sg7cfB-M515V"
      },
      "outputs": [],
      "source": [
        "for i in range(1, N):\n",
        "    R_i = R_1 + np.random.normal(0.001, 0.03, 100)\n",
        "    a[i] = R_i # Set each row of returns equal to the new R_i array\n",
        "    aets[i] = np.cumprod(R_i)\n",
        "    \n",
        "meanret = [(np.mean(R) - 1)*100 for R in a]\n",
        "retvolatilities = [np.std(R) for R in a]"
      ]
    },
    {
      "cell_type": "markdown",
      "metadata": {
        "id": "VfWIzSuD4z2V"
      },
      "source": [
        "**My own example 200**"
      ]
    },
    {
      "cell_type": "code",
      "execution_count": 200,
      "metadata": {
        "id": "9atLXLH_53xO",
        "colab": {
          "base_uri": "https://localhost:8080/",
          "height": 295
        },
        "outputId": "e9597c86-79a4-4bc6-d838-acd59a1e6b46"
      },
      "outputs": [
        {
          "output_type": "display_data",
          "data": {
            "text/plain": [
              "<Figure size 432x288 with 1 Axes>"
            ],
            "image/png": "[encoded data removed]"
          },
          "metadata": {
            "needs_background": "light"
          }
        }
      ],
      "source": [
        "plt.bar(np.arange(len(meanret)), meanret)\n",
        "plt.xlabel('Stock')\n",
        "plt.ylabel('Returns')\n",
        "plt.title('Returns for {0} Random Assets'.format(N));"
      ]
    },
    {
      "cell_type": "markdown",
      "metadata": {
        "id": "PEIIuHY957Hm"
      },
      "source": [
        "#QuantopianLecture 5"
      ]
    },
    {
      "cell_type": "markdown",
      "metadata": {
        "id": "yt1vIYa142HG"
      },
      "source": [
        "**My own example 201**"
      ]
    },
    {
      "cell_type": "code",
      "execution_count": 204,
      "metadata": {
        "id": "1i36a21I6AyI",
        "colab": {
          "base_uri": "https://localhost:8080/"
        },
        "outputId": "9414991b-48b2-4ac1-af5e-9f199f355177"
      },
      "outputs": [
        {
          "output_type": "stream",
          "name": "stdout",
          "text": [
            "False\n"
          ]
        }
      ],
      "source": [
        "print(27 ==27.0000001)"
      ]
    },
    {
      "cell_type": "markdown",
      "metadata": {
        "id": "pi1pfclA42L8"
      },
      "source": [
        "**My own example 202**"
      ]
    },
    {
      "cell_type": "code",
      "execution_count": 207,
      "metadata": {
        "id": "L7RRageY6B5x",
        "colab": {
          "base_uri": "https://localhost:8080/"
        },
        "outputId": "2c8f710b-831f-4e6e-b0ac-7d5ac632a56e"
      },
      "outputs": [
        {
          "output_type": "stream",
          "name": "stdout",
          "text": [
            "False\n"
          ]
        }
      ],
      "source": [
        "print(88 >= 88.99999)"
      ]
    },
    {
      "cell_type": "markdown",
      "metadata": {
        "id": "DOAXP4ba42RD"
      },
      "source": [
        "**My own example 203**"
      ]
    },
    {
      "cell_type": "code",
      "execution_count": 208,
      "metadata": {
        "id": "B93uWASQ6DCZ",
        "colab": {
          "base_uri": "https://localhost:8080/"
        },
        "outputId": "fc33c5e1-6fc4-49bb-c0a6-3e8bca190f45"
      },
      "outputs": [
        {
          "output_type": "stream",
          "name": "stdout",
          "text": [
            "True\n"
          ]
        }
      ],
      "source": [
        "print(89 != 88)"
      ]
    },
    {
      "cell_type": "markdown",
      "metadata": {
        "id": "YwGuQWow42Wf"
      },
      "source": [
        "**My own example 204**"
      ]
    },
    {
      "cell_type": "code",
      "execution_count": 210,
      "metadata": {
        "id": "e3gPVEXi6FZB",
        "colab": {
          "base_uri": "https://localhost:8080/"
        },
        "outputId": "0edc137e-aa98-4594-93b2-b80dd64f7a86"
      },
      "outputs": [
        {
          "output_type": "stream",
          "name": "stdout",
          "text": [
            "False\n"
          ]
        }
      ],
      "source": [
        "print(2 > 8 and 3 > 2)"
      ]
    },
    {
      "cell_type": "markdown",
      "metadata": {
        "id": "AgCz_MNB42cF"
      },
      "source": [
        "**My own example 205**"
      ]
    },
    {
      "cell_type": "code",
      "execution_count": 211,
      "metadata": {
        "id": "bi3mbGiX6Gek",
        "colab": {
          "base_uri": "https://localhost:8080/"
        },
        "outputId": "55938fb1-bcbe-4360-f7d3-9a1a4702f686"
      },
      "outputs": [
        {
          "output_type": "stream",
          "name": "stdout",
          "text": [
            "True\n"
          ]
        }
      ],
      "source": [
        "print(2 > 8 or 3 > 2)"
      ]
    },
    {
      "cell_type": "markdown",
      "metadata": {
        "id": "l3HRUtuG42gd"
      },
      "source": [
        "**My own example 206**"
      ]
    },
    {
      "cell_type": "code",
      "execution_count": 215,
      "metadata": {
        "id": "yUFXfMo36HsT",
        "colab": {
          "base_uri": "https://localhost:8080/"
        },
        "outputId": "8ccc7d32-e58e-486f-af90-36aba152e2bb"
      },
      "outputs": [
        {
          "output_type": "stream",
          "name": "stdout",
          "text": [
            "False\n",
            "p es falsa\n"
          ]
        }
      ],
      "source": [
        "p = -8> 0\n",
        "q = 33 >11\n",
        "if p and q:\n",
        "    print('p y q es verdadero')\n",
        "elif p and not q:\n",
        "    print('q es falsa')\n",
        "elif q and not p:\n",
        "    print('p es falsa')\n",
        "else:\n",
        "    print('p y q son falsas')"
      ]
    },
    {
      "cell_type": "markdown",
      "metadata": {
        "id": "SgeQXi7_42lf"
      },
      "source": [
        "**My own example 207**"
      ]
    },
    {
      "cell_type": "code",
      "execution_count": 213,
      "metadata": {
        "id": "9BkEIWhv6Jzb",
        "colab": {
          "base_uri": "https://localhost:8080/"
        },
        "outputId": "a85753c1-20ee-4881-f8cf-243675c684c6"
      },
      "outputs": [
        {
          "output_type": "stream",
          "name": "stdout",
          "text": [
            "p y q es verdadero\n"
          ]
        }
      ],
      "source": [
        "p = 78> 0\n",
        "q = 98 >11\n",
        "if p and q:\n",
        "    print('p y q es verdadero')\n",
        "elif p and not q:\n",
        "    print('q es falsa')\n",
        "elif q and not p:\n",
        "    print('p es falsa')\n",
        "else:\n",
        "    print('p y q son falsas')"
      ]
    },
    {
      "cell_type": "markdown",
      "metadata": {
        "id": "f0cJYoTC42yI"
      },
      "source": [
        "**My own example 208**"
      ]
    },
    {
      "cell_type": "code",
      "execution_count": 212,
      "metadata": {
        "id": "R8f-Hjoq6MMZ",
        "colab": {
          "base_uri": "https://localhost:8080/"
        },
        "outputId": "e84436ad-292d-4ac2-e517-5ed67ee235a5"
      },
      "outputs": [
        {
          "output_type": "stream",
          "name": "stdout",
          "text": [
            "q es falsa\n"
          ]
        }
      ],
      "source": [
        "p = 78> 0\n",
        "q = 98 >100000\n",
        "if p and q:\n",
        "    print('p y q es verdadero')\n",
        "elif p and not q:\n",
        "    print('q es falsa')\n",
        "elif q and not p:\n",
        "    print('p es falsa')\n",
        "else:\n",
        "    print('p y q son falsas')"
      ]
    },
    {
      "cell_type": "markdown",
      "metadata": {
        "id": "Kxs6zUnd43Nn"
      },
      "source": [
        "**My own example 209**"
      ]
    },
    {
      "cell_type": "code",
      "execution_count": 217,
      "metadata": {
        "id": "JNVIz9-o6NgT",
        "colab": {
          "base_uri": "https://localhost:8080/"
        },
        "outputId": "1b485c99-08a0-40af-a989-bb44acbd6e10"
      },
      "outputs": [
        {
          "output_type": "stream",
          "name": "stdout",
          "text": [
            "8\n",
            "64\n"
          ]
        }
      ],
      "source": [
        "i =8\n",
        "while i < 256:\n",
        "    print(i)\n",
        "    i **=2  "
      ]
    },
    {
      "cell_type": "markdown",
      "metadata": {
        "id": "U9qcyNrH43PN"
      },
      "source": [
        "**My own example 210**"
      ]
    },
    {
      "cell_type": "code",
      "execution_count": 219,
      "metadata": {
        "id": "n5oZvuh56PmF",
        "colab": {
          "base_uri": "https://localhost:8080/"
        },
        "outputId": "a01c41f4-b130-4105-bc93-693d00a6aa0e"
      },
      "outputs": [
        {
          "output_type": "stream",
          "name": "stdout",
          "text": [
            "5\n",
            "25\n",
            "625\n"
          ]
        }
      ],
      "source": [
        "i =5\n",
        "while i < 1000:\n",
        "    print(i)\n",
        "    i **=2  "
      ]
    },
    {
      "cell_type": "markdown",
      "metadata": {
        "id": "g2hDSzFc47Pg"
      },
      "source": [
        "**My own example 211**"
      ]
    },
    {
      "cell_type": "code",
      "execution_count": 220,
      "metadata": {
        "id": "rk1c7Fs06Q9D",
        "colab": {
          "base_uri": "https://localhost:8080/"
        },
        "outputId": "fa4d8118-9106-4837-c961-2a3f261cce2c"
      },
      "outputs": [
        {
          "output_type": "stream",
          "name": "stdout",
          "text": [
            "1.1\n",
            "1.2100000000000002\n",
            "1.4641000000000004\n",
            "2.143588810000001\n",
            "4.594972986357221\n",
            "21.1137767453526\n",
            "445.7915684525922\n"
          ]
        }
      ],
      "source": [
        "i =1.1\n",
        "while i < 1000:\n",
        "    print(i)\n",
        "    i **=2  "
      ]
    },
    {
      "cell_type": "markdown",
      "metadata": {
        "id": "NPmjSy_e47Ti"
      },
      "source": [
        "**My own example 212**"
      ]
    },
    {
      "cell_type": "code",
      "execution_count": 223,
      "metadata": {
        "id": "syjtntil6SI3",
        "colab": {
          "base_uri": "https://localhost:8080/"
        },
        "outputId": "7552bc25-3e49-4425-99eb-9027fd3d6e4a"
      },
      "outputs": [
        {
          "output_type": "stream",
          "name": "stdout",
          "text": [
            "1.000001\n",
            "1.000002000001\n",
            "1.0000040000059998\n",
            "1.0000080000279996\n",
            "1.0000160001199996\n",
            "1.000032000496003\n",
            "1.0000640020160378\n",
            "1.0001280081283337\n",
            "1.0002560326427483\n",
            "1.0005121308382108\n",
            "1.001024523954417\n",
            "1.0020500975581674\n",
            "1.0041043980163329\n",
            "1.0082256421157423\n",
            "1.0165189454197008\n",
            "1.0333107663971806\n",
            "1.0677311399523286\n",
            "1.140049787223899\n",
            "1.2997135173492576\n",
            "1.689255227180379\n",
            "2.8535832225562334\n",
            "8.142937208054418\n",
            "66.30742637431707\n",
            "4396.67479238548\n"
          ]
        }
      ],
      "source": [
        "i =1.000001\n",
        "while i < 1000000:\n",
        "    print(i)\n",
        "    i **=2  "
      ]
    },
    {
      "cell_type": "markdown",
      "metadata": {
        "id": "n2sXLqk247X2"
      },
      "source": [
        "**My own example 213**"
      ]
    },
    {
      "cell_type": "code",
      "execution_count": 227,
      "metadata": {
        "id": "APa5AL5j6TxL",
        "colab": {
          "base_uri": "https://localhost:8080/"
        },
        "outputId": "3a55b569-8353-4627-d492-b021ee64d2f5"
      },
      "outputs": [
        {
          "output_type": "stream",
          "name": "stdout",
          "text": [
            "[0.1111111111111111, 0.027777777777777776, 0.012345679012345678, 5.184748130120587e-07]\n"
          ]
        }
      ],
      "source": [
        "ec1 = []\n",
        "for i in [9,36,81,1928734]:\n",
        "    ec1.append(i**-1)\n",
        "print(ec1)"
      ]
    },
    {
      "cell_type": "markdown",
      "metadata": {
        "id": "K9b3yuf047cM"
      },
      "source": [
        "**My own example 214**"
      ]
    },
    {
      "cell_type": "code",
      "execution_count": 229,
      "metadata": {
        "id": "jE8lspAH6VXp",
        "colab": {
          "base_uri": "https://localhost:8080/"
        },
        "outputId": "fa534936-7282-434c-a432-7160b483d5ef"
      },
      "outputs": [
        {
          "output_type": "stream",
          "name": "stdout",
          "text": [
            "[1.1111111111111112, 1.25, 0.0012376237623762376, 12499.999999999998]\n"
          ]
        }
      ],
      "source": [
        "ec2 = []\n",
        "for i in [.9,.8,808,.00008]:\n",
        "    ec2.append(i**-1)\n",
        "print(ec2)"
      ]
    },
    {
      "cell_type": "markdown",
      "metadata": {
        "id": "L30iAc3b47gN"
      },
      "source": [
        "**My own example 215**"
      ]
    },
    {
      "cell_type": "code",
      "execution_count": 232,
      "metadata": {
        "id": "CSBWC1SY6WZj",
        "colab": {
          "base_uri": "https://localhost:8080/"
        },
        "outputId": "c352c3de-328d-4051-c808-a94b05878dd5"
      },
      "outputs": [
        {
          "output_type": "stream",
          "name": "stdout",
          "text": [
            "8\n",
            "[16]\n",
            "16\n",
            "[16, 32]\n",
            "32\n",
            "[16, 32, 64]\n",
            "64\n",
            "[16, 32, 64, 128]\n",
            "128\n",
            "[16, 32, 64, 128, 256]\n",
            "256\n",
            "[16, 32, 64, 128, 256, 512]\n",
            "512\n",
            "[16, 32, 64, 128, 256, 512, 1024]\n",
            "1024\n",
            "[16, 32, 64, 128, 256, 512, 1024, 2048]\n",
            "2048\n",
            "[16, 32, 64, 128, 256, 512, 1024, 2048, 4096]\n"
          ]
        }
      ],
      "source": [
        "i =8\n",
        "eeex=[]\n",
        "while i < 2049:\n",
        "  print(i)\n",
        "  i *=2 \n",
        "  eeex.append(i)\n",
        "  print(eeex)"
      ]
    },
    {
      "cell_type": "markdown",
      "metadata": {
        "id": "jbtTCvQ847ke"
      },
      "source": [
        "**My own example 216**"
      ]
    },
    {
      "cell_type": "code",
      "execution_count": 233,
      "metadata": {
        "id": "s73QYzsc6X2a",
        "colab": {
          "base_uri": "https://localhost:8080/"
        },
        "outputId": "66625175-df0a-41ee-9170-1c661a16f936"
      },
      "outputs": [
        {
          "output_type": "stream",
          "name": "stdout",
          "text": [
            "8\n",
            "5\n",
            "8\n",
            "8\n",
            "4\n",
            "5\n",
            "8\n",
            "45\n",
            "8\n"
          ]
        }
      ],
      "source": [
        "st = [8,5,8,9,8,4,5,8,45,8]\n",
        "for i in st:\n",
        "    if i == 9:\n",
        "        continue\n",
        "    print(i)"
      ]
    },
    {
      "cell_type": "markdown",
      "metadata": {
        "id": "jOs2cll647od"
      },
      "source": [
        "**My own example 217**"
      ]
    },
    {
      "cell_type": "code",
      "execution_count": 234,
      "metadata": {
        "id": "fGwlMpxd6c6c",
        "colab": {
          "base_uri": "https://localhost:8080/"
        },
        "outputId": "7e076d35-7110-4f65-922e-2344d275ae24"
      },
      "outputs": [
        {
          "output_type": "stream",
          "name": "stdout",
          "text": [
            "5\n",
            "9\n",
            "4\n",
            "5\n",
            "45\n"
          ]
        }
      ],
      "source": [
        "st = [8,5,8,9,8,4,5,8,45,8]\n",
        "for i in st:\n",
        "    if i == 8:\n",
        "        continue\n",
        "    print(i)"
      ]
    },
    {
      "cell_type": "markdown",
      "metadata": {
        "id": "FWtDxNEH47tX"
      },
      "source": [
        "**My own example 218**"
      ]
    },
    {
      "cell_type": "code",
      "execution_count": 235,
      "metadata": {
        "id": "Amnj8PZm6Z11",
        "colab": {
          "base_uri": "https://localhost:8080/"
        },
        "outputId": "93e15b0a-d3e2-4066-a8c5-0a4070f0013f"
      },
      "outputs": [
        {
          "output_type": "stream",
          "name": "stdout",
          "text": [
            "9\n"
          ]
        }
      ],
      "source": [
        "st = [8,5,8,9,8,4,5,8,45,8]\n",
        "for i in st:\n",
        "    if i != 9:\n",
        "        continue\n",
        "    print(i)"
      ]
    },
    {
      "cell_type": "markdown",
      "metadata": {
        "id": "cpg2KGnG47xu"
      },
      "source": [
        "**My own example 219**"
      ]
    },
    {
      "cell_type": "code",
      "execution_count": 236,
      "metadata": {
        "id": "uOmBMhqw6bJ2",
        "colab": {
          "base_uri": "https://localhost:8080/"
        },
        "outputId": "fb1d7310-f800-4431-db98-3c6b3b6e637f"
      },
      "outputs": [
        {
          "output_type": "stream",
          "name": "stdout",
          "text": [
            "8\n",
            "5\n",
            "8\n",
            "8\n",
            "4\n",
            "5\n",
            "8\n",
            "8\n"
          ]
        }
      ],
      "source": [
        "st = [8,5,8,9,8,4,5,8,45,8]\n",
        "for i in st:\n",
        "    if i >= 9:\n",
        "        continue\n",
        "    print(i)"
      ]
    },
    {
      "cell_type": "markdown",
      "metadata": {
        "id": "8Cz8Kldi472j"
      },
      "source": [
        "**My own example 220**"
      ]
    },
    {
      "cell_type": "code",
      "execution_count": 237,
      "metadata": {
        "id": "w29S1fIr6cPw",
        "colab": {
          "base_uri": "https://localhost:8080/"
        },
        "outputId": "af97c85f-bfe1-4ab9-f4e4-5e980bd304aa"
      },
      "outputs": [
        {
          "output_type": "stream",
          "name": "stdout",
          "text": [
            "45\n"
          ]
        }
      ],
      "source": [
        "st = [8,5,8,9,8,4,5,8,45,8]\n",
        "for i in st:\n",
        "    if i <= 9:\n",
        "        continue\n",
        "    print(i)"
      ]
    }
  ],
  "metadata": {
    "colab": {
      "collapsed_sections": [
        "riDmruqaFhXE",
        "BVoKWMUvFwhX",
        "h2rDQQUlXFEX",
        "BTfJTOEd07Dl",
        "yHsRRwaq7DLw",
        "Vym8YSia7TqB",
        "JTp63EEr2RCH",
        "MI3COIVd2zU7",
        "HVj35Thc5Ji6",
        "PEIIuHY957Hm"
      ],
      "provenance": [],
      "authorship_tag": "ABX9TyOX+s6Rkgu9o7NBC0ClFbeH",
      "include_colab_link": true
    },
    "kernelspec": {
      "display_name": "Python 3",
      "name": "python3"
    },
    "language_info": {
      "name": "python"
    }
  },
  "nbformat": 4,
  "nbformat_minor": 0
}